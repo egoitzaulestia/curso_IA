{
 "cells": [
  {
   "cell_type": "markdown",
   "id": "1a4852bd",
   "metadata": {},
   "source": [
    "# ANÁLISIS DE TEXTO (TEXT MINING)"
   ]
  },
  {
   "cell_type": "markdown",
   "id": "61af57c2",
   "metadata": {},
   "source": [
    "# Importar librerías"
   ]
  },
  {
   "cell_type": "code",
   "execution_count": 1,
   "id": "079353f8",
   "metadata": {},
   "outputs": [],
   "source": [
    "#Tratamiento de textos\n",
    "import numpy as np\n",
    "import pandas as pd\n",
    "import string #para trabajar con cadenas de caracteres\n",
    "import re # para trabajar con expresiones regulares\n",
    "\n",
    "#Gráficos\n",
    "import matplotlib.pyplot as plt\n",
    "from matplotlib import style\n",
    "import seaborn as sns"
   ]
  },
  {
   "cell_type": "markdown",
   "id": "b1e90412",
   "metadata": {},
   "source": [
    "Vamos a importar los tweets de 3 personajes (Elon Musk, Mayor Edlee y Bill Gates) y analizarlos."
   ]
  },
  {
   "cell_type": "markdown",
   "id": "fe1f0e30",
   "metadata": {},
   "source": [
    "# Instalar paquete NLTK desde anaconda"
   ]
  },
  {
   "cell_type": "code",
   "execution_count": 2,
   "id": "d68ea724",
   "metadata": {},
   "outputs": [],
   "source": [
    "from sklearn import svm\n",
    "from sklearn.model_selection import train_test_split\n",
    "\n",
    "#GridSearchCV se usa para validación cruzada \n",
    "#(Coger el 80% de entrenamiento varias veces con parámetros diferentes para ver las soluciones y quedarnos con el mejor resultado)\n",
    "from sklearn.model_selection import GridSearchCV\n",
    "from sklearn.metrics import confusion_matrix\n",
    "\n",
    "#TF-IDF Vectorizer (Term Frequency-Inverse Document Frecuency Vectorizer)\n",
    "from sklearn.feature_extraction.text import TfidfVectorizer\n",
    "\n",
    "#kit de herramientas de lenguaje natural\n",
    "import nltk\n",
    "#nltk.download(\"stopwords\")\n",
    "from nltk.corpus import stopwords\n",
    "\n",
    "#Configuración warnings\n",
    "import warnings\n",
    "warnings.filterwarnings(\"ignore\")"
   ]
  },
  {
   "cell_type": "markdown",
   "id": "f6611b94",
   "metadata": {},
   "source": [
    "GridSearchCV es una técnica de búsqueda exhaustiva utilizada para encontrar la mejor combinación de hiperparámetros de un modelo de aprendizaje automático mediante la evaluación del rendimiento del modelo en diferentes combinaciones utilizando validación cruzada. Esto ayuda a ajustar y optimizar los modelos para obtener un mejor rendimiento en conjuntos de datos específicos."
   ]
  },
  {
   "cell_type": "markdown",
   "id": "9dcc5312",
   "metadata": {},
   "source": [
    "TfidfVectorizer: expresa la relevancia de una palabra en el documento.\n",
    "\n",
    "Es una clase de scikit-learn que convierte documentos de texto en una matriz numérica utilizando la medida TF-IDF. Esta representación se utiliza para analizar y modelar datos de texto en tareas de aprendizaje automático."
   ]
  },
  {
   "cell_type": "markdown",
   "id": "65f0770e",
   "metadata": {},
   "source": [
    "Las \"stopwords\" (palabras vacías o de parada) son palabras comunes que se consideran irrelevantes para el análisis de texto debido a su alta frecuencia de aparición en un lenguaje determinado. Estas palabras incluyen artículos, preposiciones, conjunciones y pronombres, entre otros términos muy frecuentes pero que aportan poco valor semántico al texto."
   ]
  },
  {
   "cell_type": "markdown",
   "id": "884ea361",
   "metadata": {},
   "source": [
    "# Lectura de datos"
   ]
  },
  {
   "cell_type": "code",
   "execution_count": 3,
   "id": "fe6e5d8f",
   "metadata": {},
   "outputs": [],
   "source": [
    "tweets_elon = pd.read_csv(\"datos_tweets_@elonmusk.csv\")\n",
    "tweets_edlee = pd.read_csv(\"datos_tweets_@mayoredlee.csv\")\n",
    "tweets_bgates = pd.read_csv(\"datos_tweets_@BillGates.csv\")"
   ]
  },
  {
   "cell_type": "code",
   "execution_count": 4,
   "id": "1c851d39",
   "metadata": {},
   "outputs": [
    {
     "data": {
      "text/plain": [
       "(2678, 35)"
      ]
     },
     "execution_count": 4,
     "metadata": {},
     "output_type": "execute_result"
    }
   ],
   "source": [
    "tweets_elon.shape #número de filas y columnas"
   ]
  },
  {
   "cell_type": "code",
   "execution_count": 5,
   "id": "84d39b11",
   "metadata": {},
   "outputs": [
    {
     "data": {
      "text/html": [
       "<div>\n",
       "<style scoped>\n",
       "    .dataframe tbody tr th:only-of-type {\n",
       "        vertical-align: middle;\n",
       "    }\n",
       "\n",
       "    .dataframe tbody tr th {\n",
       "        vertical-align: top;\n",
       "    }\n",
       "\n",
       "    .dataframe thead th {\n",
       "        text-align: right;\n",
       "    }\n",
       "</style>\n",
       "<table border=\"1\" class=\"dataframe\">\n",
       "  <thead>\n",
       "    <tr style=\"text-align: right;\">\n",
       "      <th></th>\n",
       "      <th>screen_name</th>\n",
       "      <th>user_id</th>\n",
       "      <th>created_at</th>\n",
       "      <th>status_id</th>\n",
       "      <th>text</th>\n",
       "      <th>retweet_count</th>\n",
       "      <th>favorite_count</th>\n",
       "      <th>is_quote_status</th>\n",
       "      <th>quote_status_id</th>\n",
       "      <th>is_retweet</th>\n",
       "      <th>...</th>\n",
       "      <th>hashtags</th>\n",
       "      <th>coordinates</th>\n",
       "      <th>place_id</th>\n",
       "      <th>place_type</th>\n",
       "      <th>place_name</th>\n",
       "      <th>place_full_name</th>\n",
       "      <th>country_code</th>\n",
       "      <th>country</th>\n",
       "      <th>bounding_box_coordinates</th>\n",
       "      <th>bounding_box_type</th>\n",
       "    </tr>\n",
       "  </thead>\n",
       "  <tbody>\n",
       "    <tr>\n",
       "      <th>0</th>\n",
       "      <td>elonmusk</td>\n",
       "      <td>44196397</td>\n",
       "      <td>2017-11-09T17:28:57Z</td>\n",
       "      <td>9.286758e+17</td>\n",
       "      <td>\"If one day, my words are against science, cho...</td>\n",
       "      <td>49919</td>\n",
       "      <td>104722</td>\n",
       "      <td>False</td>\n",
       "      <td>NaN</td>\n",
       "      <td>False</td>\n",
       "      <td>...</td>\n",
       "      <td>NaN</td>\n",
       "      <td>NaN</td>\n",
       "      <td>NaN</td>\n",
       "      <td>NaN</td>\n",
       "      <td>NaN</td>\n",
       "      <td>NaN</td>\n",
       "      <td>NaN</td>\n",
       "      <td>NaN</td>\n",
       "      <td>NaN</td>\n",
       "      <td>NaN</td>\n",
       "    </tr>\n",
       "    <tr>\n",
       "      <th>1</th>\n",
       "      <td>elonmusk</td>\n",
       "      <td>44196397</td>\n",
       "      <td>2017-11-09T17:12:46Z</td>\n",
       "      <td>9.286717e+17</td>\n",
       "      <td>I placed the flowers\\r\\n\\r\\nThree broken ribs\\...</td>\n",
       "      <td>5940</td>\n",
       "      <td>33725</td>\n",
       "      <td>False</td>\n",
       "      <td>NaN</td>\n",
       "      <td>False</td>\n",
       "      <td>...</td>\n",
       "      <td>NaN</td>\n",
       "      <td>NaN</td>\n",
       "      <td>NaN</td>\n",
       "      <td>NaN</td>\n",
       "      <td>NaN</td>\n",
       "      <td>NaN</td>\n",
       "      <td>NaN</td>\n",
       "      <td>NaN</td>\n",
       "      <td>NaN</td>\n",
       "      <td>NaN</td>\n",
       "    </tr>\n",
       "  </tbody>\n",
       "</table>\n",
       "<p>2 rows × 35 columns</p>\n",
       "</div>"
      ],
      "text/plain": [
       "  screen_name   user_id            created_at     status_id  \\\n",
       "0    elonmusk  44196397  2017-11-09T17:28:57Z  9.286758e+17   \n",
       "1    elonmusk  44196397  2017-11-09T17:12:46Z  9.286717e+17   \n",
       "\n",
       "                                                text  retweet_count  \\\n",
       "0  \"If one day, my words are against science, cho...          49919   \n",
       "1  I placed the flowers\\r\\n\\r\\nThree broken ribs\\...           5940   \n",
       "\n",
       "   favorite_count  is_quote_status  quote_status_id  is_retweet  ...  \\\n",
       "0          104722            False              NaN       False  ...   \n",
       "1           33725            False              NaN       False  ...   \n",
       "\n",
       "   hashtags  coordinates  place_id place_type place_name place_full_name  \\\n",
       "0       NaN          NaN       NaN        NaN        NaN             NaN   \n",
       "1       NaN          NaN       NaN        NaN        NaN             NaN   \n",
       "\n",
       "   country_code country bounding_box_coordinates  bounding_box_type  \n",
       "0           NaN     NaN                      NaN                NaN  \n",
       "1           NaN     NaN                      NaN                NaN  \n",
       "\n",
       "[2 rows x 35 columns]"
      ]
     },
     "execution_count": 5,
     "metadata": {},
     "output_type": "execute_result"
    }
   ],
   "source": [
    "tweets_elon.head(2) #las dos primeras filas"
   ]
  },
  {
   "cell_type": "code",
   "execution_count": 6,
   "id": "6071ff8f",
   "metadata": {},
   "outputs": [],
   "source": [
    "#Vamos a juntar todos los dataframes en uno solo para hacer las comparativas\n",
    "tweets= pd.concat([tweets_elon, tweets_edlee, tweets_bgates], ignore_index=True)"
   ]
  },
  {
   "cell_type": "markdown",
   "id": "6c438442",
   "metadata": {},
   "source": [
    "Cuando se utiliza ignore_index=True en la función concat(), se indica que se deben ignorar los índices existentes de los objetos que se están concatenando y se debe generar un nuevo índice secuencial para el resultado final. Esto significa que los índices originales se descartan y se crean nuevos índices numéricos desde cero."
   ]
  },
  {
   "cell_type": "code",
   "execution_count": 7,
   "id": "4f56f2f8",
   "metadata": {},
   "outputs": [
    {
     "data": {
      "text/html": [
       "<div>\n",
       "<style scoped>\n",
       "    .dataframe tbody tr th:only-of-type {\n",
       "        vertical-align: middle;\n",
       "    }\n",
       "\n",
       "    .dataframe tbody tr th {\n",
       "        vertical-align: top;\n",
       "    }\n",
       "\n",
       "    .dataframe thead th {\n",
       "        text-align: right;\n",
       "    }\n",
       "</style>\n",
       "<table border=\"1\" class=\"dataframe\">\n",
       "  <thead>\n",
       "    <tr style=\"text-align: right;\">\n",
       "      <th></th>\n",
       "      <th>screen_name</th>\n",
       "      <th>user_id</th>\n",
       "      <th>created_at</th>\n",
       "      <th>status_id</th>\n",
       "      <th>text</th>\n",
       "      <th>retweet_count</th>\n",
       "      <th>favorite_count</th>\n",
       "      <th>is_quote_status</th>\n",
       "      <th>quote_status_id</th>\n",
       "      <th>is_retweet</th>\n",
       "      <th>...</th>\n",
       "      <th>hashtags</th>\n",
       "      <th>coordinates</th>\n",
       "      <th>place_id</th>\n",
       "      <th>place_type</th>\n",
       "      <th>place_name</th>\n",
       "      <th>place_full_name</th>\n",
       "      <th>country_code</th>\n",
       "      <th>country</th>\n",
       "      <th>bounding_box_coordinates</th>\n",
       "      <th>bounding_box_type</th>\n",
       "    </tr>\n",
       "  </thead>\n",
       "  <tbody>\n",
       "    <tr>\n",
       "      <th>0</th>\n",
       "      <td>elonmusk</td>\n",
       "      <td>44196397</td>\n",
       "      <td>2017-11-09T17:28:57Z</td>\n",
       "      <td>9.286758e+17</td>\n",
       "      <td>\"If one day, my words are against science, cho...</td>\n",
       "      <td>49919</td>\n",
       "      <td>104722</td>\n",
       "      <td>False</td>\n",
       "      <td>NaN</td>\n",
       "      <td>False</td>\n",
       "      <td>...</td>\n",
       "      <td>NaN</td>\n",
       "      <td>NaN</td>\n",
       "      <td>NaN</td>\n",
       "      <td>NaN</td>\n",
       "      <td>NaN</td>\n",
       "      <td>NaN</td>\n",
       "      <td>NaN</td>\n",
       "      <td>NaN</td>\n",
       "      <td>NaN</td>\n",
       "      <td>NaN</td>\n",
       "    </tr>\n",
       "    <tr>\n",
       "      <th>1</th>\n",
       "      <td>elonmusk</td>\n",
       "      <td>44196397</td>\n",
       "      <td>2017-11-09T17:12:46Z</td>\n",
       "      <td>9.286717e+17</td>\n",
       "      <td>I placed the flowers\\r\\n\\r\\nThree broken ribs\\...</td>\n",
       "      <td>5940</td>\n",
       "      <td>33725</td>\n",
       "      <td>False</td>\n",
       "      <td>NaN</td>\n",
       "      <td>False</td>\n",
       "      <td>...</td>\n",
       "      <td>NaN</td>\n",
       "      <td>NaN</td>\n",
       "      <td>NaN</td>\n",
       "      <td>NaN</td>\n",
       "      <td>NaN</td>\n",
       "      <td>NaN</td>\n",
       "      <td>NaN</td>\n",
       "      <td>NaN</td>\n",
       "      <td>NaN</td>\n",
       "      <td>NaN</td>\n",
       "    </tr>\n",
       "  </tbody>\n",
       "</table>\n",
       "<p>2 rows × 35 columns</p>\n",
       "</div>"
      ],
      "text/plain": [
       "  screen_name   user_id            created_at     status_id  \\\n",
       "0    elonmusk  44196397  2017-11-09T17:28:57Z  9.286758e+17   \n",
       "1    elonmusk  44196397  2017-11-09T17:12:46Z  9.286717e+17   \n",
       "\n",
       "                                                text  retweet_count  \\\n",
       "0  \"If one day, my words are against science, cho...          49919   \n",
       "1  I placed the flowers\\r\\n\\r\\nThree broken ribs\\...           5940   \n",
       "\n",
       "   favorite_count  is_quote_status  quote_status_id  is_retweet  ...  \\\n",
       "0          104722            False              NaN       False  ...   \n",
       "1           33725            False              NaN       False  ...   \n",
       "\n",
       "   hashtags  coordinates  place_id place_type place_name place_full_name  \\\n",
       "0       NaN          NaN       NaN        NaN        NaN             NaN   \n",
       "1       NaN          NaN       NaN        NaN        NaN             NaN   \n",
       "\n",
       "   country_code country bounding_box_coordinates  bounding_box_type  \n",
       "0           NaN     NaN                      NaN                NaN  \n",
       "1           NaN     NaN                      NaN                NaN  \n",
       "\n",
       "[2 rows x 35 columns]"
      ]
     },
     "execution_count": 7,
     "metadata": {},
     "output_type": "execute_result"
    }
   ],
   "source": [
    "tweets.head(2)"
   ]
  },
  {
   "cell_type": "code",
   "execution_count": 8,
   "id": "c6d6c592",
   "metadata": {},
   "outputs": [
    {
     "data": {
      "text/html": [
       "<div>\n",
       "<style scoped>\n",
       "    .dataframe tbody tr th:only-of-type {\n",
       "        vertical-align: middle;\n",
       "    }\n",
       "\n",
       "    .dataframe tbody tr th {\n",
       "        vertical-align: top;\n",
       "    }\n",
       "\n",
       "    .dataframe thead th {\n",
       "        text-align: right;\n",
       "    }\n",
       "</style>\n",
       "<table border=\"1\" class=\"dataframe\">\n",
       "  <thead>\n",
       "    <tr style=\"text-align: right;\">\n",
       "      <th></th>\n",
       "      <th>autor</th>\n",
       "      <th>fecha</th>\n",
       "      <th>id</th>\n",
       "      <th>texto</th>\n",
       "    </tr>\n",
       "  </thead>\n",
       "  <tbody>\n",
       "    <tr>\n",
       "      <th>0</th>\n",
       "      <td>elonmusk</td>\n",
       "      <td>2017-11-09T17:28:57Z</td>\n",
       "      <td>9.286758e+17</td>\n",
       "      <td>\"If one day, my words are against science, cho...</td>\n",
       "    </tr>\n",
       "    <tr>\n",
       "      <th>1</th>\n",
       "      <td>elonmusk</td>\n",
       "      <td>2017-11-09T17:12:46Z</td>\n",
       "      <td>9.286717e+17</td>\n",
       "      <td>I placed the flowers\\r\\n\\r\\nThree broken ribs\\...</td>\n",
       "    </tr>\n",
       "  </tbody>\n",
       "</table>\n",
       "</div>"
      ],
      "text/plain": [
       "      autor                 fecha            id  \\\n",
       "0  elonmusk  2017-11-09T17:28:57Z  9.286758e+17   \n",
       "1  elonmusk  2017-11-09T17:12:46Z  9.286717e+17   \n",
       "\n",
       "                                               texto  \n",
       "0  \"If one day, my words are against science, cho...  \n",
       "1  I placed the flowers\\r\\n\\r\\nThree broken ribs\\...  "
      ]
     },
     "execution_count": 8,
     "metadata": {},
     "output_type": "execute_result"
    }
   ],
   "source": [
    "# Se seleccionan y renombran las columnas de interés\n",
    "#cogemos las 4 columnas que nos interesan\n",
    "tweets = tweets[[\"screen_name\", \"created_at\", \"status_id\", \"text\"]] \n",
    " #cambio el nombre de esas columnas\n",
    "tweets.columns = [\"autor\", \"fecha\", \"id\", \"texto\"]\n",
    "tweets.head(2)"
   ]
  },
  {
   "cell_type": "code",
   "execution_count": 9,
   "id": "76d4ed28",
   "metadata": {},
   "outputs": [
    {
     "data": {
      "text/plain": [
       "str"
      ]
     },
     "execution_count": 9,
     "metadata": {},
     "output_type": "execute_result"
    }
   ],
   "source": [
    "type(tweets[\"fecha\"][0]) #he escogido la fecha de la primera línea y veo que es un str. Habrá que pasarlo a formato fecha"
   ]
  },
  {
   "cell_type": "code",
   "execution_count": 10,
   "id": "ff720063",
   "metadata": {},
   "outputs": [
    {
     "data": {
      "text/html": [
       "<div>\n",
       "<style scoped>\n",
       "    .dataframe tbody tr th:only-of-type {\n",
       "        vertical-align: middle;\n",
       "    }\n",
       "\n",
       "    .dataframe tbody tr th {\n",
       "        vertical-align: top;\n",
       "    }\n",
       "\n",
       "    .dataframe thead th {\n",
       "        text-align: right;\n",
       "    }\n",
       "</style>\n",
       "<table border=\"1\" class=\"dataframe\">\n",
       "  <thead>\n",
       "    <tr style=\"text-align: right;\">\n",
       "      <th></th>\n",
       "      <th>autor</th>\n",
       "      <th>fecha</th>\n",
       "      <th>id</th>\n",
       "      <th>texto</th>\n",
       "    </tr>\n",
       "  </thead>\n",
       "  <tbody>\n",
       "    <tr>\n",
       "      <th>0</th>\n",
       "      <td>elonmusk</td>\n",
       "      <td>2017-11-09 17:28:57+00:00</td>\n",
       "      <td>9.286758e+17</td>\n",
       "      <td>\"If one day, my words are against science, cho...</td>\n",
       "    </tr>\n",
       "    <tr>\n",
       "      <th>1</th>\n",
       "      <td>elonmusk</td>\n",
       "      <td>2017-11-09 17:12:46+00:00</td>\n",
       "      <td>9.286717e+17</td>\n",
       "      <td>I placed the flowers\\r\\n\\r\\nThree broken ribs\\...</td>\n",
       "    </tr>\n",
       "  </tbody>\n",
       "</table>\n",
       "</div>"
      ],
      "text/plain": [
       "      autor                     fecha            id  \\\n",
       "0  elonmusk 2017-11-09 17:28:57+00:00  9.286758e+17   \n",
       "1  elonmusk 2017-11-09 17:12:46+00:00  9.286717e+17   \n",
       "\n",
       "                                               texto  \n",
       "0  \"If one day, my words are against science, cho...  \n",
       "1  I placed the flowers\\r\\n\\r\\nThree broken ribs\\...  "
      ]
     },
     "execution_count": 10,
     "metadata": {},
     "output_type": "execute_result"
    }
   ],
   "source": [
    "#Pasar las fechas que son str a formato fecha\n",
    "tweets[\"fecha\"] = pd.to_datetime(tweets[\"fecha\"])\n",
    "tweets.head(2)"
   ]
  },
  {
   "cell_type": "code",
   "execution_count": 11,
   "id": "a5d3d1c9",
   "metadata": {},
   "outputs": [
    {
     "data": {
      "text/plain": [
       "pandas._libs.tslibs.timestamps.Timestamp"
      ]
     },
     "execution_count": 11,
     "metadata": {},
     "output_type": "execute_result"
    }
   ],
   "source": [
    "type(tweets[\"fecha\"][0]) #Comprobar que está en formato tipo fecha."
   ]
  },
  {
   "cell_type": "markdown",
   "id": "f94797f9",
   "metadata": {},
   "source": [
    "# Trabajando con fechas"
   ]
  },
  {
   "cell_type": "code",
   "execution_count": 12,
   "id": "ba267d53",
   "metadata": {},
   "outputs": [
    {
     "data": {
      "text/html": [
       "<div>\n",
       "<style scoped>\n",
       "    .dataframe tbody tr th:only-of-type {\n",
       "        vertical-align: middle;\n",
       "    }\n",
       "\n",
       "    .dataframe tbody tr th {\n",
       "        vertical-align: top;\n",
       "    }\n",
       "\n",
       "    .dataframe thead th {\n",
       "        text-align: right;\n",
       "    }\n",
       "</style>\n",
       "<table border=\"1\" class=\"dataframe\">\n",
       "  <thead>\n",
       "    <tr style=\"text-align: right;\">\n",
       "      <th></th>\n",
       "      <th>autor</th>\n",
       "      <th>fecha</th>\n",
       "      <th>id</th>\n",
       "      <th>texto</th>\n",
       "    </tr>\n",
       "  </thead>\n",
       "  <tbody>\n",
       "    <tr>\n",
       "      <th>0</th>\n",
       "      <td>elonmusk</td>\n",
       "      <td>2017-11-09 17:28:57+00:00</td>\n",
       "      <td>9.286758e+17</td>\n",
       "      <td>\"If one day, my words are against science, cho...</td>\n",
       "    </tr>\n",
       "    <tr>\n",
       "      <th>1</th>\n",
       "      <td>elonmusk</td>\n",
       "      <td>2017-11-09 17:12:46+00:00</td>\n",
       "      <td>9.286717e+17</td>\n",
       "      <td>I placed the flowers\\r\\n\\r\\nThree broken ribs\\...</td>\n",
       "    </tr>\n",
       "  </tbody>\n",
       "</table>\n",
       "</div>"
      ],
      "text/plain": [
       "      autor                     fecha            id  \\\n",
       "0  elonmusk 2017-11-09 17:28:57+00:00  9.286758e+17   \n",
       "1  elonmusk 2017-11-09 17:12:46+00:00  9.286717e+17   \n",
       "\n",
       "                                               texto  \n",
       "0  \"If one day, my words are against science, cho...  \n",
       "1  I placed the flowers\\r\\n\\r\\nThree broken ribs\\...  "
      ]
     },
     "execution_count": 12,
     "metadata": {},
     "output_type": "execute_result"
    }
   ],
   "source": [
    "#Pueden haber iniciado la actividad en distintas épocas. Es interesante explorar los tweets que se solapan en el tiempo.\n",
    "#Hacemos un dataframe copy para practicar y verlo\n",
    "df_tempo = tweets.copy()\n",
    "df_tempo.head(2)"
   ]
  },
  {
   "cell_type": "code",
   "execution_count": 13,
   "id": "ebb50215",
   "metadata": {},
   "outputs": [
    {
     "data": {
      "text/html": [
       "<div>\n",
       "<style scoped>\n",
       "    .dataframe tbody tr th:only-of-type {\n",
       "        vertical-align: middle;\n",
       "    }\n",
       "\n",
       "    .dataframe tbody tr th {\n",
       "        vertical-align: top;\n",
       "    }\n",
       "\n",
       "    .dataframe thead th {\n",
       "        text-align: right;\n",
       "    }\n",
       "</style>\n",
       "<table border=\"1\" class=\"dataframe\">\n",
       "  <thead>\n",
       "    <tr style=\"text-align: right;\">\n",
       "      <th></th>\n",
       "      <th>autor</th>\n",
       "      <th>fecha</th>\n",
       "      <th>id</th>\n",
       "      <th>texto</th>\n",
       "    </tr>\n",
       "  </thead>\n",
       "  <tbody>\n",
       "    <tr>\n",
       "      <th>0</th>\n",
       "      <td>elonmusk</td>\n",
       "      <td>2017-11-01</td>\n",
       "      <td>9.286758e+17</td>\n",
       "      <td>\"If one day, my words are against science, cho...</td>\n",
       "    </tr>\n",
       "    <tr>\n",
       "      <th>1</th>\n",
       "      <td>elonmusk</td>\n",
       "      <td>2017-11-01</td>\n",
       "      <td>9.286717e+17</td>\n",
       "      <td>I placed the flowers\\r\\n\\r\\nThree broken ribs\\...</td>\n",
       "    </tr>\n",
       "  </tbody>\n",
       "</table>\n",
       "</div>"
      ],
      "text/plain": [
       "      autor      fecha            id  \\\n",
       "0  elonmusk 2017-11-01  9.286758e+17   \n",
       "1  elonmusk 2017-11-01  9.286717e+17   \n",
       "\n",
       "                                               texto  \n",
       "0  \"If one day, my words are against science, cho...  \n",
       "1  I placed the flowers\\r\\n\\r\\nThree broken ribs\\...  "
      ]
     },
     "execution_count": 13,
     "metadata": {},
     "output_type": "execute_result"
    }
   ],
   "source": [
    "#Cuántos tweets ha trabajado cada uno de ellos por meses. \n",
    "#Cojo el dato, lo paso a str con año y mes (todos pondrá como día 1) y luego lo vuelvo a pasar a fecha\n",
    "df_tempo[\"fecha\"] = pd.to_datetime(df_tempo[\"fecha\"].dt.strftime(\"%Y-%m\"))\n",
    "df_tempo.head(2)"
   ]
  },
  {
   "cell_type": "markdown",
   "id": "e91b1725",
   "metadata": {},
   "source": [
    "Esta línea de código convierte las fechas en formato \"AAAA-MM-DD\" a formato \"AAAA-MM\" (año-mes) y actualiza la columna \"fecha\" del DataFrame df_tempo con las fechas convertidas. Esto puede ser útil cuando se desea agrupar o realizar análisis por mes, ignorando los días específicos."
   ]
  },
  {
   "cell_type": "code",
   "execution_count": 14,
   "id": "b78c2ea9",
   "metadata": {},
   "outputs": [
    {
     "data": {
      "text/plain": [
       "fecha\n",
       "2011-09-01      1\n",
       "2011-10-01     15\n",
       "2011-11-01     15\n",
       "2011-12-01      3\n",
       "2012-01-01     32\n",
       "             ... \n",
       "2017-07-01    277\n",
       "2017-08-01    297\n",
       "2017-09-01    209\n",
       "2017-10-01    252\n",
       "2017-11-01     54\n",
       "Length: 75, dtype: int64"
      ]
     },
     "execution_count": 14,
     "metadata": {},
     "output_type": "execute_result"
    }
   ],
   "source": [
    "# Vamos a agrupar los datos por fechas\n",
    "#Al agrupar los datos de varias filas en una, hay que decidir qué valor poner \"size\"\n",
    "#size nos da el número de filas/elementos de cada grupo (agrupado por meses)\n",
    "df_temp2= df_tempo.groupby(df_tempo[\"fecha\"]).size() #nos da los número de tweets por mes\n",
    "df_temp2"
   ]
  },
  {
   "cell_type": "markdown",
   "id": "4c7de49f",
   "metadata": {},
   "source": [
    "groupby() de pandas en el DataFrame df_tempo para agrupar los datos por los valores únicos de la columna \"fecha\". Esto significa que los datos se agruparán según los distintos meses presentes en la columna \"fecha\".\n",
    "\n",
    ".size(): Se aplica el método .size() después del groupby() para obtener el tamaño de cada grupo. Esto cuenta el número de ocurrencias de cada mes y devuelve una serie que muestra el número de tweets correspondientes a cada mes."
   ]
  },
  {
   "cell_type": "code",
   "execution_count": 15,
   "id": "3b8e6a22",
   "metadata": {},
   "outputs": [
    {
     "data": {
      "image/png": "[encoded data removed]",
      "text/plain": [
       "<Figure size 900x400 with 1 Axes>"
      ]
     },
     "metadata": {},
     "output_type": "display_data"
    }
   ],
   "source": [
    "#Vamos a volver a la variable inicial y hacer un plot\n",
    "fig, ax = plt.subplots(figsize=(9,4))\n",
    "\n",
    "for autor in tweets.autor.unique():\n",
    "    df_temp = tweets[tweets[\"autor\"] == autor].copy()\n",
    "    df_temp[\"fecha\"] = pd.to_datetime(df_temp[\"fecha\"].dt.strftime(\"%Y-%m\"))\n",
    "    df_temp= df_temp.groupby(df_temp[\"fecha\"]).size()\n",
    "    df_temp.plot(label=autor, ax=ax)\n",
    "    \n",
    "ax.set_title(\"Número de tweets publicados por mes\")\n",
    "ax.legend();"
   ]
  },
  {
   "cell_type": "markdown",
   "id": "31a167e0",
   "metadata": {},
   "source": [
    "El código que proporcionas utiliza la biblioteca Matplotlib en Python para crear una visualización de la cantidad de tweets publicados por mes para diferentes autores. Aquí se explica qué sucede en el código:\n",
    "\n",
    "1. `fig, ax = plt.subplots(figsize=(9,4))`: Se crea una figura y un conjunto de ejes utilizando la función `plt.subplots()`. Se especifica el tamaño de la figura con `figsize=(9,4)`, donde el primer valor es el ancho y el segundo valor es la altura.\n",
    "\n",
    "2. El bucle `for autor in tweets.autor.unique():` itera sobre los autores únicos en la columna \"autor\" del DataFrame \"tweets\".\n",
    "\n",
    "3. `df_temp = tweets[tweets[\"autor\"] == autor].copy()`: Se crea una copia del DataFrame \"tweets\" donde se filtran solo los tweets del autor actual en cada iteración del bucle.\n",
    "\n",
    "4. `df_temp[\"fecha\"] = pd.to_datetime(df_temp[\"fecha\"].dt.strftime(\"%Y-%m\"))`: Se convierte la columna \"fecha\" del DataFrame \"df_temp\" al formato de fecha utilizando `pd.to_datetime()`, de manera similar a lo explicado anteriormente.\n",
    "\n",
    "5. `df_temp = df_temp.groupby(df_temp[\"fecha\"]).size()`: Se agrupan los datos de \"df_temp\" por mes y se cuentan los tweets por mes utilizando `.groupby()` y `.size()`, similar a lo mencionado anteriormente.\n",
    "\n",
    "6. `df_temp.plot(label=autor, ax=ax)`: Se traza el gráfico de línea para el autor actual utilizando el método `plot()` de pandas en el DataFrame \"df_temp\". Se especifica la etiqueta del autor utilizando el parámetro `label` y se proporciona el conjunto de ejes `ax` creado anteriormente.\n",
    "\n",
    "7. `ax.set_title(\"Número de tweets publicados por mes\")`: Se establece el título del gráfico utilizando el método `set_title()` en el conjunto de ejes `ax`.\n",
    "\n",
    "8. `ax.legend()`: Se muestra la leyenda en el gráfico para identificar los diferentes autores utilizando el método `legend()` en el conjunto de ejes `ax`.\n",
    "\n",
    "En resumen, el código crea un gráfico de línea que muestra la cantidad de tweets publicados por mes para diferentes autores, utilizando la biblioteca Matplotlib. Cada autor se representa en una línea diferente en el gráfico y se muestra una leyenda para identificar los autores. El título del gráfico indica el tema de los datos visualizados."
   ]
  },
  {
   "cell_type": "markdown",
   "id": "bfa69ea0",
   "metadata": {},
   "source": [
    "# Limpieza y tokenización"
   ]
  },
  {
   "cell_type": "markdown",
   "id": "14cbc141",
   "metadata": {},
   "source": [
    "LIMPIEZA: \n",
    "Eliminar todo aquello que no aporte información, p.e: URLs, signos de puntuación, etiquetas HTML, caracteres sueltos y números.\n",
    "\n",
    "TOKENIZACIÓN: \n",
    "Se divide el texto en unidades (palabras)."
   ]
  },
  {
   "cell_type": "markdown",
   "id": "3c07bc1b",
   "metadata": {},
   "source": [
    "VAMOS A CREAR UNA FUNCIÓN PARA LIMPIEZA Y TOKENIZACIÓN"
   ]
  },
  {
   "cell_type": "code",
   "execution_count": 16,
   "id": "9b295427",
   "metadata": {},
   "outputs": [],
   "source": [
    "def limpiar_tokenizar(texto):\n",
    "    #El listado de signos de puntuación se ha obtenido de: print(string.punctuation)\n",
    "    #Se convierte todo el texto a minúsculas\n",
    "    nuevo_texto = texto.lower()\n",
    "    #Elimianción de las páginas web (palabras que empiezan por \"http\")\n",
    "    nuevo_texto = re.sub(\"http\\S+\", \" \", nuevo_texto)\n",
    "    #Eliminación de los signos de puntuación\n",
    "    regex ='[\\\\!\\\\\"\\\\#\\\\$\\\\%\\\\&\\\\\\'\\\\(\\\\)\\\\*\\\\+\\\\,\\\\-\\\\.\\\\/\\\\:\\\\;\\\\<\\\\=\\\\>\\\\?\\\\@\\\\[\\\\\\\\\\]\\\\^\\\\_\\\\`\\\\{\\\\|\\\\}\\\\~\\\\…]'\n",
    "    nuevo_texto = re.sub(regex, \" \", nuevo_texto)\n",
    "    #Eliminación de números\n",
    "    nuevo_texto = re.sub(\"\\d+\", \" \", nuevo_texto)\n",
    "    #Eliminación de espacios en blanco múltiples\n",
    "    nuevo_texto = re.sub(\"\\\\s+\", \" \", nuevo_texto)\n",
    "    #Tokenización por palabras individuales\n",
    "    nuevo_texto = nuevo_texto.split(sep= \" \")\n",
    "    # ELiminación de tokens con una longitud <2\n",
    "    nuevo_texto = [token for token in nuevo_texto if len(token) >1]\n",
    "    \n",
    "    return(nuevo_texto)"
   ]
  },
  {
   "cell_type": "markdown",
   "id": "7edce96f",
   "metadata": {},
   "source": [
    "La función re.sub() busca todas las ocurrencias del patrón en la cadena de texto y las reemplaza con la cadena de reemplazo especificada. Devuelve una nueva cadena con las sustituciones realizadas."
   ]
  },
  {
   "cell_type": "code",
   "execution_count": 17,
   "id": "e1aff778",
   "metadata": {},
   "outputs": [
    {
     "data": {
      "text/plain": [
       "'!\"#$%&\\'()*+,-./:;<=>?@[\\\\]^_`{|}~'"
      ]
     },
     "execution_count": 17,
     "metadata": {},
     "output_type": "execute_result"
    }
   ],
   "source": [
    "string.punctuation"
   ]
  },
  {
   "cell_type": "markdown",
   "id": "a0d9ecb1",
   "metadata": {},
   "source": [
    "EXISTE UNA FUNCIÓN QUE HACE ESTE TRABAJO, PERO PARA IR ENTENDIENDO CÓMO TRABAJA\n",
    "\n",
    "La función `limpiar_tokenizar(texto)` recibe una cadena de texto como entrada y realiza una serie de operaciones para limpiar y tokenizar el texto. A continuación se explica paso a paso qué sucede en cada línea de código:\n",
    "\n",
    "1. `nuevo_texto = texto.lower()`: Se convierte todo el texto a minúsculas utilizando el método `lower()`. Esto ayuda a estandarizar el texto y tratar las palabras en minúsculas.\n",
    "\n",
    "2. `nuevo_texto = re.sub(\"http\\S+\", \" \", nuevo_texto)`: Se utiliza la función `re.sub()` para eliminar las URL presentes en el texto. El patrón `\"http\\S+\"` busca cualquier cadena que comience con \"http\" y esté seguida por uno o más caracteres que no sean espacios en blanco (`\\S+`). Estas URLs se reemplazan por un espacio en blanco.\n",
    "\n",
    "3. `regex = \"[\\\\!\\\\\\\"\\\\#\\\\$\\\\%\\\\&\\\\'\\\\(\\\\)\\\\*\\\\+\\\\,\\\\-\\\\.\\\\/\\\\:\\\\;\\\\<\\\\=\\\\>\\\\?\\\\@\\\\[\\\\\\\\\\\\\\\\]\\\\^\\\\_\\\\`\\\\{\\\\|\\\\}\\\\~\\\\'\\\\]\"`: Se define una expresión regular en forma de cadena para representar un conjunto de caracteres especiales y de puntuación que se desea eliminar del texto.\n",
    "\n",
    "4. `nuevo_texto = re.sub(regex, \" \", nuevo_texto)`: Se utiliza la función `re.sub()` nuevamente para eliminar todos los caracteres especiales y de puntuación definidos en la expresión regular. Estos caracteres se reemplazan por un espacio en blanco.\n",
    "\n",
    "5. `nuevo_texto = re.sub(\"\\d+\", \" \", nuevo_texto)`: Se utiliza `re.sub()` para eliminar cualquier número presente en el texto. El patrón `\"\\d+\"` busca una o más ocurrencias de dígitos. Estos números se reemplazan por un espacio en blanco.\n",
    "\n",
    "6. `nuevo_texto = re.sub(\"\\\\s+\", \" \", nuevo_texto)`: Se utiliza `re.sub()` para reemplazar cualquier secuencia de espacios en blanco por un solo espacio en blanco. Esto ayuda a normalizar los espacios en el texto.\n",
    "\n",
    "7. `nuevo_texto = nuevo_texto.split(sep=\" \")`: Se divide el texto en palabras individuales utilizando el método `split()` y se utiliza un espacio en blanco como separador. Esto crea una lista de palabras.\n",
    "\n",
    "8. `nuevo_texto = [token for token in nuevo_texto if len(token) > 1]`: Se aplica una comprensión de lista para filtrar las palabras de la lista `nuevo_texto`. Solo se conservan aquellos tokens (palabras) que tienen una longitud mayor que 1. Esto ayuda a eliminar posibles caracteres no deseados o palabras de un solo carácter.\n",
    "\n",
    "[token for token in nuevo_texto if len(token) > 1]: Esta es la estructura de la comprensión de lista. Significa que se va a crear una nueva lista que contendrá cada elemento token de la lista nuevo_texto que cumpla la condición len(token) > 1.\n",
    "\n",
    "9. `return(nuevo_texto)`: La función devuelve la lista de palabras resultante.\n",
    "\n",
    "En resumen, la función `limpiar_tokenizar(texto)` toma un texto como entrada, lo limpia mediante la eliminación de URLs, caracteres especiales, puntuación y números, y luego lo tokeniza dividiéndolo en palabras individuales. El resultado es una lista de palabras limpias y tokenizadas."
   ]
  },
  {
   "cell_type": "code",
   "execution_count": 18,
   "id": "5a46da72",
   "metadata": {},
   "outputs": [
    {
     "data": {
      "text/plain": [
       "['placed',\n",
       " 'the',\n",
       " 'flowers',\n",
       " 'three',\n",
       " 'broken',\n",
       " 'ribs',\n",
       " 'pierced',\n",
       " 'lung',\n",
       " 'and',\n",
       " 'still',\n",
       " 'he',\n",
       " 'fought',\n",
       " 'for',\n",
       " 'peace',\n",
       " 'at']"
      ]
     },
     "execution_count": 18,
     "metadata": {},
     "output_type": "execute_result"
    }
   ],
   "source": [
    "txtTK= limpiar_tokenizar(df_tempo[\"texto\"][1])\n",
    "txtTK                                 "
   ]
  },
  {
   "cell_type": "code",
   "execution_count": 19,
   "id": "110eb6ce",
   "metadata": {},
   "outputs": [
    {
     "name": "stdout",
     "output_type": "stream",
     "text": [
      "Esto es 1 ejemplo de l'limpieza de3 m TEXTO https://igeldo.com@datamining #textmining 45% clean!\n",
      "['esto', 'es', 'ejemplo', 'de', 'limpieza', 'de', 'texto', 'textmining', 'clean']\n"
     ]
    }
   ],
   "source": [
    "test = \"Esto es 1 ejemplo de l'limpieza de3 m TEXTO https://igeldo.com\"\n",
    "test1 = \"@datamining #textmining 45% clean!\"\n",
    "test = test + test1\n",
    "print(test)\n",
    "print(limpiar_tokenizar(test))"
   ]
  },
  {
   "cell_type": "markdown",
   "id": "ff2b02fb",
   "metadata": {},
   "source": [
    "# EJERCICIO"
   ]
  },
  {
   "cell_type": "markdown",
   "id": "64f60e8e",
   "metadata": {},
   "source": [
    "Hacer una función llamada \"limpiaYtokeniza\" que limpie y \"tokenize\" texto, utilizando un tokenizador de NLTK. Investigar cómo funciona."
   ]
  },
  {
   "cell_type": "code",
   "execution_count": 20,
   "id": "74065de7",
   "metadata": {},
   "outputs": [],
   "source": [
    "from nltk.tokenize import word_tokenize\n",
    "from nltk.tokenize import punkt\n",
    "\n",
    "def limpiaYtokeniza(test):\n",
    "    nuevo_test = test.lower() #convertir a minúsculas\n",
    "    nuevo_test = re.sub(\"http\\S+\", \" \", nuevo_test)\n",
    "    nuevo_test = re.sub(r'[^a-zA-ZáéíóúüÁÉÍÓÚÜñÑ]', ' ', nuevo_test)\n",
    "    tokens = word_tokenize(nuevo_test) #tokenizar \n",
    "    stopwords_es = set(stopwords.words('spanish'))\n",
    "    stopwords_en = set(stopwords.words('english'))\n",
    "    tokens = [token for token in tokens if token not in stopwords_es and token not in stopwords_en]\n",
    "    nuevo_test = [token for token in tokens if len(token) >1]\n",
    "    return nuevo_test"
   ]
  },
  {
   "cell_type": "markdown",
   "id": "00785079",
   "metadata": {},
   "source": [
    "Explicación de la nueva función creada limpiaYtokeniza:\n",
    "1. `from nltk.tokenize import word_tokenize`: Se importa la función `word_tokenize` del módulo `nltk.tokenize`. Esta función se utiliza para tokenizar el texto en palabras individuales.\n",
    "\n",
    "2. `import nltk`: Se importa el módulo `nltk`, que proporciona diversas funciones y recursos para el procesamiento del lenguaje natural.\n",
    "\n",
    "3. `from nltk.corpus import stopwords`: Se importa el corpus de palabras de parada (stopwords) del módulo `nltk.corpus`. Las palabras de parada son palabras comunes que suelen filtrarse durante el procesamiento del texto, ya que no aportan mucha información.\n",
    "\n",
    "4. `import re`: Se importa el módulo `re`, que proporciona funciones para trabajar con expresiones regulares.\n",
    "\n",
    "5. `limpiaYtokeniza(texto)`: Esta es la función principal. Recibe un parámetro `texto` que representa el texto a limpiar y tokenizar.\n",
    "\n",
    "6. `nuevo_texto = texto.lower()`: Se convierte el texto a minúsculas utilizando el método `lower()`. Esto ayuda a normalizar el texto y evitar discrepancias en las palabras en mayúsculas y minúsculas.\n",
    "\n",
    "7. `nuevo_texto = re.sub(\"http\\S+\", \" \", nuevo_texto)`: Se utiliza la función `re.sub()` para eliminar cualquier URL del texto. La expresión regular `\"http\\S+\"` coincide con cualquier cadena que comienza con \"http\" y está seguida por cualquier carácter que no sea un espacio en blanco. Se reemplaza por un espacio en blanco.\n",
    "\n",
    "8. `nuevo_texto = re.sub(r'[^a-zA-ZáéíóúüÁÉÍÓÚÜñÑ]', ' ', nuevo_texto)`: Se utiliza `re.sub()` para eliminar todos los caracteres no alfabéticos del texto. La expresión regular `r'[^a-zA-ZáéíóúüÁÉÍÓÚÜñÑ]'` coincide con cualquier carácter que no sea una letra alfabética o una letra acentuada en español. Se reemplaza por un espacio en blanco.\n",
    "\n",
    "9. `tokens = word_tokenize(nuevo_texto)`: Se utiliza la función `word_tokenize()` para tokenizar el texto en palabras individuales. Esto divide el texto en una lista de tokens (palabras).\n",
    "\n",
    "10. `stopwords_es = set(stop\n",
    "\n",
    "\n",
    "\n",
    "\n",
    "\n",
    "\n"
   ]
  },
  {
   "cell_type": "code",
   "execution_count": 21,
   "id": "f43f23ea",
   "metadata": {},
   "outputs": [
    {
     "name": "stdout",
     "output_type": "stream",
     "text": [
      "Esto es 1 ejemplo de l'limpieza de3 m TEXTO https://igeldo.com if is correct@datamining #textmining 45% clean!\n",
      "['ejemplo', 'limpieza', 'texto', 'correct', 'datamining', 'textmining', 'clean']\n"
     ]
    }
   ],
   "source": [
    "test = \"Esto es 1 ejemplo de l'limpieza de3 m TEXTO https://igeldo.com if is correct\" \n",
    "test1 = \"@datamining #textmining 45% clean!\"\n",
    "test = test + test1\n",
    "print(test)\n",
    "print(limpiaYtokeniza(test))"
   ]
  },
  {
   "cell_type": "code",
   "execution_count": 22,
   "id": "07e7f905",
   "metadata": {},
   "outputs": [
    {
     "data": {
      "text/plain": [
       "{'a',\n",
       " 'al',\n",
       " 'algo',\n",
       " 'algunas',\n",
       " 'algunos',\n",
       " 'ante',\n",
       " 'antes',\n",
       " 'como',\n",
       " 'con',\n",
       " 'contra',\n",
       " 'cual',\n",
       " 'cuando',\n",
       " 'de',\n",
       " 'del',\n",
       " 'desde',\n",
       " 'donde',\n",
       " 'durante',\n",
       " 'e',\n",
       " 'el',\n",
       " 'ella',\n",
       " 'ellas',\n",
       " 'ellos',\n",
       " 'en',\n",
       " 'entre',\n",
       " 'era',\n",
       " 'erais',\n",
       " 'eran',\n",
       " 'eras',\n",
       " 'eres',\n",
       " 'es',\n",
       " 'esa',\n",
       " 'esas',\n",
       " 'ese',\n",
       " 'eso',\n",
       " 'esos',\n",
       " 'esta',\n",
       " 'estaba',\n",
       " 'estabais',\n",
       " 'estaban',\n",
       " 'estabas',\n",
       " 'estad',\n",
       " 'estada',\n",
       " 'estadas',\n",
       " 'estado',\n",
       " 'estados',\n",
       " 'estamos',\n",
       " 'estando',\n",
       " 'estar',\n",
       " 'estaremos',\n",
       " 'estará',\n",
       " 'estarán',\n",
       " 'estarás',\n",
       " 'estaré',\n",
       " 'estaréis',\n",
       " 'estaría',\n",
       " 'estaríais',\n",
       " 'estaríamos',\n",
       " 'estarían',\n",
       " 'estarías',\n",
       " 'estas',\n",
       " 'este',\n",
       " 'estemos',\n",
       " 'esto',\n",
       " 'estos',\n",
       " 'estoy',\n",
       " 'estuve',\n",
       " 'estuviera',\n",
       " 'estuvierais',\n",
       " 'estuvieran',\n",
       " 'estuvieras',\n",
       " 'estuvieron',\n",
       " 'estuviese',\n",
       " 'estuvieseis',\n",
       " 'estuviesen',\n",
       " 'estuvieses',\n",
       " 'estuvimos',\n",
       " 'estuviste',\n",
       " 'estuvisteis',\n",
       " 'estuviéramos',\n",
       " 'estuviésemos',\n",
       " 'estuvo',\n",
       " 'está',\n",
       " 'estábamos',\n",
       " 'estáis',\n",
       " 'están',\n",
       " 'estás',\n",
       " 'esté',\n",
       " 'estéis',\n",
       " 'estén',\n",
       " 'estés',\n",
       " 'fue',\n",
       " 'fuera',\n",
       " 'fuerais',\n",
       " 'fueran',\n",
       " 'fueras',\n",
       " 'fueron',\n",
       " 'fuese',\n",
       " 'fueseis',\n",
       " 'fuesen',\n",
       " 'fueses',\n",
       " 'fui',\n",
       " 'fuimos',\n",
       " 'fuiste',\n",
       " 'fuisteis',\n",
       " 'fuéramos',\n",
       " 'fuésemos',\n",
       " 'ha',\n",
       " 'habida',\n",
       " 'habidas',\n",
       " 'habido',\n",
       " 'habidos',\n",
       " 'habiendo',\n",
       " 'habremos',\n",
       " 'habrá',\n",
       " 'habrán',\n",
       " 'habrás',\n",
       " 'habré',\n",
       " 'habréis',\n",
       " 'habría',\n",
       " 'habríais',\n",
       " 'habríamos',\n",
       " 'habrían',\n",
       " 'habrías',\n",
       " 'habéis',\n",
       " 'había',\n",
       " 'habíais',\n",
       " 'habíamos',\n",
       " 'habían',\n",
       " 'habías',\n",
       " 'han',\n",
       " 'has',\n",
       " 'hasta',\n",
       " 'hay',\n",
       " 'haya',\n",
       " 'hayamos',\n",
       " 'hayan',\n",
       " 'hayas',\n",
       " 'hayáis',\n",
       " 'he',\n",
       " 'hemos',\n",
       " 'hube',\n",
       " 'hubiera',\n",
       " 'hubierais',\n",
       " 'hubieran',\n",
       " 'hubieras',\n",
       " 'hubieron',\n",
       " 'hubiese',\n",
       " 'hubieseis',\n",
       " 'hubiesen',\n",
       " 'hubieses',\n",
       " 'hubimos',\n",
       " 'hubiste',\n",
       " 'hubisteis',\n",
       " 'hubiéramos',\n",
       " 'hubiésemos',\n",
       " 'hubo',\n",
       " 'la',\n",
       " 'las',\n",
       " 'le',\n",
       " 'les',\n",
       " 'lo',\n",
       " 'los',\n",
       " 'me',\n",
       " 'mi',\n",
       " 'mis',\n",
       " 'mucho',\n",
       " 'muchos',\n",
       " 'muy',\n",
       " 'más',\n",
       " 'mí',\n",
       " 'mía',\n",
       " 'mías',\n",
       " 'mío',\n",
       " 'míos',\n",
       " 'nada',\n",
       " 'ni',\n",
       " 'no',\n",
       " 'nos',\n",
       " 'nosotras',\n",
       " 'nosotros',\n",
       " 'nuestra',\n",
       " 'nuestras',\n",
       " 'nuestro',\n",
       " 'nuestros',\n",
       " 'o',\n",
       " 'os',\n",
       " 'otra',\n",
       " 'otras',\n",
       " 'otro',\n",
       " 'otros',\n",
       " 'para',\n",
       " 'pero',\n",
       " 'poco',\n",
       " 'por',\n",
       " 'porque',\n",
       " 'que',\n",
       " 'quien',\n",
       " 'quienes',\n",
       " 'qué',\n",
       " 'se',\n",
       " 'sea',\n",
       " 'seamos',\n",
       " 'sean',\n",
       " 'seas',\n",
       " 'sentid',\n",
       " 'sentida',\n",
       " 'sentidas',\n",
       " 'sentido',\n",
       " 'sentidos',\n",
       " 'seremos',\n",
       " 'será',\n",
       " 'serán',\n",
       " 'serás',\n",
       " 'seré',\n",
       " 'seréis',\n",
       " 'sería',\n",
       " 'seríais',\n",
       " 'seríamos',\n",
       " 'serían',\n",
       " 'serías',\n",
       " 'seáis',\n",
       " 'siente',\n",
       " 'sin',\n",
       " 'sintiendo',\n",
       " 'sobre',\n",
       " 'sois',\n",
       " 'somos',\n",
       " 'son',\n",
       " 'soy',\n",
       " 'su',\n",
       " 'sus',\n",
       " 'suya',\n",
       " 'suyas',\n",
       " 'suyo',\n",
       " 'suyos',\n",
       " 'sí',\n",
       " 'también',\n",
       " 'tanto',\n",
       " 'te',\n",
       " 'tendremos',\n",
       " 'tendrá',\n",
       " 'tendrán',\n",
       " 'tendrás',\n",
       " 'tendré',\n",
       " 'tendréis',\n",
       " 'tendría',\n",
       " 'tendríais',\n",
       " 'tendríamos',\n",
       " 'tendrían',\n",
       " 'tendrías',\n",
       " 'tened',\n",
       " 'tenemos',\n",
       " 'tenga',\n",
       " 'tengamos',\n",
       " 'tengan',\n",
       " 'tengas',\n",
       " 'tengo',\n",
       " 'tengáis',\n",
       " 'tenida',\n",
       " 'tenidas',\n",
       " 'tenido',\n",
       " 'tenidos',\n",
       " 'teniendo',\n",
       " 'tenéis',\n",
       " 'tenía',\n",
       " 'teníais',\n",
       " 'teníamos',\n",
       " 'tenían',\n",
       " 'tenías',\n",
       " 'ti',\n",
       " 'tiene',\n",
       " 'tienen',\n",
       " 'tienes',\n",
       " 'todo',\n",
       " 'todos',\n",
       " 'tu',\n",
       " 'tus',\n",
       " 'tuve',\n",
       " 'tuviera',\n",
       " 'tuvierais',\n",
       " 'tuvieran',\n",
       " 'tuvieras',\n",
       " 'tuvieron',\n",
       " 'tuviese',\n",
       " 'tuvieseis',\n",
       " 'tuviesen',\n",
       " 'tuvieses',\n",
       " 'tuvimos',\n",
       " 'tuviste',\n",
       " 'tuvisteis',\n",
       " 'tuviéramos',\n",
       " 'tuviésemos',\n",
       " 'tuvo',\n",
       " 'tuya',\n",
       " 'tuyas',\n",
       " 'tuyo',\n",
       " 'tuyos',\n",
       " 'tú',\n",
       " 'un',\n",
       " 'una',\n",
       " 'uno',\n",
       " 'unos',\n",
       " 'vosotras',\n",
       " 'vosotros',\n",
       " 'vuestra',\n",
       " 'vuestras',\n",
       " 'vuestro',\n",
       " 'vuestros',\n",
       " 'y',\n",
       " 'ya',\n",
       " 'yo',\n",
       " 'él',\n",
       " 'éramos'}"
      ]
     },
     "execution_count": 22,
     "metadata": {},
     "output_type": "execute_result"
    }
   ],
   "source": [
    "stop_words = set(stopwords.words('spanish')) #Estas son las palabras que elimina en español\n",
    "stop_words"
   ]
  },
  {
   "cell_type": "markdown",
   "id": "5c2367fa",
   "metadata": {},
   "source": [
    "# Aplicar la función de limpiar_tokenizar a los tweets de nuestro dataframe"
   ]
  },
  {
   "cell_type": "code",
   "execution_count": 23,
   "id": "544fcdc9",
   "metadata": {},
   "outputs": [
    {
     "data": {
      "text/html": [
       "<div>\n",
       "<style scoped>\n",
       "    .dataframe tbody tr th:only-of-type {\n",
       "        vertical-align: middle;\n",
       "    }\n",
       "\n",
       "    .dataframe tbody tr th {\n",
       "        vertical-align: top;\n",
       "    }\n",
       "\n",
       "    .dataframe thead th {\n",
       "        text-align: right;\n",
       "    }\n",
       "</style>\n",
       "<table border=\"1\" class=\"dataframe\">\n",
       "  <thead>\n",
       "    <tr style=\"text-align: right;\">\n",
       "      <th></th>\n",
       "      <th>texto</th>\n",
       "      <th>texto_tokenizado</th>\n",
       "    </tr>\n",
       "  </thead>\n",
       "  <tbody>\n",
       "    <tr>\n",
       "      <th>0</th>\n",
       "      <td>\"If one day, my words are against science, cho...</td>\n",
       "      <td>[if, one, day, my, words, are, against, scienc...</td>\n",
       "    </tr>\n",
       "    <tr>\n",
       "      <th>1</th>\n",
       "      <td>I placed the flowers\\r\\n\\r\\nThree broken ribs\\...</td>\n",
       "      <td>[placed, the, flowers, three, broken, ribs, pi...</td>\n",
       "    </tr>\n",
       "    <tr>\n",
       "      <th>2</th>\n",
       "      <td>Atatürk Anıtkabir https://t.co/al3wt0njr6</td>\n",
       "      <td>[atatürk, anıtkabir]</td>\n",
       "    </tr>\n",
       "    <tr>\n",
       "      <th>3</th>\n",
       "      <td>@Bob_Richards One rocket, slightly toasted</td>\n",
       "      <td>[bob, richards, one, rocket, slightly, toasted]</td>\n",
       "    </tr>\n",
       "    <tr>\n",
       "      <th>4</th>\n",
       "      <td>@uncover007 500 ft so far. Should be 2 miles l...</td>\n",
       "      <td>[uncover, ft, so, far, should, be, miles, long...</td>\n",
       "    </tr>\n",
       "  </tbody>\n",
       "</table>\n",
       "</div>"
      ],
      "text/plain": [
       "                                               texto  \\\n",
       "0  \"If one day, my words are against science, cho...   \n",
       "1  I placed the flowers\\r\\n\\r\\nThree broken ribs\\...   \n",
       "2          Atatürk Anıtkabir https://t.co/al3wt0njr6   \n",
       "3         @Bob_Richards One rocket, slightly toasted   \n",
       "4  @uncover007 500 ft so far. Should be 2 miles l...   \n",
       "\n",
       "                                    texto_tokenizado  \n",
       "0  [if, one, day, my, words, are, against, scienc...  \n",
       "1  [placed, the, flowers, three, broken, ribs, pi...  \n",
       "2                               [atatürk, anıtkabir]  \n",
       "3    [bob, richards, one, rocket, slightly, toasted]  \n",
       "4  [uncover, ft, so, far, should, be, miles, long...  "
      ]
     },
     "execution_count": 23,
     "metadata": {},
     "output_type": "execute_result"
    }
   ],
   "source": [
    "# Aplicar la función de limpieza y tokenizacióna cada tweet\n",
    "# apply: para aplicar la función a la columna (en este caso, la de limpiar tokenizar)\n",
    "# lambda para funciones muy sencillas\n",
    "#estructura: lambda x: código, siendo x el/los parámetro/s de entrada\n",
    "tweets[\"texto_tokenizado\"] = tweets[\"texto\"].apply(lambda x: limpiar_tokenizar(x))\n",
    "tweets[[\"texto\", \"texto_tokenizado\"]].head()"
   ]
  },
  {
   "cell_type": "markdown",
   "id": "70aae7ae",
   "metadata": {},
   "source": [
    "En el código proporcionado, se realiza una operación de limpieza y tokenización del texto en la columna \"texto\" de un DataFrame llamado \"tweets\". El resultado se almacena en una nueva columna llamada \"texto_tokenizado\". Veamos la explicación paso a paso:\n",
    "\n",
    "1. `tweets[\"texto_tokenizado\"] = tweets[\"texto\"].apply(lambda x: limpiar_tokenizar(x))`: Se crea una nueva columna llamada \"texto_tokenizado\" en el DataFrame \"tweets\". La columna se rellena aplicando una función a cada valor de la columna \"texto\". La función utilizada se define mediante `lambda x: limpiar_tokenizar(x)`. Esto significa que para cada valor `x` en la columna \"texto\", se llama a la función `limpiar_tokenizar(x)` para realizar la limpieza y tokenización del texto.\n",
    "\n",
    "2. `tweets[[\"texto\", \"texto_tokenizado\"]].head()`: Se seleccionan las columnas \"texto\" y \"texto_tokenizado\" del DataFrame \"tweets\" utilizando la notación de corchetes y se muestra el resultado utilizando el método `head()`. Esto mostrará las primeras filas del DataFrame con las columnas \"texto\" original y \"texto_tokenizado\" resultante.\n",
    "\n",
    "En resumen, el código aplica la función `limpiar_tokenizar` a cada valor de la columna \"texto\" del DataFrame \"tweets\", crea una nueva columna \"texto_tokenizado\" con el resultado y muestra las primeras filas del DataFrame con las columnas original y tokenizada."
   ]
  },
  {
   "cell_type": "markdown",
   "id": "9a06ca6d",
   "metadata": {},
   "source": [
    "# Expansión o unnest"
   ]
  },
  {
   "cell_type": "markdown",
   "id": "5929b5b1",
   "metadata": {},
   "source": [
    "Antes de dividir el texto en palabras. Tenemos en cada fila todo su texto, pero al tokenizar tenemos una lista de palabras, es un array.\n",
    "\n",
    "Ahora el elemento de estudio no es la frase, sino cada palabra. Este proceso se llama expansión o unnest. Se facilita la actividad de agrupación, gráficos, contar..."
   ]
  },
  {
   "cell_type": "code",
   "execution_count": 24,
   "id": "72772ace",
   "metadata": {},
   "outputs": [
    {
     "data": {
      "text/html": [
       "<div>\n",
       "<style scoped>\n",
       "    .dataframe tbody tr th:only-of-type {\n",
       "        vertical-align: middle;\n",
       "    }\n",
       "\n",
       "    .dataframe tbody tr th {\n",
       "        vertical-align: top;\n",
       "    }\n",
       "\n",
       "    .dataframe thead th {\n",
       "        text-align: right;\n",
       "    }\n",
       "</style>\n",
       "<table border=\"1\" class=\"dataframe\">\n",
       "  <thead>\n",
       "    <tr style=\"text-align: right;\">\n",
       "      <th></th>\n",
       "      <th>autor</th>\n",
       "      <th>fecha</th>\n",
       "      <th>id</th>\n",
       "      <th>texto</th>\n",
       "      <th>texto_tokenizado</th>\n",
       "    </tr>\n",
       "  </thead>\n",
       "  <tbody>\n",
       "    <tr>\n",
       "      <th>0</th>\n",
       "      <td>elonmusk</td>\n",
       "      <td>2017-11-09 17:28:57+00:00</td>\n",
       "      <td>9.286758e+17</td>\n",
       "      <td>\"If one day, my words are against science, cho...</td>\n",
       "      <td>if</td>\n",
       "    </tr>\n",
       "    <tr>\n",
       "      <th>0</th>\n",
       "      <td>elonmusk</td>\n",
       "      <td>2017-11-09 17:28:57+00:00</td>\n",
       "      <td>9.286758e+17</td>\n",
       "      <td>\"If one day, my words are against science, cho...</td>\n",
       "      <td>one</td>\n",
       "    </tr>\n",
       "    <tr>\n",
       "      <th>0</th>\n",
       "      <td>elonmusk</td>\n",
       "      <td>2017-11-09 17:28:57+00:00</td>\n",
       "      <td>9.286758e+17</td>\n",
       "      <td>\"If one day, my words are against science, cho...</td>\n",
       "      <td>day</td>\n",
       "    </tr>\n",
       "  </tbody>\n",
       "</table>\n",
       "</div>"
      ],
      "text/plain": [
       "      autor                     fecha            id  \\\n",
       "0  elonmusk 2017-11-09 17:28:57+00:00  9.286758e+17   \n",
       "0  elonmusk 2017-11-09 17:28:57+00:00  9.286758e+17   \n",
       "0  elonmusk 2017-11-09 17:28:57+00:00  9.286758e+17   \n",
       "\n",
       "                                               texto texto_tokenizado  \n",
       "0  \"If one day, my words are against science, cho...               if  \n",
       "0  \"If one day, my words are against science, cho...              one  \n",
       "0  \"If one day, my words are against science, cho...              day  "
      ]
     },
     "execution_count": 24,
     "metadata": {},
     "output_type": "execute_result"
    }
   ],
   "source": [
    "tweets_tidy = tweets.explode(column=\"texto_tokenizado\")\n",
    "tweets_tidy.head(3)"
   ]
  },
  {
   "cell_type": "code",
   "execution_count": 25,
   "id": "62615a11",
   "metadata": {},
   "outputs": [
    {
     "data": {
      "text/plain": [
       "(106874, 5)"
      ]
     },
     "execution_count": 25,
     "metadata": {},
     "output_type": "execute_result"
    }
   ],
   "source": [
    "tweets_tidy.shape"
   ]
  },
  {
   "cell_type": "code",
   "execution_count": 26,
   "id": "8f7dc82c",
   "metadata": {},
   "outputs": [
    {
     "data": {
      "text/html": [
       "<div>\n",
       "<style scoped>\n",
       "    .dataframe tbody tr th:only-of-type {\n",
       "        vertical-align: middle;\n",
       "    }\n",
       "\n",
       "    .dataframe tbody tr th {\n",
       "        vertical-align: top;\n",
       "    }\n",
       "\n",
       "    .dataframe thead th {\n",
       "        text-align: right;\n",
       "    }\n",
       "</style>\n",
       "<table border=\"1\" class=\"dataframe\">\n",
       "  <thead>\n",
       "    <tr style=\"text-align: right;\">\n",
       "      <th></th>\n",
       "      <th>autor</th>\n",
       "      <th>fecha</th>\n",
       "      <th>id</th>\n",
       "      <th>token</th>\n",
       "    </tr>\n",
       "  </thead>\n",
       "  <tbody>\n",
       "    <tr>\n",
       "      <th>0</th>\n",
       "      <td>elonmusk</td>\n",
       "      <td>2017-11-09 17:28:57+00:00</td>\n",
       "      <td>9.286758e+17</td>\n",
       "      <td>if</td>\n",
       "    </tr>\n",
       "    <tr>\n",
       "      <th>0</th>\n",
       "      <td>elonmusk</td>\n",
       "      <td>2017-11-09 17:28:57+00:00</td>\n",
       "      <td>9.286758e+17</td>\n",
       "      <td>one</td>\n",
       "    </tr>\n",
       "    <tr>\n",
       "      <th>0</th>\n",
       "      <td>elonmusk</td>\n",
       "      <td>2017-11-09 17:28:57+00:00</td>\n",
       "      <td>9.286758e+17</td>\n",
       "      <td>day</td>\n",
       "    </tr>\n",
       "  </tbody>\n",
       "</table>\n",
       "</div>"
      ],
      "text/plain": [
       "      autor                     fecha            id token\n",
       "0  elonmusk 2017-11-09 17:28:57+00:00  9.286758e+17    if\n",
       "0  elonmusk 2017-11-09 17:28:57+00:00  9.286758e+17   one\n",
       "0  elonmusk 2017-11-09 17:28:57+00:00  9.286758e+17   day"
      ]
     },
     "execution_count": 26,
     "metadata": {},
     "output_type": "execute_result"
    }
   ],
   "source": [
    "tweets_tidy = tweets_tidy.drop(columns=\"texto\") #elimiar la columna texto\n",
    "tweets_tidy = tweets_tidy.rename(columns={\"texto_tokenizado\":\"token\"}) #otra forma de renovar columnas\n",
    "tweets_tidy.head(3) #el mismo tweet tendrá el mismo id"
   ]
  },
  {
   "cell_type": "markdown",
   "id": "85f370ea",
   "metadata": {},
   "source": [
    "Para entender qué caracteriza la escritura de cada autor, vamos a estudiar sus palabras."
   ]
  },
  {
   "cell_type": "code",
   "execution_count": 27,
   "id": "1d3139d0",
   "metadata": {},
   "outputs": [
    {
     "data": {
      "text/plain": [
       "autor\n",
       "BillGates     31513\n",
       "elonmusk      33578\n",
       "mayoredlee    41774\n",
       "Name: token, dtype: int64"
      ]
     },
     "execution_count": 27,
     "metadata": {},
     "output_type": "execute_result"
    }
   ],
   "source": [
    "tweets_tidy.groupby(\"autor\")[\"token\"].count() #agrupando por autor contamos palabras de la columna token"
   ]
  },
  {
   "cell_type": "code",
   "execution_count": 28,
   "id": "9c2f0357",
   "metadata": {},
   "outputs": [
    {
     "data": {
      "text/plain": [
       "autor\n",
       "BillGates     4766\n",
       "elonmusk      6551\n",
       "mayoredlee    5517\n",
       "Name: token, dtype: int64"
      ]
     },
     "execution_count": 28,
     "metadata": {},
     "output_type": "execute_result"
    }
   ],
   "source": [
    "tweets_tidy.groupby(\"autor\")[\"token\"].nunique() #palabras totales diferentes por autor"
   ]
  },
  {
   "cell_type": "code",
   "execution_count": 29,
   "id": "8cc9144b",
   "metadata": {},
   "outputs": [
    {
     "data": {
      "text/html": [
       "<div>\n",
       "<style scoped>\n",
       "    .dataframe tbody tr th:only-of-type {\n",
       "        vertical-align: middle;\n",
       "    }\n",
       "\n",
       "    .dataframe tbody tr th {\n",
       "        vertical-align: top;\n",
       "    }\n",
       "\n",
       "    .dataframe thead th {\n",
       "        text-align: right;\n",
       "    }\n",
       "</style>\n",
       "<table border=\"1\" class=\"dataframe\">\n",
       "  <thead>\n",
       "    <tr style=\"text-align: right;\">\n",
       "      <th></th>\n",
       "      <th></th>\n",
       "      <th>token</th>\n",
       "    </tr>\n",
       "    <tr>\n",
       "      <th>autor</th>\n",
       "      <th>id</th>\n",
       "      <th></th>\n",
       "    </tr>\n",
       "  </thead>\n",
       "  <tbody>\n",
       "    <tr>\n",
       "      <th rowspan=\"3\" valign=\"top\">BillGates</th>\n",
       "      <th>1.195196e+17</th>\n",
       "      <td>17</td>\n",
       "    </tr>\n",
       "    <tr>\n",
       "      <th>1.213001e+17</th>\n",
       "      <td>16</td>\n",
       "    </tr>\n",
       "    <tr>\n",
       "      <th>1.217459e+17</th>\n",
       "      <td>21</td>\n",
       "    </tr>\n",
       "  </tbody>\n",
       "</table>\n",
       "</div>"
      ],
      "text/plain": [
       "                        token\n",
       "autor     id                 \n",
       "BillGates 1.195196e+17     17\n",
       "          1.213001e+17     16\n",
       "          1.217459e+17     21"
      ]
     },
     "execution_count": 29,
     "metadata": {},
     "output_type": "execute_result"
    }
   ],
   "source": [
    "#Calcular la longitud de los tweets teniendo en cuenta el autor y su id\n",
    "temp_df = pd.DataFrame(tweets_tidy.groupby(by=[\"autor\", \"id\"])[\"token\"].count())\n",
    "temp_df.head(3)"
   ]
  },
  {
   "cell_type": "code",
   "execution_count": 30,
   "id": "4aa717f9",
   "metadata": {},
   "outputs": [
    {
     "data": {
      "text/html": [
       "<div>\n",
       "<style scoped>\n",
       "    .dataframe tbody tr th:only-of-type {\n",
       "        vertical-align: middle;\n",
       "    }\n",
       "\n",
       "    .dataframe tbody tr th {\n",
       "        vertical-align: top;\n",
       "    }\n",
       "\n",
       "    .dataframe thead th {\n",
       "        text-align: right;\n",
       "    }\n",
       "</style>\n",
       "<table border=\"1\" class=\"dataframe\">\n",
       "  <thead>\n",
       "    <tr style=\"text-align: right;\">\n",
       "      <th></th>\n",
       "      <th>mean</th>\n",
       "      <th>std</th>\n",
       "    </tr>\n",
       "    <tr>\n",
       "      <th>autor</th>\n",
       "      <th></th>\n",
       "      <th></th>\n",
       "    </tr>\n",
       "  </thead>\n",
       "  <tbody>\n",
       "    <tr>\n",
       "      <th>BillGates</th>\n",
       "      <td>15.150481</td>\n",
       "      <td>3.348156</td>\n",
       "    </tr>\n",
       "    <tr>\n",
       "      <th>elonmusk</th>\n",
       "      <td>12.599625</td>\n",
       "      <td>6.923537</td>\n",
       "    </tr>\n",
       "    <tr>\n",
       "      <th>mayoredlee</th>\n",
       "      <td>17.127511</td>\n",
       "      <td>3.468914</td>\n",
       "    </tr>\n",
       "  </tbody>\n",
       "</table>\n",
       "</div>"
      ],
      "text/plain": [
       "                 mean       std\n",
       "autor                          \n",
       "BillGates   15.150481  3.348156\n",
       "elonmusk    12.599625  6.923537\n",
       "mayoredlee  17.127511  3.468914"
      ]
     },
     "execution_count": 30,
     "metadata": {},
     "output_type": "execute_result"
    }
   ],
   "source": [
    "#Ahora podemos sacar la longitud media y la desviación de cada tweet por autor\n",
    "temp_df.groupby(\"autor\")[\"token\"].agg([\"mean\", \"std\"])"
   ]
  },
  {
   "cell_type": "markdown",
   "id": "c83759d8",
   "metadata": {},
   "source": [
    "# EJERCICIO "
   ]
  },
  {
   "cell_type": "markdown",
   "id": "d5a66e14",
   "metadata": {},
   "source": [
    "OBTENER Y MOSTRAR EN FORMA DE TABLA LAS 5 PALABRAS MÁS UTILIZADAS POR CADA AUTOR"
   ]
  },
  {
   "cell_type": "code",
   "execution_count": 31,
   "id": "624bd89a",
   "metadata": {},
   "outputs": [
    {
     "data": {
      "text/html": [
       "<div>\n",
       "<style scoped>\n",
       "    .dataframe tbody tr th:only-of-type {\n",
       "        vertical-align: middle;\n",
       "    }\n",
       "\n",
       "    .dataframe tbody tr th {\n",
       "        vertical-align: top;\n",
       "    }\n",
       "\n",
       "    .dataframe thead th {\n",
       "        text-align: right;\n",
       "    }\n",
       "</style>\n",
       "<table border=\"1\" class=\"dataframe\">\n",
       "  <thead>\n",
       "    <tr style=\"text-align: right;\">\n",
       "      <th></th>\n",
       "      <th></th>\n",
       "      <th>autor</th>\n",
       "      <th>token</th>\n",
       "      <th>count</th>\n",
       "    </tr>\n",
       "    <tr>\n",
       "      <th>autor</th>\n",
       "      <th></th>\n",
       "      <th></th>\n",
       "      <th></th>\n",
       "      <th></th>\n",
       "    </tr>\n",
       "  </thead>\n",
       "  <tbody>\n",
       "    <tr>\n",
       "      <th rowspan=\"5\" valign=\"top\">BillGates</th>\n",
       "      <th>4134</th>\n",
       "      <td>BillGates</td>\n",
       "      <td>the</td>\n",
       "      <td>1180</td>\n",
       "    </tr>\n",
       "    <tr>\n",
       "      <th>4207</th>\n",
       "      <td>BillGates</td>\n",
       "      <td>to</td>\n",
       "      <td>1115</td>\n",
       "    </tr>\n",
       "    <tr>\n",
       "      <th>2886</th>\n",
       "      <td>BillGates</td>\n",
       "      <td>of</td>\n",
       "      <td>670</td>\n",
       "    </tr>\n",
       "    <tr>\n",
       "      <th>2057</th>\n",
       "      <td>BillGates</td>\n",
       "      <td>in</td>\n",
       "      <td>590</td>\n",
       "    </tr>\n",
       "    <tr>\n",
       "      <th>2175</th>\n",
       "      <td>BillGates</td>\n",
       "      <td>is</td>\n",
       "      <td>453</td>\n",
       "    </tr>\n",
       "    <tr>\n",
       "      <th rowspan=\"5\" valign=\"top\">elonmusk</th>\n",
       "      <th>10552</th>\n",
       "      <td>elonmusk</td>\n",
       "      <td>the</td>\n",
       "      <td>985</td>\n",
       "    </tr>\n",
       "    <tr>\n",
       "      <th>10665</th>\n",
       "      <td>elonmusk</td>\n",
       "      <td>to</td>\n",
       "      <td>916</td>\n",
       "    </tr>\n",
       "    <tr>\n",
       "      <th>8734</th>\n",
       "      <td>elonmusk</td>\n",
       "      <td>of</td>\n",
       "      <td>638</td>\n",
       "    </tr>\n",
       "    <tr>\n",
       "      <th>7692</th>\n",
       "      <td>elonmusk</td>\n",
       "      <td>is</td>\n",
       "      <td>543</td>\n",
       "    </tr>\n",
       "    <tr>\n",
       "      <th>7550</th>\n",
       "      <td>elonmusk</td>\n",
       "      <td>in</td>\n",
       "      <td>478</td>\n",
       "    </tr>\n",
       "    <tr>\n",
       "      <th rowspan=\"5\" valign=\"top\">mayoredlee</th>\n",
       "      <th>16265</th>\n",
       "      <td>mayoredlee</td>\n",
       "      <td>to</td>\n",
       "      <td>1693</td>\n",
       "    </tr>\n",
       "    <tr>\n",
       "      <th>16190</th>\n",
       "      <td>mayoredlee</td>\n",
       "      <td>the</td>\n",
       "      <td>1355</td>\n",
       "    </tr>\n",
       "    <tr>\n",
       "      <th>11499</th>\n",
       "      <td>mayoredlee</td>\n",
       "      <td>amp</td>\n",
       "      <td>1212</td>\n",
       "    </tr>\n",
       "    <tr>\n",
       "      <th>14637</th>\n",
       "      <td>mayoredlee</td>\n",
       "      <td>our</td>\n",
       "      <td>1104</td>\n",
       "    </tr>\n",
       "    <tr>\n",
       "      <th>15606</th>\n",
       "      <td>mayoredlee</td>\n",
       "      <td>sf</td>\n",
       "      <td>911</td>\n",
       "    </tr>\n",
       "  </tbody>\n",
       "</table>\n",
       "</div>"
      ],
      "text/plain": [
       "                       autor token  count\n",
       "autor                                    \n",
       "BillGates  4134    BillGates   the   1180\n",
       "           4207    BillGates    to   1115\n",
       "           2886    BillGates    of    670\n",
       "           2057    BillGates    in    590\n",
       "           2175    BillGates    is    453\n",
       "elonmusk   10552    elonmusk   the    985\n",
       "           10665    elonmusk    to    916\n",
       "           8734     elonmusk    of    638\n",
       "           7692     elonmusk    is    543\n",
       "           7550     elonmusk    in    478\n",
       "mayoredlee 16265  mayoredlee    to   1693\n",
       "           16190  mayoredlee   the   1355\n",
       "           11499  mayoredlee   amp   1212\n",
       "           14637  mayoredlee   our   1104\n",
       "           15606  mayoredlee    sf    911"
      ]
     },
     "execution_count": 31,
     "metadata": {},
     "output_type": "execute_result"
    }
   ],
   "source": [
    "tweets_tidy.groupby([\"autor\",\"token\"])[\"token\"].count().reset_index(name=\"count\").groupby(\"autor\").apply(lambda x: x.sort_values(\"count\", ascending=False).head(5))"
   ]
  },
  {
   "cell_type": "markdown",
   "id": "19fc652d",
   "metadata": {},
   "source": [
    "En el código proporcionado se realiza una serie de operaciones utilizando el DataFrame \"tweets_tidy\". A continuación se explica el código paso a paso:\n",
    "\n",
    "tweets_tidy.groupby([\"autor\", \"token\"])[\"token\"].count().reset_index(name=\"count\").groupby(\"autor\").apply(lambda x: x.sort_values(\"count\", ascending=False).head(5))\n",
    "\n",
    "1. `tweets_tidy.groupby([\"autor\", \"token\"])[\"token\"].count()`: Se realiza una agrupación del DataFrame \"tweets_tidy\" por las columnas \"autor\" y \"token\". Luego se cuenta la frecuencia de cada token en cada combinación de autor y token.\n",
    "\n",
    "2. `.reset_index(name=\"count\")`: Se restablece el índice del DataFrame resultante y se asigna un nombre \"count\" a la columna que contiene la frecuencia de los tokens.\n",
    "\n",
    "3. `.groupby(\"autor\").apply(lambda x: x.sort_values(\"count\", ascending=False).head(5))`: Se realiza una agrupación adicional por la columna \"autor\" y se aplica una función lambda a cada grupo. La función lambda ordena cada grupo en función de la columna \"count\" de forma descendente y luego selecciona las 5 filas con los valores más altos de \"count\" (es decir, las 5 palabras más utilizadas).\n",
    "\n",
    "El resultado final es un DataFrame que contiene las 5 palabras más utilizadas por cada autor, ordenadas por su frecuencia.\n",
    "\n",
    "En resumen, el código realiza operaciones de agrupación, conteo y ordenamiento en el DataFrame \"tweets_tidy\" para obtener las 5 palabras más utilizadas por cada autor."
   ]
  },
  {
   "cell_type": "markdown",
   "id": "0d736939",
   "metadata": {},
   "source": [
    "# Stopwords"
   ]
  },
  {
   "cell_type": "markdown",
   "id": "2f6180f3",
   "metadata": {},
   "source": [
    "Estas palabras no nos aportan ninguna información. "
   ]
  },
  {
   "cell_type": "code",
   "execution_count": 32,
   "id": "a119aedb",
   "metadata": {},
   "outputs": [],
   "source": [
    "#Vamos a quitar esas palabras del dataset"
   ]
  },
  {
   "cell_type": "code",
   "execution_count": 33,
   "id": "3c13dc68",
   "metadata": {},
   "outputs": [
    {
     "name": "stderr",
     "output_type": "stream",
     "text": [
      "[nltk_data] Downloading package stopwords to\n",
      "[nltk_data]     C:\\Users\\72478072N\\AppData\\Roaming\\nltk_data...\n",
      "[nltk_data]   Package stopwords is already up-to-date!\n"
     ]
    }
   ],
   "source": [
    "nltk.download(\"stopwords\") # Aunque importas la librería hay que hacer el .download()\n",
    "stop_words = list(stopwords.words(\"english\"))\n",
    "#se añade la stopword: amp, ex\n",
    "stop_words.extend((\"amp\", \"ex\")) # podemos extender la lista de stopwords: en este caso hemos añadido \"amp\" y \"ex\""
   ]
  },
  {
   "cell_type": "code",
   "execution_count": 34,
   "id": "b15983fe",
   "metadata": {},
   "outputs": [
    {
     "name": "stdout",
     "output_type": "stream",
     "text": [
      "['a', 'an', 'the', 'and', 'but', 'if', 'or', 'because', 'as', 'until', 'while', 'of', 'at', 'by', 'for', 'with', 'about', 'against', 'between', 'into']\n"
     ]
    }
   ],
   "source": [
    "print(stop_words[60:80])"
   ]
  },
  {
   "cell_type": "markdown",
   "id": "aefb2e06",
   "metadata": {},
   "source": [
    "# Eliminar Stopwords"
   ]
  },
  {
   "cell_type": "code",
   "execution_count": 35,
   "id": "f9051c04",
   "metadata": {},
   "outputs": [
    {
     "data": {
      "text/html": [
       "<div>\n",
       "<style scoped>\n",
       "    .dataframe tbody tr th:only-of-type {\n",
       "        vertical-align: middle;\n",
       "    }\n",
       "\n",
       "    .dataframe tbody tr th {\n",
       "        vertical-align: top;\n",
       "    }\n",
       "\n",
       "    .dataframe thead th {\n",
       "        text-align: right;\n",
       "    }\n",
       "</style>\n",
       "<table border=\"1\" class=\"dataframe\">\n",
       "  <thead>\n",
       "    <tr style=\"text-align: right;\">\n",
       "      <th></th>\n",
       "      <th>autor</th>\n",
       "      <th>fecha</th>\n",
       "      <th>id</th>\n",
       "      <th>token</th>\n",
       "    </tr>\n",
       "  </thead>\n",
       "  <tbody>\n",
       "    <tr>\n",
       "      <th>0</th>\n",
       "      <td>elonmusk</td>\n",
       "      <td>2017-11-09 17:28:57+00:00</td>\n",
       "      <td>9.286758e+17</td>\n",
       "      <td>if</td>\n",
       "    </tr>\n",
       "    <tr>\n",
       "      <th>0</th>\n",
       "      <td>elonmusk</td>\n",
       "      <td>2017-11-09 17:28:57+00:00</td>\n",
       "      <td>9.286758e+17</td>\n",
       "      <td>one</td>\n",
       "    </tr>\n",
       "    <tr>\n",
       "      <th>0</th>\n",
       "      <td>elonmusk</td>\n",
       "      <td>2017-11-09 17:28:57+00:00</td>\n",
       "      <td>9.286758e+17</td>\n",
       "      <td>day</td>\n",
       "    </tr>\n",
       "  </tbody>\n",
       "</table>\n",
       "</div>"
      ],
      "text/plain": [
       "      autor                     fecha            id token\n",
       "0  elonmusk 2017-11-09 17:28:57+00:00  9.286758e+17    if\n",
       "0  elonmusk 2017-11-09 17:28:57+00:00  9.286758e+17   one\n",
       "0  elonmusk 2017-11-09 17:28:57+00:00  9.286758e+17   day"
      ]
     },
     "execution_count": 35,
     "metadata": {},
     "output_type": "execute_result"
    }
   ],
   "source": [
    "tweets_tidy.head(3)"
   ]
  },
  {
   "cell_type": "code",
   "execution_count": 36,
   "id": "1b7ba9ac",
   "metadata": {},
   "outputs": [
    {
     "data": {
      "text/html": [
       "<div>\n",
       "<style scoped>\n",
       "    .dataframe tbody tr th:only-of-type {\n",
       "        vertical-align: middle;\n",
       "    }\n",
       "\n",
       "    .dataframe tbody tr th {\n",
       "        vertical-align: top;\n",
       "    }\n",
       "\n",
       "    .dataframe thead th {\n",
       "        text-align: right;\n",
       "    }\n",
       "</style>\n",
       "<table border=\"1\" class=\"dataframe\">\n",
       "  <thead>\n",
       "    <tr style=\"text-align: right;\">\n",
       "      <th></th>\n",
       "      <th>autor</th>\n",
       "      <th>fecha</th>\n",
       "      <th>id</th>\n",
       "      <th>token</th>\n",
       "    </tr>\n",
       "  </thead>\n",
       "  <tbody>\n",
       "    <tr>\n",
       "      <th>0</th>\n",
       "      <td>elonmusk</td>\n",
       "      <td>2017-11-09 17:28:57+00:00</td>\n",
       "      <td>9.286758e+17</td>\n",
       "      <td>one</td>\n",
       "    </tr>\n",
       "    <tr>\n",
       "      <th>0</th>\n",
       "      <td>elonmusk</td>\n",
       "      <td>2017-11-09 17:28:57+00:00</td>\n",
       "      <td>9.286758e+17</td>\n",
       "      <td>day</td>\n",
       "    </tr>\n",
       "    <tr>\n",
       "      <th>0</th>\n",
       "      <td>elonmusk</td>\n",
       "      <td>2017-11-09 17:28:57+00:00</td>\n",
       "      <td>9.286758e+17</td>\n",
       "      <td>words</td>\n",
       "    </tr>\n",
       "  </tbody>\n",
       "</table>\n",
       "</div>"
      ],
      "text/plain": [
       "      autor                     fecha            id  token\n",
       "0  elonmusk 2017-11-09 17:28:57+00:00  9.286758e+17    one\n",
       "0  elonmusk 2017-11-09 17:28:57+00:00  9.286758e+17    day\n",
       "0  elonmusk 2017-11-09 17:28:57+00:00  9.286758e+17  words"
      ]
     },
     "execution_count": 36,
     "metadata": {},
     "output_type": "execute_result"
    }
   ],
   "source": [
    "# Filtrado para excluir stopwords  /// tweets_tidy_sw -> Sin los stopwords\n",
    "# ~x -> not x , significa que no es lo que viene despues\n",
    "tweets_tidy_sw = tweets_tidy[~(tweets_tidy[\"token\"].isin(stop_words))] # aunque nombramos columan trabjamos con filas\n",
    "tweets_tidy_sw.head(3)"
   ]
  },
  {
   "cell_type": "code",
   "execution_count": 37,
   "id": "36d601aa",
   "metadata": {},
   "outputs": [],
   "source": [
    "# Vamos a buscar el \"top10\". Ahora que hemos eleiminado los stopwords..."
   ]
  },
  {
   "cell_type": "code",
   "execution_count": 38,
   "id": "1c699988",
   "metadata": {},
   "outputs": [
    {
     "data": {
      "text/plain": [
       "5125     tanzania\n",
       "5125        hopes\n",
       "5125    eliminate\n",
       "5125          one\n",
       "5125      world’s\n",
       "5125      painful\n",
       "5125     diseases\n",
       "5125          saw\n",
       "5125      village\n",
       "5125          i’m\n",
       "Name: token, dtype: object"
      ]
     },
     "execution_count": 38,
     "metadata": {},
     "output_type": "execute_result"
    }
   ],
   "source": [
    "df_temp1 = tweets_tidy_sw[tweets_tidy_sw.autor == \"BillGates\"]\n",
    "h10 = df_temp1[\"token\"].head(10)\n",
    "h10 # llamamos al h10"
   ]
  },
  {
   "cell_type": "code",
   "execution_count": 39,
   "id": "dbb91d93",
   "metadata": {},
   "outputs": [
    {
     "data": {
      "text/plain": [
       "great     216\n",
       "one       146\n",
       "world     143\n",
       "people    140\n",
       "new       120\n",
       "help      113\n",
       "polio     102\n",
       "lives     101\n",
       "energy     97\n",
       "via        92\n",
       "Name: token, dtype: int64"
      ]
     },
     "execution_count": 39,
     "metadata": {},
     "output_type": "execute_result"
    }
   ],
   "source": [
    "counts1 = df_temp1[\"token\"].value_counts(ascending = False).head(10)\n",
    "counts1"
   ]
  },
  {
   "cell_type": "code",
   "execution_count": 40,
   "id": "64555f0a",
   "metadata": {},
   "outputs": [],
   "source": [
    "# por autor"
   ]
  },
  {
   "cell_type": "code",
   "execution_count": 41,
   "id": "335e64be",
   "metadata": {},
   "outputs": [
    {
     "data": {
      "image/png": "[encoded data removed]",
      "text/plain": [
       "<Figure size 700x900 with 3 Axes>"
      ]
     },
     "metadata": {},
     "output_type": "display_data"
    }
   ],
   "source": [
    "# Top 10 palabras por autor (sin stipwords)\n",
    "# =========================================\n",
    "fig, axs = plt.subplots(nrows = 3, ncols = 1, figsize = (7, 9))\n",
    "for i, autor in enumerate(tweets_tidy_sw.autor.unique()):\n",
    "    df_temp = tweets_tidy_sw[tweets_tidy_sw.autor == autor]\n",
    "    counts = df_temp[\"token\"].value_counts(ascending = False).head(10)\n",
    "    counts.plot(kind = \"barh\", color = \"darkslategray\", ax = axs[i])\n",
    "    axs[i].invert_yaxis()\n",
    "    axs[i].set_title(autor)\n",
    "\n",
    "fig.tight_layout()"
   ]
  },
  {
   "cell_type": "markdown",
   "id": "7b31b338",
   "metadata": {},
   "source": [
    "# Term Frequency (tf) y Inverse Document Frecuency (idf)"
   ]
  },
  {
   "cell_type": "markdown",
   "id": "bbfe6416",
   "metadata": {},
   "source": [
    "Vamos a ponderar las palabras respecto al grado de su relevancia. Si aparace en pocos tweets la palabra se le da mayor peso que las que aparecen muchas veces."
   ]
  },
  {
   "cell_type": "markdown",
   "id": "3f9b864d",
   "metadata": {},
   "source": [
    "Para ello disponemos de la clase TfidfVectorizer de Scikit Learn"
   ]
  },
  {
   "cell_type": "markdown",
   "id": "b5d93d27",
   "metadata": {},
   "source": [
    "# Clasificación de tweets"
   ]
  },
  {
   "cell_type": "markdown",
   "id": "f24f611b",
   "metadata": {},
   "source": [
    "Vamos a crear un modelo de machine learning basado en en màqiomad de vector soporte (SVM)"
   ]
  },
  {
   "cell_type": "code",
   "execution_count": 42,
   "id": "72e6e975",
   "metadata": {},
   "outputs": [],
   "source": [
    "# Dataos de entrenamiiento y test\n",
    "# Cogemos las filas de \"elonmusk\", \"mayoredlee\"\n",
    "datos_X = tweets.loc[tweets.autor.isin([\"elonmusk\", \"mayoredlee\"]), \"texto\"] # de los tweets (files) con autores em y mel cogemos coulumna texto # Varaiable predictora\n",
    "datos_y = tweets.loc[tweets.autor.isin([\"elonmusk\", \"mayoredlee\"]), \"autor\"]\n",
    "\n",
    "X_train, X_test, y_train, y_test = train_test_split(\n",
    "    datos_X,\n",
    "    datos_y,\n",
    "    test_size = 0.2,\n",
    "    random_state = 224\n",
    ")"
   ]
  },
  {
   "cell_type": "code",
   "execution_count": null,
   "id": "59614ca1",
   "metadata": {},
   "outputs": [],
   "source": []
  },
  {
   "cell_type": "code",
   "execution_count": 43,
   "id": "91cbb75b",
   "metadata": {},
   "outputs": [
    {
     "data": {
      "text/html": [
       "<style>#sk-container-id-1 {color: black;background-color: white;}#sk-container-id-1 pre{padding: 0;}#sk-container-id-1 div.sk-toggleable {background-color: white;}#sk-container-id-1 label.sk-toggleable__label {cursor: pointer;display: block;width: 100%;margin-bottom: 0;padding: 0.3em;box-sizing: border-box;text-align: center;}#sk-container-id-1 label.sk-toggleable__label-arrow:before {content: \"▸\";float: left;margin-right: 0.25em;color: #696969;}#sk-container-id-1 label.sk-toggleable__label-arrow:hover:before {color: black;}#sk-container-id-1 div.sk-estimator:hover label.sk-toggleable__label-arrow:before {color: black;}#sk-container-id-1 div.sk-toggleable__content {max-height: 0;max-width: 0;overflow: hidden;text-align: left;background-color: #f0f8ff;}#sk-container-id-1 div.sk-toggleable__content pre {margin: 0.2em;color: black;border-radius: 0.25em;background-color: #f0f8ff;}#sk-container-id-1 input.sk-toggleable__control:checked~div.sk-toggleable__content {max-height: 200px;max-width: 100%;overflow: auto;}#sk-container-id-1 input.sk-toggleable__control:checked~label.sk-toggleable__label-arrow:before {content: \"▾\";}#sk-container-id-1 div.sk-estimator input.sk-toggleable__control:checked~label.sk-toggleable__label {background-color: #d4ebff;}#sk-container-id-1 div.sk-label input.sk-toggleable__control:checked~label.sk-toggleable__label {background-color: #d4ebff;}#sk-container-id-1 input.sk-hidden--visually {border: 0;clip: rect(1px 1px 1px 1px);clip: rect(1px, 1px, 1px, 1px);height: 1px;margin: -1px;overflow: hidden;padding: 0;position: absolute;width: 1px;}#sk-container-id-1 div.sk-estimator {font-family: monospace;background-color: #f0f8ff;border: 1px dotted black;border-radius: 0.25em;box-sizing: border-box;margin-bottom: 0.5em;}#sk-container-id-1 div.sk-estimator:hover {background-color: #d4ebff;}#sk-container-id-1 div.sk-parallel-item::after {content: \"\";width: 100%;border-bottom: 1px solid gray;flex-grow: 1;}#sk-container-id-1 div.sk-label:hover label.sk-toggleable__label {background-color: #d4ebff;}#sk-container-id-1 div.sk-serial::before {content: \"\";position: absolute;border-left: 1px solid gray;box-sizing: border-box;top: 0;bottom: 0;left: 50%;z-index: 0;}#sk-container-id-1 div.sk-serial {display: flex;flex-direction: column;align-items: center;background-color: white;padding-right: 0.2em;padding-left: 0.2em;position: relative;}#sk-container-id-1 div.sk-item {position: relative;z-index: 1;}#sk-container-id-1 div.sk-parallel {display: flex;align-items: stretch;justify-content: center;background-color: white;position: relative;}#sk-container-id-1 div.sk-item::before, #sk-container-id-1 div.sk-parallel-item::before {content: \"\";position: absolute;border-left: 1px solid gray;box-sizing: border-box;top: 0;bottom: 0;left: 50%;z-index: -1;}#sk-container-id-1 div.sk-parallel-item {display: flex;flex-direction: column;z-index: 1;position: relative;background-color: white;}#sk-container-id-1 div.sk-parallel-item:first-child::after {align-self: flex-end;width: 50%;}#sk-container-id-1 div.sk-parallel-item:last-child::after {align-self: flex-start;width: 50%;}#sk-container-id-1 div.sk-parallel-item:only-child::after {width: 0;}#sk-container-id-1 div.sk-dashed-wrapped {border: 1px dashed gray;margin: 0 0.4em 0.5em 0.4em;box-sizing: border-box;padding-bottom: 0.4em;background-color: white;}#sk-container-id-1 div.sk-label label {font-family: monospace;font-weight: bold;display: inline-block;line-height: 1.2em;}#sk-container-id-1 div.sk-label-container {text-align: center;}#sk-container-id-1 div.sk-container {/* jupyter's `normalize.less` sets `[hidden] { display: none; }` but bootstrap.min.css set `[hidden] { display: none !important; }` so we also need the `!important` here to be able to override the default hidden behavior on the sphinx rendered scikit-learn.org. See: https://github.com/scikit-learn/scikit-learn/issues/21755 */display: inline-block !important;position: relative;}#sk-container-id-1 div.sk-text-repr-fallback {display: none;}</style><div id=\"sk-container-id-1\" class=\"sk-top-container\"><div class=\"sk-text-repr-fallback\"><pre>TfidfVectorizer(min_df=3,\n",
       "                stop_words=[&#x27;i&#x27;, &#x27;me&#x27;, &#x27;my&#x27;, &#x27;myself&#x27;, &#x27;we&#x27;, &#x27;our&#x27;, &#x27;ours&#x27;,\n",
       "                            &#x27;ourselves&#x27;, &#x27;you&#x27;, &quot;you&#x27;re&quot;, &quot;you&#x27;ve&quot;, &quot;you&#x27;ll&quot;,\n",
       "                            &quot;you&#x27;d&quot;, &#x27;your&#x27;, &#x27;yours&#x27;, &#x27;yourself&#x27;, &#x27;yourselves&#x27;,\n",
       "                            &#x27;he&#x27;, &#x27;him&#x27;, &#x27;his&#x27;, &#x27;himself&#x27;, &#x27;she&#x27;, &quot;she&#x27;s&quot;,\n",
       "                            &#x27;her&#x27;, &#x27;hers&#x27;, &#x27;herself&#x27;, &#x27;it&#x27;, &quot;it&#x27;s&quot;, &#x27;its&#x27;,\n",
       "                            &#x27;itself&#x27;, ...])</pre><b>In a Jupyter environment, please rerun this cell to show the HTML representation or trust the notebook. <br />On GitHub, the HTML representation is unable to render, please try loading this page with nbviewer.org.</b></div><div class=\"sk-container\" hidden><div class=\"sk-item\"><div class=\"sk-estimator sk-toggleable\"><input class=\"sk-toggleable__control sk-hidden--visually\" id=\"sk-estimator-id-1\" type=\"checkbox\" checked><label for=\"sk-estimator-id-1\" class=\"sk-toggleable__label sk-toggleable__label-arrow\">TfidfVectorizer</label><div class=\"sk-toggleable__content\"><pre>TfidfVectorizer(min_df=3,\n",
       "                stop_words=[&#x27;i&#x27;, &#x27;me&#x27;, &#x27;my&#x27;, &#x27;myself&#x27;, &#x27;we&#x27;, &#x27;our&#x27;, &#x27;ours&#x27;,\n",
       "                            &#x27;ourselves&#x27;, &#x27;you&#x27;, &quot;you&#x27;re&quot;, &quot;you&#x27;ve&quot;, &quot;you&#x27;ll&quot;,\n",
       "                            &quot;you&#x27;d&quot;, &#x27;your&#x27;, &#x27;yours&#x27;, &#x27;yourself&#x27;, &#x27;yourselves&#x27;,\n",
       "                            &#x27;he&#x27;, &#x27;him&#x27;, &#x27;his&#x27;, &#x27;himself&#x27;, &#x27;she&#x27;, &quot;she&#x27;s&quot;,\n",
       "                            &#x27;her&#x27;, &#x27;hers&#x27;, &#x27;herself&#x27;, &#x27;it&#x27;, &quot;it&#x27;s&quot;, &#x27;its&#x27;,\n",
       "                            &#x27;itself&#x27;, ...])</pre></div></div></div></div></div>"
      ],
      "text/plain": [
       "TfidfVectorizer(min_df=3,\n",
       "                stop_words=['i', 'me', 'my', 'myself', 'we', 'our', 'ours',\n",
       "                            'ourselves', 'you', \"you're\", \"you've\", \"you'll\",\n",
       "                            \"you'd\", 'your', 'yours', 'yourself', 'yourselves',\n",
       "                            'he', 'him', 'his', 'himself', 'she', \"she's\",\n",
       "                            'her', 'hers', 'herself', 'it', \"it's\", 'its',\n",
       "                            'itself', ...])"
      ]
     },
     "execution_count": 43,
     "metadata": {},
     "output_type": "execute_result"
    }
   ],
   "source": [
    "# Creación de la matriz tf-idf\n",
    "# min_df es el mínimo número de c\n",
    "\n",
    "vectorizador_tfidf = TfidfVectorizer( \n",
    "                        min_df      = 3,\n",
    "                        stop_words  = stop_words\n",
    "                    )\n",
    "# fit: learn vocabulary and idf from training set\n",
    "vectorizador_tfidf.fit(X_train) # es un pseudo-modelo, (No es un modelo todavía) le estamos metiendo un monton de tweets de entrenamiento"
   ]
  },
  {
   "cell_type": "code",
   "execution_count": 44,
   "id": "792f9f77",
   "metadata": {},
   "outputs": [],
   "source": [
    "tfidf_train = vectorizador_tfidf.transform(X_train) # metemos los tweets tokenizdos, limpios y ponderados !!!!!!!!!\n",
    "tfidf_test  = vectorizador_tfidf.transform(X_test)"
   ]
  },
  {
   "cell_type": "markdown",
   "id": "0a301240",
   "metadata": {},
   "source": [
    "# Creamos Modelo SVM lineal"
   ]
  },
  {
   "cell_type": "code",
   "execution_count": 45,
   "id": "3222d0f1",
   "metadata": {},
   "outputs": [
    {
     "data": {
      "text/html": [
       "<style>#sk-container-id-2 {color: black;background-color: white;}#sk-container-id-2 pre{padding: 0;}#sk-container-id-2 div.sk-toggleable {background-color: white;}#sk-container-id-2 label.sk-toggleable__label {cursor: pointer;display: block;width: 100%;margin-bottom: 0;padding: 0.3em;box-sizing: border-box;text-align: center;}#sk-container-id-2 label.sk-toggleable__label-arrow:before {content: \"▸\";float: left;margin-right: 0.25em;color: #696969;}#sk-container-id-2 label.sk-toggleable__label-arrow:hover:before {color: black;}#sk-container-id-2 div.sk-estimator:hover label.sk-toggleable__label-arrow:before {color: black;}#sk-container-id-2 div.sk-toggleable__content {max-height: 0;max-width: 0;overflow: hidden;text-align: left;background-color: #f0f8ff;}#sk-container-id-2 div.sk-toggleable__content pre {margin: 0.2em;color: black;border-radius: 0.25em;background-color: #f0f8ff;}#sk-container-id-2 input.sk-toggleable__control:checked~div.sk-toggleable__content {max-height: 200px;max-width: 100%;overflow: auto;}#sk-container-id-2 input.sk-toggleable__control:checked~label.sk-toggleable__label-arrow:before {content: \"▾\";}#sk-container-id-2 div.sk-estimator input.sk-toggleable__control:checked~label.sk-toggleable__label {background-color: #d4ebff;}#sk-container-id-2 div.sk-label input.sk-toggleable__control:checked~label.sk-toggleable__label {background-color: #d4ebff;}#sk-container-id-2 input.sk-hidden--visually {border: 0;clip: rect(1px 1px 1px 1px);clip: rect(1px, 1px, 1px, 1px);height: 1px;margin: -1px;overflow: hidden;padding: 0;position: absolute;width: 1px;}#sk-container-id-2 div.sk-estimator {font-family: monospace;background-color: #f0f8ff;border: 1px dotted black;border-radius: 0.25em;box-sizing: border-box;margin-bottom: 0.5em;}#sk-container-id-2 div.sk-estimator:hover {background-color: #d4ebff;}#sk-container-id-2 div.sk-parallel-item::after {content: \"\";width: 100%;border-bottom: 1px solid gray;flex-grow: 1;}#sk-container-id-2 div.sk-label:hover label.sk-toggleable__label {background-color: #d4ebff;}#sk-container-id-2 div.sk-serial::before {content: \"\";position: absolute;border-left: 1px solid gray;box-sizing: border-box;top: 0;bottom: 0;left: 50%;z-index: 0;}#sk-container-id-2 div.sk-serial {display: flex;flex-direction: column;align-items: center;background-color: white;padding-right: 0.2em;padding-left: 0.2em;position: relative;}#sk-container-id-2 div.sk-item {position: relative;z-index: 1;}#sk-container-id-2 div.sk-parallel {display: flex;align-items: stretch;justify-content: center;background-color: white;position: relative;}#sk-container-id-2 div.sk-item::before, #sk-container-id-2 div.sk-parallel-item::before {content: \"\";position: absolute;border-left: 1px solid gray;box-sizing: border-box;top: 0;bottom: 0;left: 50%;z-index: -1;}#sk-container-id-2 div.sk-parallel-item {display: flex;flex-direction: column;z-index: 1;position: relative;background-color: white;}#sk-container-id-2 div.sk-parallel-item:first-child::after {align-self: flex-end;width: 50%;}#sk-container-id-2 div.sk-parallel-item:last-child::after {align-self: flex-start;width: 50%;}#sk-container-id-2 div.sk-parallel-item:only-child::after {width: 0;}#sk-container-id-2 div.sk-dashed-wrapped {border: 1px dashed gray;margin: 0 0.4em 0.5em 0.4em;box-sizing: border-box;padding-bottom: 0.4em;background-color: white;}#sk-container-id-2 div.sk-label label {font-family: monospace;font-weight: bold;display: inline-block;line-height: 1.2em;}#sk-container-id-2 div.sk-label-container {text-align: center;}#sk-container-id-2 div.sk-container {/* jupyter's `normalize.less` sets `[hidden] { display: none; }` but bootstrap.min.css set `[hidden] { display: none !important; }` so we also need the `!important` here to be able to override the default hidden behavior on the sphinx rendered scikit-learn.org. See: https://github.com/scikit-learn/scikit-learn/issues/21755 */display: inline-block !important;position: relative;}#sk-container-id-2 div.sk-text-repr-fallback {display: none;}</style><div id=\"sk-container-id-2\" class=\"sk-top-container\"><div class=\"sk-text-repr-fallback\"><pre>SVC(kernel=&#x27;linear&#x27;)</pre><b>In a Jupyter environment, please rerun this cell to show the HTML representation or trust the notebook. <br />On GitHub, the HTML representation is unable to render, please try loading this page with nbviewer.org.</b></div><div class=\"sk-container\" hidden><div class=\"sk-item\"><div class=\"sk-estimator sk-toggleable\"><input class=\"sk-toggleable__control sk-hidden--visually\" id=\"sk-estimator-id-2\" type=\"checkbox\" checked><label for=\"sk-estimator-id-2\" class=\"sk-toggleable__label sk-toggleable__label-arrow\">SVC</label><div class=\"sk-toggleable__content\"><pre>SVC(kernel=&#x27;linear&#x27;)</pre></div></div></div></div></div>"
      ],
      "text/plain": [
       "SVC(kernel='linear')"
      ]
     },
     "execution_count": 45,
     "metadata": {},
     "output_type": "execute_result"
    }
   ],
   "source": [
    "modelo = svm.SVC(kernel = \"linear\")\n",
    "modelo.fit(X = tfidf_train, y = y_train)"
   ]
  },
  {
   "cell_type": "markdown",
   "id": "e63c1824",
   "metadata": {},
   "source": [
    "# vamos a validar el modelo con tfidf_test/y_test"
   ]
  },
  {
   "cell_type": "code",
   "execution_count": 46,
   "id": "db309b43",
   "metadata": {},
   "outputs": [
    {
     "data": {
      "text/plain": [
       "(1025, 2800)"
      ]
     },
     "execution_count": 46,
     "metadata": {},
     "output_type": "execute_result"
    }
   ],
   "source": [
    "tfidf_test.shape"
   ]
  },
  {
   "cell_type": "code",
   "execution_count": 47,
   "id": "07a3e9bc",
   "metadata": {
    "scrolled": true
   },
   "outputs": [
    {
     "data": {
      "text/plain": [
       "0.9736585365853658"
      ]
     },
     "execution_count": 47,
     "metadata": {},
     "output_type": "execute_result"
    }
   ],
   "source": [
    "modelo.score(tfidf_test, y_test)"
   ]
  },
  {
   "cell_type": "code",
   "execution_count": 48,
   "id": "1bc0fd62",
   "metadata": {},
   "outputs": [
    {
     "data": {
      "text/plain": [
       "array(['elonmusk', 'mayoredlee', 'mayoredlee', 'mayoredlee', 'mayoredlee',\n",
       "       'elonmusk', 'elonmusk', 'mayoredlee', 'elonmusk', 'mayoredlee',\n",
       "       'mayoredlee', 'mayoredlee', 'elonmusk'], dtype=object)"
      ]
     },
     "execution_count": 48,
     "metadata": {},
     "output_type": "execute_result"
    }
   ],
   "source": [
    "y_pred = modelo.predict(tfidf_test) # Esta es la PREDICCIÓN\n",
    "y_pred[:13]"
   ]
  },
  {
   "cell_type": "code",
   "execution_count": 49,
   "id": "eb99c747",
   "metadata": {},
   "outputs": [
    {
     "data": {
      "text/plain": [
       "array(['elonmusk', 'mayoredlee', 'mayoredlee', 'mayoredlee', 'mayoredlee',\n",
       "       'elonmusk', 'elonmusk', 'mayoredlee', 'elonmusk', 'mayoredlee',\n",
       "       'elonmusk', 'mayoredlee', 'elonmusk'], dtype=object)"
      ]
     },
     "execution_count": 49,
     "metadata": {},
     "output_type": "execute_result"
    }
   ],
   "source": [
    "y_test.values[:13] # Esta es la REALIDAD"
   ]
  },
  {
   "cell_type": "code",
   "execution_count": null,
   "id": "09c47e0e",
   "metadata": {},
   "outputs": [],
   "source": []
  },
  {
   "cell_type": "markdown",
   "id": "a061af33",
   "metadata": {},
   "source": [
    "# EJERCICIO 1"
   ]
  },
  {
   "cell_type": "code",
   "execution_count": 50,
   "id": "1c0a93ed",
   "metadata": {},
   "outputs": [],
   "source": [
    "# Dataos de entrenamiiento y test\n",
    "# Cogemos las filas de \"elonmusk\", \"mayoredlee\"\n",
    "datos_X = tweets.loc[tweets.autor.isin([\"elonmusk\", \"BillGates\"]), \"texto\"] # de los tweets (files) con autores em y mel cogemos coulumna texto # Varaiable predictora\n",
    "datos_y = tweets.loc[tweets.autor.isin([\"elonmusk\", \"BillGates\"]), \"autor\"] # Es lo que queremos PREDECIR\n",
    "\n",
    "X_train, X_test, y_train, y_test = train_test_split(\n",
    "    datos_X,\n",
    "    datos_y,\n",
    "    test_size = 0.2,\n",
    "    random_state = 224\n",
    ")"
   ]
  },
  {
   "cell_type": "code",
   "execution_count": 51,
   "id": "aedbdf64",
   "metadata": {},
   "outputs": [
    {
     "data": {
      "text/html": [
       "<style>#sk-container-id-3 {color: black;background-color: white;}#sk-container-id-3 pre{padding: 0;}#sk-container-id-3 div.sk-toggleable {background-color: white;}#sk-container-id-3 label.sk-toggleable__label {cursor: pointer;display: block;width: 100%;margin-bottom: 0;padding: 0.3em;box-sizing: border-box;text-align: center;}#sk-container-id-3 label.sk-toggleable__label-arrow:before {content: \"▸\";float: left;margin-right: 0.25em;color: #696969;}#sk-container-id-3 label.sk-toggleable__label-arrow:hover:before {color: black;}#sk-container-id-3 div.sk-estimator:hover label.sk-toggleable__label-arrow:before {color: black;}#sk-container-id-3 div.sk-toggleable__content {max-height: 0;max-width: 0;overflow: hidden;text-align: left;background-color: #f0f8ff;}#sk-container-id-3 div.sk-toggleable__content pre {margin: 0.2em;color: black;border-radius: 0.25em;background-color: #f0f8ff;}#sk-container-id-3 input.sk-toggleable__control:checked~div.sk-toggleable__content {max-height: 200px;max-width: 100%;overflow: auto;}#sk-container-id-3 input.sk-toggleable__control:checked~label.sk-toggleable__label-arrow:before {content: \"▾\";}#sk-container-id-3 div.sk-estimator input.sk-toggleable__control:checked~label.sk-toggleable__label {background-color: #d4ebff;}#sk-container-id-3 div.sk-label input.sk-toggleable__control:checked~label.sk-toggleable__label {background-color: #d4ebff;}#sk-container-id-3 input.sk-hidden--visually {border: 0;clip: rect(1px 1px 1px 1px);clip: rect(1px, 1px, 1px, 1px);height: 1px;margin: -1px;overflow: hidden;padding: 0;position: absolute;width: 1px;}#sk-container-id-3 div.sk-estimator {font-family: monospace;background-color: #f0f8ff;border: 1px dotted black;border-radius: 0.25em;box-sizing: border-box;margin-bottom: 0.5em;}#sk-container-id-3 div.sk-estimator:hover {background-color: #d4ebff;}#sk-container-id-3 div.sk-parallel-item::after {content: \"\";width: 100%;border-bottom: 1px solid gray;flex-grow: 1;}#sk-container-id-3 div.sk-label:hover label.sk-toggleable__label {background-color: #d4ebff;}#sk-container-id-3 div.sk-serial::before {content: \"\";position: absolute;border-left: 1px solid gray;box-sizing: border-box;top: 0;bottom: 0;left: 50%;z-index: 0;}#sk-container-id-3 div.sk-serial {display: flex;flex-direction: column;align-items: center;background-color: white;padding-right: 0.2em;padding-left: 0.2em;position: relative;}#sk-container-id-3 div.sk-item {position: relative;z-index: 1;}#sk-container-id-3 div.sk-parallel {display: flex;align-items: stretch;justify-content: center;background-color: white;position: relative;}#sk-container-id-3 div.sk-item::before, #sk-container-id-3 div.sk-parallel-item::before {content: \"\";position: absolute;border-left: 1px solid gray;box-sizing: border-box;top: 0;bottom: 0;left: 50%;z-index: -1;}#sk-container-id-3 div.sk-parallel-item {display: flex;flex-direction: column;z-index: 1;position: relative;background-color: white;}#sk-container-id-3 div.sk-parallel-item:first-child::after {align-self: flex-end;width: 50%;}#sk-container-id-3 div.sk-parallel-item:last-child::after {align-self: flex-start;width: 50%;}#sk-container-id-3 div.sk-parallel-item:only-child::after {width: 0;}#sk-container-id-3 div.sk-dashed-wrapped {border: 1px dashed gray;margin: 0 0.4em 0.5em 0.4em;box-sizing: border-box;padding-bottom: 0.4em;background-color: white;}#sk-container-id-3 div.sk-label label {font-family: monospace;font-weight: bold;display: inline-block;line-height: 1.2em;}#sk-container-id-3 div.sk-label-container {text-align: center;}#sk-container-id-3 div.sk-container {/* jupyter's `normalize.less` sets `[hidden] { display: none; }` but bootstrap.min.css set `[hidden] { display: none !important; }` so we also need the `!important` here to be able to override the default hidden behavior on the sphinx rendered scikit-learn.org. See: https://github.com/scikit-learn/scikit-learn/issues/21755 */display: inline-block !important;position: relative;}#sk-container-id-3 div.sk-text-repr-fallback {display: none;}</style><div id=\"sk-container-id-3\" class=\"sk-top-container\"><div class=\"sk-text-repr-fallback\"><pre>TfidfVectorizer(min_df=3,\n",
       "                stop_words=[&#x27;i&#x27;, &#x27;me&#x27;, &#x27;my&#x27;, &#x27;myself&#x27;, &#x27;we&#x27;, &#x27;our&#x27;, &#x27;ours&#x27;,\n",
       "                            &#x27;ourselves&#x27;, &#x27;you&#x27;, &quot;you&#x27;re&quot;, &quot;you&#x27;ve&quot;, &quot;you&#x27;ll&quot;,\n",
       "                            &quot;you&#x27;d&quot;, &#x27;your&#x27;, &#x27;yours&#x27;, &#x27;yourself&#x27;, &#x27;yourselves&#x27;,\n",
       "                            &#x27;he&#x27;, &#x27;him&#x27;, &#x27;his&#x27;, &#x27;himself&#x27;, &#x27;she&#x27;, &quot;she&#x27;s&quot;,\n",
       "                            &#x27;her&#x27;, &#x27;hers&#x27;, &#x27;herself&#x27;, &#x27;it&#x27;, &quot;it&#x27;s&quot;, &#x27;its&#x27;,\n",
       "                            &#x27;itself&#x27;, ...])</pre><b>In a Jupyter environment, please rerun this cell to show the HTML representation or trust the notebook. <br />On GitHub, the HTML representation is unable to render, please try loading this page with nbviewer.org.</b></div><div class=\"sk-container\" hidden><div class=\"sk-item\"><div class=\"sk-estimator sk-toggleable\"><input class=\"sk-toggleable__control sk-hidden--visually\" id=\"sk-estimator-id-3\" type=\"checkbox\" checked><label for=\"sk-estimator-id-3\" class=\"sk-toggleable__label sk-toggleable__label-arrow\">TfidfVectorizer</label><div class=\"sk-toggleable__content\"><pre>TfidfVectorizer(min_df=3,\n",
       "                stop_words=[&#x27;i&#x27;, &#x27;me&#x27;, &#x27;my&#x27;, &#x27;myself&#x27;, &#x27;we&#x27;, &#x27;our&#x27;, &#x27;ours&#x27;,\n",
       "                            &#x27;ourselves&#x27;, &#x27;you&#x27;, &quot;you&#x27;re&quot;, &quot;you&#x27;ve&quot;, &quot;you&#x27;ll&quot;,\n",
       "                            &quot;you&#x27;d&quot;, &#x27;your&#x27;, &#x27;yours&#x27;, &#x27;yourself&#x27;, &#x27;yourselves&#x27;,\n",
       "                            &#x27;he&#x27;, &#x27;him&#x27;, &#x27;his&#x27;, &#x27;himself&#x27;, &#x27;she&#x27;, &quot;she&#x27;s&quot;,\n",
       "                            &#x27;her&#x27;, &#x27;hers&#x27;, &#x27;herself&#x27;, &#x27;it&#x27;, &quot;it&#x27;s&quot;, &#x27;its&#x27;,\n",
       "                            &#x27;itself&#x27;, ...])</pre></div></div></div></div></div>"
      ],
      "text/plain": [
       "TfidfVectorizer(min_df=3,\n",
       "                stop_words=['i', 'me', 'my', 'myself', 'we', 'our', 'ours',\n",
       "                            'ourselves', 'you', \"you're\", \"you've\", \"you'll\",\n",
       "                            \"you'd\", 'your', 'yours', 'yourself', 'yourselves',\n",
       "                            'he', 'him', 'his', 'himself', 'she', \"she's\",\n",
       "                            'her', 'hers', 'herself', 'it', \"it's\", 'its',\n",
       "                            'itself', ...])"
      ]
     },
     "execution_count": 51,
     "metadata": {},
     "output_type": "execute_result"
    }
   ],
   "source": [
    "# Creación de la matriz tf-idf\n",
    "# min_df es el mínimo número de c\n",
    "\n",
    "vectorizador_tfidf = TfidfVectorizer( \n",
    "                        min_df      = 3,\n",
    "                        stop_words  = stop_words\n",
    "                    )\n",
    "# fit: learn vocabulary and idf from training set\n",
    "vectorizador_tfidf.fit(X_train) # es un pseudo-modelo, (No es un modelo todavía) le estamos metiendo un monton de tweets de entrenamiento"
   ]
  },
  {
   "cell_type": "code",
   "execution_count": 52,
   "id": "8c48584d",
   "metadata": {},
   "outputs": [],
   "source": [
    "tfidf_train = vectorizador_tfidf.transform(X_train) # metemos los tweets tokenizdos, limpios y ponderados !!!!!!!!!\n",
    "tfidf_test  = vectorizador_tfidf.transform(X_test)"
   ]
  },
  {
   "cell_type": "code",
   "execution_count": 67,
   "id": "300155e3",
   "metadata": {},
   "outputs": [
    {
     "data": {
      "text/html": [
       "<style>#sk-container-id-10 {color: black;background-color: white;}#sk-container-id-10 pre{padding: 0;}#sk-container-id-10 div.sk-toggleable {background-color: white;}#sk-container-id-10 label.sk-toggleable__label {cursor: pointer;display: block;width: 100%;margin-bottom: 0;padding: 0.3em;box-sizing: border-box;text-align: center;}#sk-container-id-10 label.sk-toggleable__label-arrow:before {content: \"▸\";float: left;margin-right: 0.25em;color: #696969;}#sk-container-id-10 label.sk-toggleable__label-arrow:hover:before {color: black;}#sk-container-id-10 div.sk-estimator:hover label.sk-toggleable__label-arrow:before {color: black;}#sk-container-id-10 div.sk-toggleable__content {max-height: 0;max-width: 0;overflow: hidden;text-align: left;background-color: #f0f8ff;}#sk-container-id-10 div.sk-toggleable__content pre {margin: 0.2em;color: black;border-radius: 0.25em;background-color: #f0f8ff;}#sk-container-id-10 input.sk-toggleable__control:checked~div.sk-toggleable__content {max-height: 200px;max-width: 100%;overflow: auto;}#sk-container-id-10 input.sk-toggleable__control:checked~label.sk-toggleable__label-arrow:before {content: \"▾\";}#sk-container-id-10 div.sk-estimator input.sk-toggleable__control:checked~label.sk-toggleable__label {background-color: #d4ebff;}#sk-container-id-10 div.sk-label input.sk-toggleable__control:checked~label.sk-toggleable__label {background-color: #d4ebff;}#sk-container-id-10 input.sk-hidden--visually {border: 0;clip: rect(1px 1px 1px 1px);clip: rect(1px, 1px, 1px, 1px);height: 1px;margin: -1px;overflow: hidden;padding: 0;position: absolute;width: 1px;}#sk-container-id-10 div.sk-estimator {font-family: monospace;background-color: #f0f8ff;border: 1px dotted black;border-radius: 0.25em;box-sizing: border-box;margin-bottom: 0.5em;}#sk-container-id-10 div.sk-estimator:hover {background-color: #d4ebff;}#sk-container-id-10 div.sk-parallel-item::after {content: \"\";width: 100%;border-bottom: 1px solid gray;flex-grow: 1;}#sk-container-id-10 div.sk-label:hover label.sk-toggleable__label {background-color: #d4ebff;}#sk-container-id-10 div.sk-serial::before {content: \"\";position: absolute;border-left: 1px solid gray;box-sizing: border-box;top: 0;bottom: 0;left: 50%;z-index: 0;}#sk-container-id-10 div.sk-serial {display: flex;flex-direction: column;align-items: center;background-color: white;padding-right: 0.2em;padding-left: 0.2em;position: relative;}#sk-container-id-10 div.sk-item {position: relative;z-index: 1;}#sk-container-id-10 div.sk-parallel {display: flex;align-items: stretch;justify-content: center;background-color: white;position: relative;}#sk-container-id-10 div.sk-item::before, #sk-container-id-10 div.sk-parallel-item::before {content: \"\";position: absolute;border-left: 1px solid gray;box-sizing: border-box;top: 0;bottom: 0;left: 50%;z-index: -1;}#sk-container-id-10 div.sk-parallel-item {display: flex;flex-direction: column;z-index: 1;position: relative;background-color: white;}#sk-container-id-10 div.sk-parallel-item:first-child::after {align-self: flex-end;width: 50%;}#sk-container-id-10 div.sk-parallel-item:last-child::after {align-self: flex-start;width: 50%;}#sk-container-id-10 div.sk-parallel-item:only-child::after {width: 0;}#sk-container-id-10 div.sk-dashed-wrapped {border: 1px dashed gray;margin: 0 0.4em 0.5em 0.4em;box-sizing: border-box;padding-bottom: 0.4em;background-color: white;}#sk-container-id-10 div.sk-label label {font-family: monospace;font-weight: bold;display: inline-block;line-height: 1.2em;}#sk-container-id-10 div.sk-label-container {text-align: center;}#sk-container-id-10 div.sk-container {/* jupyter's `normalize.less` sets `[hidden] { display: none; }` but bootstrap.min.css set `[hidden] { display: none !important; }` so we also need the `!important` here to be able to override the default hidden behavior on the sphinx rendered scikit-learn.org. See: https://github.com/scikit-learn/scikit-learn/issues/21755 */display: inline-block !important;position: relative;}#sk-container-id-10 div.sk-text-repr-fallback {display: none;}</style><div id=\"sk-container-id-10\" class=\"sk-top-container\"><div class=\"sk-text-repr-fallback\"><pre>SVC(degree=2, kernel=&#x27;poly&#x27;)</pre><b>In a Jupyter environment, please rerun this cell to show the HTML representation or trust the notebook. <br />On GitHub, the HTML representation is unable to render, please try loading this page with nbviewer.org.</b></div><div class=\"sk-container\" hidden><div class=\"sk-item\"><div class=\"sk-estimator sk-toggleable\"><input class=\"sk-toggleable__control sk-hidden--visually\" id=\"sk-estimator-id-10\" type=\"checkbox\" checked><label for=\"sk-estimator-id-10\" class=\"sk-toggleable__label sk-toggleable__label-arrow\">SVC</label><div class=\"sk-toggleable__content\"><pre>SVC(degree=2, kernel=&#x27;poly&#x27;)</pre></div></div></div></div></div>"
      ],
      "text/plain": [
       "SVC(degree=2, kernel='poly')"
      ]
     },
     "execution_count": 67,
     "metadata": {},
     "output_type": "execute_result"
    }
   ],
   "source": [
    "from sklearn.preprocessing import PolynomialFeatures\n",
    "poly_reg = svm.SVC(kernel = \"poly\", degree=2) #vamos a usar una aproximación de grado 3 (x al cubo)\n",
    "poly_reg.fit(tfidf_train, y_train)\n"
   ]
  },
  {
   "cell_type": "code",
   "execution_count": 68,
   "id": "c145f79a",
   "metadata": {},
   "outputs": [
    {
     "data": {
      "text/plain": [
       "0.9433368310598111"
      ]
     },
     "execution_count": 68,
     "metadata": {},
     "output_type": "execute_result"
    }
   ],
   "source": [
    "poly_reg.score(tfidf_test, y_test)"
   ]
  },
  {
   "cell_type": "code",
   "execution_count": 69,
   "id": "35ffd6d7",
   "metadata": {},
   "outputs": [
    {
     "ename": "ValueError",
     "evalue": "X has 2391 features, but SVC is expecting 2800 features as input.",
     "output_type": "error",
     "traceback": [
      "\u001b[1;31m---------------------------------------------------------------------------\u001b[0m",
      "\u001b[1;31mValueError\u001b[0m                                Traceback (most recent call last)",
      "Cell \u001b[1;32mIn[69], line 1\u001b[0m\n\u001b[1;32m----> 1\u001b[0m y_pred \u001b[38;5;241m=\u001b[39m modelo\u001b[38;5;241m.\u001b[39mpredict(tfidf_test) \u001b[38;5;66;03m# Esta es la PREDICCIÓN\u001b[39;00m\n\u001b[0;32m      2\u001b[0m y_pred[:\u001b[38;5;241m13\u001b[39m]\n",
      "File \u001b[1;32m~\\AppData\\Local\\anaconda3\\envs\\CursoIA\\Lib\\site-packages\\sklearn\\svm\\_base.py:820\u001b[0m, in \u001b[0;36mBaseSVC.predict\u001b[1;34m(self, X)\u001b[0m\n\u001b[0;32m    818\u001b[0m     y \u001b[38;5;241m=\u001b[39m np\u001b[38;5;241m.\u001b[39margmax(\u001b[38;5;28mself\u001b[39m\u001b[38;5;241m.\u001b[39mdecision_function(X), axis\u001b[38;5;241m=\u001b[39m\u001b[38;5;241m1\u001b[39m)\n\u001b[0;32m    819\u001b[0m \u001b[38;5;28;01melse\u001b[39;00m:\n\u001b[1;32m--> 820\u001b[0m     y \u001b[38;5;241m=\u001b[39m \u001b[38;5;28msuper\u001b[39m()\u001b[38;5;241m.\u001b[39mpredict(X)\n\u001b[0;32m    821\u001b[0m \u001b[38;5;28;01mreturn\u001b[39;00m \u001b[38;5;28mself\u001b[39m\u001b[38;5;241m.\u001b[39mclasses_\u001b[38;5;241m.\u001b[39mtake(np\u001b[38;5;241m.\u001b[39masarray(y, dtype\u001b[38;5;241m=\u001b[39mnp\u001b[38;5;241m.\u001b[39mintp))\n",
      "File \u001b[1;32m~\\AppData\\Local\\anaconda3\\envs\\CursoIA\\Lib\\site-packages\\sklearn\\svm\\_base.py:433\u001b[0m, in \u001b[0;36mBaseLibSVM.predict\u001b[1;34m(self, X)\u001b[0m\n\u001b[0;32m    417\u001b[0m \u001b[38;5;28;01mdef\u001b[39;00m \u001b[38;5;21mpredict\u001b[39m(\u001b[38;5;28mself\u001b[39m, X):\n\u001b[0;32m    418\u001b[0m \u001b[38;5;250m    \u001b[39m\u001b[38;5;124;03m\"\"\"Perform regression on samples in X.\u001b[39;00m\n\u001b[0;32m    419\u001b[0m \n\u001b[0;32m    420\u001b[0m \u001b[38;5;124;03m    For an one-class model, +1 (inlier) or -1 (outlier) is returned.\u001b[39;00m\n\u001b[1;32m   (...)\u001b[0m\n\u001b[0;32m    431\u001b[0m \u001b[38;5;124;03m        The predicted values.\u001b[39;00m\n\u001b[0;32m    432\u001b[0m \u001b[38;5;124;03m    \"\"\"\u001b[39;00m\n\u001b[1;32m--> 433\u001b[0m     X \u001b[38;5;241m=\u001b[39m \u001b[38;5;28mself\u001b[39m\u001b[38;5;241m.\u001b[39m_validate_for_predict(X)\n\u001b[0;32m    434\u001b[0m     predict \u001b[38;5;241m=\u001b[39m \u001b[38;5;28mself\u001b[39m\u001b[38;5;241m.\u001b[39m_sparse_predict \u001b[38;5;28;01mif\u001b[39;00m \u001b[38;5;28mself\u001b[39m\u001b[38;5;241m.\u001b[39m_sparse \u001b[38;5;28;01melse\u001b[39;00m \u001b[38;5;28mself\u001b[39m\u001b[38;5;241m.\u001b[39m_dense_predict\n\u001b[0;32m    435\u001b[0m     \u001b[38;5;28;01mreturn\u001b[39;00m predict(X)\n",
      "File \u001b[1;32m~\\AppData\\Local\\anaconda3\\envs\\CursoIA\\Lib\\site-packages\\sklearn\\svm\\_base.py:613\u001b[0m, in \u001b[0;36mBaseLibSVM._validate_for_predict\u001b[1;34m(self, X)\u001b[0m\n\u001b[0;32m    610\u001b[0m check_is_fitted(\u001b[38;5;28mself\u001b[39m)\n\u001b[0;32m    612\u001b[0m \u001b[38;5;28;01mif\u001b[39;00m \u001b[38;5;129;01mnot\u001b[39;00m \u001b[38;5;28mcallable\u001b[39m(\u001b[38;5;28mself\u001b[39m\u001b[38;5;241m.\u001b[39mkernel):\n\u001b[1;32m--> 613\u001b[0m     X \u001b[38;5;241m=\u001b[39m \u001b[38;5;28mself\u001b[39m\u001b[38;5;241m.\u001b[39m_validate_data(\n\u001b[0;32m    614\u001b[0m         X,\n\u001b[0;32m    615\u001b[0m         accept_sparse\u001b[38;5;241m=\u001b[39m\u001b[38;5;124m\"\u001b[39m\u001b[38;5;124mcsr\u001b[39m\u001b[38;5;124m\"\u001b[39m,\n\u001b[0;32m    616\u001b[0m         dtype\u001b[38;5;241m=\u001b[39mnp\u001b[38;5;241m.\u001b[39mfloat64,\n\u001b[0;32m    617\u001b[0m         order\u001b[38;5;241m=\u001b[39m\u001b[38;5;124m\"\u001b[39m\u001b[38;5;124mC\u001b[39m\u001b[38;5;124m\"\u001b[39m,\n\u001b[0;32m    618\u001b[0m         accept_large_sparse\u001b[38;5;241m=\u001b[39m\u001b[38;5;28;01mFalse\u001b[39;00m,\n\u001b[0;32m    619\u001b[0m         reset\u001b[38;5;241m=\u001b[39m\u001b[38;5;28;01mFalse\u001b[39;00m,\n\u001b[0;32m    620\u001b[0m     )\n\u001b[0;32m    622\u001b[0m \u001b[38;5;28;01mif\u001b[39;00m \u001b[38;5;28mself\u001b[39m\u001b[38;5;241m.\u001b[39m_sparse \u001b[38;5;129;01mand\u001b[39;00m \u001b[38;5;129;01mnot\u001b[39;00m sp\u001b[38;5;241m.\u001b[39misspmatrix(X):\n\u001b[0;32m    623\u001b[0m     X \u001b[38;5;241m=\u001b[39m sp\u001b[38;5;241m.\u001b[39mcsr_matrix(X)\n",
      "File \u001b[1;32m~\\AppData\\Local\\anaconda3\\envs\\CursoIA\\Lib\\site-packages\\sklearn\\base.py:588\u001b[0m, in \u001b[0;36mBaseEstimator._validate_data\u001b[1;34m(self, X, y, reset, validate_separately, **check_params)\u001b[0m\n\u001b[0;32m    585\u001b[0m     out \u001b[38;5;241m=\u001b[39m X, y\n\u001b[0;32m    587\u001b[0m \u001b[38;5;28;01mif\u001b[39;00m \u001b[38;5;129;01mnot\u001b[39;00m no_val_X \u001b[38;5;129;01mand\u001b[39;00m check_params\u001b[38;5;241m.\u001b[39mget(\u001b[38;5;124m\"\u001b[39m\u001b[38;5;124mensure_2d\u001b[39m\u001b[38;5;124m\"\u001b[39m, \u001b[38;5;28;01mTrue\u001b[39;00m):\n\u001b[1;32m--> 588\u001b[0m     \u001b[38;5;28mself\u001b[39m\u001b[38;5;241m.\u001b[39m_check_n_features(X, reset\u001b[38;5;241m=\u001b[39mreset)\n\u001b[0;32m    590\u001b[0m \u001b[38;5;28;01mreturn\u001b[39;00m out\n",
      "File \u001b[1;32m~\\AppData\\Local\\anaconda3\\envs\\CursoIA\\Lib\\site-packages\\sklearn\\base.py:389\u001b[0m, in \u001b[0;36mBaseEstimator._check_n_features\u001b[1;34m(self, X, reset)\u001b[0m\n\u001b[0;32m    386\u001b[0m     \u001b[38;5;28;01mreturn\u001b[39;00m\n\u001b[0;32m    388\u001b[0m \u001b[38;5;28;01mif\u001b[39;00m n_features \u001b[38;5;241m!=\u001b[39m \u001b[38;5;28mself\u001b[39m\u001b[38;5;241m.\u001b[39mn_features_in_:\n\u001b[1;32m--> 389\u001b[0m     \u001b[38;5;28;01mraise\u001b[39;00m \u001b[38;5;167;01mValueError\u001b[39;00m(\n\u001b[0;32m    390\u001b[0m         \u001b[38;5;124mf\u001b[39m\u001b[38;5;124m\"\u001b[39m\u001b[38;5;124mX has \u001b[39m\u001b[38;5;132;01m{\u001b[39;00mn_features\u001b[38;5;132;01m}\u001b[39;00m\u001b[38;5;124m features, but \u001b[39m\u001b[38;5;132;01m{\u001b[39;00m\u001b[38;5;28mself\u001b[39m\u001b[38;5;241m.\u001b[39m\u001b[38;5;18m__class__\u001b[39m\u001b[38;5;241m.\u001b[39m\u001b[38;5;18m__name__\u001b[39m\u001b[38;5;132;01m}\u001b[39;00m\u001b[38;5;124m \u001b[39m\u001b[38;5;124m\"\u001b[39m\n\u001b[0;32m    391\u001b[0m         \u001b[38;5;124mf\u001b[39m\u001b[38;5;124m\"\u001b[39m\u001b[38;5;124mis expecting \u001b[39m\u001b[38;5;132;01m{\u001b[39;00m\u001b[38;5;28mself\u001b[39m\u001b[38;5;241m.\u001b[39mn_features_in_\u001b[38;5;132;01m}\u001b[39;00m\u001b[38;5;124m features as input.\u001b[39m\u001b[38;5;124m\"\u001b[39m\n\u001b[0;32m    392\u001b[0m     )\n",
      "\u001b[1;31mValueError\u001b[0m: X has 2391 features, but SVC is expecting 2800 features as input."
     ]
    }
   ],
   "source": [
    "y_pred = modelo.predict(tfidf_test) # Esta es la PREDICCIÓN\n",
    "y_pred[:13]"
   ]
  },
  {
   "cell_type": "code",
   "execution_count": 70,
   "id": "b7ef157d",
   "metadata": {},
   "outputs": [
    {
     "data": {
      "text/plain": [
       "array(['BillGates', 'BillGates', 'elonmusk', 'elonmusk', 'elonmusk',\n",
       "       'elonmusk', 'BillGates', 'BillGates', 'elonmusk', 'elonmusk',\n",
       "       'BillGates', 'BillGates', 'BillGates'], dtype=object)"
      ]
     },
     "execution_count": 70,
     "metadata": {},
     "output_type": "execute_result"
    }
   ],
   "source": [
    "y_test.values[:13] # Esta es la REALIDAD"
   ]
  },
  {
   "cell_type": "code",
   "execution_count": 78,
   "id": "eaa885de",
   "metadata": {},
   "outputs": [
    {
     "ename": "NameError",
     "evalue": "name 'tfdft_train' is not defined",
     "output_type": "error",
     "traceback": [
      "\u001b[1;31m---------------------------------------------------------------------------\u001b[0m",
      "\u001b[1;31mNameError\u001b[0m                                 Traceback (most recent call last)",
      "Cell \u001b[1;32mIn[78], line 7\u001b[0m\n\u001b[0;32m      5\u001b[0m \u001b[38;5;28;01mfor\u001b[39;00m degree \u001b[38;5;129;01min\u001b[39;00m degrees:\n\u001b[0;32m      6\u001b[0m     model \u001b[38;5;241m=\u001b[39m SVC(kernel \u001b[38;5;241m=\u001b[39m \u001b[38;5;124m\"\u001b[39m\u001b[38;5;124mpoly\u001b[39m\u001b[38;5;124m\"\u001b[39m, degree \u001b[38;5;241m=\u001b[39m degree)\n\u001b[1;32m----> 7\u001b[0m     model\u001b[38;5;241m.\u001b[39mfit(tfdft_train, y1_train)\n\u001b[0;32m      8\u001b[0m     accurac \u001b[38;5;241m=\u001b[39m _model\u001b[38;5;241m.\u001b[39mscore(tfdf_test, y_test)\n\u001b[0;32m      9\u001b[0m     \u001b[38;5;28mprint\u001b[39m(\u001b[38;5;124mf\u001b[39m\u001b[38;5;124m\"\u001b[39m\u001b[38;5;124mGrado = \u001b[39m\u001b[38;5;132;01m{\u001b[39;00mdegree\u001b[38;5;132;01m}\u001b[39;00m\u001b[38;5;124m, Preccisión = \u001b[39m\u001b[38;5;132;01m{\u001b[39;00maccuracy\u001b[38;5;132;01m}\u001b[39;00m\u001b[38;5;124m\"\u001b[39m)\n",
      "\u001b[1;31mNameError\u001b[0m: name 'tfdft_train' is not defined"
     ]
    }
   ],
   "source": [
    "from sklearn.svm import SVC\n",
    "import matplotlib.pyplot as plt\n",
    "degrees = [1, 2, 3]\n",
    "\n",
    "for degree in degrees:\n",
    "    model = SVC(kernel = \"poly\", degree = degree)\n",
    "    model.fit(tfdft_train, y1_train)\n",
    "    accurac = _model.score(tfdf_test, y_test)\n",
    "    print(f\"Grado = {degree}, Preccisión = {accuracy}\")"
   ]
  },
  {
   "cell_type": "code",
   "execution_count": null,
   "id": "d501c093",
   "metadata": {},
   "outputs": [],
   "source": []
  }
 ],
 "metadata": {
  "kernelspec": {
   "display_name": "Python 3 (ipykernel)",
   "language": "python",
   "name": "python3"
  },
  "language_info": {
   "codemirror_mode": {
    "name": "ipython",
    "version": 3
   },
   "file_extension": ".py",
   "mimetype": "text/x-python",
   "name": "python",
   "nbconvert_exporter": "python",
   "pygments_lexer": "ipython3",
   "version": "3.11.3"
  }
 },
 "nbformat": 4,
 "nbformat_minor": 5
}
