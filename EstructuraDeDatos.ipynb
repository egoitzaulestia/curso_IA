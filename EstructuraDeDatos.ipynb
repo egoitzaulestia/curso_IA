{
 "cells": [
  {
   "cell_type": "code",
   "execution_count": 1,
   "id": "69850aae",
   "metadata": {},
   "outputs": [],
   "source": [
    "lv = [] # lista vacía"
   ]
  },
  {
   "cell_type": "code",
   "execution_count": 2,
   "id": "4d7e536c",
   "metadata": {},
   "outputs": [],
   "source": [
    "ll = [\"a\", \"b\", \"c\"] # lista de letras"
   ]
  },
  {
   "cell_type": "code",
   "execution_count": 3,
   "id": "285bb62a",
   "metadata": {},
   "outputs": [],
   "source": [
    "ln = [1, 2, 3] # lista de números"
   ]
  },
  {
   "cell_type": "code",
   "execution_count": 4,
   "id": "cdbcbbfc",
   "metadata": {},
   "outputs": [
    {
     "data": {
      "text/plain": [
       "'a'"
      ]
     },
     "execution_count": 4,
     "metadata": {},
     "output_type": "execute_result"
    }
   ],
   "source": [
    "ll[0] # acceder a elementos de la lista"
   ]
  },
  {
   "cell_type": "code",
   "execution_count": 5,
   "id": "0a3a5c21",
   "metadata": {},
   "outputs": [
    {
     "data": {
      "text/plain": [
       "['x', 'b', 'c']"
      ]
     },
     "execution_count": 5,
     "metadata": {},
     "output_type": "execute_result"
    }
   ],
   "source": [
    "ll[0] = \"x\" # modificas elementos de la lista\n",
    "ll"
   ]
  },
  {
   "cell_type": "code",
   "execution_count": 6,
   "id": "7a9e6236",
   "metadata": {},
   "outputs": [
    {
     "data": {
      "text/plain": [
       "['x', 'b']"
      ]
     },
     "execution_count": 6,
     "metadata": {},
     "output_type": "execute_result"
    }
   ],
   "source": [
    "ll[0:2] # cige posiciones 0 y 1, pero no la 2"
   ]
  },
  {
   "cell_type": "markdown",
   "id": "f4f39ca0",
   "metadata": {},
   "source": [
    "# Ejercicio 1\n",
    "\n",
    "Crear una lista de 10 elementos y cambiar con una sentencia los elementos de las posiciones 2, 3 y 4"
   ]
  },
  {
   "cell_type": "code",
   "execution_count": 14,
   "id": "d080457b",
   "metadata": {},
   "outputs": [
    {
     "name": "stdout",
     "output_type": "stream",
     "text": [
      "[1, 'a', 56, 3, 'hola', 'x', 89, 2, 4, 'b']\n"
     ]
    }
   ],
   "source": [
    "li = [1, \"a\", 56, 3, \"hola\", \"x\", 89, 2, 4, \"b\"] # Creamos una lista con 10 elementos\n",
    "print(li) # imprimimos lista"
   ]
  },
  {
   "cell_type": "code",
   "execution_count": 15,
   "id": "5675ebf8",
   "metadata": {},
   "outputs": [],
   "source": [
    "# Cambiamos las posicones 2, 3 y 4 \n",
    "li[2] = \"caracola\"\n",
    "li[3] = \"g\"\n",
    "li[4] = \"society\""
   ]
  },
  {
   "cell_type": "code",
   "execution_count": 16,
   "id": "fb13cd85",
   "metadata": {},
   "outputs": [
    {
     "name": "stdout",
     "output_type": "stream",
     "text": [
      "[1, 'a', 'caracola', 'g', 'society', 'x', 89, 2, 4, 'b']\n"
     ]
    }
   ],
   "source": [
    "print(li)"
   ]
  },
  {
   "cell_type": "code",
   "execution_count": 17,
   "id": "ec14eb00",
   "metadata": {},
   "outputs": [],
   "source": [
    "li2 = [\"hello\", \"world\", \"boom\"] # Creamos una lista para añadir todo a la vez"
   ]
  },
  {
   "cell_type": "code",
   "execution_count": 18,
   "id": "fc6a88d4",
   "metadata": {},
   "outputs": [],
   "source": [
    "li[2:5] = li2"
   ]
  },
  {
   "cell_type": "code",
   "execution_count": 19,
   "id": "f2aba38f",
   "metadata": {},
   "outputs": [
    {
     "name": "stdout",
     "output_type": "stream",
     "text": [
      "['hello', 'world', 'boom']\n"
     ]
    }
   ],
   "source": [
    "print(li2)"
   ]
  },
  {
   "cell_type": "code",
   "execution_count": 20,
   "id": "a5a627cf",
   "metadata": {},
   "outputs": [
    {
     "name": "stdout",
     "output_type": "stream",
     "text": [
      "[1, 'a', 'hello', 'world', 'boom', 'x', 89, 2, 4, 'b']\n"
     ]
    }
   ],
   "source": [
    "print(li)"
   ]
  },
  {
   "cell_type": "code",
   "execution_count": 24,
   "id": "488e37d2",
   "metadata": {},
   "outputs": [],
   "source": [
    "lnum = [1, 2, 3, 4, 2, 5]"
   ]
  },
  {
   "cell_type": "code",
   "execution_count": 25,
   "id": "a1d93e98",
   "metadata": {},
   "outputs": [],
   "source": [
    "lnum.append(6)"
   ]
  },
  {
   "cell_type": "code",
   "execution_count": 26,
   "id": "023e6792",
   "metadata": {},
   "outputs": [
    {
     "data": {
      "text/plain": [
       "[1, 2, 3, 4, 2, 5, 6]"
      ]
     },
     "execution_count": 26,
     "metadata": {},
     "output_type": "execute_result"
    }
   ],
   "source": [
    "lnum"
   ]
  },
  {
   "cell_type": "code",
   "execution_count": 27,
   "id": "24921d13",
   "metadata": {},
   "outputs": [],
   "source": [
    "lnum.remove(2)"
   ]
  },
  {
   "cell_type": "code",
   "execution_count": 28,
   "id": "2d4d8968",
   "metadata": {},
   "outputs": [
    {
     "data": {
      "text/plain": [
       "[1, 3, 4, 2, 5, 6]"
      ]
     },
     "execution_count": 28,
     "metadata": {},
     "output_type": "execute_result"
    }
   ],
   "source": [
    "lnum"
   ]
  },
  {
   "cell_type": "code",
   "execution_count": 29,
   "id": "6314feca",
   "metadata": {},
   "outputs": [
    {
     "name": "stdout",
     "output_type": "stream",
     "text": [
      "escribe 3 números separados por comas: 2,5,6\n",
      "2,5,6\n",
      "['2', '5', '6']\n"
     ]
    }
   ],
   "source": [
    "nums = input(\"escribe 3 números separados por comas: \")\n",
    "print(nums)\n",
    "listaNums = nums.split(\",\") # Utilizamos la función split para separar el string y crear asi una lista\n",
    "print(listaNums)"
   ]
  },
  {
   "cell_type": "code",
   "execution_count": 30,
   "id": "740f6436",
   "metadata": {},
   "outputs": [],
   "source": [
    "lnum = [1, 2, 3, 4, 5, 6]"
   ]
  },
  {
   "cell_type": "code",
   "execution_count": 37,
   "id": "fee8f0d8",
   "metadata": {},
   "outputs": [
    {
     "data": {
      "text/plain": [
       "6"
      ]
     },
     "execution_count": 37,
     "metadata": {},
     "output_type": "execute_result"
    }
   ],
   "source": [
    "len(lnum) # Longitud de la lista, número de elementos"
   ]
  },
  {
   "cell_type": "code",
   "execution_count": 38,
   "id": "8ba9a6c7",
   "metadata": {},
   "outputs": [
    {
     "data": {
      "text/plain": [
       "[2, 4, 6]"
      ]
     },
     "execution_count": 38,
     "metadata": {},
     "output_type": "execute_result"
    }
   ],
   "source": [
    "lnum[1::2] # Elemntos en posiciones paras"
   ]
  },
  {
   "cell_type": "code",
   "execution_count": 39,
   "id": "445860e5",
   "metadata": {},
   "outputs": [
    {
     "data": {
      "text/plain": [
       "[1, 3, 5]"
      ]
     },
     "execution_count": 39,
     "metadata": {},
     "output_type": "execute_result"
    }
   ],
   "source": [
    "lnum[::2] # Elementos en posiciones impares"
   ]
  },
  {
   "cell_type": "code",
   "execution_count": 40,
   "id": "bd8de0a7",
   "metadata": {},
   "outputs": [
    {
     "data": {
      "text/plain": [
       "False"
      ]
     },
     "execution_count": 40,
     "metadata": {},
     "output_type": "execute_result"
    }
   ],
   "source": [
    "9 in lnum"
   ]
  },
  {
   "cell_type": "code",
   "execution_count": 41,
   "id": "9b0d78b1",
   "metadata": {},
   "outputs": [
    {
     "data": {
      "text/plain": [
       "True"
      ]
     },
     "execution_count": 41,
     "metadata": {},
     "output_type": "execute_result"
    }
   ],
   "source": [
    "2 in lnum"
   ]
  },
  {
   "cell_type": "markdown",
   "id": "a03ec30a",
   "metadata": {},
   "source": [
    "# Bucle FOR"
   ]
  },
  {
   "cell_type": "code",
   "execution_count": 42,
   "id": "beaf41ff",
   "metadata": {},
   "outputs": [
    {
     "name": "stdout",
     "output_type": "stream",
     "text": [
      "apple\n",
      "banana\n",
      "cherry\n"
     ]
    }
   ],
   "source": [
    "fruits = [\"apple\", \"banana\", \"cherry\"]\n",
    "for x in fruits:\n",
    "    print(x)"
   ]
  },
  {
   "cell_type": "code",
   "execution_count": 43,
   "id": "e6ebec1e",
   "metadata": {},
   "outputs": [
    {
     "name": "stdout",
     "output_type": "stream",
     "text": [
      "b\n",
      "a\n",
      "n\n",
      "a\n",
      "n\n",
      "a\n"
     ]
    }
   ],
   "source": [
    "for x in \"banana\":\n",
    "    print(x)"
   ]
  },
  {
   "cell_type": "code",
   "execution_count": 44,
   "id": "572ca54b",
   "metadata": {},
   "outputs": [
    {
     "name": "stdout",
     "output_type": "stream",
     "text": [
      "apple\n",
      "banana\n"
     ]
    }
   ],
   "source": [
    "fruits = [\"apple\", \"banana\", \"cherry\"]\n",
    "for x in fruits:\n",
    "    print(x)\n",
    "    if x == \"banana\":\n",
    "        break"
   ]
  },
  {
   "cell_type": "code",
   "execution_count": 48,
   "id": "7c635461",
   "metadata": {},
   "outputs": [
    {
     "name": "stdout",
     "output_type": "stream",
     "text": [
      "apple\n"
     ]
    }
   ],
   "source": [
    "fruits = [\"apple\", \"banana\", \"cherry\"]\n",
    "for x in fruits:\n",
    "    if x == \"banana\":\n",
    "        break\n",
    "    print(x) "
   ]
  },
  {
   "cell_type": "code",
   "execution_count": 50,
   "id": "93bf6c12",
   "metadata": {},
   "outputs": [
    {
     "name": "stdout",
     "output_type": "stream",
     "text": [
      "red apple\n",
      "red banana\n",
      "red cherry\n",
      "big apple\n",
      "big banana\n",
      "big cherry\n",
      "tasty apple\n",
      "tasty banana\n",
      "tasty cherry\n"
     ]
    }
   ],
   "source": [
    "# Recorremos 2 listas\n",
    "\n",
    "adj = [\"red\", \"big\", \"tasty\"]\n",
    "fruits = [\"apple\", \"banana\", \"cherry\"]\n",
    "\n",
    "for x in adj:\n",
    "    for y in fruits:\n",
    "        print(x, y)"
   ]
  },
  {
   "cell_type": "code",
   "execution_count": 51,
   "id": "2269bc40",
   "metadata": {},
   "outputs": [
    {
     "name": "stdout",
     "output_type": "stream",
     "text": [
      "6.0\n"
     ]
    }
   ],
   "source": [
    "# Ejemplo\n",
    "notas = [5, 6, 8, 9, 2]\n",
    "suma = 0\n",
    "for nota in notas:\n",
    "    suma = suma + nota\n",
    "notaMedia = suma / len(notas)\n",
    "print(notaMedia)"
   ]
  },
  {
   "cell_type": "code",
   "execution_count": 53,
   "id": "34630b80",
   "metadata": {},
   "outputs": [
    {
     "name": "stdout",
     "output_type": "stream",
     "text": [
      "0 5\n",
      "1 6\n",
      "2 8\n",
      "3 9\n",
      "4 2\n"
     ]
    }
   ],
   "source": [
    "# Acceder al elemento y a su posición, añadimos la variable index (idx) usar la función enumerate\n",
    "for idx, nota in enumerate(notas):\n",
    "    print(idx, nota)"
   ]
  },
  {
   "cell_type": "code",
   "execution_count": 55,
   "id": "69454c56",
   "metadata": {},
   "outputs": [
    {
     "name": "stdout",
     "output_type": "stream",
     "text": [
      "0\n",
      "1\n",
      "2\n",
      "3\n",
      "4\n",
      "5\n"
     ]
    }
   ],
   "source": [
    "for x in range(0,6):\n",
    "    print(x)"
   ]
  },
  {
   "cell_type": "markdown",
   "id": "a9f18890",
   "metadata": {},
   "source": [
    "# Bucle WHILE\n",
    "\n",
    "El bucle se ejecuta mientras la condición sea cierta. (MIRARLO por nuestra cuenta)"
   ]
  },
  {
   "cell_type": "markdown",
   "id": "1cf605c3",
   "metadata": {},
   "source": [
    "# TUPLAS"
   ]
  },
  {
   "cell_type": "code",
   "execution_count": 56,
   "id": "c53d8b8a",
   "metadata": {},
   "outputs": [
    {
     "data": {
      "text/plain": [
       "(5, 7, 4)"
      ]
     },
     "execution_count": 56,
     "metadata": {},
     "output_type": "execute_result"
    }
   ],
   "source": [
    "tuplaNotas = (5, 7, 4) # elementos entre paréntesis\n",
    "tuplaNotas\n"
   ]
  },
  {
   "cell_type": "code",
   "execution_count": 57,
   "id": "c3dda928",
   "metadata": {},
   "outputs": [
    {
     "data": {
      "text/plain": [
       "[5, 7, 4]"
      ]
     },
     "execution_count": 57,
     "metadata": {},
     "output_type": "execute_result"
    }
   ],
   "source": [
    "listaNotas = list(tuplaNotas) # para pasar una tupla a lista\n",
    "listaNotas"
   ]
  },
  {
   "cell_type": "code",
   "execution_count": 58,
   "id": "04065b83",
   "metadata": {},
   "outputs": [
    {
     "data": {
      "text/plain": [
       "(5, 7, 4)"
      ]
     },
     "execution_count": 58,
     "metadata": {},
     "output_type": "execute_result"
    }
   ],
   "source": [
    "tupNotas = tuple(listaNotas) # para pasar una lista a tupla\n",
    "tupNotas"
   ]
  },
  {
   "cell_type": "markdown",
   "id": "6c7555f2",
   "metadata": {},
   "source": [
    "# DICCIONARIOS\n",
    "\n",
    "Son colecciones no ordenandas de pares de datos: clave-valer. No se indexa por posición, se indexa por .... que se ordenan por clave-valor y se indexan por clave"
   ]
  },
  {
   "cell_type": "code",
   "execution_count": 3,
   "id": "2879cabe",
   "metadata": {},
   "outputs": [
    {
     "name": "stdout",
     "output_type": "stream",
     "text": [
      "{'Juan': 5.4, 'Pedro': 9.2, 'Alex': 7.6}\n"
     ]
    }
   ],
   "source": [
    "dicNotas = { \n",
    "    \"Juan\": 5.4,\n",
    "    \"Pedro\": 9.2,\n",
    "    \"Alex\": 7.6\n",
    "} \n",
    "print(dicNotas)"
   ]
  },
  {
   "cell_type": "code",
   "execution_count": 4,
   "id": "a84d7c36",
   "metadata": {},
   "outputs": [
    {
     "data": {
      "text/plain": [
       "9.2"
      ]
     },
     "execution_count": 4,
     "metadata": {},
     "output_type": "execute_result"
    }
   ],
   "source": [
    "dicNotas[\"Pedro\"] # Acccedemos a la nota de Pedro"
   ]
  },
  {
   "cell_type": "code",
   "execution_count": 5,
   "id": "b4011ae6",
   "metadata": {},
   "outputs": [
    {
     "data": {
      "text/plain": [
       "{'Juan': 5.4, 'Pedro': 6.7, 'Alex': 7.6}"
      ]
     },
     "execution_count": 5,
     "metadata": {},
     "output_type": "execute_result"
    }
   ],
   "source": [
    "dicNotas[\"Pedro\"] = 6.7 # Modificamos la nota Pedro\n",
    "dicNotas"
   ]
  },
  {
   "cell_type": "code",
   "execution_count": 6,
   "id": "3c06b618",
   "metadata": {},
   "outputs": [
    {
     "data": {
      "text/plain": [
       "dict_keys(['Juan', 'Pedro', 'Alex'])"
      ]
     },
     "execution_count": 6,
     "metadata": {},
     "output_type": "execute_result"
    }
   ],
   "source": [
    "dicNotas.keys()"
   ]
  },
  {
   "cell_type": "code",
   "execution_count": 7,
   "id": "5e641ec3",
   "metadata": {},
   "outputs": [
    {
     "data": {
      "text/plain": [
       "dict_values([5.4, 6.7, 7.6])"
      ]
     },
     "execution_count": 7,
     "metadata": {},
     "output_type": "execute_result"
    }
   ],
   "source": [
    "dicNotas.values() # Para obtener los valores"
   ]
  },
  {
   "cell_type": "code",
   "execution_count": 8,
   "id": "4804a14e",
   "metadata": {},
   "outputs": [
    {
     "data": {
      "text/plain": [
       "3"
      ]
     },
     "execution_count": 8,
     "metadata": {},
     "output_type": "execute_result"
    }
   ],
   "source": [
    "len(dicNotas)"
   ]
  },
  {
   "cell_type": "code",
   "execution_count": 9,
   "id": "49c963a4",
   "metadata": {},
   "outputs": [
    {
     "data": {
      "text/plain": [
       "{'Juan': 5.4, 'Alex': 7.6}"
      ]
     },
     "execution_count": 9,
     "metadata": {},
     "output_type": "execute_result"
    }
   ],
   "source": [
    "del dicNotas[\"Pedro\"] # Eliminamos la clave-\n",
    "dicNotas"
   ]
  },
  {
   "cell_type": "code",
   "execution_count": 10,
   "id": "5adb1497",
   "metadata": {},
   "outputs": [],
   "source": [
    "dicNotas.update({\"Jaun\": 3.4})"
   ]
  },
  {
   "cell_type": "code",
   "execution_count": 11,
   "id": "57711334",
   "metadata": {},
   "outputs": [
    {
     "data": {
      "text/plain": [
       "{'Juan': 5.4, 'Alex': 7.6, 'Jaun': 3.4}"
      ]
     },
     "execution_count": 11,
     "metadata": {},
     "output_type": "execute_result"
    }
   ],
   "source": [
    "dicNotas"
   ]
  },
  {
   "cell_type": "code",
   "execution_count": null,
   "id": "f90939eb",
   "metadata": {},
   "outputs": [],
   "source": []
  }
 ],
 "metadata": {
  "kernelspec": {
   "display_name": "Python 3 (ipykernel)",
   "language": "python",
   "name": "python3"
  },
  "language_info": {
   "codemirror_mode": {
    "name": "ipython",
    "version": 3
   },
   "file_extension": ".py",
   "mimetype": "text/x-python",
   "name": "python",
   "nbconvert_exporter": "python",
   "pygments_lexer": "ipython3",
   "version": "3.11.3"
  }
 },
 "nbformat": 4,
 "nbformat_minor": 5
}
