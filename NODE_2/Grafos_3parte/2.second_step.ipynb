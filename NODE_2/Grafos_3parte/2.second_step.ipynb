{
 "cells": [
  {
   "cell_type": "markdown",
   "id": "34bda9d0-75f7-40a5-95da-0e3d3f5cc261",
   "metadata": {},
   "source": [
    "https://notebook.community/versae/DH2304/class19<br>\n",
    "https://www.adamsmith.haus/python/examples/5200/networkx-add-node-attributes<br>\n",
    "En este notebook se quier añadir atributos a los nodos<br>\n"
   ]
  },
  {
   "cell_type": "code",
   "execution_count": 9,
   "id": "2a3406c5-ed6b-4915-b821-1d13b361441e",
   "metadata": {},
   "outputs": [],
   "source": [
    "import numpy as np\n",
    "import random\n",
    "import networkx as nx\n",
    "from IPython.display import Image\n",
    "import matplotlib.pyplot as plt"
   ]
  },
  {
   "cell_type": "code",
   "execution_count": 10,
   "id": "fe86a9de-c2cf-4399-89c6-d803e24772bd",
   "metadata": {},
   "outputs": [],
   "source": [
    "# Load the graph\n",
    "G_karate = nx.karate_club_graph()"
   ]
  },
  {
   "cell_type": "code",
   "execution_count": 11,
   "id": "7b637cf3-1c62-4c9e-949f-ac3e72000dcd",
   "metadata": {
    "scrolled": true
   },
   "outputs": [
    {
     "data": {
      "text/plain": [
       "NodeView((0, 1, 2, 3, 4, 5, 6, 7, 8, 9, 10, 11, 12, 13, 14, 15, 16, 17, 18, 19, 20, 21, 22, 23, 24, 25, 26, 27, 28, 29, 30, 31, 32, 33))"
      ]
     },
     "execution_count": 11,
     "metadata": {},
     "output_type": "execute_result"
    }
   ],
   "source": [
    "G_karate.nodes()"
   ]
  },
  {
   "cell_type": "code",
   "execution_count": 12,
   "id": "440f49a2-bb0c-4c22-a417-e28a10a90aa0",
   "metadata": {},
   "outputs": [
    {
     "data": {
      "text/plain": [
       "EdgeView([(0, 1), (0, 2), (0, 3), (0, 4), (0, 5), (0, 6), (0, 7), (0, 8), (0, 10), (0, 11), (0, 12), (0, 13), (0, 17), (0, 19), (0, 21), (0, 31), (1, 2), (1, 3), (1, 7), (1, 13), (1, 17), (1, 19), (1, 21), (1, 30), (2, 3), (2, 7), (2, 8), (2, 9), (2, 13), (2, 27), (2, 28), (2, 32), (3, 7), (3, 12), (3, 13), (4, 6), (4, 10), (5, 6), (5, 10), (5, 16), (6, 16), (8, 30), (8, 32), (8, 33), (9, 33), (13, 33), (14, 32), (14, 33), (15, 32), (15, 33), (18, 32), (18, 33), (19, 33), (20, 32), (20, 33), (22, 32), (22, 33), (23, 25), (23, 27), (23, 29), (23, 32), (23, 33), (24, 25), (24, 27), (24, 31), (25, 31), (26, 29), (26, 33), (27, 33), (28, 31), (28, 33), (29, 32), (29, 33), (30, 32), (30, 33), (31, 32), (31, 33), (32, 33)])"
      ]
     },
     "execution_count": 12,
     "metadata": {},
     "output_type": "execute_result"
    }
   ],
   "source": [
    "G_karate.edges()"
   ]
  },
  {
   "cell_type": "code",
   "execution_count": 13,
   "id": "529102c4-c8da-4806-8385-82e1fa4df9e8",
   "metadata": {},
   "outputs": [
    {
     "ename": "AttributeError",
     "evalue": "'Graph' object has no attribute 'node'",
     "output_type": "error",
     "traceback": [
      "\u001b[0;31m---------------------------------------------------------------------------\u001b[0m",
      "\u001b[0;31mAttributeError\u001b[0m                            Traceback (most recent call last)",
      "Cell \u001b[0;32mIn[13], line 2\u001b[0m\n\u001b[1;32m      1\u001b[0m \u001b[38;5;28;01mfor\u001b[39;00m n \u001b[38;5;129;01min\u001b[39;00m G_karate\u001b[38;5;241m.\u001b[39mnodes():\n\u001b[0;32m----> 2\u001b[0m     \u001b[43mG_karate\u001b[49m\u001b[38;5;241;43m.\u001b[39;49m\u001b[43mnode\u001b[49m[n][\u001b[38;5;124m'\u001b[39m\u001b[38;5;124mNew_atribute\u001b[39m\u001b[38;5;124m'\u001b[39m]\u001b[38;5;241m=\u001b[39m\u001b[38;5;124m'\u001b[39m\u001b[38;5;124mactivo\u001b[39m\u001b[38;5;124m'\u001b[39m\n",
      "\u001b[0;31mAttributeError\u001b[0m: 'Graph' object has no attribute 'node'"
     ]
    }
   ],
   "source": [
    "for n in G_karate.nodes():\n",
    "    G_karate.node[n]['New_atribute']='activo'"
   ]
  },
  {
   "cell_type": "markdown",
   "id": "b77b0bdc-a06e-4cf4-968d-a6b2f7c499c5",
   "metadata": {},
   "source": [
    "If you are using NetworkX 2.4, use G.nodes[] instead of G.node[]. The latter attribute is deprecated. See the release notes."
   ]
  },
  {
   "cell_type": "code",
   "execution_count": 14,
   "id": "f72f0d32-a88d-4994-8078-52a11cc216e3",
   "metadata": {},
   "outputs": [
    {
     "data": {
      "text/plain": [
       "{0: {'club': 'Mr. Hi', 'New_atribute': 'activo'},\n",
       " 1: {'club': 'Mr. Hi', 'New_atribute': 'activo'},\n",
       " 2: {'club': 'Mr. Hi', 'New_atribute': 'activo'},\n",
       " 3: {'club': 'Mr. Hi', 'New_atribute': 'activo'},\n",
       " 4: {'club': 'Mr. Hi', 'New_atribute': 'activo'},\n",
       " 5: {'club': 'Mr. Hi', 'New_atribute': 'activo'},\n",
       " 6: {'club': 'Mr. Hi', 'New_atribute': 'activo'},\n",
       " 7: {'club': 'Mr. Hi', 'New_atribute': 'activo'},\n",
       " 8: {'club': 'Mr. Hi', 'New_atribute': 'activo'},\n",
       " 9: {'club': 'Officer', 'New_atribute': 'activo'},\n",
       " 10: {'club': 'Mr. Hi', 'New_atribute': 'activo'},\n",
       " 11: {'club': 'Mr. Hi', 'New_atribute': 'activo'},\n",
       " 12: {'club': 'Mr. Hi', 'New_atribute': 'activo'},\n",
       " 13: {'club': 'Mr. Hi', 'New_atribute': 'activo'},\n",
       " 14: {'club': 'Officer', 'New_atribute': 'activo'},\n",
       " 15: {'club': 'Officer', 'New_atribute': 'activo'},\n",
       " 16: {'club': 'Mr. Hi', 'New_atribute': 'activo'},\n",
       " 17: {'club': 'Mr. Hi', 'New_atribute': 'activo'},\n",
       " 18: {'club': 'Officer', 'New_atribute': 'activo'},\n",
       " 19: {'club': 'Mr. Hi', 'New_atribute': 'activo'},\n",
       " 20: {'club': 'Officer', 'New_atribute': 'activo'},\n",
       " 21: {'club': 'Mr. Hi', 'New_atribute': 'activo'},\n",
       " 22: {'club': 'Officer', 'New_atribute': 'activo'},\n",
       " 23: {'club': 'Officer', 'New_atribute': 'activo'},\n",
       " 24: {'club': 'Officer', 'New_atribute': 'activo'},\n",
       " 25: {'club': 'Officer', 'New_atribute': 'activo'},\n",
       " 26: {'club': 'Officer', 'New_atribute': 'activo'},\n",
       " 27: {'club': 'Officer', 'New_atribute': 'activo'},\n",
       " 28: {'club': 'Officer', 'New_atribute': 'activo'},\n",
       " 29: {'club': 'Officer', 'New_atribute': 'activo'},\n",
       " 30: {'club': 'Officer', 'New_atribute': 'activo'},\n",
       " 31: {'club': 'Officer', 'New_atribute': 'activo'},\n",
       " 32: {'club': 'Officer', 'New_atribute': 'activo'},\n",
       " 33: {'club': 'Officer', 'New_atribute': 'activo'}}"
      ]
     },
     "execution_count": 14,
     "metadata": {},
     "output_type": "execute_result"
    }
   ],
   "source": [
    "for n in G_karate.nodes():\n",
    "    G_karate.nodes[n]['New_atribute']='activo'\n",
    "node_descript = dict(G_karate.nodes(data=True))\n",
    "node_descript"
   ]
  },
  {
   "cell_type": "code",
   "execution_count": 15,
   "id": "bfb74eab-d218-45c2-8295-af0b978ccaf4",
   "metadata": {},
   "outputs": [
    {
     "data": {
      "text/plain": [
       "{0: {'club': 'Mr. Hi', 'New_atribute': 'activo'},\n",
       " 1: {'club': 'Mr. Hi', 'New_atribute': 'activo'},\n",
       " 2: {'club': 'Mr. Hi', 'New_atribute': 'activo'},\n",
       " 3: {'club': 'Mr. Hi', 'New_atribute': 'activo'},\n",
       " 4: {'club': 'Mr. Hi', 'New_atribute': 'activo'},\n",
       " 5: {'club': 'Mr. Hi', 'New_atribute': 'baja'},\n",
       " 6: {'club': 'Mr. Hi', 'New_atribute': 'activo'},\n",
       " 7: {'club': 'Mr. Hi', 'New_atribute': 'activo'},\n",
       " 8: {'club': 'Mr. Hi', 'New_atribute': 'activo'},\n",
       " 9: {'club': 'Officer', 'New_atribute': 'activo'},\n",
       " 10: {'club': 'Mr. Hi', 'New_atribute': 'baja'},\n",
       " 11: {'club': 'Mr. Hi', 'New_atribute': 'activo'},\n",
       " 12: {'club': 'Mr. Hi', 'New_atribute': 'activo'},\n",
       " 13: {'club': 'Mr. Hi', 'New_atribute': 'activo'},\n",
       " 14: {'club': 'Officer', 'New_atribute': 'activo'},\n",
       " 15: {'club': 'Officer', 'New_atribute': 'baja'},\n",
       " 16: {'club': 'Mr. Hi', 'New_atribute': 'activo'},\n",
       " 17: {'club': 'Mr. Hi', 'New_atribute': 'activo'},\n",
       " 18: {'club': 'Officer', 'New_atribute': 'activo'},\n",
       " 19: {'club': 'Mr. Hi', 'New_atribute': 'activo'},\n",
       " 20: {'club': 'Officer', 'New_atribute': 'baja'},\n",
       " 21: {'club': 'Mr. Hi', 'New_atribute': 'activo'},\n",
       " 22: {'club': 'Officer', 'New_atribute': 'activo'},\n",
       " 23: {'club': 'Officer', 'New_atribute': 'activo'},\n",
       " 24: {'club': 'Officer', 'New_atribute': 'activo'},\n",
       " 25: {'club': 'Officer', 'New_atribute': 'baja'},\n",
       " 26: {'club': 'Officer', 'New_atribute': 'activo'},\n",
       " 27: {'club': 'Officer', 'New_atribute': 'activo'},\n",
       " 28: {'club': 'Officer', 'New_atribute': 'activo'},\n",
       " 29: {'club': 'Officer', 'New_atribute': 'activo'},\n",
       " 30: {'club': 'Officer', 'New_atribute': 'baja'},\n",
       " 31: {'club': 'Officer', 'New_atribute': 'activo'},\n",
       " 32: {'club': 'Officer', 'New_atribute': 'activo'},\n",
       " 33: {'club': 'Officer', 'New_atribute': 'activo'}}"
      ]
     },
     "execution_count": 15,
     "metadata": {},
     "output_type": "execute_result"
    }
   ],
   "source": [
    "bajas = [5, 10, 15, 20, 25, 30]\n",
    "for n in bajas:\n",
    "    G_karate.nodes[n]['New_atribute']='baja'\n",
    "\n",
    "node_descript = dict(G_karate.nodes(data=True))\n",
    "node_descript\n",
    "    "
   ]
  },
  {
   "cell_type": "code",
   "execution_count": 16,
   "id": "5ef10f9d-3b8e-497a-9c30-20db843fa742",
   "metadata": {},
   "outputs": [
    {
     "data": {
      "text/plain": [
       "{0: {'club': 'Mr. Hi', 'New_atribute': 'activo', 'sex': 'female'},\n",
       " 1: {'club': 'Mr. Hi', 'New_atribute': 'activo', 'sex': 'male'},\n",
       " 2: {'club': 'Mr. Hi', 'New_atribute': 'activo', 'sex': 'female'},\n",
       " 3: {'club': 'Mr. Hi', 'New_atribute': 'activo', 'sex': 'male'},\n",
       " 4: {'club': 'Mr. Hi', 'New_atribute': 'activo', 'sex': 'male'},\n",
       " 5: {'club': 'Mr. Hi', 'New_atribute': 'baja', 'sex': 'male'},\n",
       " 6: {'club': 'Mr. Hi', 'New_atribute': 'activo', 'sex': 'male'},\n",
       " 7: {'club': 'Mr. Hi', 'New_atribute': 'activo', 'sex': 'male'},\n",
       " 8: {'club': 'Mr. Hi', 'New_atribute': 'activo', 'sex': 'female'},\n",
       " 9: {'club': 'Officer', 'New_atribute': 'activo', 'sex': 'female'},\n",
       " 10: {'club': 'Mr. Hi', 'New_atribute': 'baja', 'sex': 'female'},\n",
       " 11: {'club': 'Mr. Hi', 'New_atribute': 'activo', 'sex': 'male'},\n",
       " 12: {'club': 'Mr. Hi', 'New_atribute': 'activo', 'sex': 'female'},\n",
       " 13: {'club': 'Mr. Hi', 'New_atribute': 'activo', 'sex': 'male'},\n",
       " 14: {'club': 'Officer', 'New_atribute': 'activo', 'sex': 'male'},\n",
       " 15: {'club': 'Officer', 'New_atribute': 'baja', 'sex': 'female'},\n",
       " 16: {'club': 'Mr. Hi', 'New_atribute': 'activo', 'sex': 'female'},\n",
       " 17: {'club': 'Mr. Hi', 'New_atribute': 'activo', 'sex': 'male'},\n",
       " 18: {'club': 'Officer', 'New_atribute': 'activo', 'sex': 'male'},\n",
       " 19: {'club': 'Mr. Hi', 'New_atribute': 'activo', 'sex': 'female'},\n",
       " 20: {'club': 'Officer', 'New_atribute': 'baja', 'sex': 'male'},\n",
       " 21: {'club': 'Mr. Hi', 'New_atribute': 'activo', 'sex': 'female'},\n",
       " 22: {'club': 'Officer', 'New_atribute': 'activo', 'sex': 'male'},\n",
       " 23: {'club': 'Officer', 'New_atribute': 'activo', 'sex': 'male'},\n",
       " 24: {'club': 'Officer', 'New_atribute': 'activo', 'sex': 'female'},\n",
       " 25: {'club': 'Officer', 'New_atribute': 'baja', 'sex': 'female'},\n",
       " 26: {'club': 'Officer', 'New_atribute': 'activo', 'sex': 'female'},\n",
       " 27: {'club': 'Officer', 'New_atribute': 'activo', 'sex': 'male'},\n",
       " 28: {'club': 'Officer', 'New_atribute': 'activo', 'sex': 'female'},\n",
       " 29: {'club': 'Officer', 'New_atribute': 'activo', 'sex': 'female'},\n",
       " 30: {'club': 'Officer', 'New_atribute': 'baja', 'sex': 'male'},\n",
       " 31: {'club': 'Officer', 'New_atribute': 'activo', 'sex': 'female'},\n",
       " 32: {'club': 'Officer', 'New_atribute': 'activo', 'sex': 'female'},\n",
       " 33: {'club': 'Officer', 'New_atribute': 'activo', 'sex': 'female'}}"
      ]
     },
     "execution_count": 16,
     "metadata": {},
     "output_type": "execute_result"
    }
   ],
   "source": [
    "gendre = [\"male\", \"female\"]\n",
    "for n in G_karate.nodes():\n",
    "    G_karate.nodes[n]['sex']= random.choice(gendre)\n",
    "\n",
    "node_descript = dict(G_karate.nodes(data=True))\n",
    "node_descript"
   ]
  },
  {
   "cell_type": "code",
   "execution_count": 17,
   "id": "406cfcd2-7f2c-4a5a-b52a-4c5bf40b9672",
   "metadata": {},
   "outputs": [
    {
     "data": {
      "text/plain": [
       "{0: {'club': 'Mr. Hi', 'New_atribute': 'activo', 'sex': 'female', 'age': 27},\n",
       " 1: {'club': 'Mr. Hi', 'New_atribute': 'activo', 'sex': 'male', 'age': 25},\n",
       " 2: {'club': 'Mr. Hi', 'New_atribute': 'activo', 'sex': 'female', 'age': 33},\n",
       " 3: {'club': 'Mr. Hi', 'New_atribute': 'activo', 'sex': 'male', 'age': 29},\n",
       " 4: {'club': 'Mr. Hi', 'New_atribute': 'activo', 'sex': 'male', 'age': 32},\n",
       " 5: {'club': 'Mr. Hi', 'New_atribute': 'baja', 'sex': 'male', 'age': 43},\n",
       " 6: {'club': 'Mr. Hi', 'New_atribute': 'activo', 'sex': 'male', 'age': 23},\n",
       " 7: {'club': 'Mr. Hi', 'New_atribute': 'activo', 'sex': 'male', 'age': 27},\n",
       " 8: {'club': 'Mr. Hi', 'New_atribute': 'activo', 'sex': 'female', 'age': 23},\n",
       " 9: {'club': 'Officer', 'New_atribute': 'activo', 'sex': 'female', 'age': 34},\n",
       " 10: {'club': 'Mr. Hi', 'New_atribute': 'baja', 'sex': 'female', 'age': 39},\n",
       " 11: {'club': 'Mr. Hi', 'New_atribute': 'activo', 'sex': 'male', 'age': 23},\n",
       " 12: {'club': 'Mr. Hi', 'New_atribute': 'activo', 'sex': 'female', 'age': 28},\n",
       " 13: {'club': 'Mr. Hi', 'New_atribute': 'activo', 'sex': 'male', 'age': 20},\n",
       " 14: {'club': 'Officer', 'New_atribute': 'activo', 'sex': 'male', 'age': 34},\n",
       " 15: {'club': 'Officer', 'New_atribute': 'baja', 'sex': 'female', 'age': 33},\n",
       " 16: {'club': 'Mr. Hi', 'New_atribute': 'activo', 'sex': 'female', 'age': 40},\n",
       " 17: {'club': 'Mr. Hi', 'New_atribute': 'activo', 'sex': 'male', 'age': 39},\n",
       " 18: {'club': 'Officer', 'New_atribute': 'activo', 'sex': 'male', 'age': 19},\n",
       " 19: {'club': 'Mr. Hi', 'New_atribute': 'activo', 'sex': 'female', 'age': 15},\n",
       " 20: {'club': 'Officer', 'New_atribute': 'baja', 'sex': 'male', 'age': 30},\n",
       " 21: {'club': 'Mr. Hi', 'New_atribute': 'activo', 'sex': 'female', 'age': 20},\n",
       " 22: {'club': 'Officer', 'New_atribute': 'activo', 'sex': 'male', 'age': 22},\n",
       " 23: {'club': 'Officer', 'New_atribute': 'activo', 'sex': 'male', 'age': 33},\n",
       " 24: {'club': 'Officer', 'New_atribute': 'activo', 'sex': 'female', 'age': 39},\n",
       " 25: {'club': 'Officer', 'New_atribute': 'baja', 'sex': 'female', 'age': 22},\n",
       " 26: {'club': 'Officer', 'New_atribute': 'activo', 'sex': 'female', 'age': 35},\n",
       " 27: {'club': 'Officer', 'New_atribute': 'activo', 'sex': 'male', 'age': 18},\n",
       " 28: {'club': 'Officer', 'New_atribute': 'activo', 'sex': 'female', 'age': 19},\n",
       " 29: {'club': 'Officer', 'New_atribute': 'activo', 'sex': 'female', 'age': 28},\n",
       " 30: {'club': 'Officer', 'New_atribute': 'baja', 'sex': 'male', 'age': 18},\n",
       " 31: {'club': 'Officer', 'New_atribute': 'activo', 'sex': 'female', 'age': 23},\n",
       " 32: {'club': 'Officer', 'New_atribute': 'activo', 'sex': 'female', 'age': 29},\n",
       " 33: {'club': 'Officer', 'New_atribute': 'activo', 'sex': 'female', 'age': 36}}"
      ]
     },
     "execution_count": 17,
     "metadata": {},
     "output_type": "execute_result"
    }
   ],
   "source": [
    "for n in G_karate.nodes():\n",
    "    G_karate.nodes[n]['age']= random.randint(15,45)\n",
    "\n",
    "node_descript = dict(G_karate.nodes(data=True))\n",
    "node_descript"
   ]
  },
  {
   "cell_type": "markdown",
   "id": "d86718d9-35bd-4437-ad27-70f2400c0855",
   "metadata": {},
   "source": [
    "¿ Y si queremos añadir atributos a las edges 'aristas'?"
   ]
  },
  {
   "cell_type": "code",
   "execution_count": 18,
   "id": "64c5281f-6b60-492d-85be-ce135d58652d",
   "metadata": {},
   "outputs": [
    {
     "data": {
      "text/plain": [
       "EdgeView([(0, 1), (0, 2), (0, 3), (0, 4), (0, 5), (0, 6), (0, 7), (0, 8), (0, 10), (0, 11), (0, 12), (0, 13), (0, 17), (0, 19), (0, 21), (0, 31), (1, 2), (1, 3), (1, 7), (1, 13), (1, 17), (1, 19), (1, 21), (1, 30), (2, 3), (2, 7), (2, 8), (2, 9), (2, 13), (2, 27), (2, 28), (2, 32), (3, 7), (3, 12), (3, 13), (4, 6), (4, 10), (5, 6), (5, 10), (5, 16), (6, 16), (8, 30), (8, 32), (8, 33), (9, 33), (13, 33), (14, 32), (14, 33), (15, 32), (15, 33), (18, 32), (18, 33), (19, 33), (20, 32), (20, 33), (22, 32), (22, 33), (23, 25), (23, 27), (23, 29), (23, 32), (23, 33), (24, 25), (24, 27), (24, 31), (25, 31), (26, 29), (26, 33), (27, 33), (28, 31), (28, 33), (29, 32), (29, 33), (30, 32), (30, 33), (31, 32), (31, 33), (32, 33)])"
      ]
     },
     "execution_count": 18,
     "metadata": {},
     "output_type": "execute_result"
    }
   ],
   "source": [
    "G_karate.edges()"
   ]
  },
  {
   "cell_type": "code",
   "execution_count": 19,
   "id": "d5539a56-6a95-4e3e-8170-dedfec2f91f6",
   "metadata": {},
   "outputs": [],
   "source": [
    "# nx.write_edgelist(G_karate) Esto es para guardarlo en un archivo 'csv', 'txt'"
   ]
  },
  {
   "cell_type": "markdown",
   "id": "9e1b540c-4958-42d8-a6b1-ba0c137d0f95",
   "metadata": {},
   "source": [
    "https://networkx.org/documentation/networkx-1.10/reference/generated/networkx.Graph.edges.html"
   ]
  },
  {
   "cell_type": "code",
   "execution_count": 20,
   "id": "239409ca-1315-43d4-9f3d-d5850001fddd",
   "metadata": {},
   "outputs": [
    {
     "name": "stdout",
     "output_type": "stream",
     "text": [
      "<class 'networkx.classes.reportviews.EdgeView'>\n",
      "78\n"
     ]
    }
   ],
   "source": [
    "aristas = G_karate.edges\n",
    "print(type(aristas))\n",
    "print(len(aristas))      "
   ]
  },
  {
   "cell_type": "code",
   "execution_count": 21,
   "id": "7cdda775-7a1e-41af-9e32-268d6dd4b33f",
   "metadata": {},
   "outputs": [
    {
     "name": "stdout",
     "output_type": "stream",
     "text": [
      "<class 'networkx.classes.reportviews.EdgeView'>\n",
      "78\n"
     ]
    },
    {
     "data": {
      "text/plain": [
       "EdgeView([(0, 1), (0, 2), (0, 3), (0, 4), (0, 5), (0, 6), (0, 7), (0, 8), (0, 10), (0, 11), (0, 12), (0, 13), (0, 17), (0, 19), (0, 21), (0, 31), (1, 2), (1, 3), (1, 7), (1, 13), (1, 17), (1, 19), (1, 21), (1, 30), (2, 3), (2, 7), (2, 8), (2, 9), (2, 13), (2, 27), (2, 28), (2, 32), (3, 7), (3, 12), (3, 13), (4, 6), (4, 10), (5, 6), (5, 10), (5, 16), (6, 16), (8, 30), (8, 32), (8, 33), (9, 33), (13, 33), (14, 32), (14, 33), (15, 32), (15, 33), (18, 32), (18, 33), (19, 33), (20, 32), (20, 33), (22, 32), (22, 33), (23, 25), (23, 27), (23, 29), (23, 32), (23, 33), (24, 25), (24, 27), (24, 31), (25, 31), (26, 29), (26, 33), (27, 33), (28, 31), (28, 33), (29, 32), (29, 33), (30, 32), (30, 33), (31, 32), (31, 33), (32, 33)])"
      ]
     },
     "execution_count": 21,
     "metadata": {},
     "output_type": "execute_result"
    }
   ],
   "source": [
    "aristas = G_karate.edges()\n",
    "print(type(aristas))\n",
    "print(len(aristas))\n",
    "aristas"
   ]
  },
  {
   "cell_type": "code",
   "execution_count": 22,
   "id": "90060654-933c-425b-b8dd-c2860479db66",
   "metadata": {},
   "outputs": [
    {
     "name": "stdout",
     "output_type": "stream",
     "text": [
      "0 1\n",
      "0 2\n",
      "0 3\n",
      "0 4\n",
      "0 5\n",
      "0 6\n",
      "0 7\n",
      "0 8\n",
      "0 10\n",
      "0 11\n",
      "0 12\n",
      "0 13\n",
      "0 17\n",
      "0 19\n",
      "0 21\n",
      "0 31\n",
      "1 2\n",
      "1 3\n",
      "1 7\n",
      "1 13\n",
      "1 17\n",
      "1 19\n",
      "1 21\n",
      "1 30\n",
      "2 3\n",
      "2 7\n",
      "2 8\n",
      "2 9\n",
      "2 13\n",
      "2 27\n",
      "2 28\n",
      "2 32\n",
      "3 7\n",
      "3 12\n",
      "3 13\n",
      "4 6\n",
      "4 10\n",
      "5 6\n",
      "5 10\n",
      "5 16\n",
      "6 16\n",
      "8 30\n",
      "8 32\n",
      "8 33\n",
      "9 33\n",
      "13 33\n",
      "14 32\n",
      "14 33\n",
      "15 32\n",
      "15 33\n",
      "18 32\n",
      "18 33\n",
      "19 33\n",
      "20 32\n",
      "20 33\n",
      "22 32\n",
      "22 33\n",
      "23 25\n",
      "23 27\n",
      "23 29\n",
      "23 32\n",
      "23 33\n",
      "24 25\n",
      "24 27\n",
      "24 31\n",
      "25 31\n",
      "26 29\n",
      "26 33\n",
      "27 33\n",
      "28 31\n",
      "28 33\n",
      "29 32\n",
      "29 33\n",
      "30 32\n",
      "30 33\n",
      "31 32\n",
      "31 33\n",
      "32 33\n",
      "Total: 78\n"
     ]
    }
   ],
   "source": [
    "count = 0\n",
    "for tuple in aristas:\n",
    "    print(tuple[0],tuple[1])\n",
    "    count +=1\n",
    "print(f\"Total: {count}\")"
   ]
  },
  {
   "cell_type": "code",
   "execution_count": 23,
   "id": "1787d97a-a02f-4270-a0f0-b113940ceca8",
   "metadata": {},
   "outputs": [
    {
     "name": "stdout",
     "output_type": "stream",
     "text": [
      "(0, 1)\n",
      "(0, 2)\n",
      "(0, 3)\n",
      "(0, 4)\n",
      "(0, 5)\n",
      "(0, 6)\n",
      "(0, 7)\n",
      "(0, 8)\n",
      "(0, 10)\n",
      "(0, 11)\n",
      "(0, 12)\n",
      "(0, 13)\n",
      "(0, 17)\n",
      "(0, 19)\n",
      "(0, 21)\n",
      "(0, 31)\n",
      "(1, 2)\n",
      "(1, 3)\n",
      "(1, 7)\n",
      "(1, 13)\n",
      "(1, 17)\n",
      "(1, 19)\n",
      "(1, 21)\n",
      "(1, 30)\n",
      "(2, 3)\n",
      "(2, 7)\n",
      "(2, 8)\n",
      "(2, 9)\n",
      "(2, 13)\n",
      "(2, 27)\n",
      "(2, 28)\n",
      "(2, 32)\n",
      "(3, 7)\n",
      "(3, 12)\n",
      "(3, 13)\n",
      "(4, 6)\n",
      "(4, 10)\n",
      "(5, 6)\n",
      "(5, 10)\n",
      "(5, 16)\n",
      "(6, 16)\n",
      "(8, 30)\n",
      "(8, 32)\n",
      "(8, 33)\n",
      "(9, 33)\n",
      "(13, 33)\n",
      "(14, 32)\n",
      "(14, 33)\n",
      "(15, 32)\n",
      "(15, 33)\n",
      "(18, 32)\n",
      "(18, 33)\n",
      "(19, 33)\n",
      "(20, 32)\n",
      "(20, 33)\n",
      "(22, 32)\n",
      "(22, 33)\n",
      "(23, 25)\n",
      "(23, 27)\n",
      "(23, 29)\n",
      "(23, 32)\n",
      "(23, 33)\n",
      "(24, 25)\n",
      "(24, 27)\n",
      "(24, 31)\n",
      "(25, 31)\n",
      "(26, 29)\n",
      "(26, 33)\n",
      "(27, 33)\n",
      "(28, 31)\n",
      "(28, 33)\n",
      "(29, 32)\n",
      "(29, 33)\n",
      "(30, 32)\n",
      "(30, 33)\n",
      "(31, 32)\n",
      "(31, 33)\n",
      "(32, 33)\n",
      "Total: 78\n"
     ]
    }
   ],
   "source": [
    "count = 0\n",
    "for tuple in aristas:\n",
    "    print(tuple)\n",
    "    count +=1\n",
    "print(f\"Total: {count}\")"
   ]
  },
  {
   "cell_type": "code",
   "execution_count": 24,
   "id": "14f3878f-7660-402f-915e-a2520c6302b1",
   "metadata": {},
   "outputs": [
    {
     "data": {
      "text/plain": [
       "EdgeDataView([(0, 1, {'weight': 4}), (0, 2, {'weight': 5}), (0, 3, {'weight': 3}), (0, 4, {'weight': 3}), (0, 5, {'weight': 3}), (0, 6, {'weight': 3}), (0, 7, {'weight': 2}), (0, 8, {'weight': 2}), (0, 10, {'weight': 2}), (0, 11, {'weight': 3}), (0, 12, {'weight': 1}), (0, 13, {'weight': 3}), (0, 17, {'weight': 2}), (0, 19, {'weight': 2}), (0, 21, {'weight': 2}), (0, 31, {'weight': 2}), (1, 2, {'weight': 6}), (1, 3, {'weight': 3}), (1, 7, {'weight': 4}), (1, 13, {'weight': 5}), (1, 17, {'weight': 1}), (1, 19, {'weight': 2}), (1, 21, {'weight': 2}), (1, 30, {'weight': 2}), (2, 3, {'weight': 3}), (2, 7, {'weight': 4}), (2, 8, {'weight': 5}), (2, 9, {'weight': 1}), (2, 13, {'weight': 3}), (2, 27, {'weight': 2}), (2, 28, {'weight': 2}), (2, 32, {'weight': 2}), (3, 7, {'weight': 3}), (3, 12, {'weight': 3}), (3, 13, {'weight': 3}), (4, 6, {'weight': 2}), (4, 10, {'weight': 3}), (5, 6, {'weight': 5}), (5, 10, {'weight': 3}), (5, 16, {'weight': 3}), (6, 16, {'weight': 3}), (8, 30, {'weight': 3}), (8, 32, {'weight': 3}), (8, 33, {'weight': 4}), (9, 33, {'weight': 2}), (13, 33, {'weight': 3}), (14, 32, {'weight': 3}), (14, 33, {'weight': 2}), (15, 32, {'weight': 3}), (15, 33, {'weight': 4}), (18, 32, {'weight': 1}), (18, 33, {'weight': 2}), (19, 33, {'weight': 1}), (20, 32, {'weight': 3}), (20, 33, {'weight': 1}), (22, 32, {'weight': 2}), (22, 33, {'weight': 3}), (23, 25, {'weight': 5}), (23, 27, {'weight': 4}), (23, 29, {'weight': 3}), (23, 32, {'weight': 5}), (23, 33, {'weight': 4}), (24, 25, {'weight': 2}), (24, 27, {'weight': 3}), (24, 31, {'weight': 2}), (25, 31, {'weight': 7}), (26, 29, {'weight': 4}), (26, 33, {'weight': 2}), (27, 33, {'weight': 4}), (28, 31, {'weight': 2}), (28, 33, {'weight': 2}), (29, 32, {'weight': 4}), (29, 33, {'weight': 2}), (30, 32, {'weight': 3}), (30, 33, {'weight': 3}), (31, 32, {'weight': 4}), (31, 33, {'weight': 4}), (32, 33, {'weight': 5})])"
      ]
     },
     "execution_count": 24,
     "metadata": {},
     "output_type": "execute_result"
    }
   ],
   "source": [
    "G_karate.edges(data=True)"
   ]
  },
  {
   "cell_type": "code",
   "execution_count": 25,
   "id": "86e3f401-6173-43fa-a41d-5d75b9a0e10f",
   "metadata": {},
   "outputs": [
    {
     "name": "stdout",
     "output_type": "stream",
     "text": [
      "(0, 1, {'weight': 4})\n",
      "(0, 2, {'weight': 5})\n",
      "(0, 3, {'weight': 3})\n",
      "(0, 4, {'weight': 3})\n",
      "(0, 5, {'weight': 3})\n",
      "(0, 6, {'weight': 3})\n",
      "(0, 7, {'weight': 2})\n",
      "(0, 8, {'weight': 2})\n",
      "(0, 10, {'weight': 2})\n",
      "(0, 11, {'weight': 3})\n",
      "(0, 12, {'weight': 1})\n",
      "(0, 13, {'weight': 3})\n",
      "(0, 17, {'weight': 2})\n",
      "(0, 19, {'weight': 2})\n",
      "(0, 21, {'weight': 2})\n",
      "(0, 31, {'weight': 2})\n",
      "(1, 2, {'weight': 6})\n",
      "(1, 3, {'weight': 3})\n",
      "(1, 7, {'weight': 4})\n",
      "(1, 13, {'weight': 5})\n",
      "(1, 17, {'weight': 1})\n",
      "(1, 19, {'weight': 2})\n",
      "(1, 21, {'weight': 2})\n",
      "(1, 30, {'weight': 2})\n",
      "(2, 3, {'weight': 3})\n",
      "(2, 7, {'weight': 4})\n",
      "(2, 8, {'weight': 5})\n",
      "(2, 9, {'weight': 1})\n",
      "(2, 13, {'weight': 3})\n",
      "(2, 27, {'weight': 2})\n",
      "(2, 28, {'weight': 2})\n",
      "(2, 32, {'weight': 2})\n",
      "(3, 7, {'weight': 3})\n",
      "(3, 12, {'weight': 3})\n",
      "(3, 13, {'weight': 3})\n",
      "(4, 6, {'weight': 2})\n",
      "(4, 10, {'weight': 3})\n",
      "(5, 6, {'weight': 5})\n",
      "(5, 10, {'weight': 3})\n",
      "(5, 16, {'weight': 3})\n",
      "(6, 16, {'weight': 3})\n",
      "(8, 30, {'weight': 3})\n",
      "(8, 32, {'weight': 3})\n",
      "(8, 33, {'weight': 4})\n",
      "(9, 33, {'weight': 2})\n",
      "(13, 33, {'weight': 3})\n",
      "(14, 32, {'weight': 3})\n",
      "(14, 33, {'weight': 2})\n",
      "(15, 32, {'weight': 3})\n",
      "(15, 33, {'weight': 4})\n",
      "(18, 32, {'weight': 1})\n",
      "(18, 33, {'weight': 2})\n",
      "(19, 33, {'weight': 1})\n",
      "(20, 32, {'weight': 3})\n",
      "(20, 33, {'weight': 1})\n",
      "(22, 32, {'weight': 2})\n",
      "(22, 33, {'weight': 3})\n",
      "(23, 25, {'weight': 5})\n",
      "(23, 27, {'weight': 4})\n",
      "(23, 29, {'weight': 3})\n",
      "(23, 32, {'weight': 5})\n",
      "(23, 33, {'weight': 4})\n",
      "(24, 25, {'weight': 2})\n",
      "(24, 27, {'weight': 3})\n",
      "(24, 31, {'weight': 2})\n",
      "(25, 31, {'weight': 7})\n",
      "(26, 29, {'weight': 4})\n",
      "(26, 33, {'weight': 2})\n",
      "(27, 33, {'weight': 4})\n",
      "(28, 31, {'weight': 2})\n",
      "(28, 33, {'weight': 2})\n",
      "(29, 32, {'weight': 4})\n",
      "(29, 33, {'weight': 2})\n",
      "(30, 32, {'weight': 3})\n",
      "(30, 33, {'weight': 3})\n",
      "(31, 32, {'weight': 4})\n",
      "(31, 33, {'weight': 4})\n",
      "(32, 33, {'weight': 5})\n"
     ]
    }
   ],
   "source": [
    "for dato in G_karate.edges(data=True):\n",
    "    print(dato)"
   ]
  },
  {
   "cell_type": "code",
   "execution_count": 26,
   "id": "b55851a0-09e2-49cc-b733-7c8ac3963597",
   "metadata": {},
   "outputs": [
    {
     "name": "stdout",
     "output_type": "stream",
     "text": [
      "(0, 1, {'weight': 4, 'no_num': 'igual', 'mismo_num': 1})\n",
      "(0, 2, {'weight': 5, 'no_num': 'igual', 'mismo_num': 1})\n",
      "(0, 3, {'weight': 3, 'no_num': 'igual', 'mismo_num': 1})\n",
      "(0, 4, {'weight': 3, 'no_num': 'igual', 'mismo_num': 1})\n",
      "(0, 5, {'weight': 3, 'no_num': 'igual', 'mismo_num': 1})\n",
      "(0, 6, {'weight': 3, 'no_num': 'igual', 'mismo_num': 1})\n",
      "(0, 7, {'weight': 2, 'no_num': 'igual', 'mismo_num': 1})\n",
      "(0, 8, {'weight': 2, 'no_num': 'igual', 'mismo_num': 1})\n",
      "(0, 10, {'weight': 2, 'no_num': 'igual', 'mismo_num': 1})\n",
      "(0, 11, {'weight': 3, 'no_num': 'igual', 'mismo_num': 1})\n",
      "(0, 12, {'weight': 1, 'no_num': 'igual', 'mismo_num': 1})\n",
      "(0, 13, {'weight': 3, 'no_num': 'igual', 'mismo_num': 1})\n",
      "(0, 17, {'weight': 2, 'no_num': 'igual', 'mismo_num': 1})\n",
      "(0, 19, {'weight': 2, 'no_num': 'igual', 'mismo_num': 1})\n",
      "(0, 21, {'weight': 2, 'no_num': 'igual', 'mismo_num': 1})\n",
      "(0, 31, {'weight': 2, 'no_num': 'igual', 'mismo_num': 1})\n",
      "(1, 2, {'weight': 6, 'no_num': 'igual', 'mismo_num': 1})\n",
      "(1, 3, {'weight': 3, 'no_num': 'igual', 'mismo_num': 1})\n",
      "(1, 7, {'weight': 4, 'no_num': 'igual', 'mismo_num': 1})\n",
      "(1, 13, {'weight': 5, 'no_num': 'igual', 'mismo_num': 1})\n",
      "(1, 17, {'weight': 1, 'no_num': 'igual', 'mismo_num': 1})\n",
      "(1, 19, {'weight': 2, 'no_num': 'igual', 'mismo_num': 1})\n",
      "(1, 21, {'weight': 2, 'no_num': 'igual', 'mismo_num': 1})\n",
      "(1, 30, {'weight': 2, 'no_num': 'igual', 'mismo_num': 1})\n",
      "(2, 3, {'weight': 3, 'no_num': 'igual', 'mismo_num': 1})\n",
      "(2, 7, {'weight': 4, 'no_num': 'igual', 'mismo_num': 1})\n",
      "(2, 8, {'weight': 5, 'no_num': 'igual', 'mismo_num': 1})\n",
      "(2, 9, {'weight': 1, 'no_num': 'igual', 'mismo_num': 1})\n",
      "(2, 13, {'weight': 3, 'no_num': 'igual', 'mismo_num': 1})\n",
      "(2, 27, {'weight': 2, 'no_num': 'igual', 'mismo_num': 1})\n",
      "(2, 28, {'weight': 2, 'no_num': 'igual', 'mismo_num': 1})\n",
      "(2, 32, {'weight': 2, 'no_num': 'igual', 'mismo_num': 1})\n",
      "(3, 7, {'weight': 3, 'no_num': 'igual', 'mismo_num': 1})\n",
      "(3, 12, {'weight': 3, 'no_num': 'igual', 'mismo_num': 1})\n",
      "(3, 13, {'weight': 3, 'no_num': 'igual', 'mismo_num': 1})\n",
      "(4, 6, {'weight': 2, 'no_num': 'igual', 'mismo_num': 1})\n",
      "(4, 10, {'weight': 3, 'no_num': 'igual', 'mismo_num': 1})\n",
      "(5, 6, {'weight': 5, 'no_num': 'igual', 'mismo_num': 1})\n",
      "(5, 10, {'weight': 3, 'no_num': 'igual', 'mismo_num': 1})\n",
      "(5, 16, {'weight': 3, 'no_num': 'igual', 'mismo_num': 1})\n",
      "(6, 16, {'weight': 3, 'no_num': 'igual', 'mismo_num': 1})\n",
      "(8, 30, {'weight': 3, 'no_num': 'igual', 'mismo_num': 1})\n",
      "(8, 32, {'weight': 3, 'no_num': 'igual', 'mismo_num': 1})\n",
      "(8, 33, {'weight': 4, 'no_num': 'igual', 'mismo_num': 1})\n",
      "(9, 33, {'weight': 2, 'no_num': 'igual', 'mismo_num': 1})\n",
      "(13, 33, {'weight': 3, 'no_num': 'igual', 'mismo_num': 1})\n",
      "(14, 32, {'weight': 3, 'no_num': 'igual', 'mismo_num': 1})\n",
      "(14, 33, {'weight': 2, 'no_num': 'igual', 'mismo_num': 1})\n",
      "(15, 32, {'weight': 3, 'no_num': 'igual', 'mismo_num': 1})\n",
      "(15, 33, {'weight': 4, 'no_num': 'igual', 'mismo_num': 1})\n",
      "(18, 32, {'weight': 1, 'no_num': 'igual', 'mismo_num': 1})\n",
      "(18, 33, {'weight': 2, 'no_num': 'igual', 'mismo_num': 1})\n",
      "(19, 33, {'weight': 1, 'no_num': 'igual', 'mismo_num': 1})\n",
      "(20, 32, {'weight': 3, 'no_num': 'igual', 'mismo_num': 1})\n",
      "(20, 33, {'weight': 1, 'no_num': 'igual', 'mismo_num': 1})\n",
      "(22, 32, {'weight': 2, 'no_num': 'igual', 'mismo_num': 1})\n",
      "(22, 33, {'weight': 3, 'no_num': 'igual', 'mismo_num': 1})\n",
      "(23, 25, {'weight': 5, 'no_num': 'igual', 'mismo_num': 1})\n",
      "(23, 27, {'weight': 4, 'no_num': 'igual', 'mismo_num': 1})\n",
      "(23, 29, {'weight': 3, 'no_num': 'igual', 'mismo_num': 1})\n",
      "(23, 32, {'weight': 5, 'no_num': 'igual', 'mismo_num': 1})\n",
      "(23, 33, {'weight': 4, 'no_num': 'igual', 'mismo_num': 1})\n",
      "(24, 25, {'weight': 2, 'no_num': 'igual', 'mismo_num': 1})\n",
      "(24, 27, {'weight': 3, 'no_num': 'igual', 'mismo_num': 1})\n",
      "(24, 31, {'weight': 2, 'no_num': 'igual', 'mismo_num': 1})\n",
      "(25, 31, {'weight': 7, 'no_num': 'igual', 'mismo_num': 1})\n",
      "(26, 29, {'weight': 4, 'no_num': 'igual', 'mismo_num': 1})\n",
      "(26, 33, {'weight': 2, 'no_num': 'igual', 'mismo_num': 1})\n",
      "(27, 33, {'weight': 4, 'no_num': 'igual', 'mismo_num': 1})\n",
      "(28, 31, {'weight': 2, 'no_num': 'igual', 'mismo_num': 1})\n",
      "(28, 33, {'weight': 2, 'no_num': 'igual', 'mismo_num': 1})\n",
      "(29, 32, {'weight': 4, 'no_num': 'igual', 'mismo_num': 1})\n",
      "(29, 33, {'weight': 2, 'no_num': 'igual', 'mismo_num': 1})\n",
      "(30, 32, {'weight': 3, 'no_num': 'igual', 'mismo_num': 1})\n",
      "(30, 33, {'weight': 3, 'no_num': 'igual', 'mismo_num': 1})\n",
      "(31, 32, {'weight': 4, 'no_num': 'igual', 'mismo_num': 1})\n",
      "(31, 33, {'weight': 4, 'no_num': 'igual', 'mismo_num': 1})\n",
      "(32, 33, {'weight': 5, 'no_num': 'igual', 'mismo_num': 1})\n"
     ]
    }
   ],
   "source": [
    "nx.set_edge_attributes(G_karate,\"igual\",name=\"no_num\")\n",
    "nx.set_edge_attributes(G_karate,1,name=\"mismo_num\")\n",
    "for dato in G_karate.edges(data=True):\n",
    "    print(dato)"
   ]
  },
  {
   "cell_type": "code",
   "execution_count": 27,
   "id": "85945343-fc9b-4a61-9764-6daaeddf9a3d",
   "metadata": {},
   "outputs": [
    {
     "name": "stdout",
     "output_type": "stream",
     "text": [
      "(0, 1, {'weight': 4, 'no_num': 'igual', 'mismo_num': 1, 'betw.': 14.166666666666664})\n",
      "(0, 2, {'weight': 5, 'no_num': 'igual', 'mismo_num': 1, 'betw.': 43.638888888888886})\n",
      "(0, 3, {'weight': 3, 'no_num': 'igual', 'mismo_num': 1, 'betw.': 11.5})\n",
      "(0, 4, {'weight': 3, 'no_num': 'igual', 'mismo_num': 1, 'betw.': 29.333333333333332})\n",
      "(0, 5, {'weight': 3, 'no_num': 'igual', 'mismo_num': 1, 'betw.': 43.83333333333333})\n",
      "(0, 6, {'weight': 3, 'no_num': 'igual', 'mismo_num': 1, 'betw.': 43.833333333333336})\n",
      "(0, 7, {'weight': 2, 'no_num': 'igual', 'mismo_num': 1, 'betw.': 12.80238095238095})\n",
      "(0, 8, {'weight': 2, 'no_num': 'igual', 'mismo_num': 1, 'betw.': 41.64841269841271})\n",
      "(0, 10, {'weight': 2, 'no_num': 'igual', 'mismo_num': 1, 'betw.': 29.333333333333332})\n",
      "(0, 11, {'weight': 3, 'no_num': 'igual', 'mismo_num': 1, 'betw.': 33.0})\n",
      "(0, 12, {'weight': 1, 'no_num': 'igual', 'mismo_num': 1, 'betw.': 26.099999999999994})\n",
      "(0, 13, {'weight': 3, 'no_num': 'igual', 'mismo_num': 1, 'betw.': 23.77063492063493})\n",
      "(0, 17, {'weight': 2, 'no_num': 'igual', 'mismo_num': 1, 'betw.': 22.509523809523813})\n",
      "(0, 19, {'weight': 2, 'no_num': 'igual', 'mismo_num': 1, 'betw.': 25.770634920634926})\n",
      "(0, 21, {'weight': 2, 'no_num': 'igual', 'mismo_num': 1, 'betw.': 22.50952380952381})\n",
      "(0, 31, {'weight': 2, 'no_num': 'igual', 'mismo_num': 1, 'betw.': 71.39285714285712})\n",
      "(1, 2, {'weight': 6, 'no_num': 'igual', 'mismo_num': 1, 'betw.': 13.033333333333335})\n",
      "(1, 3, {'weight': 3, 'no_num': 'igual', 'mismo_num': 1, 'betw.': 4.333333333333333})\n",
      "(1, 7, {'weight': 4, 'no_num': 'igual', 'mismo_num': 1, 'betw.': 4.164285714285714})\n",
      "(1, 13, {'weight': 5, 'no_num': 'igual', 'mismo_num': 1, 'betw.': 6.9595238095238106})\n",
      "(1, 17, {'weight': 1, 'no_num': 'igual', 'mismo_num': 1, 'betw.': 10.490476190476187})\n",
      "(1, 19, {'weight': 2, 'no_num': 'igual', 'mismo_num': 1, 'betw.': 8.209523809523809})\n",
      "(1, 21, {'weight': 2, 'no_num': 'igual', 'mismo_num': 1, 'betw.': 10.490476190476187})\n",
      "(1, 30, {'weight': 2, 'no_num': 'igual', 'mismo_num': 1, 'betw.': 18.10952380952381})\n",
      "(2, 3, {'weight': 3, 'no_num': 'igual', 'mismo_num': 1, 'betw.': 12.583333333333332})\n",
      "(2, 7, {'weight': 4, 'no_num': 'igual', 'mismo_num': 1, 'betw.': 14.145238095238092})\n",
      "(2, 8, {'weight': 5, 'no_num': 'igual', 'mismo_num': 1, 'betw.': 5.147619047619047})\n",
      "(2, 9, {'weight': 1, 'no_num': 'igual', 'mismo_num': 1, 'betw.': 17.28095238095238})\n",
      "(2, 13, {'weight': 3, 'no_num': 'igual', 'mismo_num': 1, 'betw.': 4.28095238095238})\n",
      "(2, 27, {'weight': 2, 'no_num': 'igual', 'mismo_num': 1, 'betw.': 23.10873015873016})\n",
      "(2, 28, {'weight': 2, 'no_num': 'igual', 'mismo_num': 1, 'betw.': 12.780952380952376})\n",
      "(2, 32, {'weight': 2, 'no_num': 'igual', 'mismo_num': 1, 'betw.': 38.70158730158729})\n",
      "(3, 7, {'weight': 3, 'no_num': 'igual', 'mismo_num': 1, 'betw.': 1.8880952380952383})\n",
      "(3, 12, {'weight': 3, 'no_num': 'igual', 'mismo_num': 1, 'betw.': 6.899999999999997})\n",
      "(3, 13, {'weight': 3, 'no_num': 'igual', 'mismo_num': 1, 'betw.': 8.37142857142857})\n",
      "(4, 6, {'weight': 2, 'no_num': 'igual', 'mismo_num': 1, 'betw.': 2.6666666666666665})\n",
      "(4, 10, {'weight': 3, 'no_num': 'igual', 'mismo_num': 1, 'betw.': 1.6666666666666665})\n",
      "(5, 6, {'weight': 5, 'no_num': 'igual', 'mismo_num': 1, 'betw.': 1.6666666666666667})\n",
      "(5, 10, {'weight': 3, 'no_num': 'igual', 'mismo_num': 1, 'betw.': 2.6666666666666665})\n",
      "(5, 16, {'weight': 3, 'no_num': 'igual', 'mismo_num': 1, 'betw.': 16.5})\n",
      "(6, 16, {'weight': 3, 'no_num': 'igual', 'mismo_num': 1, 'betw.': 16.5})\n",
      "(8, 30, {'weight': 3, 'no_num': 'igual', 'mismo_num': 1, 'betw.': 5.5})\n",
      "(8, 32, {'weight': 3, 'no_num': 'igual', 'mismo_num': 1, 'betw.': 17.077777777777776})\n",
      "(8, 33, {'weight': 4, 'no_num': 'igual', 'mismo_num': 1, 'betw.': 22.684920634920633})\n",
      "(9, 33, {'weight': 2, 'no_num': 'igual', 'mismo_num': 1, 'betw.': 16.614285714285714})\n",
      "(13, 33, {'weight': 3, 'no_num': 'igual', 'mismo_num': 1, 'betw.': 38.04920634920634})\n",
      "(14, 32, {'weight': 3, 'no_num': 'igual', 'mismo_num': 1, 'betw.': 13.511111111111113})\n",
      "(14, 33, {'weight': 2, 'no_num': 'igual', 'mismo_num': 1, 'betw.': 19.488888888888887})\n",
      "(15, 32, {'weight': 3, 'no_num': 'igual', 'mismo_num': 1, 'betw.': 13.511111111111113})\n",
      "(15, 33, {'weight': 4, 'no_num': 'igual', 'mismo_num': 1, 'betw.': 19.488888888888887})\n",
      "(18, 32, {'weight': 1, 'no_num': 'igual', 'mismo_num': 1, 'betw.': 13.511111111111113})\n",
      "(18, 33, {'weight': 2, 'no_num': 'igual', 'mismo_num': 1, 'betw.': 19.488888888888887})\n",
      "(19, 33, {'weight': 1, 'no_num': 'igual', 'mismo_num': 1, 'betw.': 33.31349206349207})\n",
      "(20, 32, {'weight': 3, 'no_num': 'igual', 'mismo_num': 1, 'betw.': 13.511111111111113})\n",
      "(20, 33, {'weight': 1, 'no_num': 'igual', 'mismo_num': 1, 'betw.': 19.488888888888887})\n",
      "(22, 32, {'weight': 2, 'no_num': 'igual', 'mismo_num': 1, 'betw.': 13.511111111111111})\n",
      "(22, 33, {'weight': 3, 'no_num': 'igual', 'mismo_num': 1, 'betw.': 19.488888888888887})\n",
      "(23, 25, {'weight': 5, 'no_num': 'igual', 'mismo_num': 1, 'betw.': 11.094444444444443})\n",
      "(23, 27, {'weight': 4, 'no_num': 'igual', 'mismo_num': 1, 'betw.': 5.9111111111111105})\n",
      "(23, 29, {'weight': 3, 'no_num': 'igual', 'mismo_num': 1, 'betw.': 3.7333333333333334})\n",
      "(23, 32, {'weight': 5, 'no_num': 'igual', 'mismo_num': 1, 'betw.': 12.533333333333331})\n",
      "(23, 33, {'weight': 4, 'no_num': 'igual', 'mismo_num': 1, 'betw.': 18.327777777777783})\n",
      "(24, 25, {'weight': 2, 'no_num': 'igual', 'mismo_num': 1, 'betw.': 2.3666666666666667})\n",
      "(24, 27, {'weight': 3, 'no_num': 'igual', 'mismo_num': 1, 'betw.': 10.466666666666665})\n",
      "(24, 31, {'weight': 2, 'no_num': 'igual', 'mismo_num': 1, 'betw.': 22.5})\n",
      "(25, 31, {'weight': 7, 'no_num': 'igual', 'mismo_num': 1, 'betw.': 23.59444444444445})\n",
      "(26, 29, {'weight': 4, 'no_num': 'igual', 'mismo_num': 1, 'betw.': 2.5428571428571427})\n",
      "(26, 33, {'weight': 2, 'no_num': 'igual', 'mismo_num': 1, 'betw.': 30.457142857142856})\n",
      "(27, 33, {'weight': 4, 'no_num': 'igual', 'mismo_num': 1, 'betw.': 17.097619047619048})\n",
      "(28, 31, {'weight': 2, 'no_num': 'igual', 'mismo_num': 1, 'betw.': 8.333333333333332})\n",
      "(28, 33, {'weight': 2, 'no_num': 'igual', 'mismo_num': 1, 'betw.': 13.78095238095238})\n",
      "(29, 32, {'weight': 4, 'no_num': 'igual', 'mismo_num': 1, 'betw.': 13.087301587301585})\n",
      "(29, 33, {'weight': 2, 'no_num': 'igual', 'mismo_num': 1, 'betw.': 16.72222222222222})\n",
      "(30, 32, {'weight': 3, 'no_num': 'igual', 'mismo_num': 1, 'betw.': 9.566666666666666})\n",
      "(30, 33, {'weight': 3, 'no_num': 'igual', 'mismo_num': 1, 'betw.': 15.042857142857141})\n",
      "(31, 32, {'weight': 4, 'no_num': 'igual', 'mismo_num': 1, 'betw.': 23.244444444444447})\n",
      "(31, 33, {'weight': 4, 'no_num': 'igual', 'mismo_num': 1, 'betw.': 29.95396825396826})\n",
      "(32, 33, {'weight': 5, 'no_num': 'igual', 'mismo_num': 1, 'betw.': 4.614285714285714})\n"
     ]
    }
   ],
   "source": [
    "# After computing some property of the edges of a graph, you may want to assign a edge attribute to store the value of that property for each edge:\n",
    "bb = nx.edge_betweenness_centrality(G_karate, normalized=False)\n",
    "nx.set_edge_attributes(G_karate, bb, \"betw.\")\n",
    "for dato in G_karate.edges(data=True):\n",
    "    print(dato)\n"
   ]
  },
  {
   "cell_type": "code",
   "execution_count": 28,
   "id": "8fe26477-9f9f-40a3-af2c-8981254c28be",
   "metadata": {},
   "outputs": [
    {
     "name": "stdout",
     "output_type": "stream",
     "text": [
      "(0, 1, {'weight': 4, 'no_num': 'igual', 'mismo_num': 1, 'betw.': 14.166666666666664, 'randon': 73})\n",
      "(0, 2, {'weight': 5, 'no_num': 'igual', 'mismo_num': 1, 'betw.': 43.638888888888886, 'randon': 53})\n",
      "(0, 3, {'weight': 3, 'no_num': 'igual', 'mismo_num': 1, 'betw.': 11.5, 'randon': 77})\n",
      "(0, 4, {'weight': 3, 'no_num': 'igual', 'mismo_num': 1, 'betw.': 29.333333333333332, 'randon': 83})\n",
      "(0, 5, {'weight': 3, 'no_num': 'igual', 'mismo_num': 1, 'betw.': 43.83333333333333, 'randon': 74})\n",
      "(0, 6, {'weight': 3, 'no_num': 'igual', 'mismo_num': 1, 'betw.': 43.833333333333336, 'randon': 13})\n",
      "(0, 7, {'weight': 2, 'no_num': 'igual', 'mismo_num': 1, 'betw.': 12.80238095238095, 'randon': 14})\n",
      "(0, 8, {'weight': 2, 'no_num': 'igual', 'mismo_num': 1, 'betw.': 41.64841269841271, 'randon': 76})\n",
      "(0, 10, {'weight': 2, 'no_num': 'igual', 'mismo_num': 1, 'betw.': 29.333333333333332, 'randon': 99})\n",
      "(0, 11, {'weight': 3, 'no_num': 'igual', 'mismo_num': 1, 'betw.': 33.0, 'randon': 11})\n",
      "(0, 12, {'weight': 1, 'no_num': 'igual', 'mismo_num': 1, 'betw.': 26.099999999999994, 'randon': 89})\n",
      "(0, 13, {'weight': 3, 'no_num': 'igual', 'mismo_num': 1, 'betw.': 23.77063492063493, 'randon': 52})\n",
      "(0, 17, {'weight': 2, 'no_num': 'igual', 'mismo_num': 1, 'betw.': 22.509523809523813, 'randon': 44})\n",
      "(0, 19, {'weight': 2, 'no_num': 'igual', 'mismo_num': 1, 'betw.': 25.770634920634926, 'randon': 62})\n",
      "(0, 21, {'weight': 2, 'no_num': 'igual', 'mismo_num': 1, 'betw.': 22.50952380952381, 'randon': 97})\n",
      "(0, 31, {'weight': 2, 'no_num': 'igual', 'mismo_num': 1, 'betw.': 71.39285714285712, 'randon': 45})\n",
      "(1, 2, {'weight': 6, 'no_num': 'igual', 'mismo_num': 1, 'betw.': 13.033333333333335, 'randon': 73})\n",
      "(1, 3, {'weight': 3, 'no_num': 'igual', 'mismo_num': 1, 'betw.': 4.333333333333333, 'randon': 15})\n",
      "(1, 7, {'weight': 4, 'no_num': 'igual', 'mismo_num': 1, 'betw.': 4.164285714285714, 'randon': 66})\n",
      "(1, 13, {'weight': 5, 'no_num': 'igual', 'mismo_num': 1, 'betw.': 6.9595238095238106, 'randon': 63})\n",
      "(1, 17, {'weight': 1, 'no_num': 'igual', 'mismo_num': 1, 'betw.': 10.490476190476187, 'randon': 67})\n",
      "(1, 19, {'weight': 2, 'no_num': 'igual', 'mismo_num': 1, 'betw.': 8.209523809523809, 'randon': 15})\n",
      "(1, 21, {'weight': 2, 'no_num': 'igual', 'mismo_num': 1, 'betw.': 10.490476190476187, 'randon': 18})\n",
      "(1, 30, {'weight': 2, 'no_num': 'igual', 'mismo_num': 1, 'betw.': 18.10952380952381, 'randon': 56})\n",
      "(2, 3, {'weight': 3, 'no_num': 'igual', 'mismo_num': 1, 'betw.': 12.583333333333332, 'randon': 69})\n",
      "(2, 7, {'weight': 4, 'no_num': 'igual', 'mismo_num': 1, 'betw.': 14.145238095238092, 'randon': 69})\n",
      "(2, 8, {'weight': 5, 'no_num': 'igual', 'mismo_num': 1, 'betw.': 5.147619047619047, 'randon': 11})\n",
      "(2, 9, {'weight': 1, 'no_num': 'igual', 'mismo_num': 1, 'betw.': 17.28095238095238, 'randon': 49})\n",
      "(2, 13, {'weight': 3, 'no_num': 'igual', 'mismo_num': 1, 'betw.': 4.28095238095238, 'randon': 34})\n",
      "(2, 27, {'weight': 2, 'no_num': 'igual', 'mismo_num': 1, 'betw.': 23.10873015873016, 'randon': 35})\n",
      "(2, 28, {'weight': 2, 'no_num': 'igual', 'mismo_num': 1, 'betw.': 12.780952380952376, 'randon': 24})\n",
      "(2, 32, {'weight': 2, 'no_num': 'igual', 'mismo_num': 1, 'betw.': 38.70158730158729, 'randon': 37})\n",
      "(3, 7, {'weight': 3, 'no_num': 'igual', 'mismo_num': 1, 'betw.': 1.8880952380952383, 'randon': 48})\n",
      "(3, 12, {'weight': 3, 'no_num': 'igual', 'mismo_num': 1, 'betw.': 6.899999999999997, 'randon': 36})\n",
      "(3, 13, {'weight': 3, 'no_num': 'igual', 'mismo_num': 1, 'betw.': 8.37142857142857, 'randon': 51})\n",
      "(4, 6, {'weight': 2, 'no_num': 'igual', 'mismo_num': 1, 'betw.': 2.6666666666666665, 'randon': 97})\n",
      "(4, 10, {'weight': 3, 'no_num': 'igual', 'mismo_num': 1, 'betw.': 1.6666666666666665, 'randon': 86})\n",
      "(5, 6, {'weight': 5, 'no_num': 'igual', 'mismo_num': 1, 'betw.': 1.6666666666666667, 'randon': 42})\n",
      "(5, 10, {'weight': 3, 'no_num': 'igual', 'mismo_num': 1, 'betw.': 2.6666666666666665, 'randon': 25})\n",
      "(5, 16, {'weight': 3, 'no_num': 'igual', 'mismo_num': 1, 'betw.': 16.5, 'randon': 28})\n",
      "(6, 16, {'weight': 3, 'no_num': 'igual', 'mismo_num': 1, 'betw.': 16.5, 'randon': 72})\n",
      "(8, 30, {'weight': 3, 'no_num': 'igual', 'mismo_num': 1, 'betw.': 5.5, 'randon': 51})\n",
      "(8, 32, {'weight': 3, 'no_num': 'igual', 'mismo_num': 1, 'betw.': 17.077777777777776, 'randon': 39})\n",
      "(8, 33, {'weight': 4, 'no_num': 'igual', 'mismo_num': 1, 'betw.': 22.684920634920633, 'randon': 91})\n",
      "(9, 33, {'weight': 2, 'no_num': 'igual', 'mismo_num': 1, 'betw.': 16.614285714285714, 'randon': 37})\n",
      "(13, 33, {'weight': 3, 'no_num': 'igual', 'mismo_num': 1, 'betw.': 38.04920634920634, 'randon': 18})\n",
      "(14, 32, {'weight': 3, 'no_num': 'igual', 'mismo_num': 1, 'betw.': 13.511111111111113, 'randon': 76})\n",
      "(14, 33, {'weight': 2, 'no_num': 'igual', 'mismo_num': 1, 'betw.': 19.488888888888887, 'randon': 95})\n",
      "(15, 32, {'weight': 3, 'no_num': 'igual', 'mismo_num': 1, 'betw.': 13.511111111111113, 'randon': 63})\n",
      "(15, 33, {'weight': 4, 'no_num': 'igual', 'mismo_num': 1, 'betw.': 19.488888888888887, 'randon': 23})\n",
      "(18, 32, {'weight': 1, 'no_num': 'igual', 'mismo_num': 1, 'betw.': 13.511111111111113, 'randon': 82})\n",
      "(18, 33, {'weight': 2, 'no_num': 'igual', 'mismo_num': 1, 'betw.': 19.488888888888887, 'randon': 79})\n",
      "(19, 33, {'weight': 1, 'no_num': 'igual', 'mismo_num': 1, 'betw.': 33.31349206349207, 'randon': 79})\n",
      "(20, 32, {'weight': 3, 'no_num': 'igual', 'mismo_num': 1, 'betw.': 13.511111111111113, 'randon': 85})\n",
      "(20, 33, {'weight': 1, 'no_num': 'igual', 'mismo_num': 1, 'betw.': 19.488888888888887, 'randon': 22})\n",
      "(22, 32, {'weight': 2, 'no_num': 'igual', 'mismo_num': 1, 'betw.': 13.511111111111111, 'randon': 72})\n",
      "(22, 33, {'weight': 3, 'no_num': 'igual', 'mismo_num': 1, 'betw.': 19.488888888888887, 'randon': 69})\n",
      "(23, 25, {'weight': 5, 'no_num': 'igual', 'mismo_num': 1, 'betw.': 11.094444444444443, 'randon': 15})\n",
      "(23, 27, {'weight': 4, 'no_num': 'igual', 'mismo_num': 1, 'betw.': 5.9111111111111105, 'randon': 32})\n",
      "(23, 29, {'weight': 3, 'no_num': 'igual', 'mismo_num': 1, 'betw.': 3.7333333333333334, 'randon': 66})\n",
      "(23, 32, {'weight': 5, 'no_num': 'igual', 'mismo_num': 1, 'betw.': 12.533333333333331, 'randon': 99})\n",
      "(23, 33, {'weight': 4, 'no_num': 'igual', 'mismo_num': 1, 'betw.': 18.327777777777783, 'randon': 86})\n",
      "(24, 25, {'weight': 2, 'no_num': 'igual', 'mismo_num': 1, 'betw.': 2.3666666666666667, 'randon': 12})\n",
      "(24, 27, {'weight': 3, 'no_num': 'igual', 'mismo_num': 1, 'betw.': 10.466666666666665, 'randon': 82})\n",
      "(24, 31, {'weight': 2, 'no_num': 'igual', 'mismo_num': 1, 'betw.': 22.5, 'randon': 54})\n",
      "(25, 31, {'weight': 7, 'no_num': 'igual', 'mismo_num': 1, 'betw.': 23.59444444444445, 'randon': 61})\n",
      "(26, 29, {'weight': 4, 'no_num': 'igual', 'mismo_num': 1, 'betw.': 2.5428571428571427, 'randon': 84})\n",
      "(26, 33, {'weight': 2, 'no_num': 'igual', 'mismo_num': 1, 'betw.': 30.457142857142856, 'randon': 56})\n",
      "(27, 33, {'weight': 4, 'no_num': 'igual', 'mismo_num': 1, 'betw.': 17.097619047619048, 'randon': 61})\n",
      "(28, 31, {'weight': 2, 'no_num': 'igual', 'mismo_num': 1, 'betw.': 8.333333333333332, 'randon': 49})\n",
      "(28, 33, {'weight': 2, 'no_num': 'igual', 'mismo_num': 1, 'betw.': 13.78095238095238, 'randon': 45})\n",
      "(29, 32, {'weight': 4, 'no_num': 'igual', 'mismo_num': 1, 'betw.': 13.087301587301585, 'randon': 18})\n",
      "(29, 33, {'weight': 2, 'no_num': 'igual', 'mismo_num': 1, 'betw.': 16.72222222222222, 'randon': 94})\n",
      "(30, 32, {'weight': 3, 'no_num': 'igual', 'mismo_num': 1, 'betw.': 9.566666666666666, 'randon': 48})\n",
      "(30, 33, {'weight': 3, 'no_num': 'igual', 'mismo_num': 1, 'betw.': 15.042857142857141, 'randon': 19})\n",
      "(31, 32, {'weight': 4, 'no_num': 'igual', 'mismo_num': 1, 'betw.': 23.244444444444447, 'randon': 96})\n",
      "(31, 33, {'weight': 4, 'no_num': 'igual', 'mismo_num': 1, 'betw.': 29.95396825396826, 'randon': 15})\n",
      "(32, 33, {'weight': 5, 'no_num': 'igual', 'mismo_num': 1, 'betw.': 4.614285714285714, 'randon': 22})\n"
     ]
    },
    {
     "data": {
      "text/plain": [
       "[((30, 32), {'randon': 48}),\n",
       " ((30, 33), {'randon': 19}),\n",
       " ((31, 32), {'randon': 96}),\n",
       " ((31, 33), {'randon': 15}),\n",
       " ((32, 33), {'randon': 22})]"
      ]
     },
     "execution_count": 28,
     "metadata": {},
     "output_type": "execute_result"
    }
   ],
   "source": [
    "new_dict ={}\n",
    "for tuple in aristas:\n",
    "    valor = random.randint(1,9)*10 + random.randint(1,9)\n",
    "    new_dict[tuple] ={\"randon\" : valor}\n",
    "nx.set_edge_attributes(G_karate, new_dict)\n",
    "for dato in G_karate.edges(data=True):\n",
    "    print(dato)\n",
    "\n",
    "(list(new_dict.items())[-5:])"
   ]
  },
  {
   "cell_type": "markdown",
   "id": "b51cbc7f-fd54-48cf-8c89-1dd5de4d4bc2",
   "metadata": {},
   "source": [
    "Hemos conseguido meter en los nodos y en las aristas información adicional<br>\n",
    "Ahora hay que pensar que tipo de ejercicio queremos hacer con grafos."
   ]
  },
  {
   "cell_type": "code",
   "execution_count": null,
   "id": "d0d2ee96-1033-4750-b9a4-bc49087d4e81",
   "metadata": {},
   "outputs": [],
   "source": []
  },
  {
   "cell_type": "code",
   "execution_count": null,
   "id": "43deb2c1-db5b-4b17-9711-620c47f126ae",
   "metadata": {},
   "outputs": [],
   "source": []
  },
  {
   "cell_type": "code",
   "execution_count": null,
   "id": "03ccf3dd-d03f-4809-b95b-cc78cc7974bf",
   "metadata": {},
   "outputs": [],
   "source": []
  },
  {
   "cell_type": "code",
   "execution_count": null,
   "id": "822df1a1-0c15-4bd4-87e4-c85743415b45",
   "metadata": {},
   "outputs": [],
   "source": []
  },
  {
   "cell_type": "code",
   "execution_count": null,
   "id": "0bebd251-733e-4302-92bd-4bec49f5097f",
   "metadata": {},
   "outputs": [],
   "source": []
  },
  {
   "cell_type": "code",
   "execution_count": null,
   "id": "61da111e-761e-4ef4-a431-474a6ce1924a",
   "metadata": {},
   "outputs": [],
   "source": []
  },
  {
   "cell_type": "code",
   "execution_count": null,
   "id": "d288b554-87a8-489d-aa8f-6ce884adab49",
   "metadata": {},
   "outputs": [],
   "source": []
  }
 ],
 "metadata": {
  "kernelspec": {
   "display_name": "Python 3 (ipykernel)",
   "language": "python",
   "name": "python3"
  },
  "language_info": {
   "codemirror_mode": {
    "name": "ipython",
    "version": 3
   },
   "file_extension": ".py",
   "mimetype": "text/x-python",
   "name": "python",
   "nbconvert_exporter": "python",
   "pygments_lexer": "ipython3",
   "version": "3.10.12"
  }
 },
 "nbformat": 4,
 "nbformat_minor": 5
}
