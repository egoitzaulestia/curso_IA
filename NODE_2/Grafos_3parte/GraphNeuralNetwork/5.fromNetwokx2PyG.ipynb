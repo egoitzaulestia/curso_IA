{
 "cells": [
  {
   "cell_type": "markdown",
   "id": "be9f4660-2918-4ed5-8d9b-819b9e2b6070",
   "metadata": {},
   "source": [
    "El objetivo de este notebook es generar un dataset para Pytorch Geometric a partir de un grafo que haya sido generado con Networkx.<br>\n",
    "Parto de un ejemplo con KarateCLub. He encontrado otro más sencillo que utilizo en el notebook '6frNet2PyG'.\n"
   ]
  },
  {
   "cell_type": "code",
   "execution_count": 1,
   "id": "e9a4e053-ef0c-4526-945c-2554156848a3",
   "metadata": {},
   "outputs": [],
   "source": [
    "import torch\n",
    "import numpy as np\n",
    "from torch_geometric.data import InMemoryDataset, Data\n",
    "import networkx as nx\n",
    "\n",
    "class KarateClub(InMemoryDataset):\n",
    "    r\"\"\"Zachary's karate club network from the `\"An Information Flow Model for\n",
    "    Conflict and Fission in Small Groups\"\n",
    "    <http://www1.ind.ku.dk/complexLearning/zachary1977.pdf>`_ paper, containing\n",
    "    34 nodes, connected by 156 (undirected and unweighted) edges.\n",
    "    Every node is labeled by one of four classes obtained via modularity-based\n",
    "    clustering, following the `\"Semi-supervised Classification with Graph\n",
    "    Convolutional Networks\" <https://arxiv.org/abs/1609.02907>`_ paper.\n",
    "    Training is based on a single labeled example per class, *i.e.* a total\n",
    "    number of 4 labeled nodes.\n",
    "    \n",
    "    Args:\n",
    "        transform (callable, optional): A function/transform that takes in an\n",
    "            :obj:`torch_geometric.data.Data` object and returns a transformed\n",
    "            version. The data object will be transformed before every access.\n",
    "            (default: :obj:`None`)\n",
    "    \"\"\"\n",
    "    def __init__(self, transform=None):\n",
    "        super(KarateClub, self).__init__('.', transform, None, None)\n",
    "    \n",
    "        import networkx as nx\n",
    "    \n",
    "        G = nx.karate_club_graph()\n",
    "    \n",
    "        x = torch.eye(G.number_of_nodes(), dtype=torch.float)\n",
    "    \n",
    "        adj = nx.adjacency_matrix(G).tocoo()\n",
    "        row = torch.from_numpy(adj.row.astype(np.int64)).to(torch.long)\n",
    "        col = torch.from_numpy(adj.col.astype(np.int64)).to(torch.long)\n",
    "        edge_index = torch.stack([row, col], dim=0)\n",
    "    \n",
    "        # Create communities.\n",
    "        y = torch.tensor([\n",
    "            1, 1, 1, 1, 3, 3, 3, 1, 0, 1, 3, 1, 1, 1, 0, 0, 3, 1, 0, 1, 0, 1,\n",
    "            0, 0, 2, 2, 0, 0, 2, 0, 0, 2, 0, 0\n",
    "        ], dtype=torch.long)\n",
    "    \n",
    "        # Select a single training node for each community\n",
    "        # (we just use the first one).\n",
    "        train_mask = torch.zeros(y.size(0), dtype=torch.bool)\n",
    "        for i in range(int(y.max()) + 1):\n",
    "            train_mask[(y == i).nonzero(as_tuple=False)[0]] = True\n",
    "    \n",
    "        data = Data(x=x, edge_index=edge_index, y=y, train_mask=train_mask)\n",
    "    \n",
    "        self.data, self.slices = self.collate([data])\n",
    "    \n",
    "    def __repr__(self):\n",
    "        return '{}()'.format(self.__class__.__name__)\n"
   ]
  },
  {
   "cell_type": "code",
   "execution_count": 3,
   "id": "9403adb1-b961-4f98-8af0-a3e199d7f17e",
   "metadata": {},
   "outputs": [
    {
     "name": "stdout",
     "output_type": "stream",
     "text": [
      "Dataset: KarateClub():\n",
      "======================\n",
      "Number of graphs: 1\n",
      "Number of features: 34\n",
      "Number of classes: 4\n"
     ]
    }
   ],
   "source": [
    "dataset = KarateClub()\n",
    "print(f'Dataset: {dataset}:')\n",
    "print('======================')\n",
    "\n",
    "# There can be one or more number of graphs in a dataset\n",
    "# In this case it is only 1.\n",
    "print(f'Number of graphs: {len(dataset)}')\n",
    "print(f'Number of features: {dataset.num_features}')\n",
    "\n",
    "# Node labels are the labels of the community that the node ends up joining\n",
    "# These labels are obtained by via modularity-based clustering\n",
    "print(f'Number of classes: {dataset.num_classes}')"
   ]
  },
  {
   "cell_type": "code",
   "execution_count": 4,
   "id": "4b327a1b-c25a-426b-9e93-f1b4bdb6126e",
   "metadata": {},
   "outputs": [
    {
     "name": "stdout",
     "output_type": "stream",
     "text": [
      "Data(x=[34, 34], edge_index=[2, 156], y=[34], train_mask=[34])\n"
     ]
    }
   ],
   "source": [
    "karate_club = dataset[0]  # Get the dataset graph\n",
    "print(karate_club)"
   ]
  },
  {
   "cell_type": "code",
   "execution_count": 5,
   "id": "2c411e96-1b11-4526-8183-f54aee1191cf",
   "metadata": {},
   "outputs": [
    {
     "name": "stdout",
     "output_type": "stream",
     "text": [
      "Total number of nodes: 34\n",
      "Number of training nodes: 4\n",
      "Training node label rate: 0.12\n"
     ]
    }
   ],
   "source": [
    "print(f'Total number of nodes: {karate_club.num_nodes}')\n",
    "print(f'Number of training nodes: {karate_club.train_mask.sum()}')\n",
    "print(f'Training node label rate: {int(karate_club.train_mask.sum()) / karate_club.num_nodes:.2f}')"
   ]
  },
  {
   "cell_type": "code",
   "execution_count": 6,
   "id": "4ac314b4-5619-49d3-87e2-668ce0595308",
   "metadata": {},
   "outputs": [
    {
     "data": {
      "text/plain": [
       "<torch._C.Generator at 0x7f6d20b48ef0>"
      ]
     },
     "execution_count": 6,
     "metadata": {},
     "output_type": "execute_result"
    }
   ],
   "source": [
    "import torch\n",
    "from torch.nn import Linear, Dropout, Tanh, ReLU # import the torch layers\n",
    "torch.manual_seed(140) # for reproducibility\n"
   ]
  },
  {
   "cell_type": "code",
   "execution_count": 8,
   "id": "4d2f7a75-4196-444f-8c42-612d4e7e5d22",
   "metadata": {},
   "outputs": [
    {
     "data": {
      "text/plain": [
       "<torch._C.Generator at 0x7f6c6f536110>"
      ]
     },
     "execution_count": 8,
     "metadata": {},
     "output_type": "execute_result"
    }
   ],
   "source": [
    "g_prueba = torch.Generator()\n",
    "g_prueba"
   ]
  },
  {
   "cell_type": "code",
   "execution_count": 9,
   "id": "d937b41a-a5b7-4e18-a511-5ef2d52f2d72",
   "metadata": {},
   "outputs": [],
   "source": [
    "def accuracy(logits, labels):\n",
    "    # find the accuracy \n",
    "    pred = torch.argmax(logits, dim=1)\n",
    "    acc = torch.mean((pred == labels).float())\n",
    "    return acc"
   ]
  },
  {
   "cell_type": "code",
   "execution_count": 10,
   "id": "7030fe8d-db5f-4b34-81fd-ad1f93e69257",
   "metadata": {},
   "outputs": [],
   "source": [
    "from torch_geometric.nn import GCNConv"
   ]
  },
  {
   "cell_type": "code",
   "execution_count": 11,
   "id": "bc4b291c-36e4-44b2-b3f0-79bf8db66282",
   "metadata": {},
   "outputs": [
    {
     "name": "stdout",
     "output_type": "stream",
     "text": [
      "Data(x=[34, 34], edge_index=[2, 156], y=[34], train_mask=[34])\n",
      "==============================================================\n",
      "Number of nodes: 34\n",
      "Number of edges: 156\n",
      "Average node degree: 4.59\n",
      "Number of training nodes: 4\n",
      "Training node label rate: 0.12\n",
      "Has isolated nodes: False\n",
      "Has self-loops: False\n",
      "Is undirected: True\n"
     ]
    }
   ],
   "source": [
    "data = dataset[0]  # Get the first graph object.\n",
    "\n",
    "print(data)\n",
    "print('==============================================================')\n",
    "\n",
    "# Gather some statistics about the graph.\n",
    "print(f'Number of nodes: {data.num_nodes}')\n",
    "print(f'Number of edges: {data.num_edges}')\n",
    "print(f'Average node degree: {data.num_edges / data.num_nodes:.2f}')\n",
    "print(f'Number of training nodes: {data.train_mask.sum()}')\n",
    "print(f'Training node label rate: {int(data.train_mask.sum()) / data.num_nodes:.2f}')\n",
    "print(f'Has isolated nodes: {data.has_isolated_nodes()}')\n",
    "print(f'Has self-loops: {data.has_self_loops()}')\n",
    "print(f'Is undirected: {data.is_undirected()}')"
   ]
  },
  {
   "cell_type": "code",
   "execution_count": 13,
   "id": "c7500017-1bee-40c8-8699-96d508728048",
   "metadata": {},
   "outputs": [
    {
     "name": "stdout",
     "output_type": "stream",
     "text": [
      "GCN(\n",
      "  (conv1): GCNConv(34, 4)\n",
      "  (conv2): GCNConv(4, 4)\n",
      "  (conv3): GCNConv(4, 2)\n",
      "  (classifier): Linear(in_features=2, out_features=4, bias=True)\n",
      ")\n"
     ]
    }
   ],
   "source": [
    "class GCN(torch.nn.Module):\n",
    "    def __init__(self):\n",
    "        super().__init__()\n",
    "        torch.manual_seed(1234)\n",
    "        self.conv1 = GCNConv(dataset.num_features, 4)\n",
    "        self.conv2 = GCNConv(4, 4)\n",
    "        self.conv3 = GCNConv(4, 2)\n",
    "        self.classifier = Linear(2, dataset.num_classes)\n",
    "\n",
    "    def forward(self, x, edge_index):\n",
    "        h = self.conv1(x, edge_index)\n",
    "        h = h.tanh()\n",
    "        h = self.conv2(h, edge_index)\n",
    "        h = h.tanh()\n",
    "        h = self.conv3(h, edge_index)\n",
    "        h = h.tanh()  # Final GNN embedding space.\n",
    "        \n",
    "        # Apply a final (linear) classifier.\n",
    "        out = self.classifier(h)\n",
    "\n",
    "        return out, h\n",
    "\n",
    "model = GCN()\n",
    "print(model)\n"
   ]
  },
  {
   "cell_type": "code",
   "execution_count": 14,
   "id": "5533e573-0e54-4efc-859b-2147bfe83f83",
   "metadata": {},
   "outputs": [],
   "source": [
    "import time\n",
    "\n",
    "model = GCN()\n",
    "criterion = torch.nn.CrossEntropyLoss()  # Define loss criterion.\n",
    "optimizer = torch.optim.Adam(model.parameters(), lr=0.01)  # Define optimizer.\n",
    "\n",
    "def train(data):\n",
    "    optimizer.zero_grad()  # Clear gradients.\n",
    "    out, h = model(data.x, data.edge_index)  # Perform a single forward pass.\n",
    "    loss = criterion(out[data.train_mask], data.y[data.train_mask])  # Compute the loss solely based on the training nodes.\n",
    "    loss.backward()  # Derive gradients.\n",
    "    optimizer.step()  # Update parameters based on gradients.\n",
    "    return loss, h, out # aquí he escrito out, originalmente no lo recogía\n"
   ]
  },
  {
   "cell_type": "code",
   "execution_count": 15,
   "id": "6d0e4f64-6102-414f-94b7-34df5f5ff1f0",
   "metadata": {},
   "outputs": [],
   "source": [
    "for epoch in range(401):\n",
    "    loss, h, out_f = train(data) # aquí he escrito out_f, originalmente no lo recogía"
   ]
  },
  {
   "cell_type": "code",
   "execution_count": 17,
   "id": "1c7df489-fb51-4c87-b67c-9baea5741111",
   "metadata": {},
   "outputs": [
    {
     "name": "stdout",
     "output_type": "stream",
     "text": [
      "1.0\n"
     ]
    }
   ],
   "source": [
    "acc_f = accuracy(out_f[data.train_mask], data.y[data.train_mask])\n",
    "print(acc_f.item())"
   ]
  },
  {
   "cell_type": "code",
   "execution_count": 18,
   "id": "fbc6e22a-8e3b-4294-96c5-40cab4c318b0",
   "metadata": {},
   "outputs": [
    {
     "name": "stdout",
     "output_type": "stream",
     "text": [
      "[1, 3, 0, 2]\n"
     ]
    }
   ],
   "source": [
    "print(data.y[data.train_mask].tolist())"
   ]
  },
  {
   "cell_type": "code",
   "execution_count": 19,
   "id": "5ae9c032-60b3-40aa-958d-70c85b0ca835",
   "metadata": {},
   "outputs": [
    {
     "name": "stdout",
     "output_type": "stream",
     "text": [
      "[1, 3, 0, 2]\n"
     ]
    }
   ],
   "source": [
    "print(data.y[data.train_mask].tolist())"
   ]
  },
  {
   "cell_type": "code",
   "execution_count": 23,
   "id": "f10ff07a-43e1-4b7f-a476-408b72c509c4",
   "metadata": {},
   "outputs": [
    {
     "name": "stdout",
     "output_type": "stream",
     "text": [
      "[1, 1, 0, 1, 3, 3, 3, 1, 0, 0, 3, 1, 1, 0, 0, 0, 3, 1, 0, 0, 0, 1, 0, 0, 2, 2, 0, 2, 0, 0, 0, 2, 0, 0]\n",
      "[1, 1, 1, 1, 3, 3, 3, 1, 0, 1, 3, 1, 1, 1, 0, 0, 3, 1, 0, 1, 0, 1, 0, 0, 2, 2, 0, 0, 2, 0, 0, 2, 0, 0]\n"
     ]
    }
   ],
   "source": [
    "pred_total = torch.argmax(out_f, dim=1)\n",
    "print(pred_total.tolist())\n",
    "print(data.y.tolist())"
   ]
  },
  {
   "cell_type": "code",
   "execution_count": 24,
   "id": "b0e6db60-287d-4813-b916-0838700eb44d",
   "metadata": {},
   "outputs": [
    {
     "name": "stdout",
     "output_type": "stream",
     "text": [
      "Acierto final : 0.8235294222831726\n"
     ]
    }
   ],
   "source": [
    "acierto_final = torch.mean((pred_total == data.y).float())\n",
    "print(f\"Acierto final : {acierto_final.item()}\")"
   ]
  },
  {
   "cell_type": "code",
   "execution_count": null,
   "id": "69ecfc72-eb8e-4b6a-bcca-85d3a705b87b",
   "metadata": {},
   "outputs": [],
   "source": []
  }
 ],
 "metadata": {
  "kernelspec": {
   "display_name": "Python 3 (ipykernel)",
   "language": "python",
   "name": "python3"
  },
  "language_info": {
   "codemirror_mode": {
    "name": "ipython",
    "version": 3
   },
   "file_extension": ".py",
   "mimetype": "text/x-python",
   "name": "python",
   "nbconvert_exporter": "python",
   "pygments_lexer": "ipython3",
   "version": "3.10.12"
  }
 },
 "nbformat": 4,
 "nbformat_minor": 5
}
