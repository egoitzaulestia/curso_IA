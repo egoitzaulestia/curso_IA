{
 "cells": [
  {
   "cell_type": "code",
   "execution_count": 9,
   "id": "e9a4e053-ef0c-4526-945c-2554156848a3",
   "metadata": {},
   "outputs": [],
   "source": [
    "import torch\n",
    "import numpy as np\n",
    "from torch_geometric.data import InMemoryDataset, Data\n",
    "import networkx as nx\n",
    "\n",
    "class KarateClub(InMemoryDataset):\n",
    "    r\"\"\"Zachary's karate club network from the `\"An Information Flow Model for\n",
    "    Conflict and Fission in Small Groups\"\n",
    "    <http://www1.ind.ku.dk/complexLearning/zachary1977.pdf>`_ paper, containing\n",
    "    34 nodes, connected by 156 (undirected and unweighted) edges.\n",
    "    Every node is labeled by one of four classes obtained via modularity-based\n",
    "    clustering, following the `\"Semi-supervised Classification with Graph\n",
    "    Convolutional Networks\" <https://arxiv.org/abs/1609.02907>`_ paper.\n",
    "    Training is based on a single labeled example per class, *i.e.* a total\n",
    "    number of 4 labeled nodes.\n",
    "    \n",
    "    Args:\n",
    "        transform (callable, optional): A function/transform that takes in an\n",
    "            :obj:`torch_geometric.data.Data` object and returns a transformed\n",
    "            version. The data object will be transformed before every access.\n",
    "            (default: :obj:`None`)\n",
    "    \"\"\"\n",
    "    def __init__(self, transform=None):\n",
    "        super(KarateClub, self).__init__('.', transform, None, None)\n",
    "    \n",
    "        import networkx as nx\n",
    "    \n",
    "        G = nx.karate_club_graph()\n",
    "    \n",
    "        x = torch.eye(G.number_of_nodes(), dtype=torch.float)\n",
    "    \n",
    "        adj = nx.to_scipy_sparse_matrix(G).tocoo()\n",
    "        row = torch.from_numpy(adj.row.astype(np.int64)).to(torch.long)\n",
    "        col = torch.from_numpy(adj.col.astype(np.int64)).to(torch.long)\n",
    "        edge_index = torch.stack([row, col], dim=0)\n",
    "    \n",
    "        # Create communities.\n",
    "        y = torch.tensor([\n",
    "            1, 1, 1, 1, 3, 3, 3, 1, 0, 1, 3, 1, 1, 1, 0, 0, 3, 1, 0, 1, 0, 1,\n",
    "            0, 0, 2, 2, 0, 0, 2, 0, 0, 2, 0, 0\n",
    "        ], dtype=torch.long)\n",
    "    \n",
    "        # Select a single training node for each community\n",
    "        # (we just use the first one).\n",
    "        train_mask = torch.zeros(y.size(0), dtype=torch.bool)\n",
    "        for i in range(int(y.max()) + 1):\n",
    "            train_mask[(y == i).nonzero(as_tuple=False)[0]] = True\n",
    "    \n",
    "        data = Data(x=x, edge_index=edge_index, y=y, train_mask=train_mask)\n",
    "    \n",
    "        self.data, self.slices = self.collate([data])\n",
    "    \n",
    "    def __repr__(self):\n",
    "        return '{}()'.format(self.__class__.__name__)\n"
   ]
  },
  {
   "cell_type": "code",
   "execution_count": 10,
   "id": "9403adb1-b961-4f98-8af0-a3e199d7f17e",
   "metadata": {},
   "outputs": [
    {
     "ename": "NameError",
     "evalue": "name 'adj' is not defined",
     "output_type": "error",
     "traceback": [
      "\u001b[0;31m---------------------------------------------------------------------------\u001b[0m",
      "\u001b[0;31mNameError\u001b[0m                                 Traceback (most recent call last)",
      "Cell \u001b[0;32mIn[10], line 1\u001b[0m\n\u001b[0;32m----> 1\u001b[0m dataset\u001b[38;5;241m=\u001b[39m \u001b[43mKarateClub\u001b[49m\u001b[43m(\u001b[49m\u001b[43m)\u001b[49m\n\u001b[1;32m      2\u001b[0m \u001b[38;5;28mprint\u001b[39m(dataset)\n",
      "Cell \u001b[0;32mIn[9], line 33\u001b[0m, in \u001b[0;36mKarateClub.__init__\u001b[0;34m(self, transform)\u001b[0m\n\u001b[1;32m     30\u001b[0m x \u001b[38;5;241m=\u001b[39m torch\u001b[38;5;241m.\u001b[39meye(G\u001b[38;5;241m.\u001b[39mnumber_of_nodes(), dtype\u001b[38;5;241m=\u001b[39mtorch\u001b[38;5;241m.\u001b[39mfloat)\n\u001b[1;32m     32\u001b[0m \u001b[38;5;66;03m#adj = nx.to_scipy_sparse_matrix(G).tocoo()\u001b[39;00m\n\u001b[0;32m---> 33\u001b[0m row \u001b[38;5;241m=\u001b[39m torch\u001b[38;5;241m.\u001b[39mfrom_numpy(\u001b[43madj\u001b[49m\u001b[38;5;241m.\u001b[39mrow\u001b[38;5;241m.\u001b[39mastype(np\u001b[38;5;241m.\u001b[39mint64))\u001b[38;5;241m.\u001b[39mto(torch\u001b[38;5;241m.\u001b[39mlong)\n\u001b[1;32m     34\u001b[0m col \u001b[38;5;241m=\u001b[39m torch\u001b[38;5;241m.\u001b[39mfrom_numpy(adj\u001b[38;5;241m.\u001b[39mcol\u001b[38;5;241m.\u001b[39mastype(np\u001b[38;5;241m.\u001b[39mint64))\u001b[38;5;241m.\u001b[39mto(torch\u001b[38;5;241m.\u001b[39mlong)\n\u001b[1;32m     35\u001b[0m edge_index \u001b[38;5;241m=\u001b[39m torch\u001b[38;5;241m.\u001b[39mstack([row, col], dim\u001b[38;5;241m=\u001b[39m\u001b[38;5;241m0\u001b[39m)\n",
      "\u001b[0;31mNameError\u001b[0m: name 'adj' is not defined"
     ]
    }
   ],
   "source": [
    "dataset= KarateClub()\n",
    "print(dataset)\n"
   ]
  },
  {
   "cell_type": "code",
   "execution_count": null,
   "id": "4b327a1b-c25a-426b-9e93-f1b4bdb6126e",
   "metadata": {},
   "outputs": [],
   "source": []
  }
 ],
 "metadata": {
  "kernelspec": {
   "display_name": "Python 3 (ipykernel)",
   "language": "python",
   "name": "python3"
  },
  "language_info": {
   "codemirror_mode": {
    "name": "ipython",
    "version": 3
   },
   "file_extension": ".py",
   "mimetype": "text/x-python",
   "name": "python",
   "nbconvert_exporter": "python",
   "pygments_lexer": "ipython3",
   "version": "3.10.12"
  }
 },
 "nbformat": 4,
 "nbformat_minor": 5
}
