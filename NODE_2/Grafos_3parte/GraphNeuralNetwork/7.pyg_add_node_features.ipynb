{
 "cells": [
  {
   "cell_type": "markdown",
   "id": "a6884b17-8a9f-4772-86c5-ab3c3c0753c7",
   "metadata": {},
   "source": [
    "El objetivo es generar **'node_features'**, haceselas llegar a la red nueonal para que con ellas pueda mejorar su predicción.La predicción sin 'node_features' era de 0.8235294222831726<br>\n",
    "\n",
    "Para ponerselo facil voy a :\n",
    "- generar un caracterisitica en los nodos, que sea la 'comunidad' que luego tiene que adivinar.\n",
    "- pasar esa 'node_feature' al dataset.\n",
    "- ejecutar la red neuronal a ver que sale"
   ]
  },
  {
   "cell_type": "code",
   "execution_count": 240,
   "id": "e9a4e053-ef0c-4526-945c-2554156848a3",
   "metadata": {},
   "outputs": [],
   "source": [
    "from typing import Callable, Optional\n",
    "\n",
    "import torch\n",
    "\n",
    "from torch_geometric.data import Data, InMemoryDataset\n",
    "\n",
    "import torch.nn.functional as fun\n",
    "\n",
    "\n",
    "class KarateClub(InMemoryDataset):\n",
    "    r\"\"\"Zachary's karate club network from the `\"An Information Flow Model for\n",
    "    Conflict and Fission in Small Groups\"\n",
    "    <http://www1.ind.ku.dk/complexLearning/zachary1977.pdf>`_ paper, containing\n",
    "    34 nodes, connected by 156 (undirected and unweighted) edges.\n",
    "    Every node is labeled by one of four classes obtained via modularity-based\n",
    "    clustering, following the `\"Semi-supervised Classification with Graph\n",
    "    Convolutional Networks\" <https://arxiv.org/abs/1609.02907>`_ paper.\n",
    "    Training is based on a single labeled example per class, *i.e.* a total\n",
    "    number of 4 labeled nodes.\n",
    "\n",
    "    Args:\n",
    "        transform (callable, optional): A function/transform that takes in an\n",
    "            :obj:`torch_geometric.data.Data` object and returns a transformed\n",
    "            version. The data object will be transformed before every access.\n",
    "            (default: :obj:`None`)\n",
    "\n",
    "    **STATS:**\n",
    "\n",
    "    .. list-table::\n",
    "        :widths: 10 10 10 10\n",
    "        :header-rows: 1\n",
    "\n",
    "        * - #nodes\n",
    "          - #edges\n",
    "          - #features\n",
    "          - #classes\n",
    "        * - 34\n",
    "          - 156\n",
    "          - 34\n",
    "          - 4\n",
    "    \"\"\"\n",
    "    def __init__(self, transform: Optional[Callable] = None):\n",
    "        super().__init__('.', transform)\n",
    "\n",
    "        row = [\n",
    "            0, 0, 0, 0, 0, 0, 0, 0, 0, 0, 0, 0, 0, 0, 0, 0, 1, 1, 1, 1, 1, 1,\n",
    "            1, 1, 1, 2, 2, 2, 2, 2, 2, 2, 2, 2, 2, 3, 3, 3, 3, 3, 3, 4, 4, 4,\n",
    "            5, 5, 5, 5, 6, 6, 6, 6, 7, 7, 7, 7, 8, 8, 8, 8, 8, 9, 9, 10, 10,\n",
    "            10, 11, 12, 12, 13, 13, 13, 13, 13, 14, 14, 15, 15, 16, 16, 17, 17,\n",
    "            18, 18, 19, 19, 19, 20, 20, 21, 21, 22, 22, 23, 23, 23, 23, 23, 24,\n",
    "            24, 24, 25, 25, 25, 26, 26, 27, 27, 27, 27, 28, 28, 28, 29, 29, 29,\n",
    "            29, 30, 30, 30, 30, 31, 31, 31, 31, 31, 31, 32, 32, 32, 32, 32, 32,\n",
    "            32, 32, 32, 32, 32, 32, 33, 33, 33, 33, 33, 33, 33, 33, 33, 33, 33,\n",
    "            33, 33, 33, 33, 33, 33\n",
    "        ]\n",
    "        col = [\n",
    "            1, 2, 3, 4, 5, 6, 7, 8, 10, 11, 12, 13, 17, 19, 21, 31, 0, 2, 3, 7,\n",
    "            13, 17, 19, 21, 30, 0, 1, 3, 7, 8, 9, 13, 27, 28, 32, 0, 1, 2, 7,\n",
    "            12, 13, 0, 6, 10, 0, 6, 10, 16, 0, 4, 5, 16, 0, 1, 2, 3, 0, 2, 30,\n",
    "            32, 33, 2, 33, 0, 4, 5, 0, 0, 3, 0, 1, 2, 3, 33, 32, 33, 32, 33, 5,\n",
    "            6, 0, 1, 32, 33, 0, 1, 33, 32, 33, 0, 1, 32, 33, 25, 27, 29, 32,\n",
    "            33, 25, 27, 31, 23, 24, 31, 29, 33, 2, 23, 24, 33, 2, 31, 33, 23,\n",
    "            26, 32, 33, 1, 8, 32, 33, 0, 24, 25, 28, 32, 33, 2, 8, 14, 15, 18,\n",
    "            20, 22, 23, 29, 30, 31, 33, 8, 9, 13, 14, 15, 18, 19, 20, 22, 23,\n",
    "            26, 27, 28, 29, 30, 31, 32\n",
    "        ]\n",
    "        edge_index = torch.tensor([row, col])\n",
    "\n",
    "        y = torch.tensor([  # Create communities.\n",
    "            1, 1, 1, 1, 3, 3, 3, 1, 0, 1, 3, 1, 1, 1, 0, 0, 3, 1, 0, 1, 0, 1,\n",
    "            0, 0, 2, 2, 0, 0, 2, 0, 0, 2, 0, 0\n",
    "        ])\n",
    "\n",
    "        x1 = torch.eye(y.size(0), dtype=torch.float)\n",
    "        # nodos = [\n",
    "        #    0, 1, 2, 3, 4, 5, 6, 7, 8, 9, 10, 11, 12, 13, 14, 15, 16, 17, 18 ,\n",
    "        #  19, 20 , 21, 22, 23, 24, 25, 26, 27, 28, 29, 30, 31, 32, 33,\n",
    "        #]\n",
    "\n",
    "        # A = y.reshape(34,1).type(torch.float32)\n",
    "        x2 = fun.one_hot(y, num_classes =4).type(torch.float32)\n",
    "        print(x2.tolist())\n",
    "        \n",
    "        x = torch.cat((x1,x2,x2),1)\n",
    "        # x = x2 probando con sólo 4 features tb consigo Acierto final : 0.8235294222831726\n",
    "\n",
    "        # Select a single training node for each community\n",
    "        # (we just use the first one).\n",
    "        train_mask = torch.zeros(y.size(0), dtype=torch.bool)\n",
    "        for i in range(int(y.max()) + 1):\n",
    "            train_mask[(y == i).nonzero(as_tuple=False)[0]] = True\n",
    "\n",
    "        data = Data(x=x, edge_index=edge_index, y=y, train_mask=train_mask)\n",
    "\n",
    "        self.data, self.slices = self.collate([data])"
   ]
  },
  {
   "cell_type": "code",
   "execution_count": 241,
   "id": "9403adb1-b961-4f98-8af0-a3e199d7f17e",
   "metadata": {},
   "outputs": [
    {
     "name": "stdout",
     "output_type": "stream",
     "text": [
      "[[0.0, 1.0, 0.0, 0.0], [0.0, 1.0, 0.0, 0.0], [0.0, 1.0, 0.0, 0.0], [0.0, 1.0, 0.0, 0.0], [0.0, 0.0, 0.0, 1.0], [0.0, 0.0, 0.0, 1.0], [0.0, 0.0, 0.0, 1.0], [0.0, 1.0, 0.0, 0.0], [1.0, 0.0, 0.0, 0.0], [0.0, 1.0, 0.0, 0.0], [0.0, 0.0, 0.0, 1.0], [0.0, 1.0, 0.0, 0.0], [0.0, 1.0, 0.0, 0.0], [0.0, 1.0, 0.0, 0.0], [1.0, 0.0, 0.0, 0.0], [1.0, 0.0, 0.0, 0.0], [0.0, 0.0, 0.0, 1.0], [0.0, 1.0, 0.0, 0.0], [1.0, 0.0, 0.0, 0.0], [0.0, 1.0, 0.0, 0.0], [1.0, 0.0, 0.0, 0.0], [0.0, 1.0, 0.0, 0.0], [1.0, 0.0, 0.0, 0.0], [1.0, 0.0, 0.0, 0.0], [0.0, 0.0, 1.0, 0.0], [0.0, 0.0, 1.0, 0.0], [1.0, 0.0, 0.0, 0.0], [1.0, 0.0, 0.0, 0.0], [0.0, 0.0, 1.0, 0.0], [1.0, 0.0, 0.0, 0.0], [1.0, 0.0, 0.0, 0.0], [0.0, 0.0, 1.0, 0.0], [1.0, 0.0, 0.0, 0.0], [1.0, 0.0, 0.0, 0.0]]\n",
      "Dataset: KarateClub():\n",
      "======================\n",
      "Number of graphs: 1\n",
      "Number of features: 42\n",
      "Number of classes: 4\n"
     ]
    }
   ],
   "source": [
    "dataset = KarateClub()\n",
    "print(f'Dataset: {dataset}:')\n",
    "print('======================')\n",
    "\n",
    "# There can be one or more number of graphs in a dataset\n",
    "# In this case it is only 1.\n",
    "print(f'Number of graphs: {len(dataset)}')\n",
    "print(f'Number of features: {dataset.num_features}') # 38 = 24 nodos + 4 classes\n",
    "\n",
    "# Node labels are the labels of the community that the node ends up joining\n",
    "# These labels are obtained by via modularity-based clustering\n",
    "print(f'Number of classes: {dataset.num_classes}')"
   ]
  },
  {
   "cell_type": "code",
   "execution_count": 242,
   "id": "4b327a1b-c25a-426b-9e93-f1b4bdb6126e",
   "metadata": {},
   "outputs": [
    {
     "name": "stdout",
     "output_type": "stream",
     "text": [
      "Data(x=[34, 42], edge_index=[2, 156], y=[34], train_mask=[34])\n"
     ]
    }
   ],
   "source": [
    "karate_club = dataset[0]  # Get the dataset graph\n",
    "print(karate_club)"
   ]
  },
  {
   "cell_type": "code",
   "execution_count": 243,
   "id": "2c411e96-1b11-4526-8183-f54aee1191cf",
   "metadata": {},
   "outputs": [
    {
     "name": "stdout",
     "output_type": "stream",
     "text": [
      "Total number of nodes: 34\n",
      "Number of training nodes: 4\n",
      "Training node label rate: 0.12\n"
     ]
    }
   ],
   "source": [
    "print(f'Total number of nodes: {karate_club.num_nodes}')\n",
    "print(f'Number of training nodes: {karate_club.train_mask.sum()}')\n",
    "print(f'Training node label rate: {int(karate_club.train_mask.sum()) / karate_club.num_nodes:.2f}')"
   ]
  },
  {
   "cell_type": "code",
   "execution_count": 244,
   "id": "4ac314b4-5619-49d3-87e2-668ce0595308",
   "metadata": {},
   "outputs": [
    {
     "data": {
      "text/plain": [
       "<torch._C.Generator at 0x7fe3cd360f30>"
      ]
     },
     "execution_count": 244,
     "metadata": {},
     "output_type": "execute_result"
    }
   ],
   "source": [
    "import torch\n",
    "from torch.nn import Linear, Dropout, Tanh, ReLU # import the torch layers\n",
    "torch.manual_seed(140) # for reproducibility\n"
   ]
  },
  {
   "cell_type": "code",
   "execution_count": 245,
   "id": "4d2f7a75-4196-444f-8c42-612d4e7e5d22",
   "metadata": {},
   "outputs": [
    {
     "data": {
      "text/plain": [
       "<torch._C.Generator at 0x7fe342ec4190>"
      ]
     },
     "execution_count": 245,
     "metadata": {},
     "output_type": "execute_result"
    }
   ],
   "source": [
    "g_prueba = torch.Generator()\n",
    "g_prueba"
   ]
  },
  {
   "cell_type": "code",
   "execution_count": 246,
   "id": "d937b41a-a5b7-4e18-a511-5ef2d52f2d72",
   "metadata": {},
   "outputs": [],
   "source": [
    "def accuracy(logits, labels):\n",
    "    # find the accuracy \n",
    "    pred = torch.argmax(logits, dim=1)\n",
    "    acc = torch.mean((pred == labels).float())\n",
    "    return acc"
   ]
  },
  {
   "cell_type": "code",
   "execution_count": 247,
   "id": "7030fe8d-db5f-4b34-81fd-ad1f93e69257",
   "metadata": {},
   "outputs": [],
   "source": [
    "from torch_geometric.nn import GCNConv"
   ]
  },
  {
   "cell_type": "code",
   "execution_count": 248,
   "id": "bc4b291c-36e4-44b2-b3f0-79bf8db66282",
   "metadata": {},
   "outputs": [
    {
     "name": "stdout",
     "output_type": "stream",
     "text": [
      "Data(x=[34, 42], edge_index=[2, 156], y=[34], train_mask=[34])\n",
      "==============================================================\n",
      "Number of nodes: 34\n",
      "Number of edges: 156\n",
      "Average node degree: 4.59\n",
      "Number of training nodes: 4\n",
      "Training node label rate: 0.12\n",
      "Has isolated nodes: False\n",
      "Has self-loops: False\n",
      "Is undirected: True\n"
     ]
    }
   ],
   "source": [
    "data = dataset[0]  # Get the first graph object.\n",
    "\n",
    "print(data)\n",
    "print('==============================================================')\n",
    "\n",
    "# Gather some statistics about the graph.\n",
    "print(f'Number of nodes: {data.num_nodes}')\n",
    "print(f'Number of edges: {data.num_edges}')\n",
    "print(f'Average node degree: {data.num_edges / data.num_nodes:.2f}')\n",
    "print(f'Number of training nodes: {data.train_mask.sum()}')\n",
    "print(f'Training node label rate: {int(data.train_mask.sum()) / data.num_nodes:.2f}')\n",
    "print(f'Has isolated nodes: {data.has_isolated_nodes()}')\n",
    "print(f'Has self-loops: {data.has_self_loops()}')\n",
    "print(f'Is undirected: {data.is_undirected()}')"
   ]
  },
  {
   "cell_type": "code",
   "execution_count": 249,
   "id": "c7500017-1bee-40c8-8699-96d508728048",
   "metadata": {},
   "outputs": [
    {
     "name": "stdout",
     "output_type": "stream",
     "text": [
      "GCN(\n",
      "  (conv1): GCNConv(42, 4)\n",
      "  (conv2): GCNConv(4, 4)\n",
      "  (conv3): GCNConv(4, 2)\n",
      "  (classifier): Linear(in_features=2, out_features=4, bias=True)\n",
      ")\n"
     ]
    }
   ],
   "source": [
    "class GCN(torch.nn.Module):\n",
    "    def __init__(self):\n",
    "        super().__init__()\n",
    "        torch.manual_seed(1234)\n",
    "        self.conv1 = GCNConv(dataset.num_features, 4)\n",
    "        self.conv2 = GCNConv(4, 4)\n",
    "        self.conv3 = GCNConv(4, 2)\n",
    "        self.classifier = Linear(2, dataset.num_classes)\n",
    "\n",
    "    def forward(self, x, edge_index):\n",
    "        h = self.conv1(x, edge_index)\n",
    "        h = h.tanh()\n",
    "        h = self.conv2(h, edge_index)\n",
    "        h = h.tanh()\n",
    "        h = self.conv3(h, edge_index)\n",
    "        h = h.tanh()  # Final GNN embedding space.\n",
    "        \n",
    "        # Apply a final (linear) classifier.\n",
    "        out = self.classifier(h)\n",
    "\n",
    "        return out, h\n",
    "\n",
    "model = GCN()\n",
    "print(model)\n"
   ]
  },
  {
   "cell_type": "code",
   "execution_count": 250,
   "id": "5533e573-0e54-4efc-859b-2147bfe83f83",
   "metadata": {},
   "outputs": [],
   "source": [
    "import time\n",
    "\n",
    "model = GCN()\n",
    "criterion = torch.nn.CrossEntropyLoss()  # Define loss criterion.\n",
    "optimizer = torch.optim.Adam(model.parameters(), lr=0.01)  # Define optimizer.\n",
    "\n",
    "def train(data):\n",
    "    optimizer.zero_grad()  # Clear gradients.\n",
    "    out, h = model(data.x, data.edge_index)  # Perform a single forward pass.\n",
    "    loss = criterion(out[data.train_mask], data.y[data.train_mask])  # Compute the loss solely based on the training nodes.\n",
    "    loss.backward()  # Derive gradients.\n",
    "    optimizer.step()  # Update parameters based on gradients.\n",
    "    return loss, h, out # aquí he escrito out, originalmente no lo recogía\n"
   ]
  },
  {
   "cell_type": "code",
   "execution_count": 251,
   "id": "6d0e4f64-6102-414f-94b7-34df5f5ff1f0",
   "metadata": {},
   "outputs": [],
   "source": [
    "for epoch in range(401):\n",
    "    loss, h, out_f = train(data) # aquí he escrito out_f, originalmente no lo recogía"
   ]
  },
  {
   "cell_type": "code",
   "execution_count": 252,
   "id": "1c7df489-fb51-4c87-b67c-9baea5741111",
   "metadata": {},
   "outputs": [
    {
     "name": "stdout",
     "output_type": "stream",
     "text": [
      "1.0\n"
     ]
    }
   ],
   "source": [
    "acc_f = accuracy(out_f[data.train_mask], data.y[data.train_mask])\n",
    "print(acc_f.item())"
   ]
  },
  {
   "cell_type": "code",
   "execution_count": 253,
   "id": "fbc6e22a-8e3b-4294-96c5-40cab4c318b0",
   "metadata": {},
   "outputs": [
    {
     "name": "stdout",
     "output_type": "stream",
     "text": [
      "[1, 3, 0, 2]\n"
     ]
    }
   ],
   "source": [
    "print(data.y[data.train_mask].tolist())"
   ]
  },
  {
   "cell_type": "code",
   "execution_count": 254,
   "id": "5ae9c032-60b3-40aa-958d-70c85b0ca835",
   "metadata": {},
   "outputs": [
    {
     "name": "stdout",
     "output_type": "stream",
     "text": [
      "[1, 3, 0, 2]\n"
     ]
    }
   ],
   "source": [
    "print(data.y[data.train_mask].tolist())"
   ]
  },
  {
   "cell_type": "code",
   "execution_count": 255,
   "id": "f10ff07a-43e1-4b7f-a476-408b72c509c4",
   "metadata": {},
   "outputs": [
    {
     "name": "stdout",
     "output_type": "stream",
     "text": [
      "[1, 1, 2, 1, 3, 3, 3, 1, 0, 0, 3, 1, 1, 2, 0, 0, 3, 1, 0, 1, 0, 1, 0, 0, 2, 2, 0, 2, 2, 0, 0, 2, 0, 0]\n",
      "[1, 1, 1, 1, 3, 3, 3, 1, 0, 1, 3, 1, 1, 1, 0, 0, 3, 1, 0, 1, 0, 1, 0, 0, 2, 2, 0, 0, 2, 0, 0, 2, 0, 0]\n"
     ]
    }
   ],
   "source": [
    "pred_total = torch.argmax(out_f, dim=1)\n",
    "print(pred_total.tolist())\n",
    "print(data.y.tolist())"
   ]
  },
  {
   "cell_type": "code",
   "execution_count": 256,
   "id": "b0e6db60-287d-4813-b916-0838700eb44d",
   "metadata": {},
   "outputs": [
    {
     "name": "stdout",
     "output_type": "stream",
     "text": [
      "Acierto final : 0.8823529481887817\n"
     ]
    }
   ],
   "source": [
    "acierto_final = torch.mean((pred_total == data.y).float())\n",
    "print(f\"Acierto final : {acierto_final.item()}\")"
   ]
  },
  {
   "cell_type": "markdown",
   "id": "17a656dd-2a68-4fbe-b1db-76183ee281bb",
   "metadata": {},
   "source": [
    "Pues no he conseguido generar un mejor resultado aunque tengo 4 features más.\n",
    "El resultado anterior era :Acierto final : 0.8235294222831726"
   ]
  },
  {
   "cell_type": "markdown",
   "id": "0d481f16-e8b1-4011-b47c-59562d7ca650",
   "metadata": {},
   "source": [
    "Pasando de 4 a 8 trues en la máscara si que he conseguido subir al .91"
   ]
  },
  {
   "cell_type": "markdown",
   "id": "988b3246-19e8-46e6-b0aa-4c360f31744c",
   "metadata": {},
   "source": [
    "Pasnadole 2 veces la información de las clases ha subido hasta el .882"
   ]
  },
  {
   "cell_type": "markdown",
   "id": "cc154856-5a0e-4e9f-9e18-410ebe557480",
   "metadata": {},
   "source": [
    "Pasandole 5 veces a vuelto a bajar al .8235"
   ]
  },
  {
   "cell_type": "markdown",
   "id": "1fc4a622-f91c-4668-aea5-569a3c0656d5",
   "metadata": {},
   "source": [
    "pasandole 3 veces a bajado al 0,64"
   ]
  },
  {
   "cell_type": "code",
   "execution_count": null,
   "id": "75259fbb-375e-4c72-aca2-e748f74945c8",
   "metadata": {},
   "outputs": [],
   "source": []
  }
 ],
 "metadata": {
  "kernelspec": {
   "display_name": "Python 3 (ipykernel)",
   "language": "python",
   "name": "python3"
  },
  "language_info": {
   "codemirror_mode": {
    "name": "ipython",
    "version": 3
   },
   "file_extension": ".py",
   "mimetype": "text/x-python",
   "name": "python",
   "nbconvert_exporter": "python",
   "pygments_lexer": "ipython3",
   "version": "3.10.12"
  }
 },
 "nbformat": 4,
 "nbformat_minor": 5
}
