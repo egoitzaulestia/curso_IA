{
 "cells": [
  {
   "cell_type": "markdown",
   "id": "34bda9d0-75f7-40a5-95da-0e3d3f5cc261",
   "metadata": {},
   "source": [
    "https://stackoverflow.com/questions/70452465/how-to-load-in-graph-from-networkx-into-pytorch-geometric-and-set-node-features<br>\n",
    "El objetivo es pasar de un grafo de networkx a uno de pytorch. Utilizando la librería PyG (Pytorch Geometric)"
   ]
  },
  {
   "cell_type": "code",
   "execution_count": 1,
   "id": "2a3406c5-ed6b-4915-b821-1d13b361441e",
   "metadata": {},
   "outputs": [],
   "source": [
    "import networkx as nx\n",
    "import numpy as np\n",
    "import torch\n",
    "from torch_geometric.utils.convert import from_networkx\n",
    "import matplotlib.pyplot as plt\n",
    "import random\n",
    "\n",
    "\n",
    "# Make the networkx graph\n",
    "G = nx.Graph()\n",
    "\n",
    "# Add some cars (just do 4 for now)\n",
    "G.add_nodes_from([\n",
    "      (1, {'y': 1, 'x': 0.5}),\n",
    "      (2, {'y': 2, 'x': 0.2}),\n",
    "      (3, {'y': 1, 'x': 0.3}),\n",
    "      (4, {'y': 1, 'x': 0.1}),\n",
    "      (5, {'y': 2, 'x': 0.2}),\n",
    "])\n",
    "\n",
    "# Add some edges\n",
    "G.add_edges_from([\n",
    "                  (1, 2), (1, 4), (1, 5),\n",
    "                  (2, 3), (2, 4),\n",
    "                  (3, 2), (3, 5),\n",
    "                  (4, 1), (4, 2),\n",
    "                  (5, 1), (5, 3)\n",
    "])\n"
   ]
  },
  {
   "cell_type": "markdown",
   "id": "f0b1eb0e-ee93-42dd-8a1b-bfd92b03cbf6",
   "metadata": {},
   "source": [
    "# Inspeccionando con Networkx"
   ]
  },
  {
   "cell_type": "code",
   "execution_count": 2,
   "id": "7b637cf3-1c62-4c9e-949f-ac3e72000dcd",
   "metadata": {
    "scrolled": true
   },
   "outputs": [
    {
     "data": {
      "text/plain": [
       "NodeView((1, 2, 3, 4, 5))"
      ]
     },
     "execution_count": 2,
     "metadata": {},
     "output_type": "execute_result"
    }
   ],
   "source": [
    "G.nodes()"
   ]
  },
  {
   "cell_type": "code",
   "execution_count": 3,
   "id": "174d850c-3acb-44b6-8db2-8f37d88cd40e",
   "metadata": {},
   "outputs": [
    {
     "data": {
      "text/plain": [
       "NodeDataView({1: {'y': 1, 'x': 0.5}, 2: {'y': 2, 'x': 0.2}, 3: {'y': 1, 'x': 0.3}, 4: {'y': 1, 'x': 0.1}, 5: {'y': 2, 'x': 0.2}})"
      ]
     },
     "execution_count": 3,
     "metadata": {},
     "output_type": "execute_result"
    }
   ],
   "source": [
    "G.nodes(data=True)"
   ]
  },
  {
   "cell_type": "code",
   "execution_count": 4,
   "id": "08eef2d3-10b1-417a-80cc-1f24ff251bae",
   "metadata": {},
   "outputs": [
    {
     "ename": "NameError",
     "evalue": "name 'node_dict' is not defined",
     "output_type": "error",
     "traceback": [
      "\u001b[0;31m---------------------------------------------------------------------------\u001b[0m",
      "\u001b[0;31mNameError\u001b[0m                                 Traceback (most recent call last)",
      "Cell \u001b[0;32mIn[4], line 2\u001b[0m\n\u001b[1;32m      1\u001b[0m \u001b[38;5;66;03m# node_dict = dict(G.nodes(data=True))\u001b[39;00m\n\u001b[0;32m----> 2\u001b[0m \u001b[43mnode_dict\u001b[49m\n",
      "\u001b[0;31mNameError\u001b[0m: name 'node_dict' is not defined"
     ]
    }
   ],
   "source": [
    "# node_dict = dict(G.nodes(data=True))\n",
    "node_dict"
   ]
  },
  {
   "cell_type": "code",
   "execution_count": 5,
   "id": "529102c4-c8da-4806-8385-82e1fa4df9e8",
   "metadata": {},
   "outputs": [
    {
     "data": {
      "text/plain": [
       "EdgeView([(1, 2), (1, 4), (1, 5), (2, 3), (2, 4), (3, 5)])"
      ]
     },
     "execution_count": 5,
     "metadata": {},
     "output_type": "execute_result"
    }
   ],
   "source": [
    "G.edges()"
   ]
  },
  {
   "cell_type": "code",
   "execution_count": 6,
   "id": "f72f0d32-a88d-4994-8078-52a11cc216e3",
   "metadata": {},
   "outputs": [
    {
     "data": {
      "text/plain": [
       "EdgeDataView([(1, 2, {}), (1, 4, {}), (1, 5, {}), (2, 3, {}), (2, 4, {}), (3, 5, {})])"
      ]
     },
     "execution_count": 6,
     "metadata": {},
     "output_type": "execute_result"
    }
   ],
   "source": [
    "G.edges(data=True)"
   ]
  },
  {
   "cell_type": "code",
   "execution_count": 7,
   "id": "bfb74eab-d218-45c2-8295-af0b978ccaf4",
   "metadata": {},
   "outputs": [
    {
     "data": {
      "text/plain": [
       "{1: {'y': 1, 'x': 0.5, 'Brand': 'Ford'},\n",
       " 2: {'y': 2, 'x': 0.2, 'Brand': 'Audi'},\n",
       " 3: {'y': 1, 'x': 0.3, 'Brand': 'BMW'},\n",
       " 4: {'y': 1, 'x': 0.1, 'Brand': 'Peugeot'},\n",
       " 5: {'y': 2, 'x': 0.2, 'Brand': 'Lexus'}}"
      ]
     },
     "execution_count": 7,
     "metadata": {},
     "output_type": "execute_result"
    }
   ],
   "source": [
    "# Add some cars (just do 4 for now)\n",
    "G.add_nodes_from([\n",
    "      (1, {'Brand': 'Ford'}),\n",
    "      (2, {'Brand': 'Audi'}),\n",
    "      (3, {'Brand': 'BMW'}),\n",
    "      (4, {'Brand': 'Peugeot'}),\n",
    "      (5, {'Brand': 'Lexus'}),\n",
    "])\n",
    "node_descript = dict(G.nodes(data=True))\n",
    "node_descript   "
   ]
  },
  {
   "cell_type": "code",
   "execution_count": 8,
   "id": "5ef10f9d-3b8e-497a-9c30-20db843fa742",
   "metadata": {},
   "outputs": [
    {
     "data": {
      "image/png": "[encoded data removed]",
      "text/plain": [
       "<Figure size 400x200 with 1 Axes>"
      ]
     },
     "metadata": {},
     "output_type": "display_data"
    }
   ],
   "source": [
    "plt.figure(figsize=(4,2))\n",
    "nx.draw(G, with_labels=True)"
   ]
  },
  {
   "cell_type": "code",
   "execution_count": 9,
   "id": "406cfcd2-7f2c-4a5a-b52a-4c5bf40b9672",
   "metadata": {},
   "outputs": [
    {
     "name": "stdout",
     "output_type": "stream",
     "text": [
      "(1, 2, {'randon': 28})\n",
      "(1, 4, {'randon': 48})\n",
      "(1, 5, {'randon': 45})\n",
      "(2, 3, {'randon': 94})\n",
      "(2, 4, {'randon': 73})\n",
      "(3, 5, {'randon': 74})\n"
     ]
    }
   ],
   "source": [
    "aristas = G.edges()\n",
    "new_dict ={}\n",
    "for tuple in aristas:\n",
    "    valor = random.randint(1,9)*10 + random.randint(1,9)\n",
    "    new_dict[tuple] ={\"randon\" : valor}\n",
    "nx.set_edge_attributes(G, new_dict)\n",
    "for dato in G.edges(data=True):\n",
    "    print(dato)\n"
   ]
  },
  {
   "cell_type": "markdown",
   "id": "d86718d9-35bd-4437-ad27-70f2400c0855",
   "metadata": {},
   "source": [
    "¿ Y si queremos añadir atributos a las edges 'aristas'?"
   ]
  },
  {
   "cell_type": "code",
   "execution_count": 10,
   "id": "64c5281f-6b60-492d-85be-ce135d58652d",
   "metadata": {},
   "outputs": [
    {
     "data": {
      "image/png": "[encoded data removed]",
      "text/plain": [
       "<Figure size 640x480 with 1 Axes>"
      ]
     },
     "metadata": {},
     "output_type": "display_data"
    }
   ],
   "source": [
    "pos = nx.spring_layout(G, seed=0)\n",
    "\n",
    "# get edge and node attributes\n",
    "edge_labels = nx.get_edge_attributes(G, 'randon')\n",
    "node_states = nx.get_node_attributes(G, 'Brand')\n",
    "# set node state positions\n",
    "state_pos = {n: (x+0.12, y+0.05) for n, (x,y) in pos.items()}\n",
    "\n",
    "# draw graph\n",
    "nx.draw_networkx(G, pos, node_size=600)\n",
    "# draw node state labels\n",
    "nx.draw_networkx_labels(G, state_pos, labels=node_states, font_color='red')\n",
    "# draw edge attributes\n",
    "nx.draw_networkx_edge_labels(G, pos, edge_labels=edge_labels);"
   ]
  },
  {
   "cell_type": "markdown",
   "id": "f0b9b9ba-f489-4114-a7ca-5e9ae6f2b27b",
   "metadata": {},
   "source": [
    "# From networkx to PyTorch Geometric"
   ]
  },
  {
   "cell_type": "code",
   "execution_count": 11,
   "id": "d5539a56-6a95-4e3e-8170-dedfec2f91f6",
   "metadata": {},
   "outputs": [],
   "source": [
    "# Convert the graph into PyTorch geometric\n",
    "pyg_graph = from_networkx(G)"
   ]
  },
  {
   "cell_type": "code",
   "execution_count": 12,
   "id": "239409ca-1315-43d4-9f3d-d5850001fddd",
   "metadata": {},
   "outputs": [
    {
     "name": "stdout",
     "output_type": "stream",
     "text": [
      "Data(x=[5], edge_index=[2, 12], y=[5], Brand=[5], randon=[12])\n"
     ]
    }
   ],
   "source": [
    "print(pyg_graph)"
   ]
  },
  {
   "cell_type": "code",
   "execution_count": 13,
   "id": "7cdda775-7a1e-41af-9e32-268d6dd4b33f",
   "metadata": {},
   "outputs": [
    {
     "name": "stdout",
     "output_type": "stream",
     "text": [
      "tensor([0.5000, 0.2000, 0.3000, 0.1000, 0.2000])\n"
     ]
    }
   ],
   "source": [
    "print(pyg_graph.x)"
   ]
  },
  {
   "cell_type": "code",
   "execution_count": 14,
   "id": "90060654-933c-425b-b8dd-c2860479db66",
   "metadata": {},
   "outputs": [
    {
     "name": "stdout",
     "output_type": "stream",
     "text": [
      "tensor([1, 2, 1, 1, 2])\n"
     ]
    }
   ],
   "source": [
    "print(pyg_graph.y)"
   ]
  },
  {
   "cell_type": "code",
   "execution_count": 15,
   "id": "711a0af3-d07d-45ff-b431-a448aa4a1ffe",
   "metadata": {},
   "outputs": [
    {
     "name": "stdout",
     "output_type": "stream",
     "text": [
      "1\n"
     ]
    }
   ],
   "source": [
    "print(pyg_graph.num_node_features)"
   ]
  },
  {
   "cell_type": "code",
   "execution_count": 16,
   "id": "1787d97a-a02f-4270-a0f0-b113940ceca8",
   "metadata": {},
   "outputs": [
    {
     "name": "stdout",
     "output_type": "stream",
     "text": [
      "tensor([[0, 0, 0, 1, 1, 1, 2, 2, 3, 3, 4, 4],\n",
      "        [1, 3, 4, 0, 2, 3, 1, 4, 0, 1, 0, 2]])\n"
     ]
    }
   ],
   "source": [
    "# # Add some cars (just do 4 for now)\n",
    "# G.add_nodes_from([\n",
    "#       (1, {'y': 1, 'x': 0.5}),\n",
    "#       (2, {'y': 2, 'x': 0.2}),\n",
    "#       (3, {'y': 3, 'x': 0.3}),\n",
    "#       (4, {'y': 4, 'x': 0.1}),\n",
    "#       (5, {'y': 5, 'x': 0.2}),\n",
    "\n",
    "# Add some edges\n",
    "# G.add_edges_from([\n",
    "#                   (1, 2), (1, 4), (1, 5),\n",
    "#                   (2, 3), (2, 4),\n",
    "#                   (3, 2), (3, 5),\n",
    "#                   (4, 1), (4, 2),\n",
    "#                   (5, 1), (5, 3)\n",
    "\n",
    "print(pyg_graph.edge_index)"
   ]
  },
  {
   "cell_type": "code",
   "execution_count": 17,
   "id": "14f3878f-7660-402f-915e-a2520c6302b1",
   "metadata": {},
   "outputs": [
    {
     "name": "stdout",
     "output_type": "stream",
     "text": [
      "['edge_index', 'randon']\n"
     ]
    }
   ],
   "source": [
    "print(pyg_graph.edge_attrs())"
   ]
  },
  {
   "cell_type": "code",
   "execution_count": 18,
   "id": "86e3f401-6173-43fa-a41d-5d75b9a0e10f",
   "metadata": {},
   "outputs": [
    {
     "name": "stdout",
     "output_type": "stream",
     "text": [
      "['Ford', 'Audi', 'BMW', 'Peugeot', 'Lexus']\n"
     ]
    }
   ],
   "source": [
    "print(pyg_graph.Brand)"
   ]
  },
  {
   "cell_type": "code",
   "execution_count": 19,
   "id": "b55851a0-09e2-49cc-b733-7c8ac3963597",
   "metadata": {},
   "outputs": [
    {
     "name": "stdout",
     "output_type": "stream",
     "text": [
      "tensor([28, 48, 45, 28, 94, 73, 94, 74, 48, 73, 45, 74])\n"
     ]
    }
   ],
   "source": [
    "print(pyg_graph.randon)"
   ]
  },
  {
   "cell_type": "markdown",
   "id": "af256e6b-cf30-4cc9-88b1-2c54dd895eb4",
   "metadata": {},
   "source": [
    "# torch_geometric.data/Data\n",
    "class Data(x: Optional[Tensor] = None, edge_index: Optional[Tensor] = None, edge_attr: Optional[Tensor] = None, y: Optional[Tensor] = None, pos: Optional[Tensor] = None, **kwargs)<br>\n",
    "\n",
    "Graph neural networks typically expect (a subset of):\n",
    "- node features\n",
    "- edges\n",
    "- edge attributes\n",
    "- node targets\n"
   ]
  },
  {
   "cell_type": "code",
   "execution_count": 20,
   "id": "8fe26477-9f9f-40a3-af2c-8981254c28be",
   "metadata": {
    "scrolled": true
   },
   "outputs": [
    {
     "name": "stdout",
     "output_type": "stream",
     "text": [
      "Data(x=[5], edge_index=[2, 12], y=[5], Brand=[5], randon=[12])\n"
     ]
    }
   ],
   "source": [
    "print(pyg_graph)"
   ]
  },
  {
   "cell_type": "markdown",
   "id": "b51cbc7f-fd54-48cf-8c89-1dd5de4d4bc2",
   "metadata": {},
   "source": [
    "Hemos conseguido meter en los nodos y en las aristas información adicional<br>\n",
    "Ahora hay que pensar que tipo de ejercicio queremos hacer con grafos."
   ]
  },
  {
   "cell_type": "code",
   "execution_count": 21,
   "id": "d0d2ee96-1033-4750-b9a4-bc49087d4e81",
   "metadata": {},
   "outputs": [
    {
     "name": "stdout",
     "output_type": "stream",
     "text": [
      "('x', tensor([0.5000, 0.2000, 0.3000, 0.1000, 0.2000]))\n",
      "('edge_index', tensor([[0, 0, 0, 1, 1, 1, 2, 2, 3, 3, 4, 4],\n",
      "        [1, 3, 4, 0, 2, 3, 1, 4, 0, 1, 0, 2]]))\n",
      "('y', tensor([1, 2, 1, 1, 2]))\n",
      "('Brand', ['Ford', 'Audi', 'BMW', 'Peugeot', 'Lexus'])\n",
      "('randon', tensor([28, 48, 45, 28, 94, 73, 94, 74, 48, 73, 45, 74]))\n"
     ]
    }
   ],
   "source": [
    "for i in pyg_graph:\n",
    "    print(i)"
   ]
  },
  {
   "cell_type": "code",
   "execution_count": 25,
   "id": "43deb2c1-db5b-4b17-9711-620c47f126ae",
   "metadata": {},
   "outputs": [
    {
     "name": "stdout",
     "output_type": "stream",
     "text": [
      "x: ('x', tensor([0.5000, 0.2000, 0.3000, 0.1000, 0.2000]))\n",
      " algo1 :('Brand', ['Ford', 'Audi', 'BMW', 'Peugeot', 'Lexus'])\n"
     ]
    }
   ],
   "source": [
    "x,edge_index, y,algo1, algo2= pyg_graph\n",
    "print(f\"x: {x}\")\n",
    "print(f\" algo1 :{algo1}\")"
   ]
  },
  {
   "cell_type": "markdown",
   "id": "fe1b24ba-aeb8-4b5e-a233-d1a9c897781a",
   "metadata": {},
   "source": [
    "Intentamos que la red neuronal chupe el grafo"
   ]
  },
  {
   "cell_type": "code",
   "execution_count": 26,
   "id": "03ccf3dd-d03f-4809-b95b-cc78cc7974bf",
   "metadata": {},
   "outputs": [
    {
     "name": "stdout",
     "output_type": "stream",
     "text": [
      "Data(x=[5], edge_index=[2, 12], y=[5], Brand=[5], randon=[12])\n"
     ]
    }
   ],
   "source": [
    "karate_club = pyg_graph  # le llamo Karate club por comodidad\n",
    "print(karate_club)"
   ]
  },
  {
   "cell_type": "code",
   "execution_count": 27,
   "id": "822df1a1-0c15-4bd4-87e4-c85743415b45",
   "metadata": {},
   "outputs": [
    {
     "name": "stdout",
     "output_type": "stream",
     "text": [
      "[[0, 0, 0, 1, 1, 1, 2, 2, 3, 3, 4, 4], [1, 3, 4, 0, 2, 3, 1, 4, 0, 1, 0, 2]]\n"
     ]
    }
   ],
   "source": [
    "# Let us have a look at the connections in the graph.\n",
    "edge_index = karate_club.edge_index\n",
    "print(edge_index.tolist())"
   ]
  },
  {
   "cell_type": "code",
   "execution_count": 28,
   "id": "0bebd251-733e-4302-92bd-4bec49f5097f",
   "metadata": {},
   "outputs": [
    {
     "name": "stdout",
     "output_type": "stream",
     "text": [
      "tensor([0.5000, 0.2000, 0.3000, 0.1000, 0.2000])\n",
      "tensor([1, 2, 1, 1, 2])\n"
     ]
    }
   ],
   "source": [
    "# Voy a hacer lo mismo con el resto de los atributos\n",
    "\n",
    "feature_mat = karate_club.x\n",
    "print(feature_mat.t())\n",
    "\n",
    "# Hay 4 'labels [0,1,2,3]\n",
    "labels = karate_club.y\n",
    "print(labels.t())"
   ]
  },
  {
   "cell_type": "markdown",
   "id": "9efac495-6441-41ea-ba14-d6ef28dce52d",
   "metadata": {},
   "source": [
    "Nos tenía que salir esto :\n",
    "las x : en forma de matriz con digonales, es una matriz identidad de el numero de nodos\n",
    "\n",
    "tensor([[1., 0., 0.,  ..., 0., 0., 0.],\n",
    "        [0., 1., 0.,  ..., 0., 0., 0.],\n",
    "        [0., 0., 1.,  ..., 0., 0., 0.],\n",
    "        ...,\n",
    "        [0., 0., 0.,  ..., 1., 0., 0.],\n",
    "        [0., 0., 0.,  ..., 0., 1., 0.],\n",
    "        [0., 0., 0.,  ..., 0., 0., 1.]])\n",
    "tensor([1, 1, 1, 1, 3, 3, 3, 1, 0, 1, 3, 1, 1, 1, 0, 0, 3, 1, 0, 1, 0, 1, 0, 0,\n",
    "        2, 2, 0, 0, 2, 0, 0, 2, 0, 0])\n",
    "tensor([ True, False, False, False,  True, False, False, False,  True, False,\n",
    "        False, False, False, False, False, False, False, False, False, False,\n",
    "        False, False, False, False,  True, False, False, False, False, False,\n",
    "        False, False, False, False])"
   ]
  },
  {
   "cell_type": "code",
   "execution_count": 30,
   "id": "c7c2aa92-0a79-4975-bf68-bdf100f97d0d",
   "metadata": {},
   "outputs": [
    {
     "name": "stdout",
     "output_type": "stream",
     "text": [
      "tensor([[1., 0., 0., 0., 0.],\n",
      "        [0., 1., 0., 0., 0.],\n",
      "        [0., 0., 1., 0., 0.],\n",
      "        [0., 0., 0., 1., 0.],\n",
      "        [0., 0., 0., 0., 1.]])\n"
     ]
    }
   ],
   "source": [
    "new_feature_mat = torch.eye(len(feature_mat))\n",
    "print(new_feature_mat)"
   ]
  },
  {
   "cell_type": "code",
   "execution_count": 34,
   "id": "b57108b5-e3d1-4859-b8a1-3fb5b8377bf5",
   "metadata": {},
   "outputs": [
    {
     "name": "stdout",
     "output_type": "stream",
     "text": [
      "tensor([[1., 0., 0., 0., 0.],\n",
      "        [0., 1., 0., 0., 0.],\n",
      "        [0., 0., 1., 0., 0.],\n",
      "        [0., 0., 0., 1., 0.],\n",
      "        [0., 0., 0., 0., 1.]])\n",
      "tensor([1, 2, 1, 1, 2])\n",
      "[[0, 0, 0, 1, 1, 1, 2, 2, 3, 3, 4, 4], [1, 3, 4, 0, 2, 3, 1, 4, 0, 1, 0, 2]]\n"
     ]
    }
   ],
   "source": [
    "karate_club.x = new_feature_mat\n",
    "print(karate_club.x)\n",
    "print(karate_club.y)\n",
    "print(karate_club.edge_index.tolist())"
   ]
  },
  {
   "cell_type": "markdown",
   "id": "264e04a0-9dcc-4e06-b9a8-dda97311b5d7",
   "metadata": {},
   "source": [
    "Me falta generar las mascaras, lo hago a pinrel"
   ]
  },
  {
   "cell_type": "code",
   "execution_count": 41,
   "id": "9dfdb584-dccd-453f-a3d0-821e894a3f85",
   "metadata": {},
   "outputs": [
    {
     "name": "stdout",
     "output_type": "stream",
     "text": [
      "tensor([ True,  True,  True, False, False])\n"
     ]
    }
   ],
   "source": [
    "a = torch.ones(5, dtype=torch.bool)\n",
    "a[3:5] = False\n",
    "a\n",
    "karate_club.train_mask = a\n",
    "print(karate_club.train_mask)"
   ]
  },
  {
   "cell_type": "code",
   "execution_count": 63,
   "id": "2c3d1075-42e7-4b25-839e-07a317073d69",
   "metadata": {},
   "outputs": [
    {
     "data": {
      "text/plain": [
       "Data(x=[5, 5], edge_index=[2, 12], y=[5], train_mask=[5])"
      ]
     },
     "execution_count": 63,
     "metadata": {},
     "output_type": "execute_result"
    }
   ],
   "source": [
    "from torch_geometric.data import Data\n",
    "data = Data(x=karate_club.x, edge_index=karate_club.edge_index, y=karate_club.y, train_mask=karate_club.train_mask)\n",
    "data"
   ]
  },
  {
   "cell_type": "markdown",
   "id": "5aee2ae4-3622-4906-9078-e76c1d559fd3",
   "metadata": {},
   "source": [
    "## Me limito a copiar de Notebook \"1.base_pytorch\""
   ]
  },
  {
   "cell_type": "code",
   "execution_count": 64,
   "id": "d288b554-87a8-489d-aa8f-6ce884adab49",
   "metadata": {},
   "outputs": [],
   "source": [
    "# Generamos una función que 'wrapper/helper' para los parametros de visualización\n",
    "def visualize_graph(G, color):\n",
    "    plt.figure(figsize=(7,7))\n",
    "    plt.xticks([])\n",
    "    plt.yticks([])\n",
    "    nx.draw_networkx(G, pos=nx.spring_layout(G, seed=42), with_labels=True,\n",
    "                     node_color=color, cmap=\"Set2\")\n",
    "    plt.show()"
   ]
  },
  {
   "cell_type": "code",
   "execution_count": 65,
   "id": "c319a034-ebaf-4496-9da4-b7ea534a4ed2",
   "metadata": {},
   "outputs": [
    {
     "data": {
      "image/png": "[encoded data removed]",
      "text/plain": [
       "<Figure size 700x700 with 1 Axes>"
      ]
     },
     "metadata": {},
     "output_type": "display_data"
    }
   ],
   "source": [
    "from torch_geometric.utils import to_networkx\n",
    "# Convert the PyG graph to NetworkX graph\n",
    "G = to_networkx(karate_club, to_undirected=True)\n",
    "visualize_graph(G, color=karate_club.y)"
   ]
  },
  {
   "cell_type": "code",
   "execution_count": 66,
   "id": "adc819cc-f1d3-4a50-9a96-c9b2fedc33a6",
   "metadata": {},
   "outputs": [
    {
     "data": {
      "image/png": "[encoded data removed]",
      "text/plain": [
       "<Figure size 700x700 with 1 Axes>"
      ]
     },
     "metadata": {},
     "output_type": "display_data"
    }
   ],
   "source": [
    "# Voy a intentar visualizar el grafo y que me identifique los 4 nodos especiales\n",
    "visualize_graph(G, color=karate_club.train_mask)"
   ]
  },
  {
   "cell_type": "markdown",
   "id": "a5830e96-c6d5-4739-9a74-de5d34bf94e4",
   "metadata": {},
   "source": [
    "# Creating the PyTorch Model"
   ]
  },
  {
   "cell_type": "code",
   "execution_count": 67,
   "id": "5541a5be-1c0f-4d28-8446-8d7484c1dd0e",
   "metadata": {},
   "outputs": [
    {
     "data": {
      "text/plain": [
       "<torch._C.Generator at 0x7fae6f94ce10>"
      ]
     },
     "execution_count": 67,
     "metadata": {},
     "output_type": "execute_result"
    }
   ],
   "source": [
    "import torch\n",
    "from torch.nn import Linear, Dropout, Tanh, ReLU # import the torch layers\n",
    "torch.manual_seed(140) # for reproducibility\n"
   ]
  },
  {
   "cell_type": "code",
   "execution_count": 68,
   "id": "b2cc2611-0abb-45f2-a6d9-17180ccca77d",
   "metadata": {},
   "outputs": [
    {
     "name": "stdout",
     "output_type": "stream",
     "text": [
      "tensor([  1, 209, 156,  ...,   0,   0,   0], dtype=torch.uint8)\n",
      "<class 'torch.Tensor'>\n",
      "<built-in method size of Tensor object at 0x7fae00dd7240>\n",
      "5056\n",
      "El tensor 'Generator tiene 5056 elementos\n"
     ]
    }
   ],
   "source": [
    "g_prueba = torch.Generator()\n",
    "print(g_prueba.get_state())\n",
    "# print(g_prueba.size())   => AttributeError: 'torch._C.Generator' object has no attribute 'size'\n",
    "inspect = g_prueba.get_state()\n",
    "print(type(inspect))\n",
    "print(inspect.size)\n",
    "print(len(inspect.tolist()))\n",
    "print(f\"El tensor 'Generator tiene {len(inspect.tolist())} elementos\")"
   ]
  },
  {
   "cell_type": "code",
   "execution_count": 83,
   "id": "5c6a0df3-4138-4b34-a448-defbe4fa2296",
   "metadata": {},
   "outputs": [],
   "source": [
    "def accuracy(logits, labels):\n",
    "    # find the accuracy \n",
    "    pred = torch.argmax(logits, dim=1)\n",
    "    acc = torch.mean((pred == labels).float())\n",
    "    return acc"
   ]
  },
  {
   "cell_type": "code",
   "execution_count": 69,
   "id": "4409de73-d345-4d35-85a0-99ca0da48e9f",
   "metadata": {},
   "outputs": [],
   "source": [
    "# Define your own model\n",
    "class MLP(torch.nn.Module):\n",
    "    def __init__(self, in_channels: int, hidden_channels: int, out_channels: int):\n",
    "        super(MLP, self).__init__()\n",
    "        self.embed = Linear(in_channels, hidden_channels)\n",
    "        self.classifier = Linear(hidden_channels, out_channels)\n",
    "        self.activation = ReLU()\n",
    "        self.dropout = Dropout(0.5)\n",
    "\n",
    "    def forward(self, graph):\n",
    "            x = graph.x            # tomamos el grafo \n",
    "            x = self.embed(x)      # fist layer lineal : transforma 'features' en otra dimension\n",
    "            h = self.activation(x) # non linear function (para aprender mejor)\n",
    "            h = self.dropout(h)    # para reducir overfitting ( va apagando neuronas al azar)\n",
    "            x = self.classifier(h) # otra lineal para hacer la clasificación\n",
    "            return x, h"
   ]
  },
  {
   "cell_type": "code",
   "execution_count": 87,
   "id": "38663303-25f2-40af-aa23-2bd3f593a4f0",
   "metadata": {},
   "outputs": [
    {
     "name": "stdout",
     "output_type": "stream",
     "text": [
      "Data(x=[5, 5], edge_index=[2, 12], y=[5], train_mask=[5])\n",
      "5\n",
      "<class 'torch_geometric.data.data.Data'>\n"
     ]
    }
   ],
   "source": [
    "print(data)\n",
    "print(data.num_features)\n",
    "print(type(data))\n"
   ]
  },
  {
   "cell_type": "code",
   "execution_count": 84,
   "id": "bacf4f0a-f0fd-43d6-8ef9-4647db6e2092",
   "metadata": {},
   "outputs": [],
   "source": [
    "model = MLP(5, 16, 2) # Define our MLP model\n",
    "criterion = torch.nn.CrossEntropyLoss()  # Define loss criterion.\n",
    "optimizer = torch.optim.Adam(model.parameters(), lr=0.01)  # Define optimizer.\n",
    "\n",
    "def train(data):\n",
    "    optimizer.zero_grad()\n",
    "    out, h = model(data)\n",
    "    loss = criterion(out, data.y)  # Compute the loss solely based on the training nodes.\n",
    "    acc = accuracy(out, data.y)\n",
    "    loss.backward()\n",
    "    optimizer.step()\n",
    "    return loss, h, acc, out # out lo he puesto yo\n"
   ]
  },
  {
   "cell_type": "code",
   "execution_count": 85,
   "id": "34ebbe2b-6041-4bb9-a8d3-da83d2113f74",
   "metadata": {},
   "outputs": [
    {
     "ename": "IndexError",
     "evalue": "Target 2 is out of bounds.",
     "output_type": "error",
     "traceback": [
      "\u001b[0;31m---------------------------------------------------------------------------\u001b[0m",
      "\u001b[0;31mIndexError\u001b[0m                                Traceback (most recent call last)",
      "Cell \u001b[0;32mIn[85], line 2\u001b[0m\n\u001b[1;32m      1\u001b[0m \u001b[38;5;28;01mfor\u001b[39;00m epoch \u001b[38;5;129;01min\u001b[39;00m \u001b[38;5;28mrange\u001b[39m(\u001b[38;5;241m110\u001b[39m): \u001b[38;5;66;03m# creo que en 110 loss era más pequeño\u001b[39;00m\n\u001b[0;32m----> 2\u001b[0m     loss, h, acc, out_mlp \u001b[38;5;241m=\u001b[39m \u001b[43mtrain\u001b[49m\u001b[43m(\u001b[49m\u001b[43mdata\u001b[49m\u001b[43m)\u001b[49m \u001b[38;5;66;03m# out_mlp lo he puesto yo\u001b[39;00m\n",
      "Cell \u001b[0;32mIn[84], line 8\u001b[0m, in \u001b[0;36mtrain\u001b[0;34m(data)\u001b[0m\n\u001b[1;32m      6\u001b[0m optimizer\u001b[38;5;241m.\u001b[39mzero_grad()\n\u001b[1;32m      7\u001b[0m out, h \u001b[38;5;241m=\u001b[39m model(data)\n\u001b[0;32m----> 8\u001b[0m loss \u001b[38;5;241m=\u001b[39m \u001b[43mcriterion\u001b[49m\u001b[43m(\u001b[49m\u001b[43mout\u001b[49m\u001b[43m,\u001b[49m\u001b[43m \u001b[49m\u001b[43mdata\u001b[49m\u001b[38;5;241;43m.\u001b[39;49m\u001b[43my\u001b[49m\u001b[43m)\u001b[49m  \u001b[38;5;66;03m# Compute the loss solely based on the training nodes.\u001b[39;00m\n\u001b[1;32m      9\u001b[0m acc \u001b[38;5;241m=\u001b[39m accuracy(out, data\u001b[38;5;241m.\u001b[39my)\n\u001b[1;32m     10\u001b[0m loss\u001b[38;5;241m.\u001b[39mbackward()\n",
      "File \u001b[0;32m~/Documents/CursoIA/Jupiter/.Jupiter/lib/python3.10/site-packages/torch/nn/modules/module.py:1501\u001b[0m, in \u001b[0;36mModule._call_impl\u001b[0;34m(self, *args, **kwargs)\u001b[0m\n\u001b[1;32m   1496\u001b[0m \u001b[38;5;66;03m# If we don't have any hooks, we want to skip the rest of the logic in\u001b[39;00m\n\u001b[1;32m   1497\u001b[0m \u001b[38;5;66;03m# this function, and just call forward.\u001b[39;00m\n\u001b[1;32m   1498\u001b[0m \u001b[38;5;28;01mif\u001b[39;00m \u001b[38;5;129;01mnot\u001b[39;00m (\u001b[38;5;28mself\u001b[39m\u001b[38;5;241m.\u001b[39m_backward_hooks \u001b[38;5;129;01mor\u001b[39;00m \u001b[38;5;28mself\u001b[39m\u001b[38;5;241m.\u001b[39m_backward_pre_hooks \u001b[38;5;129;01mor\u001b[39;00m \u001b[38;5;28mself\u001b[39m\u001b[38;5;241m.\u001b[39m_forward_hooks \u001b[38;5;129;01mor\u001b[39;00m \u001b[38;5;28mself\u001b[39m\u001b[38;5;241m.\u001b[39m_forward_pre_hooks\n\u001b[1;32m   1499\u001b[0m         \u001b[38;5;129;01mor\u001b[39;00m _global_backward_pre_hooks \u001b[38;5;129;01mor\u001b[39;00m _global_backward_hooks\n\u001b[1;32m   1500\u001b[0m         \u001b[38;5;129;01mor\u001b[39;00m _global_forward_hooks \u001b[38;5;129;01mor\u001b[39;00m _global_forward_pre_hooks):\n\u001b[0;32m-> 1501\u001b[0m     \u001b[38;5;28;01mreturn\u001b[39;00m \u001b[43mforward_call\u001b[49m\u001b[43m(\u001b[49m\u001b[38;5;241;43m*\u001b[39;49m\u001b[43margs\u001b[49m\u001b[43m,\u001b[49m\u001b[43m \u001b[49m\u001b[38;5;241;43m*\u001b[39;49m\u001b[38;5;241;43m*\u001b[39;49m\u001b[43mkwargs\u001b[49m\u001b[43m)\u001b[49m\n\u001b[1;32m   1502\u001b[0m \u001b[38;5;66;03m# Do not call functions when jit is used\u001b[39;00m\n\u001b[1;32m   1503\u001b[0m full_backward_hooks, non_full_backward_hooks \u001b[38;5;241m=\u001b[39m [], []\n",
      "File \u001b[0;32m~/Documents/CursoIA/Jupiter/.Jupiter/lib/python3.10/site-packages/torch/nn/modules/loss.py:1174\u001b[0m, in \u001b[0;36mCrossEntropyLoss.forward\u001b[0;34m(self, input, target)\u001b[0m\n\u001b[1;32m   1173\u001b[0m \u001b[38;5;28;01mdef\u001b[39;00m \u001b[38;5;21mforward\u001b[39m(\u001b[38;5;28mself\u001b[39m, \u001b[38;5;28minput\u001b[39m: Tensor, target: Tensor) \u001b[38;5;241m-\u001b[39m\u001b[38;5;241m>\u001b[39m Tensor:\n\u001b[0;32m-> 1174\u001b[0m     \u001b[38;5;28;01mreturn\u001b[39;00m \u001b[43mF\u001b[49m\u001b[38;5;241;43m.\u001b[39;49m\u001b[43mcross_entropy\u001b[49m\u001b[43m(\u001b[49m\u001b[38;5;28;43minput\u001b[39;49m\u001b[43m,\u001b[49m\u001b[43m \u001b[49m\u001b[43mtarget\u001b[49m\u001b[43m,\u001b[49m\u001b[43m \u001b[49m\u001b[43mweight\u001b[49m\u001b[38;5;241;43m=\u001b[39;49m\u001b[38;5;28;43mself\u001b[39;49m\u001b[38;5;241;43m.\u001b[39;49m\u001b[43mweight\u001b[49m\u001b[43m,\u001b[49m\n\u001b[1;32m   1175\u001b[0m \u001b[43m                           \u001b[49m\u001b[43mignore_index\u001b[49m\u001b[38;5;241;43m=\u001b[39;49m\u001b[38;5;28;43mself\u001b[39;49m\u001b[38;5;241;43m.\u001b[39;49m\u001b[43mignore_index\u001b[49m\u001b[43m,\u001b[49m\u001b[43m \u001b[49m\u001b[43mreduction\u001b[49m\u001b[38;5;241;43m=\u001b[39;49m\u001b[38;5;28;43mself\u001b[39;49m\u001b[38;5;241;43m.\u001b[39;49m\u001b[43mreduction\u001b[49m\u001b[43m,\u001b[49m\n\u001b[1;32m   1176\u001b[0m \u001b[43m                           \u001b[49m\u001b[43mlabel_smoothing\u001b[49m\u001b[38;5;241;43m=\u001b[39;49m\u001b[38;5;28;43mself\u001b[39;49m\u001b[38;5;241;43m.\u001b[39;49m\u001b[43mlabel_smoothing\u001b[49m\u001b[43m)\u001b[49m\n",
      "File \u001b[0;32m~/Documents/CursoIA/Jupiter/.Jupiter/lib/python3.10/site-packages/torch/nn/functional.py:3029\u001b[0m, in \u001b[0;36mcross_entropy\u001b[0;34m(input, target, weight, size_average, ignore_index, reduce, reduction, label_smoothing)\u001b[0m\n\u001b[1;32m   3027\u001b[0m \u001b[38;5;28;01mif\u001b[39;00m size_average \u001b[38;5;129;01mis\u001b[39;00m \u001b[38;5;129;01mnot\u001b[39;00m \u001b[38;5;28;01mNone\u001b[39;00m \u001b[38;5;129;01mor\u001b[39;00m reduce \u001b[38;5;129;01mis\u001b[39;00m \u001b[38;5;129;01mnot\u001b[39;00m \u001b[38;5;28;01mNone\u001b[39;00m:\n\u001b[1;32m   3028\u001b[0m     reduction \u001b[38;5;241m=\u001b[39m _Reduction\u001b[38;5;241m.\u001b[39mlegacy_get_string(size_average, reduce)\n\u001b[0;32m-> 3029\u001b[0m \u001b[38;5;28;01mreturn\u001b[39;00m \u001b[43mtorch\u001b[49m\u001b[38;5;241;43m.\u001b[39;49m\u001b[43m_C\u001b[49m\u001b[38;5;241;43m.\u001b[39;49m\u001b[43m_nn\u001b[49m\u001b[38;5;241;43m.\u001b[39;49m\u001b[43mcross_entropy_loss\u001b[49m\u001b[43m(\u001b[49m\u001b[38;5;28;43minput\u001b[39;49m\u001b[43m,\u001b[49m\u001b[43m \u001b[49m\u001b[43mtarget\u001b[49m\u001b[43m,\u001b[49m\u001b[43m \u001b[49m\u001b[43mweight\u001b[49m\u001b[43m,\u001b[49m\u001b[43m \u001b[49m\u001b[43m_Reduction\u001b[49m\u001b[38;5;241;43m.\u001b[39;49m\u001b[43mget_enum\u001b[49m\u001b[43m(\u001b[49m\u001b[43mreduction\u001b[49m\u001b[43m)\u001b[49m\u001b[43m,\u001b[49m\u001b[43m \u001b[49m\u001b[43mignore_index\u001b[49m\u001b[43m,\u001b[49m\u001b[43m \u001b[49m\u001b[43mlabel_smoothing\u001b[49m\u001b[43m)\u001b[49m\n",
      "\u001b[0;31mIndexError\u001b[0m: Target 2 is out of bounds."
     ]
    }
   ],
   "source": [
    "for epoch in range(110): # creo que en 110 loss era más pequeño\n",
    "    loss, h, acc, out_mlp = train(data) # out_mlp lo he puesto yo"
   ]
  },
  {
   "cell_type": "code",
   "execution_count": 56,
   "id": "eddb2a20-ef1b-41b2-a350-3080f7c595f8",
   "metadata": {},
   "outputs": [
    {
     "name": "stdout",
     "output_type": "stream",
     "text": [
      "Embedding shape: [5, 16]\n"
     ]
    },
    {
     "ename": "ValueError",
     "evalue": "perplexity must be less than n_samples",
     "output_type": "error",
     "traceback": [
      "\u001b[0;31m---------------------------------------------------------------------------\u001b[0m",
      "\u001b[0;31mValueError\u001b[0m                                Traceback (most recent call last)",
      "Cell \u001b[0;32mIn[56], line 11\u001b[0m\n\u001b[1;32m      3\u001b[0m \u001b[38;5;66;03m#print(type(out))\u001b[39;00m\n\u001b[1;32m      4\u001b[0m \u001b[38;5;66;03m#print(out.size())\u001b[39;00m\n\u001b[1;32m      5\u001b[0m \u001b[38;5;66;03m#print(out.tolist())\u001b[39;00m\n\u001b[1;32m      6\u001b[0m \u001b[38;5;66;03m#print(type(h))\u001b[39;00m\n\u001b[1;32m      7\u001b[0m \u001b[38;5;66;03m#print(h.size())\u001b[39;00m\n\u001b[1;32m      8\u001b[0m \u001b[38;5;66;03m#print(h.tolist())\u001b[39;00m\n\u001b[1;32m     10\u001b[0m plt\u001b[38;5;241m.\u001b[39mfigure(figsize \u001b[38;5;241m=\u001b[39m (\u001b[38;5;241m8\u001b[39m,\u001b[38;5;241m8\u001b[39m))\n\u001b[0;32m---> 11\u001b[0m fig \u001b[38;5;241m=\u001b[39m \u001b[43mvisualize_embedding\u001b[49m\u001b[43m(\u001b[49m\u001b[43mh\u001b[49m\u001b[43m,\u001b[49m\u001b[43m \u001b[49m\u001b[43mcolor\u001b[49m\u001b[38;5;241;43m=\u001b[39;49m\u001b[43mkarate_club\u001b[49m\u001b[38;5;241;43m.\u001b[39;49m\u001b[43my\u001b[49m\u001b[43m)\u001b[49m\n\u001b[1;32m     12\u001b[0m plt\u001b[38;5;241m.\u001b[39mfigure(figsize \u001b[38;5;241m=\u001b[39m (\u001b[38;5;241m8\u001b[39m, \u001b[38;5;241m8\u001b[39m))\n\u001b[1;32m     13\u001b[0m plt\u001b[38;5;241m.\u001b[39mimshow(fig)\n",
      "File \u001b[0;32m~/Documents/CursoIA/Jupiter/.Jupiter/lib/python3.10/site-packages/gif.py:55\u001b[0m, in \u001b[0;36mframe.<locals>.inner\u001b[0;34m(*args, **kwargs)\u001b[0m\n\u001b[1;32m     52\u001b[0m \u001b[38;5;129m@wraps\u001b[39m(plot)\n\u001b[1;32m     53\u001b[0m \u001b[38;5;28;01mdef\u001b[39;00m \u001b[38;5;21minner\u001b[39m(\u001b[38;5;241m*\u001b[39margs, \u001b[38;5;241m*\u001b[39m\u001b[38;5;241m*\u001b[39mkwargs) \u001b[38;5;241m-\u001b[39m\u001b[38;5;241m>\u001b[39m Frame:  \u001b[38;5;66;03m# type: ignore[valid-type]\u001b[39;00m\n\u001b[1;32m     54\u001b[0m     buffer \u001b[38;5;241m=\u001b[39m Buffer()\n\u001b[0;32m---> 55\u001b[0m     \u001b[43mplot\u001b[49m\u001b[43m(\u001b[49m\u001b[38;5;241;43m*\u001b[39;49m\u001b[43margs\u001b[49m\u001b[43m,\u001b[49m\u001b[43m \u001b[49m\u001b[38;5;241;43m*\u001b[39;49m\u001b[38;5;241;43m*\u001b[39;49m\u001b[43mkwargs\u001b[49m\u001b[43m)\u001b[49m\n\u001b[1;32m     56\u001b[0m     plt\u001b[38;5;241m.\u001b[39msavefig(buffer, \u001b[38;5;28mformat\u001b[39m\u001b[38;5;241m=\u001b[39m\u001b[38;5;124m\"\u001b[39m\u001b[38;5;124mpng\u001b[39m\u001b[38;5;124m\"\u001b[39m, \u001b[38;5;241m*\u001b[39m\u001b[38;5;241m*\u001b[39moptions\u001b[38;5;241m.\u001b[39mmatplotlib)\n\u001b[1;32m     57\u001b[0m     plt\u001b[38;5;241m.\u001b[39mclose()\n",
      "Cell \u001b[0;32mIn[55], line 9\u001b[0m, in \u001b[0;36mvisualize_embedding\u001b[0;34m(h, color, epoch, loss, acc)\u001b[0m\n\u001b[1;32m      7\u001b[0m plt\u001b[38;5;241m.\u001b[39mxticks([])\n\u001b[1;32m      8\u001b[0m plt\u001b[38;5;241m.\u001b[39myticks([])\n\u001b[0;32m----> 9\u001b[0m z \u001b[38;5;241m=\u001b[39m \u001b[43mTSNE\u001b[49m\u001b[43m(\u001b[49m\u001b[43mn_components\u001b[49m\u001b[38;5;241;43m=\u001b[39;49m\u001b[38;5;241;43m2\u001b[39;49m\u001b[43m)\u001b[49m\u001b[38;5;241;43m.\u001b[39;49m\u001b[43mfit_transform\u001b[49m\u001b[43m(\u001b[49m\u001b[43mh\u001b[49m\u001b[38;5;241;43m.\u001b[39;49m\u001b[43mdetach\u001b[49m\u001b[43m(\u001b[49m\u001b[43m)\u001b[49m\u001b[38;5;241;43m.\u001b[39;49m\u001b[43mcpu\u001b[49m\u001b[43m(\u001b[49m\u001b[43m)\u001b[49m\u001b[38;5;241;43m.\u001b[39;49m\u001b[43mnumpy\u001b[49m\u001b[43m(\u001b[49m\u001b[43m)\u001b[49m\u001b[43m)\u001b[49m\n\u001b[1;32m     10\u001b[0m plt\u001b[38;5;241m.\u001b[39mscatter(z[:, \u001b[38;5;241m0\u001b[39m], z[:, \u001b[38;5;241m1\u001b[39m], s\u001b[38;5;241m=\u001b[39m\u001b[38;5;241m140\u001b[39m, c\u001b[38;5;241m=\u001b[39mcolor, cmap\u001b[38;5;241m=\u001b[39m\u001b[38;5;124m\"\u001b[39m\u001b[38;5;124mSet2\u001b[39m\u001b[38;5;124m\"\u001b[39m)\n\u001b[1;32m     12\u001b[0m \u001b[38;5;28;01mif\u001b[39;00m epoch \u001b[38;5;129;01mis\u001b[39;00m \u001b[38;5;129;01mnot\u001b[39;00m \u001b[38;5;28;01mNone\u001b[39;00m \u001b[38;5;129;01mand\u001b[39;00m loss \u001b[38;5;129;01mis\u001b[39;00m \u001b[38;5;129;01mnot\u001b[39;00m \u001b[38;5;28;01mNone\u001b[39;00m \u001b[38;5;129;01mand\u001b[39;00m acc \u001b[38;5;129;01mis\u001b[39;00m \u001b[38;5;129;01mnot\u001b[39;00m \u001b[38;5;28;01mNone\u001b[39;00m:\n",
      "File \u001b[0;32m~/Documents/CursoIA/Jupiter/.Jupiter/lib/python3.10/site-packages/sklearn/utils/_set_output.py:140\u001b[0m, in \u001b[0;36m_wrap_method_output.<locals>.wrapped\u001b[0;34m(self, X, *args, **kwargs)\u001b[0m\n\u001b[1;32m    138\u001b[0m \u001b[38;5;129m@wraps\u001b[39m(f)\n\u001b[1;32m    139\u001b[0m \u001b[38;5;28;01mdef\u001b[39;00m \u001b[38;5;21mwrapped\u001b[39m(\u001b[38;5;28mself\u001b[39m, X, \u001b[38;5;241m*\u001b[39margs, \u001b[38;5;241m*\u001b[39m\u001b[38;5;241m*\u001b[39mkwargs):\n\u001b[0;32m--> 140\u001b[0m     data_to_wrap \u001b[38;5;241m=\u001b[39m \u001b[43mf\u001b[49m\u001b[43m(\u001b[49m\u001b[38;5;28;43mself\u001b[39;49m\u001b[43m,\u001b[49m\u001b[43m \u001b[49m\u001b[43mX\u001b[49m\u001b[43m,\u001b[49m\u001b[43m \u001b[49m\u001b[38;5;241;43m*\u001b[39;49m\u001b[43margs\u001b[49m\u001b[43m,\u001b[49m\u001b[43m \u001b[49m\u001b[38;5;241;43m*\u001b[39;49m\u001b[38;5;241;43m*\u001b[39;49m\u001b[43mkwargs\u001b[49m\u001b[43m)\u001b[49m\n\u001b[1;32m    141\u001b[0m     \u001b[38;5;28;01mif\u001b[39;00m \u001b[38;5;28misinstance\u001b[39m(data_to_wrap, \u001b[38;5;28mtuple\u001b[39m):\n\u001b[1;32m    142\u001b[0m         \u001b[38;5;66;03m# only wrap the first output for cross decomposition\u001b[39;00m\n\u001b[1;32m    143\u001b[0m         return_tuple \u001b[38;5;241m=\u001b[39m (\n\u001b[1;32m    144\u001b[0m             _wrap_data_with_container(method, data_to_wrap[\u001b[38;5;241m0\u001b[39m], X, \u001b[38;5;28mself\u001b[39m),\n\u001b[1;32m    145\u001b[0m             \u001b[38;5;241m*\u001b[39mdata_to_wrap[\u001b[38;5;241m1\u001b[39m:],\n\u001b[1;32m    146\u001b[0m         )\n",
      "File \u001b[0;32m~/Documents/CursoIA/Jupiter/.Jupiter/lib/python3.10/site-packages/sklearn/base.py:1151\u001b[0m, in \u001b[0;36m_fit_context.<locals>.decorator.<locals>.wrapper\u001b[0;34m(estimator, *args, **kwargs)\u001b[0m\n\u001b[1;32m   1144\u001b[0m     estimator\u001b[38;5;241m.\u001b[39m_validate_params()\n\u001b[1;32m   1146\u001b[0m \u001b[38;5;28;01mwith\u001b[39;00m config_context(\n\u001b[1;32m   1147\u001b[0m     skip_parameter_validation\u001b[38;5;241m=\u001b[39m(\n\u001b[1;32m   1148\u001b[0m         prefer_skip_nested_validation \u001b[38;5;129;01mor\u001b[39;00m global_skip_validation\n\u001b[1;32m   1149\u001b[0m     )\n\u001b[1;32m   1150\u001b[0m ):\n\u001b[0;32m-> 1151\u001b[0m     \u001b[38;5;28;01mreturn\u001b[39;00m \u001b[43mfit_method\u001b[49m\u001b[43m(\u001b[49m\u001b[43mestimator\u001b[49m\u001b[43m,\u001b[49m\u001b[43m \u001b[49m\u001b[38;5;241;43m*\u001b[39;49m\u001b[43margs\u001b[49m\u001b[43m,\u001b[49m\u001b[43m \u001b[49m\u001b[38;5;241;43m*\u001b[39;49m\u001b[38;5;241;43m*\u001b[39;49m\u001b[43mkwargs\u001b[49m\u001b[43m)\u001b[49m\n",
      "File \u001b[0;32m~/Documents/CursoIA/Jupiter/.Jupiter/lib/python3.10/site-packages/sklearn/manifold/_t_sne.py:1110\u001b[0m, in \u001b[0;36mTSNE.fit_transform\u001b[0;34m(self, X, y)\u001b[0m\n\u001b[1;32m   1085\u001b[0m \u001b[38;5;129m@_fit_context\u001b[39m(\n\u001b[1;32m   1086\u001b[0m     \u001b[38;5;66;03m# TSNE.metric is not validated yet\u001b[39;00m\n\u001b[1;32m   1087\u001b[0m     prefer_skip_nested_validation\u001b[38;5;241m=\u001b[39m\u001b[38;5;28;01mFalse\u001b[39;00m\n\u001b[1;32m   1088\u001b[0m )\n\u001b[1;32m   1089\u001b[0m \u001b[38;5;28;01mdef\u001b[39;00m \u001b[38;5;21mfit_transform\u001b[39m(\u001b[38;5;28mself\u001b[39m, X, y\u001b[38;5;241m=\u001b[39m\u001b[38;5;28;01mNone\u001b[39;00m):\n\u001b[1;32m   1090\u001b[0m \u001b[38;5;250m    \u001b[39m\u001b[38;5;124;03m\"\"\"Fit X into an embedded space and return that transformed output.\u001b[39;00m\n\u001b[1;32m   1091\u001b[0m \n\u001b[1;32m   1092\u001b[0m \u001b[38;5;124;03m    Parameters\u001b[39;00m\n\u001b[0;32m   (...)\u001b[0m\n\u001b[1;32m   1108\u001b[0m \u001b[38;5;124;03m        Embedding of the training data in low-dimensional space.\u001b[39;00m\n\u001b[1;32m   1109\u001b[0m \u001b[38;5;124;03m    \"\"\"\u001b[39;00m\n\u001b[0;32m-> 1110\u001b[0m     \u001b[38;5;28;43mself\u001b[39;49m\u001b[38;5;241;43m.\u001b[39;49m\u001b[43m_check_params_vs_input\u001b[49m\u001b[43m(\u001b[49m\u001b[43mX\u001b[49m\u001b[43m)\u001b[49m\n\u001b[1;32m   1111\u001b[0m     embedding \u001b[38;5;241m=\u001b[39m \u001b[38;5;28mself\u001b[39m\u001b[38;5;241m.\u001b[39m_fit(X)\n\u001b[1;32m   1112\u001b[0m     \u001b[38;5;28mself\u001b[39m\u001b[38;5;241m.\u001b[39membedding_ \u001b[38;5;241m=\u001b[39m embedding\n",
      "File \u001b[0;32m~/Documents/CursoIA/Jupiter/.Jupiter/lib/python3.10/site-packages/sklearn/manifold/_t_sne.py:821\u001b[0m, in \u001b[0;36mTSNE._check_params_vs_input\u001b[0;34m(self, X)\u001b[0m\n\u001b[1;32m    819\u001b[0m \u001b[38;5;28;01mdef\u001b[39;00m \u001b[38;5;21m_check_params_vs_input\u001b[39m(\u001b[38;5;28mself\u001b[39m, X):\n\u001b[1;32m    820\u001b[0m     \u001b[38;5;28;01mif\u001b[39;00m \u001b[38;5;28mself\u001b[39m\u001b[38;5;241m.\u001b[39mperplexity \u001b[38;5;241m>\u001b[39m\u001b[38;5;241m=\u001b[39m X\u001b[38;5;241m.\u001b[39mshape[\u001b[38;5;241m0\u001b[39m]:\n\u001b[0;32m--> 821\u001b[0m         \u001b[38;5;28;01mraise\u001b[39;00m \u001b[38;5;167;01mValueError\u001b[39;00m(\u001b[38;5;124m\"\u001b[39m\u001b[38;5;124mperplexity must be less than n_samples\u001b[39m\u001b[38;5;124m\"\u001b[39m)\n",
      "\u001b[0;31mValueError\u001b[0m: perplexity must be less than n_samples"
     ]
    },
    {
     "data": {
      "text/plain": [
       "<Figure size 800x800 with 0 Axes>"
      ]
     },
     "metadata": {},
     "output_type": "display_data"
    },
    {
     "data": {
      "image/png": "[encoded data removed]",
      "text/plain": [
       "<Figure size 700x700 with 1 Axes>"
      ]
     },
     "metadata": {},
     "output_type": "display_data"
    }
   ],
   "source": []
  },
  {
   "cell_type": "code",
   "execution_count": null,
   "id": "d82ab1bb-f34b-479d-ac03-dfd6fb78618b",
   "metadata": {},
   "outputs": [],
   "source": []
  },
  {
   "cell_type": "code",
   "execution_count": null,
   "id": "15130d5d-8108-4b3a-b3ca-d39a13239380",
   "metadata": {},
   "outputs": [],
   "source": []
  },
  {
   "cell_type": "code",
   "execution_count": null,
   "id": "60ffd821-411d-4ce9-a8c1-b8421fbb8737",
   "metadata": {},
   "outputs": [],
   "source": []
  },
  {
   "cell_type": "code",
   "execution_count": null,
   "id": "33bdd3fc-fe5c-429f-bd8d-b34adb4e4cdc",
   "metadata": {},
   "outputs": [],
   "source": []
  },
  {
   "cell_type": "code",
   "execution_count": null,
   "id": "0fc903e3-8782-4877-bb9d-13f4dd6ac010",
   "metadata": {},
   "outputs": [],
   "source": []
  },
  {
   "cell_type": "code",
   "execution_count": null,
   "id": "3bced00b-9944-4f11-a453-eeddb83f3be5",
   "metadata": {},
   "outputs": [],
   "source": []
  },
  {
   "cell_type": "code",
   "execution_count": null,
   "id": "6d99e561-59ce-45ba-9e18-af5c2895de97",
   "metadata": {},
   "outputs": [],
   "source": [
    "## Esto para el final, para cuando tenga las cosas más claras"
   ]
  },
  {
   "cell_type": "markdown",
   "id": "79187a90-ec70-4999-8328-423da6ef115a",
   "metadata": {},
   "source": [
    "Por ahora funciona pero tengo que hacer dos cosas:\n",
    "- Generar una matriz diagonal para definir los nodos\n",
    "- Generar una máscara para 'algo del entrenamiento'"
   ]
  },
  {
   "cell_type": "markdown",
   "id": "c203d84e-6b0d-4658-8690-132873604a54",
   "metadata": {},
   "source": [
    "```python\n",
    "# propuesta para generar dataset\n",
    "# https://stackoverflow.com/questions/66788555/how-to-create-a-graph-neural-network-dataset-pytorch-geometric\n",
    "data = Data(x=x, edge_index=edge_index, y=y)\n",
    "data.train_idx = torch.tensor([...], dtype=torch.long)\n",
    "data.test_mask = torch.tensor([...], dtype=torch.bool)\n",
    "```\n",
    "```python\n",
    "# otra propuesta para generar dataset y loader \n",
    "# In this case, simply pass a regular python list holding Data objects and pass them to DataLoader:\n",
    "# https://pytorch-geometric.readthedocs.io/en/latest/notes/create_dataset.html\n",
    "from torch_geometric.data import Data\n",
    "from torch_geometric.loader import DataLoader\n",
    "\n",
    "data_list = [Data(...), ..., Data(...)]\n",
    "loader = DataLoader(data_list, batch_size=32)\n",
    "```"
   ]
  },
  {
   "cell_type": "code",
   "execution_count": null,
   "id": "77afc594-b079-4684-8ada-c49789ecb110",
   "metadata": {},
   "outputs": [],
   "source": []
  }
 ],
 "metadata": {
  "kernelspec": {
   "display_name": "Python 3 (ipykernel)",
   "language": "python",
   "name": "python3"
  },
  "language_info": {
   "codemirror_mode": {
    "name": "ipython",
    "version": 3
   },
   "file_extension": ".py",
   "mimetype": "text/x-python",
   "name": "python",
   "nbconvert_exporter": "python",
   "pygments_lexer": "ipython3",
   "version": "3.10.12"
  }
 },
 "nbformat": 4,
 "nbformat_minor": 5
}
