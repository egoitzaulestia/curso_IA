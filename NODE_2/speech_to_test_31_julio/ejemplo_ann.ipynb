{
 "cells": [
  {
   "cell_type": "markdown",
   "id": "71c1d703-f73b-406e-a701-32a8b002b1ba",
   "metadata": {},
   "source": [
    "https://noeliagorod.com/2021/08/25/audio-data-analysis-using-deep-learning-with-python/"
   ]
  },
  {
   "cell_type": "code",
   "execution_count": null,
   "id": "554c4910-b935-493a-ae07-619dc0ddb46d",
   "metadata": {},
   "outputs": [],
   "source": []
  }
 ],
 "metadata": {
  "kernelspec": {
   "display_name": "Python 3 (ipykernel)",
   "language": "python",
   "name": "python3"
  },
  "language_info": {
   "codemirror_mode": {
    "name": "ipython",
    "version": 3
   },
   "file_extension": ".py",
   "mimetype": "text/x-python",
   "name": "python",
   "nbconvert_exporter": "python",
   "pygments_lexer": "ipython3",
   "version": "3.10.6"
  }
 },
 "nbformat": 4,
 "nbformat_minor": 5
}
