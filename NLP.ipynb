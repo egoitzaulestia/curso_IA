{
 "cells": [
  {
   "cell_type": "markdown",
   "id": "61b8c914",
   "metadata": {},
   "source": [
    "# Analisis de texto (text mining)"
   ]
  },
  {
   "cell_type": "markdown",
   "id": "10c1c0df",
   "metadata": {},
   "source": [
    "### Natural Language Processing (NLP)"
   ]
  },
  {
   "cell_type": "markdown",
   "id": "f9eef6dc",
   "metadata": {},
   "source": [
    "#### Importar librerías"
   ]
  },
  {
   "cell_type": "code",
   "execution_count": 1,
   "id": "d6765306",
   "metadata": {},
   "outputs": [],
   "source": [
    "# Tratamiento de datos\n",
    "# =========================\n",
    "import numpy as np\n",
    "import pandas as pd\n",
    "import string\n",
    "import re # para trajar con expresiones regurlaress (SE USAN BASTANTE. Interesante mirarlo en cas)\n",
    "\n",
    "# Gráficos\n",
    "# =========================\n",
    "import matplotlib.pyplot as plt\n",
    "from matplotlib import style\n",
    "import seaborn as sns"
   ]
  },
  {
   "cell_type": "markdown",
   "id": "a5311398",
   "metadata": {},
   "source": [
    "#### Instalar NLTK ANACONDA"
   ]
  },
  {
   "cell_type": "code",
   "execution_count": 2,
   "id": "da2dc8a1",
   "metadata": {},
   "outputs": [],
   "source": [
    "# Preprocesado y modelado \n",
    "# =========================\n",
    "from sklearn import svm\n",
    "from sklearn.model_selection import train_test_split\n",
    "# GridSearchCV se usa para la VALIDACIÓN CRUZADA, se utiliza mucho. Se hace varias veces el proceso de entrenamiento\n",
    "# con distintos tipos de datos en cada proceso, así, se llega a un consenso. Como si fuera un bucle para entrenar el modelo.\n",
    "from sklearn.model_selection import GridSearchCV\n",
    "from sklearn.metrics import confusion_matrix\n",
    "# TF-IDF Vectorizer (Term Frequency-Inverse Document Frequency Vectorizer)\n",
    "# es una medida que expresa lo relevante que es una palbra en una documento.\n",
    "from sklearn.feature_extraction.text import TfidfVectorizer\n",
    "# nlkt.download(\"stopwords\") = Son como librerías de palabras que no nos generarías información relevante\n",
    "from nltk.corpus import stopwords\n",
    "\n",
    "# Configuración warnings\n",
    "# ========================\n",
    "import warnings\n",
    "warnings.filterwarnings(\"ignore\")"
   ]
  },
  {
   "cell_type": "markdown",
   "id": "968c42e9",
   "metadata": {},
   "source": [
    "### Lectura de Datos"
   ]
  },
  {
   "cell_type": "code",
   "execution_count": 3,
   "id": "d421fabb",
   "metadata": {},
   "outputs": [],
   "source": [
    "tweets_elon   = pd.read_csv(\"datos_tweets_@elonmusk.csv\")\n",
    "tweets_edlee  = pd.read_csv(\"datos_tweets_@mayoredlee.csv\")\n",
    "tweets_bgates = pd.read_csv(\"datos_tweets_@BillGates.csv\")"
   ]
  },
  {
   "cell_type": "code",
   "execution_count": 4,
   "id": "30fc20cf",
   "metadata": {},
   "outputs": [
    {
     "data": {
      "text/plain": [
       "(2678, 35)"
      ]
     },
     "execution_count": 4,
     "metadata": {},
     "output_type": "execute_result"
    }
   ],
   "source": [
    "tweets_elon.shape"
   ]
  },
  {
   "cell_type": "code",
   "execution_count": 5,
   "id": "3c755c87",
   "metadata": {},
   "outputs": [
    {
     "data": {
      "text/plain": [
       "(2447, 35)"
      ]
     },
     "execution_count": 5,
     "metadata": {},
     "output_type": "execute_result"
    }
   ],
   "source": [
    "tweets_edlee.shape"
   ]
  },
  {
   "cell_type": "code",
   "execution_count": 6,
   "id": "34fe041f",
   "metadata": {},
   "outputs": [
    {
     "data": {
      "text/plain": [
       "(2087, 35)"
      ]
     },
     "execution_count": 6,
     "metadata": {},
     "output_type": "execute_result"
    }
   ],
   "source": [
    "tweets_bgates.shape"
   ]
  },
  {
   "cell_type": "code",
   "execution_count": 7,
   "id": "a2fa852f",
   "metadata": {},
   "outputs": [
    {
     "data": {
      "text/html": [
       "<div>\n",
       "<style scoped>\n",
       "    .dataframe tbody tr th:only-of-type {\n",
       "        vertical-align: middle;\n",
       "    }\n",
       "\n",
       "    .dataframe tbody tr th {\n",
       "        vertical-align: top;\n",
       "    }\n",
       "\n",
       "    .dataframe thead th {\n",
       "        text-align: right;\n",
       "    }\n",
       "</style>\n",
       "<table border=\"1\" class=\"dataframe\">\n",
       "  <thead>\n",
       "    <tr style=\"text-align: right;\">\n",
       "      <th></th>\n",
       "      <th>screen_name</th>\n",
       "      <th>user_id</th>\n",
       "      <th>created_at</th>\n",
       "      <th>status_id</th>\n",
       "      <th>text</th>\n",
       "      <th>retweet_count</th>\n",
       "      <th>favorite_count</th>\n",
       "      <th>is_quote_status</th>\n",
       "      <th>quote_status_id</th>\n",
       "      <th>is_retweet</th>\n",
       "      <th>...</th>\n",
       "      <th>hashtags</th>\n",
       "      <th>coordinates</th>\n",
       "      <th>place_id</th>\n",
       "      <th>place_type</th>\n",
       "      <th>place_name</th>\n",
       "      <th>place_full_name</th>\n",
       "      <th>country_code</th>\n",
       "      <th>country</th>\n",
       "      <th>bounding_box_coordinates</th>\n",
       "      <th>bounding_box_type</th>\n",
       "    </tr>\n",
       "  </thead>\n",
       "  <tbody>\n",
       "    <tr>\n",
       "      <th>0</th>\n",
       "      <td>elonmusk</td>\n",
       "      <td>44196397</td>\n",
       "      <td>2017-11-09T17:28:57Z</td>\n",
       "      <td>9.286758e+17</td>\n",
       "      <td>\"If one day, my words are against science, cho...</td>\n",
       "      <td>49919</td>\n",
       "      <td>104722</td>\n",
       "      <td>False</td>\n",
       "      <td>NaN</td>\n",
       "      <td>False</td>\n",
       "      <td>...</td>\n",
       "      <td>NaN</td>\n",
       "      <td>NaN</td>\n",
       "      <td>NaN</td>\n",
       "      <td>NaN</td>\n",
       "      <td>NaN</td>\n",
       "      <td>NaN</td>\n",
       "      <td>NaN</td>\n",
       "      <td>NaN</td>\n",
       "      <td>NaN</td>\n",
       "      <td>NaN</td>\n",
       "    </tr>\n",
       "    <tr>\n",
       "      <th>1</th>\n",
       "      <td>elonmusk</td>\n",
       "      <td>44196397</td>\n",
       "      <td>2017-11-09T17:12:46Z</td>\n",
       "      <td>9.286717e+17</td>\n",
       "      <td>I placed the flowers\\r\\n\\r\\nThree broken ribs\\...</td>\n",
       "      <td>5940</td>\n",
       "      <td>33725</td>\n",
       "      <td>False</td>\n",
       "      <td>NaN</td>\n",
       "      <td>False</td>\n",
       "      <td>...</td>\n",
       "      <td>NaN</td>\n",
       "      <td>NaN</td>\n",
       "      <td>NaN</td>\n",
       "      <td>NaN</td>\n",
       "      <td>NaN</td>\n",
       "      <td>NaN</td>\n",
       "      <td>NaN</td>\n",
       "      <td>NaN</td>\n",
       "      <td>NaN</td>\n",
       "      <td>NaN</td>\n",
       "    </tr>\n",
       "  </tbody>\n",
       "</table>\n",
       "<p>2 rows × 35 columns</p>\n",
       "</div>"
      ],
      "text/plain": [
       "  screen_name   user_id            created_at     status_id  \\\n",
       "0    elonmusk  44196397  2017-11-09T17:28:57Z  9.286758e+17   \n",
       "1    elonmusk  44196397  2017-11-09T17:12:46Z  9.286717e+17   \n",
       "\n",
       "                                                text  retweet_count  \\\n",
       "0  \"If one day, my words are against science, cho...          49919   \n",
       "1  I placed the flowers\\r\\n\\r\\nThree broken ribs\\...           5940   \n",
       "\n",
       "   favorite_count  is_quote_status  quote_status_id  is_retweet  ...  \\\n",
       "0          104722            False              NaN       False  ...   \n",
       "1           33725            False              NaN       False  ...   \n",
       "\n",
       "   hashtags  coordinates  place_id place_type place_name place_full_name  \\\n",
       "0       NaN          NaN       NaN        NaN        NaN             NaN   \n",
       "1       NaN          NaN       NaN        NaN        NaN             NaN   \n",
       "\n",
       "   country_code country bounding_box_coordinates  bounding_box_type  \n",
       "0           NaN     NaN                      NaN                NaN  \n",
       "1           NaN     NaN                      NaN                NaN  \n",
       "\n",
       "[2 rows x 35 columns]"
      ]
     },
     "execution_count": 7,
     "metadata": {},
     "output_type": "execute_result"
    }
   ],
   "source": [
    "tweets_elon.head(2)"
   ]
  },
  {
   "cell_type": "code",
   "execution_count": 8,
   "id": "eb953942",
   "metadata": {},
   "outputs": [],
   "source": [
    "# Se unen los dos dataaframes en uno solo\n",
    "# Hemos JUNTADO los 3 dataframes\n",
    "tweets = pd.concat([tweets_elon, tweets_edlee, tweets_bgates],\n",
    "                   ignore_index = True)"
   ]
  },
  {
   "cell_type": "code",
   "execution_count": 9,
   "id": "c296061f",
   "metadata": {},
   "outputs": [
    {
     "data": {
      "text/html": [
       "<div>\n",
       "<style scoped>\n",
       "    .dataframe tbody tr th:only-of-type {\n",
       "        vertical-align: middle;\n",
       "    }\n",
       "\n",
       "    .dataframe tbody tr th {\n",
       "        vertical-align: top;\n",
       "    }\n",
       "\n",
       "    .dataframe thead th {\n",
       "        text-align: right;\n",
       "    }\n",
       "</style>\n",
       "<table border=\"1\" class=\"dataframe\">\n",
       "  <thead>\n",
       "    <tr style=\"text-align: right;\">\n",
       "      <th></th>\n",
       "      <th>screen_name</th>\n",
       "      <th>user_id</th>\n",
       "      <th>created_at</th>\n",
       "      <th>status_id</th>\n",
       "      <th>text</th>\n",
       "      <th>retweet_count</th>\n",
       "      <th>favorite_count</th>\n",
       "      <th>is_quote_status</th>\n",
       "      <th>quote_status_id</th>\n",
       "      <th>is_retweet</th>\n",
       "      <th>...</th>\n",
       "      <th>hashtags</th>\n",
       "      <th>coordinates</th>\n",
       "      <th>place_id</th>\n",
       "      <th>place_type</th>\n",
       "      <th>place_name</th>\n",
       "      <th>place_full_name</th>\n",
       "      <th>country_code</th>\n",
       "      <th>country</th>\n",
       "      <th>bounding_box_coordinates</th>\n",
       "      <th>bounding_box_type</th>\n",
       "    </tr>\n",
       "  </thead>\n",
       "  <tbody>\n",
       "    <tr>\n",
       "      <th>0</th>\n",
       "      <td>elonmusk</td>\n",
       "      <td>44196397</td>\n",
       "      <td>2017-11-09T17:28:57Z</td>\n",
       "      <td>9.286758e+17</td>\n",
       "      <td>\"If one day, my words are against science, cho...</td>\n",
       "      <td>49919</td>\n",
       "      <td>104722</td>\n",
       "      <td>False</td>\n",
       "      <td>NaN</td>\n",
       "      <td>False</td>\n",
       "      <td>...</td>\n",
       "      <td>NaN</td>\n",
       "      <td>NaN</td>\n",
       "      <td>NaN</td>\n",
       "      <td>NaN</td>\n",
       "      <td>NaN</td>\n",
       "      <td>NaN</td>\n",
       "      <td>NaN</td>\n",
       "      <td>NaN</td>\n",
       "      <td>NaN</td>\n",
       "      <td>NaN</td>\n",
       "    </tr>\n",
       "    <tr>\n",
       "      <th>1</th>\n",
       "      <td>elonmusk</td>\n",
       "      <td>44196397</td>\n",
       "      <td>2017-11-09T17:12:46Z</td>\n",
       "      <td>9.286717e+17</td>\n",
       "      <td>I placed the flowers\\r\\n\\r\\nThree broken ribs\\...</td>\n",
       "      <td>5940</td>\n",
       "      <td>33725</td>\n",
       "      <td>False</td>\n",
       "      <td>NaN</td>\n",
       "      <td>False</td>\n",
       "      <td>...</td>\n",
       "      <td>NaN</td>\n",
       "      <td>NaN</td>\n",
       "      <td>NaN</td>\n",
       "      <td>NaN</td>\n",
       "      <td>NaN</td>\n",
       "      <td>NaN</td>\n",
       "      <td>NaN</td>\n",
       "      <td>NaN</td>\n",
       "      <td>NaN</td>\n",
       "      <td>NaN</td>\n",
       "    </tr>\n",
       "  </tbody>\n",
       "</table>\n",
       "<p>2 rows × 35 columns</p>\n",
       "</div>"
      ],
      "text/plain": [
       "  screen_name   user_id            created_at     status_id  \\\n",
       "0    elonmusk  44196397  2017-11-09T17:28:57Z  9.286758e+17   \n",
       "1    elonmusk  44196397  2017-11-09T17:12:46Z  9.286717e+17   \n",
       "\n",
       "                                                text  retweet_count  \\\n",
       "0  \"If one day, my words are against science, cho...          49919   \n",
       "1  I placed the flowers\\r\\n\\r\\nThree broken ribs\\...           5940   \n",
       "\n",
       "   favorite_count  is_quote_status  quote_status_id  is_retweet  ...  \\\n",
       "0          104722            False              NaN       False  ...   \n",
       "1           33725            False              NaN       False  ...   \n",
       "\n",
       "   hashtags  coordinates  place_id place_type place_name place_full_name  \\\n",
       "0       NaN          NaN       NaN        NaN        NaN             NaN   \n",
       "1       NaN          NaN       NaN        NaN        NaN             NaN   \n",
       "\n",
       "   country_code country bounding_box_coordinates  bounding_box_type  \n",
       "0           NaN     NaN                      NaN                NaN  \n",
       "1           NaN     NaN                      NaN                NaN  \n",
       "\n",
       "[2 rows x 35 columns]"
      ]
     },
     "execution_count": 9,
     "metadata": {},
     "output_type": "execute_result"
    }
   ],
   "source": [
    "tweets.head(2)"
   ]
  },
  {
   "cell_type": "code",
   "execution_count": 10,
   "id": "edabad78",
   "metadata": {},
   "outputs": [
    {
     "data": {
      "text/plain": [
       "(7212, 35)"
      ]
     },
     "execution_count": 10,
     "metadata": {},
     "output_type": "execute_result"
    }
   ],
   "source": [
    "tweets.shape"
   ]
  },
  {
   "cell_type": "code",
   "execution_count": 11,
   "id": "e73ea4a3",
   "metadata": {},
   "outputs": [
    {
     "data": {
      "text/html": [
       "<div>\n",
       "<style scoped>\n",
       "    .dataframe tbody tr th:only-of-type {\n",
       "        vertical-align: middle;\n",
       "    }\n",
       "\n",
       "    .dataframe tbody tr th {\n",
       "        vertical-align: top;\n",
       "    }\n",
       "\n",
       "    .dataframe thead th {\n",
       "        text-align: right;\n",
       "    }\n",
       "</style>\n",
       "<table border=\"1\" class=\"dataframe\">\n",
       "  <thead>\n",
       "    <tr style=\"text-align: right;\">\n",
       "      <th></th>\n",
       "      <th>autor</th>\n",
       "      <th>fecha</th>\n",
       "      <th>id</th>\n",
       "      <th>texto</th>\n",
       "    </tr>\n",
       "  </thead>\n",
       "  <tbody>\n",
       "    <tr>\n",
       "      <th>0</th>\n",
       "      <td>elonmusk</td>\n",
       "      <td>2017-11-09T17:28:57Z</td>\n",
       "      <td>9.286758e+17</td>\n",
       "      <td>\"If one day, my words are against science, cho...</td>\n",
       "    </tr>\n",
       "    <tr>\n",
       "      <th>1</th>\n",
       "      <td>elonmusk</td>\n",
       "      <td>2017-11-09T17:12:46Z</td>\n",
       "      <td>9.286717e+17</td>\n",
       "      <td>I placed the flowers\\r\\n\\r\\nThree broken ribs\\...</td>\n",
       "    </tr>\n",
       "  </tbody>\n",
       "</table>\n",
       "</div>"
      ],
      "text/plain": [
       "      autor                 fecha            id  \\\n",
       "0  elonmusk  2017-11-09T17:28:57Z  9.286758e+17   \n",
       "1  elonmusk  2017-11-09T17:12:46Z  9.286717e+17   \n",
       "\n",
       "                                               texto  \n",
       "0  \"If one day, my words are against science, cho...  \n",
       "1  I placed the flowers\\r\\n\\r\\nThree broken ribs\\...  "
      ]
     },
     "execution_count": 11,
     "metadata": {},
     "output_type": "execute_result"
    }
   ],
   "source": [
    "# Se selccionan y renombran las columnas de interés\n",
    "tweets = tweets[[\"screen_name\", \"created_at\", \"status_id\", \"text\"]] # Elegimos solo las 4 columans que nos interesan\n",
    "tweets.columns = [\"autor\", \"fecha\", \"id\", \"texto\"] # Cambiamos los nombres de las columanas elegidas. Mayor \"legibilidad\"\n",
    "tweets.head(2)"
   ]
  },
  {
   "cell_type": "code",
   "execution_count": 12,
   "id": "195853d7",
   "metadata": {},
   "outputs": [
    {
     "data": {
      "text/plain": [
       "(7212, 4)"
      ]
     },
     "execution_count": 12,
     "metadata": {},
     "output_type": "execute_result"
    }
   ],
   "source": [
    "tweets.shape"
   ]
  },
  {
   "cell_type": "code",
   "execution_count": 13,
   "id": "820acf9b",
   "metadata": {},
   "outputs": [
    {
     "data": {
      "text/plain": [
       "str"
      ]
     },
     "execution_count": 13,
     "metadata": {},
     "output_type": "execute_result"
    }
   ],
   "source": [
    "type(tweets[\"fecha\"][0])"
   ]
  },
  {
   "cell_type": "code",
   "execution_count": 14,
   "id": "472b7d95",
   "metadata": {},
   "outputs": [
    {
     "data": {
      "text/html": [
       "<div>\n",
       "<style scoped>\n",
       "    .dataframe tbody tr th:only-of-type {\n",
       "        vertical-align: middle;\n",
       "    }\n",
       "\n",
       "    .dataframe tbody tr th {\n",
       "        vertical-align: top;\n",
       "    }\n",
       "\n",
       "    .dataframe thead th {\n",
       "        text-align: right;\n",
       "    }\n",
       "</style>\n",
       "<table border=\"1\" class=\"dataframe\">\n",
       "  <thead>\n",
       "    <tr style=\"text-align: right;\">\n",
       "      <th></th>\n",
       "      <th>autor</th>\n",
       "      <th>fecha</th>\n",
       "      <th>id</th>\n",
       "      <th>texto</th>\n",
       "    </tr>\n",
       "  </thead>\n",
       "  <tbody>\n",
       "    <tr>\n",
       "      <th>0</th>\n",
       "      <td>elonmusk</td>\n",
       "      <td>2017-11-09 17:28:57+00:00</td>\n",
       "      <td>9.286758e+17</td>\n",
       "      <td>\"If one day, my words are against science, cho...</td>\n",
       "    </tr>\n",
       "    <tr>\n",
       "      <th>1</th>\n",
       "      <td>elonmusk</td>\n",
       "      <td>2017-11-09 17:12:46+00:00</td>\n",
       "      <td>9.286717e+17</td>\n",
       "      <td>I placed the flowers\\r\\n\\r\\nThree broken ribs\\...</td>\n",
       "    </tr>\n",
       "  </tbody>\n",
       "</table>\n",
       "</div>"
      ],
      "text/plain": [
       "      autor                     fecha            id  \\\n",
       "0  elonmusk 2017-11-09 17:28:57+00:00  9.286758e+17   \n",
       "1  elonmusk 2017-11-09 17:12:46+00:00  9.286717e+17   \n",
       "\n",
       "                                               texto  \n",
       "0  \"If one day, my words are against science, cho...  \n",
       "1  I placed the flowers\\r\\n\\r\\nThree broken ribs\\...  "
      ]
     },
     "execution_count": 14,
     "metadata": {},
     "output_type": "execute_result"
    }
   ],
   "source": [
    "# cambiar \"fecha\" de tipo strig a tipo fecha (Funcion de la librería de pandas)\n",
    "tweets[\"fecha\"] = pd.to_datetime(tweets[\"fecha\"])\n",
    "tweets.head(2)"
   ]
  },
  {
   "cell_type": "code",
   "execution_count": 15,
   "id": "41f3f6ca",
   "metadata": {},
   "outputs": [
    {
     "data": {
      "text/plain": [
       "pandas._libs.tslibs.timestamps.Timestamp"
      ]
     },
     "execution_count": 15,
     "metadata": {},
     "output_type": "execute_result"
    }
   ],
   "source": [
    "type(tweets[\"fecha\"][0])"
   ]
  },
  {
   "cell_type": "markdown",
   "id": "327b565f",
   "metadata": {},
   "source": [
    "#### Vamos hacer un pequeño inciso en el ejercicio, para ver como se trabaja con fechas"
   ]
  },
  {
   "cell_type": "code",
   "execution_count": 16,
   "id": "06b89c76",
   "metadata": {},
   "outputs": [
    {
     "data": {
      "text/html": [
       "<div>\n",
       "<style scoped>\n",
       "    .dataframe tbody tr th:only-of-type {\n",
       "        vertical-align: middle;\n",
       "    }\n",
       "\n",
       "    .dataframe tbody tr th {\n",
       "        vertical-align: top;\n",
       "    }\n",
       "\n",
       "    .dataframe thead th {\n",
       "        text-align: right;\n",
       "    }\n",
       "</style>\n",
       "<table border=\"1\" class=\"dataframe\">\n",
       "  <thead>\n",
       "    <tr style=\"text-align: right;\">\n",
       "      <th></th>\n",
       "      <th>autor</th>\n",
       "      <th>fecha</th>\n",
       "      <th>id</th>\n",
       "      <th>texto</th>\n",
       "    </tr>\n",
       "  </thead>\n",
       "  <tbody>\n",
       "    <tr>\n",
       "      <th>0</th>\n",
       "      <td>elonmusk</td>\n",
       "      <td>2017-11-09 17:28:57+00:00</td>\n",
       "      <td>9.286758e+17</td>\n",
       "      <td>\"If one day, my words are against science, cho...</td>\n",
       "    </tr>\n",
       "    <tr>\n",
       "      <th>1</th>\n",
       "      <td>elonmusk</td>\n",
       "      <td>2017-11-09 17:12:46+00:00</td>\n",
       "      <td>9.286717e+17</td>\n",
       "      <td>I placed the flowers\\r\\n\\r\\nThree broken ribs\\...</td>\n",
       "    </tr>\n",
       "  </tbody>\n",
       "</table>\n",
       "</div>"
      ],
      "text/plain": [
       "      autor                     fecha            id  \\\n",
       "0  elonmusk 2017-11-09 17:28:57+00:00  9.286758e+17   \n",
       "1  elonmusk 2017-11-09 17:12:46+00:00  9.286717e+17   \n",
       "\n",
       "                                               texto  \n",
       "0  \"If one day, my words are against science, cho...  \n",
       "1  I placed the flowers\\r\\n\\r\\nThree broken ribs\\...  "
      ]
     },
     "execution_count": 16,
     "metadata": {},
     "output_type": "execute_result"
    }
   ],
   "source": [
    "#creamos un df nuevo\n",
    "df_tempo = tweets.copy()\n",
    "df_tempo.head(2)"
   ]
  },
  {
   "cell_type": "code",
   "execution_count": 17,
   "id": "ce1c159c",
   "metadata": {},
   "outputs": [
    {
     "data": {
      "text/html": [
       "<div>\n",
       "<style scoped>\n",
       "    .dataframe tbody tr th:only-of-type {\n",
       "        vertical-align: middle;\n",
       "    }\n",
       "\n",
       "    .dataframe tbody tr th {\n",
       "        vertical-align: top;\n",
       "    }\n",
       "\n",
       "    .dataframe thead th {\n",
       "        text-align: right;\n",
       "    }\n",
       "</style>\n",
       "<table border=\"1\" class=\"dataframe\">\n",
       "  <thead>\n",
       "    <tr style=\"text-align: right;\">\n",
       "      <th></th>\n",
       "      <th>autor</th>\n",
       "      <th>fecha</th>\n",
       "      <th>id</th>\n",
       "      <th>texto</th>\n",
       "    </tr>\n",
       "  </thead>\n",
       "  <tbody>\n",
       "    <tr>\n",
       "      <th>0</th>\n",
       "      <td>elonmusk</td>\n",
       "      <td>2017-11-01</td>\n",
       "      <td>9.286758e+17</td>\n",
       "      <td>\"If one day, my words are against science, cho...</td>\n",
       "    </tr>\n",
       "    <tr>\n",
       "      <th>1</th>\n",
       "      <td>elonmusk</td>\n",
       "      <td>2017-11-01</td>\n",
       "      <td>9.286717e+17</td>\n",
       "      <td>I placed the flowers\\r\\n\\r\\nThree broken ribs\\...</td>\n",
       "    </tr>\n",
       "  </tbody>\n",
       "</table>\n",
       "</div>"
      ],
      "text/plain": [
       "      autor      fecha            id  \\\n",
       "0  elonmusk 2017-11-01  9.286758e+17   \n",
       "1  elonmusk 2017-11-01  9.286717e+17   \n",
       "\n",
       "                                               texto  \n",
       "0  \"If one day, my words are against science, cho...  \n",
       "1  I placed the flowers\\r\\n\\r\\nThree broken ribs\\...  "
      ]
     },
     "execution_count": 17,
     "metadata": {},
     "output_type": "execute_result"
    }
   ],
   "source": [
    "df_tempo[\"fecha\"] = pd.to_datetime(df_tempo[\"fecha\"].dt.strftime(\"%Y-%m\"))\n",
    "df_tempo.head(2)"
   ]
  },
  {
   "cell_type": "code",
   "execution_count": 18,
   "id": "e2b02761",
   "metadata": {},
   "outputs": [
    {
     "data": {
      "text/html": [
       "<div>\n",
       "<style scoped>\n",
       "    .dataframe tbody tr th:only-of-type {\n",
       "        vertical-align: middle;\n",
       "    }\n",
       "\n",
       "    .dataframe tbody tr th {\n",
       "        vertical-align: top;\n",
       "    }\n",
       "\n",
       "    .dataframe thead th {\n",
       "        text-align: right;\n",
       "    }\n",
       "</style>\n",
       "<table border=\"1\" class=\"dataframe\">\n",
       "  <thead>\n",
       "    <tr style=\"text-align: right;\">\n",
       "      <th></th>\n",
       "      <th>autor</th>\n",
       "      <th>fecha</th>\n",
       "      <th>id</th>\n",
       "      <th>texto</th>\n",
       "    </tr>\n",
       "  </thead>\n",
       "  <tbody>\n",
       "    <tr>\n",
       "      <th>7207</th>\n",
       "      <td>BillGates</td>\n",
       "      <td>2011-10-01</td>\n",
       "      <td>1.267828e+17</td>\n",
       "      <td>Malaria eradication is an ambitious, long-term...</td>\n",
       "    </tr>\n",
       "    <tr>\n",
       "      <th>7208</th>\n",
       "      <td>BillGates</td>\n",
       "      <td>2011-10-01</td>\n",
       "      <td>1.217460e+17</td>\n",
       "      <td>For those of us lucky enough to get to work wi...</td>\n",
       "    </tr>\n",
       "    <tr>\n",
       "      <th>7209</th>\n",
       "      <td>BillGates</td>\n",
       "      <td>2011-10-01</td>\n",
       "      <td>1.217459e+17</td>\n",
       "      <td>Melinda and I extend our sincere condolences t...</td>\n",
       "    </tr>\n",
       "    <tr>\n",
       "      <th>7210</th>\n",
       "      <td>BillGates</td>\n",
       "      <td>2011-10-01</td>\n",
       "      <td>1.213001e+17</td>\n",
       "      <td>The crisis in Somalia has claimed 30,000 child...</td>\n",
       "    </tr>\n",
       "    <tr>\n",
       "      <th>7211</th>\n",
       "      <td>BillGates</td>\n",
       "      <td>2011-09-01</td>\n",
       "      <td>1.195196e+17</td>\n",
       "      <td>Nigeria has made phenomenal progress toward er...</td>\n",
       "    </tr>\n",
       "  </tbody>\n",
       "</table>\n",
       "</div>"
      ],
      "text/plain": [
       "          autor      fecha            id  \\\n",
       "7207  BillGates 2011-10-01  1.267828e+17   \n",
       "7208  BillGates 2011-10-01  1.217460e+17   \n",
       "7209  BillGates 2011-10-01  1.217459e+17   \n",
       "7210  BillGates 2011-10-01  1.213001e+17   \n",
       "7211  BillGates 2011-09-01  1.195196e+17   \n",
       "\n",
       "                                                  texto  \n",
       "7207  Malaria eradication is an ambitious, long-term...  \n",
       "7208  For those of us lucky enough to get to work wi...  \n",
       "7209  Melinda and I extend our sincere condolences t...  \n",
       "7210  The crisis in Somalia has claimed 30,000 child...  \n",
       "7211  Nigeria has made phenomenal progress toward er...  "
      ]
     },
     "execution_count": 18,
     "metadata": {},
     "output_type": "execute_result"
    }
   ],
   "source": [
    "df_tempo.tail() # Para sacar los últimos 5 datos (o los que le delimitemos)"
   ]
  },
  {
   "cell_type": "code",
   "execution_count": 19,
   "id": "315f50d3",
   "metadata": {},
   "outputs": [
    {
     "data": {
      "text/plain": [
       "pandas._libs.tslibs.timestamps.Timestamp"
      ]
     },
     "execution_count": 19,
     "metadata": {},
     "output_type": "execute_result"
    }
   ],
   "source": [
    "type(tweets[\"fecha\"][0])"
   ]
  },
  {
   "cell_type": "code",
   "execution_count": 20,
   "id": "4a8981fb",
   "metadata": {},
   "outputs": [
    {
     "data": {
      "text/plain": [
       "fecha\n",
       "2011-09-01      1\n",
       "2011-10-01     15\n",
       "2011-11-01     15\n",
       "2011-12-01      3\n",
       "2012-01-01     32\n",
       "             ... \n",
       "2017-07-01    277\n",
       "2017-08-01    297\n",
       "2017-09-01    209\n",
       "2017-10-01    252\n",
       "2017-11-01     54\n",
       "Length: 75, dtype: int64"
      ]
     },
     "execution_count": 20,
     "metadata": {},
     "output_type": "execute_result"
    }
   ],
   "source": [
    "# Al agrupar los datos de varias filas en una, hay que decidir qué\n",
    "# valor poner -> \".size\" nos da el nº de filas/elementos de cada grupo por cada mes\n",
    "\n",
    "# Estamos juntando por grupos por meses, por que hemos creado \n",
    "df_temp2 = df_tempo.groupby(df_tempo[\"fecha\"]).size() # Con el size contamos las filas de cada mes(cada tweet)\n",
    "df_temp2"
   ]
  },
  {
   "cell_type": "markdown",
   "id": "8f989c78",
   "metadata": {},
   "source": [
    "---"
   ]
  },
  {
   "cell_type": "markdown",
   "id": "ed820d55",
   "metadata": {},
   "source": [
    "### Volvemos a nuestro problema inicial"
   ]
  },
  {
   "cell_type": "markdown",
   "id": "0c8e0cad",
   "metadata": {},
   "source": [
    "### Distribución temporal de tweets"
   ]
  },
  {
   "cell_type": "code",
   "execution_count": 21,
   "id": "1629f1f9",
   "metadata": {},
   "outputs": [
    {
     "data": {
      "image/png": "[encoded data removed]",
      "text/plain": [
       "<Figure size 900x400 with 1 Axes>"
      ]
     },
     "metadata": {},
     "output_type": "display_data"
    }
   ],
   "source": [
    "fig, ax = plt.subplots(figsize = (9,4))\n",
    "\n",
    "for autor in tweets.autor.unique(): # Cogemos los autores únicos como hay 3 para cada nombre de autor haremos lo de dentro del for\n",
    "    df_temp = tweets[tweets[\"autor\"] == autor].copy()\n",
    "    df_temp[\"fecha\"] = pd.to_datetime(df_temp[\"fecha\"].dt.strftime(\"%Y-%m\"))\n",
    "    df_temp = df_temp.groupby(df_temp[\"fecha\"]).size()\n",
    "    df_temp.plot(label = autor, ax = ax)\n",
    "\n",
    "ax.set_title(\"Número de tweets publicados por mes\")\n",
    "ax.legend();"
   ]
  },
  {
   "cell_type": "markdown",
   "id": "850fbb31",
   "metadata": {},
   "source": [
    "# Limpieza de los datos"
   ]
  },
  {
   "cell_type": "markdown",
   "id": "c724684c",
   "metadata": {},
   "source": [
    "LIMPIEZA: Preposiciones, puntos y coma, caracteres suelos.... hay cosas que nos dan información, así que la vamos a quitar"
   ]
  },
  {
   "cell_type": "markdown",
   "id": "70688d30",
   "metadata": {},
   "source": [
    "TOKENIZACIÓN: consiste en dividir el texto en las unidades lo conforman, entendido por unidad el elemento más sencillo con con significado propio para el análisis en cuesión, en este caso las palbras."
   ]
  },
  {
   "cell_type": "code",
   "execution_count": 22,
   "id": "bbc161e6",
   "metadata": {},
   "outputs": [],
   "source": [
    "def limpiar_tokenizar(texto):\n",
    "    # El listado de signos de puntuación se ha obtenido de: print(string.punctuation)\n",
    "    # Se convierte todo el texto a minúsculas\n",
    "    nuevo_texto = texto.lower()\n",
    "    # ELiminación de páginas web (palabras que empiezan por \"http\")\n",
    "    nuevo_texto = re.sub(\"http\\S+\", \" \", nuevo_texto)\n",
    "    # Eliminicación de signos de puntuación\n",
    "    regex = '[\\\\!\\\\\"\\\\#\\\\$\\\\%\\\\&\\\\\\'\\\\(\\\\)\\\\*\\\\+\\\\,\\\\-\\\\.\\\\/\\\\:\\\\;\\\\<\\\\=\\\\>\\\\?\\\\@\\\\\\\\`\\\\[\\\\\\\\\\]\\\\^\\\\_\\\\{\\\\|\\\\}\\\\~\\\\…]'\n",
    "    nuevo_texto = re.sub(regex, \" \", nuevo_texto)\n",
    "    # Eliminación de números\n",
    "    nuevo_texto = re.sub(\"\\d+\", \" \", nuevo_texto)\n",
    "    # Eliminacióon de espacios en blanco acumulado o múltiples\n",
    "    nuevo_texto = re.sub(\"\\\\s+\", \" \", nuevo_texto)\n",
    "    # Tokenización por palabras indivuales\n",
    "    nuevo_texto = nuevo_texto.split(sep = \" \")\n",
    "    # Eliminación de tokes con una longitud < 2\n",
    "    nuevo_texto = [token for token in nuevo_texto if len(token) > 1]\n",
    "    \n",
    "    return(nuevo_texto)"
   ]
  },
  {
   "cell_type": "code",
   "execution_count": 23,
   "id": "74ce530a",
   "metadata": {},
   "outputs": [
    {
     "name": "stdout",
     "output_type": "stream",
     "text": [
      "!\"#$%&'()*+,-./:;<=>?@[\\]^_`{|}~\n"
     ]
    }
   ],
   "source": [
    "print(string.punctuation)"
   ]
  },
  {
   "cell_type": "code",
   "execution_count": 24,
   "id": "c882ac10",
   "metadata": {},
   "outputs": [
    {
     "data": {
      "text/plain": [
       "['placed',\n",
       " 'the',\n",
       " 'flowers',\n",
       " 'three',\n",
       " 'broken',\n",
       " 'ribs',\n",
       " 'pierced',\n",
       " 'lung',\n",
       " 'and',\n",
       " 'still',\n",
       " 'he',\n",
       " 'fought',\n",
       " 'for',\n",
       " 'peace',\n",
       " 'at']"
      ]
     },
     "execution_count": 24,
     "metadata": {},
     "output_type": "execute_result"
    }
   ],
   "source": [
    "text = \"Hoy estamos trabajando el text mining. Es un ejercicio que durara 2 días. Hoy y mañana…\"\n",
    "txtTK = limpiar_tokenizar(df_tempo[\"texto\"][1])\n",
    "txtTK "
   ]
  },
  {
   "cell_type": "code",
   "execution_count": 25,
   "id": "354056c1",
   "metadata": {},
   "outputs": [
    {
     "name": "stdout",
     "output_type": "stream",
     "text": [
      "esto es 1 ejemplo de l'limpieza de3 m TEXTO   https://igeldo.com@datamining #textmining 45€ clean!\n",
      "['esto', 'es', 'ejemplo', 'de', 'limpieza', 'de', 'texto', 'textmining', 'clean']\n"
     ]
    }
   ],
   "source": [
    "# TESTEO de limpiza\n",
    "test = \"esto es 1 ejemplo de l'limpieza de3 m TEXTO   https://igeldo.com\"\n",
    "test1 = \"@datamining #textmining 45€ clean!\"\n",
    "test = test + test1\n",
    "print(test)\n",
    "print(limpiar_tokenizar(test))"
   ]
  },
  {
   "cell_type": "markdown",
   "id": "5aa47533",
   "metadata": {},
   "source": [
    "---"
   ]
  },
  {
   "cell_type": "markdown",
   "id": "519add61",
   "metadata": {},
   "source": [
    "# EJERCICIO \n",
    "hacer una función llamada \"limpiaYtokeniza\" que limpie y \"tokenize\" texto, utilizando el tikenizador de NLTK. Investiga como funciona."
   ]
  },
  {
   "cell_type": "code",
   "execution_count": 93,
   "id": "b602c4a6",
   "metadata": {},
   "outputs": [
    {
     "name": "stdout",
     "output_type": "stream",
     "text": [
      "['I', 'love', 'Python', '235']\n"
     ]
    }
   ],
   "source": [
    "### \n",
    "\n",
    "# import RegexpTokenizer() method from nltk\n",
    "from nltk.tokenize import RegexpTokenizer\n",
    "    \n",
    "# Create a reference variable for Class RegexpTokenizer\n",
    "tk = RegexpTokenizer(r'\\w+')\n",
    "    \n",
    "# Create a string input\n",
    "gfg = \"I `-love    Python 235 ¨\"\n",
    "    \n",
    "# Use tokenize method\n",
    "geek = tk.tokenize(gfg)\n",
    "    \n",
    "print(geek)"
   ]
  },
  {
   "cell_type": "code",
   "execution_count": 106,
   "id": "720c85c5",
   "metadata": {},
   "outputs": [],
   "source": [
    "from nltk.tokenize import RegexpTokenizer\n",
    "\n",
    "def limpiaYtokeniza(text):\n",
    "    nuevo_texto = RegexpTokenizer(r'\\w+\\\\d+', gaps = False)\n",
    "    nuevo_texto = tk.tokenize(text)\n",
    "    return nuevo_texto"
   ]
  },
  {
   "cell_type": "code",
   "execution_count": 107,
   "id": "5aa13818",
   "metadata": {},
   "outputs": [
    {
     "name": "stdout",
     "output_type": "stream",
     "text": [
      "['esto', 'es', '1', 'ejemplo', 'de', 'l', 'limpieza', 'de3', 'm', 'TEXTO', 'https', 'igeldo', 'com']\n"
     ]
    }
   ],
   "source": [
    "test = \"esto es 1 ejemplo de l'limpieza de3 m TEXTO   https://igeldo.com\"\n",
    "\n",
    "txt = limpiaYtokeniza(test)\n",
    "print(txt)"
   ]
  },
  {
   "cell_type": "code",
   "execution_count": null,
   "id": "b63717db",
   "metadata": {},
   "outputs": [],
   "source": [
    "El ejercicio NO está terminado"
   ]
  },
  {
   "cell_type": "code",
   "execution_count": null,
   "id": "b9d6bd7c",
   "metadata": {},
   "outputs": [],
   "source": []
  },
  {
   "cell_type": "markdown",
   "id": "1f4837b5",
   "metadata": {},
   "source": [
    "# Aplicar la función \"limpiar_tokenizar\""
   ]
  },
  {
   "cell_type": "code",
   "execution_count": 110,
   "id": "4ff330f0",
   "metadata": {},
   "outputs": [
    {
     "data": {
      "text/html": [
       "<div>\n",
       "<style scoped>\n",
       "    .dataframe tbody tr th:only-of-type {\n",
       "        vertical-align: middle;\n",
       "    }\n",
       "\n",
       "    .dataframe tbody tr th {\n",
       "        vertical-align: top;\n",
       "    }\n",
       "\n",
       "    .dataframe thead th {\n",
       "        text-align: right;\n",
       "    }\n",
       "</style>\n",
       "<table border=\"1\" class=\"dataframe\">\n",
       "  <thead>\n",
       "    <tr style=\"text-align: right;\">\n",
       "      <th></th>\n",
       "      <th>texto</th>\n",
       "      <th>texto_tokenizado</th>\n",
       "    </tr>\n",
       "  </thead>\n",
       "  <tbody>\n",
       "    <tr>\n",
       "      <th>0</th>\n",
       "      <td>\"If one day, my words are against science, cho...</td>\n",
       "      <td>[if, one, day, my, words, are, against, scienc...</td>\n",
       "    </tr>\n",
       "    <tr>\n",
       "      <th>1</th>\n",
       "      <td>I placed the flowers\\r\\n\\r\\nThree broken ribs\\...</td>\n",
       "      <td>[placed, the, flowers, three, broken, ribs, pi...</td>\n",
       "    </tr>\n",
       "    <tr>\n",
       "      <th>2</th>\n",
       "      <td>Atatürk Anıtkabir https://t.co/al3wt0njr6</td>\n",
       "      <td>[atatürk, anıtkabir]</td>\n",
       "    </tr>\n",
       "    <tr>\n",
       "      <th>3</th>\n",
       "      <td>@Bob_Richards One rocket, slightly toasted</td>\n",
       "      <td>[bob, richards, one, rocket, slightly, toasted]</td>\n",
       "    </tr>\n",
       "    <tr>\n",
       "      <th>4</th>\n",
       "      <td>@uncover007 500 ft so far. Should be 2 miles l...</td>\n",
       "      <td>[uncover, ft, so, far, should, be, miles, long...</td>\n",
       "    </tr>\n",
       "  </tbody>\n",
       "</table>\n",
       "</div>"
      ],
      "text/plain": [
       "                                               texto  \\\n",
       "0  \"If one day, my words are against science, cho...   \n",
       "1  I placed the flowers\\r\\n\\r\\nThree broken ribs\\...   \n",
       "2          Atatürk Anıtkabir https://t.co/al3wt0njr6   \n",
       "3         @Bob_Richards One rocket, slightly toasted   \n",
       "4  @uncover007 500 ft so far. Should be 2 miles l...   \n",
       "\n",
       "                                    texto_tokenizado  \n",
       "0  [if, one, day, my, words, are, against, scienc...  \n",
       "1  [placed, the, flowers, three, broken, ribs, pi...  \n",
       "2                               [atatürk, anıtkabir]  \n",
       "3    [bob, richards, one, rocket, slightly, toasted]  \n",
       "4  [uncover, ft, so, far, should, be, miles, long...  "
      ]
     },
     "execution_count": 110,
     "metadata": {},
     "output_type": "execute_result"
    }
   ],
   "source": [
    "# Aplicar la función de limpieza y tokenización a cada tweet \n",
    "# apply -> para aplicar una función \n",
    "# lambda para funciones muy sencillas\n",
    "# estructura -> lambda x: codigo, siendo x parámetro(s) de entrada\n",
    "tweets[\"texto_tokenizado\"] = tweets[\"texto\"].apply(lambda x: limpiar_tokenizar(x)) # El apply() es una función para aplicar una función a columnas\n",
    "tweets[[\"texto\", \"texto_tokenizado\"]].head()"
   ]
  },
  {
   "cell_type": "code",
   "execution_count": null,
   "id": "05255867",
   "metadata": {},
   "outputs": [],
   "source": []
  }
 ],
 "metadata": {
  "kernelspec": {
   "display_name": "Python 3 (ipykernel)",
   "language": "python",
   "name": "python3"
  },
  "language_info": {
   "codemirror_mode": {
    "name": "ipython",
    "version": 3
   },
   "file_extension": ".py",
   "mimetype": "text/x-python",
   "name": "python",
   "nbconvert_exporter": "python",
   "pygments_lexer": "ipython3",
   "version": "3.11.3"
  }
 },
 "nbformat": 4,
 "nbformat_minor": 5
}
