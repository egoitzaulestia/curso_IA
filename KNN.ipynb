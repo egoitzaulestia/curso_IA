{
 "cells": [
  {
   "cell_type": "code",
   "execution_count": 1,
   "id": "78cd1001",
   "metadata": {},
   "outputs": [],
   "source": [
    "import seaborn as sb"
   ]
  },
  {
   "cell_type": "code",
   "execution_count": 2,
   "id": "41f3f2a4",
   "metadata": {},
   "outputs": [],
   "source": [
    "iris = sb.load_dataset(\"iris\")"
   ]
  },
  {
   "cell_type": "code",
   "execution_count": null,
   "id": "e0874489",
   "metadata": {},
   "outputs": [],
   "source": [
    "iris[\"etiketa\"] = iris.species"
   ]
  }
 ],
 "metadata": {
  "kernelspec": {
   "display_name": "Python 3 (ipykernel)",
   "language": "python",
   "name": "python3"
  },
  "language_info": {
   "codemirror_mode": {
    "name": "ipython",
    "version": 3
   },
   "file_extension": ".py",
   "mimetype": "text/x-python",
   "name": "python",
   "nbconvert_exporter": "python",
   "pygments_lexer": "ipython3",
   "version": "3.11.3"
  }
 },
 "nbformat": 4,
 "nbformat_minor": 5
}
