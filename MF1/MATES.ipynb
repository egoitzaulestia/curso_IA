{
 "cells": [
  {
   "cell_type": "code",
   "execution_count": 1,
   "id": "7d656810",
   "metadata": {},
   "outputs": [],
   "source": [
    "import math"
   ]
  },
  {
   "cell_type": "code",
   "execution_count": 3,
   "id": "31b4d8ee",
   "metadata": {},
   "outputs": [
    {
     "data": {
      "text/plain": [
       "3.141592653589793"
      ]
     },
     "execution_count": 3,
     "metadata": {},
     "output_type": "execute_result"
    }
   ],
   "source": [
    "# .pi es una constant de la librería math\n",
    "math.pi"
   ]
  },
  {
   "cell_type": "code",
   "execution_count": 4,
   "id": "c118fbda",
   "metadata": {},
   "outputs": [
    {
     "data": {
      "text/plain": [
       "30"
      ]
     },
     "execution_count": 4,
     "metadata": {},
     "output_type": "execute_result"
    }
   ],
   "source": [
    "5 * 6"
   ]
  },
  {
   "cell_type": "markdown",
   "id": "6b7983a0",
   "metadata": {},
   "source": [
    "# Redondeo de números"
   ]
  },
  {
   "cell_type": "code",
   "execution_count": 11,
   "id": "f9ccfbf4",
   "metadata": {},
   "outputs": [
    {
     "data": {
      "text/plain": [
       "9"
      ]
     },
     "execution_count": 11,
     "metadata": {},
     "output_type": "execute_result"
    }
   ],
   "source": [
    "# Redondeos \"a la alta\"\n",
    "math.ceil(8.23)"
   ]
  },
  {
   "cell_type": "code",
   "execution_count": 12,
   "id": "ccfa8221",
   "metadata": {},
   "outputs": [
    {
     "data": {
      "text/plain": [
       "8"
      ]
     },
     "execution_count": 12,
     "metadata": {},
     "output_type": "execute_result"
    }
   ],
   "source": [
    "# Redondeo \"a la baja\"\n",
    "math.floor(8.23)"
   ]
  },
  {
   "cell_type": "markdown",
   "id": "a39c5f96",
   "metadata": {},
   "source": [
    "# Potencias"
   ]
  },
  {
   "cell_type": "code",
   "execution_count": 13,
   "id": "9d2d8c23",
   "metadata": {},
   "outputs": [
    {
     "data": {
      "text/plain": [
       "8.0"
      ]
     },
     "execution_count": 13,
     "metadata": {},
     "output_type": "execute_result"
    }
   ],
   "source": [
    "# Potencias\n",
    "math.pow(2,3)"
   ]
  },
  {
   "cell_type": "code",
   "execution_count": 14,
   "id": "76d93ef4",
   "metadata": {},
   "outputs": [
    {
     "data": {
      "text/plain": [
       "8"
      ]
     },
     "execution_count": 14,
     "metadata": {},
     "output_type": "execute_result"
    }
   ],
   "source": [
    "2**3"
   ]
  },
  {
   "cell_type": "markdown",
   "id": "0f1c2441",
   "metadata": {},
   "source": [
    "# Operaciones con variables\n"
   ]
  },
  {
   "cell_type": "code",
   "execution_count": 15,
   "id": "f115b4b0",
   "metadata": {},
   "outputs": [
    {
     "data": {
      "text/plain": [
       "10"
      ]
     },
     "execution_count": 15,
     "metadata": {},
     "output_type": "execute_result"
    }
   ],
   "source": [
    "# Operaciones con variables\n",
    "\n",
    "x = 8\n",
    "y = 2\n",
    "x + y"
   ]
  },
  {
   "cell_type": "markdown",
   "id": "16208b90",
   "metadata": {},
   "source": [
    "# Salidad de Datos"
   ]
  },
  {
   "cell_type": "code",
   "execution_count": 19,
   "id": "e52f9da8",
   "metadata": {},
   "outputs": [
    {
     "name": "stdout",
     "output_type": "stream",
     "text": [
      "Hola, soy Ego\n"
     ]
    }
   ],
   "source": [
    "print(\"Hola, soy Ego\")"
   ]
  },
  {
   "cell_type": "code",
   "execution_count": 20,
   "id": "ca87b634",
   "metadata": {},
   "outputs": [
    {
     "name": "stdout",
     "output_type": "stream",
     "text": [
      "10\n"
     ]
    }
   ],
   "source": [
    "x = 10\n",
    "print(x)"
   ]
  },
  {
   "cell_type": "code",
   "execution_count": 24,
   "id": "a5341673",
   "metadata": {},
   "outputs": [
    {
     "name": "stdout",
     "output_type": "stream",
     "text": [
      "el valor de x es: 10\n"
     ]
    }
   ],
   "source": [
    "print(\"el valor de x es: \" + str(x)) # CUIDADO con el tipo de dato que queremos \"printear\", en este caso tenemos que pasar"
   ]
  },
  {
   "cell_type": "markdown",
   "id": "7e5c234b",
   "metadata": {},
   "source": [
    "# Entrada de datos"
   ]
  },
  {
   "cell_type": "code",
   "execution_count": 27,
   "id": "49e852ee",
   "metadata": {},
   "outputs": [
    {
     "name": "stdout",
     "output_type": "stream",
     "text": [
      "Introduce tu nombre: Ego\n"
     ]
    }
   ],
   "source": [
    "txt = input(\"Introduce tu nombre: \") # la entrada del input por defecto será tipo texto"
   ]
  },
  {
   "cell_type": "code",
   "execution_count": 28,
   "id": "3e07691c",
   "metadata": {},
   "outputs": [
    {
     "data": {
      "text/plain": [
       "'Ego'"
      ]
     },
     "execution_count": 28,
     "metadata": {},
     "output_type": "execute_result"
    }
   ],
   "source": [
    "txt"
   ]
  },
  {
   "cell_type": "code",
   "execution_count": 29,
   "id": "c164c6e8",
   "metadata": {},
   "outputs": [
    {
     "name": "stdout",
     "output_type": "stream",
     "text": [
      "Your name is Ego\n"
     ]
    }
   ],
   "source": [
    "print(\"Your name is \" + txt)"
   ]
  },
  {
   "cell_type": "markdown",
   "id": "e3ce71ed",
   "metadata": {},
   "source": [
    "# EJERCICIO 1\n",
    "\n",
    "Recoger la edad del usuario"
   ]
  },
  {
   "cell_type": "code",
   "execution_count": 57,
   "id": "1f30c709",
   "metadata": {
    "scrolled": false
   },
   "outputs": [
    {
     "name": "stdout",
     "output_type": "stream",
     "text": [
      "How old are you? 40\n"
     ]
    }
   ],
   "source": [
    "edad = int(input(\"How old are you? \")) # Convertimos el input, generalmente un str, en int, para poder sumar, restar, etc."
   ]
  },
  {
   "cell_type": "code",
   "execution_count": 58,
   "id": "7cf7cfb3",
   "metadata": {
    "scrolled": true
   },
   "outputs": [
    {
     "data": {
      "text/plain": [
       "40"
      ]
     },
     "execution_count": 58,
     "metadata": {},
     "output_type": "execute_result"
    }
   ],
   "source": [
    "edad"
   ]
  },
  {
   "cell_type": "code",
   "execution_count": 59,
   "id": "bd48c1b4",
   "metadata": {},
   "outputs": [
    {
     "name": "stdout",
     "output_type": "stream",
     "text": [
      "Age: 40\n"
     ]
    }
   ],
   "source": [
    "print(\"Age: \" + str(edad))"
   ]
  },
  {
   "cell_type": "code",
   "execution_count": 60,
   "id": "8f43512a",
   "metadata": {},
   "outputs": [],
   "source": [
    "newEdad = edad + 5"
   ]
  },
  {
   "cell_type": "code",
   "execution_count": 61,
   "id": "16b88df3",
   "metadata": {},
   "outputs": [
    {
     "name": "stdout",
     "output_type": "stream",
     "text": [
      "Your new age is: 45\n"
     ]
    }
   ],
   "source": [
    "print(\"Your new age is: \" + str(newEdad))"
   ]
  },
  {
   "cell_type": "markdown",
   "id": "e3d11b29",
   "metadata": {},
   "source": [
    "# Condiciones\n",
    "\n",
    "if -\n",
    "elif -\n",
    "else -\n",
    "AND, OR, NOT -\n",
    "\n",
    "if anidados (dentro de un otro if, tantos cuanto podamos)"
   ]
  },
  {
   "cell_type": "code",
   "execution_count": 64,
   "id": "b69496b8",
   "metadata": {},
   "outputs": [
    {
     "name": "stdout",
     "output_type": "stream",
     "text": [
      "\"a\" is smaller than \"b\"\n"
     ]
    }
   ],
   "source": [
    "a = 5\n",
    "b = 7\n",
    "\n",
    "if a < b:\n",
    "    print(\"\\\"a\\\" is smaller than \\\"b\\\"\")\n",
    "elif a > b:\n",
    "    print(\"\\\"a\\\" is bigger than \\\"b\\\"\")\n",
    "else:\n",
    "    print(\"\\\"a\\\" and \\\"b\\\" are equal\")"
   ]
  },
  {
   "cell_type": "markdown",
   "id": "948be91c",
   "metadata": {},
   "source": [
    "# Ejercicio 2\n"
   ]
  },
  {
   "cell_type": "code",
   "execution_count": 97,
   "id": "ffca05f9",
   "metadata": {
    "scrolled": false
   },
   "outputs": [
    {
     "name": "stdout",
     "output_type": "stream",
     "text": [
      "What is your name? Juan\n",
      "How old are you? 18\n"
     ]
    }
   ],
   "source": [
    "name = input(\"What is your name? \")\n",
    "age = int(input(\"How old are you? \"))"
   ]
  },
  {
   "cell_type": "code",
   "execution_count": 99,
   "id": "bf74dcfe",
   "metadata": {},
   "outputs": [
    {
     "name": "stdout",
     "output_type": "stream",
     "text": [
      "Your name is Juan and Your are 18\n"
     ]
    }
   ],
   "source": [
    "if age >= 25 and age <= 40 or name == \"Juan\":\n",
    "    print(\"Your name is \" + name + \" and Your are \" + str(age))\n",
    "else:\n",
    "    print(\"Game Over\")\n"
   ]
  },
  {
   "cell_type": "markdown",
   "id": "963e25c3",
   "metadata": {},
   "source": [
    "# Funciones\n"
   ]
  },
  {
   "cell_type": "code",
   "execution_count": 100,
   "id": "97df65b5",
   "metadata": {},
   "outputs": [],
   "source": [
    "def my_function():\n",
    "    print(\"Hello World!\")"
   ]
  },
  {
   "cell_type": "code",
   "execution_count": 103,
   "id": "f6449495",
   "metadata": {},
   "outputs": [
    {
     "name": "stdout",
     "output_type": "stream",
     "text": [
      "Hello World!\n"
     ]
    }
   ],
   "source": [
    "my_function()"
   ]
  },
  {
   "cell_type": "code",
   "execution_count": 105,
   "id": "0ea92947",
   "metadata": {},
   "outputs": [],
   "source": [
    "def sumar(a, b):\n",
    "    return a + b"
   ]
  },
  {
   "cell_type": "code",
   "execution_count": 106,
   "id": "236423dd",
   "metadata": {},
   "outputs": [
    {
     "data": {
      "text/plain": [
       "10"
      ]
     },
     "execution_count": 106,
     "metadata": {},
     "output_type": "execute_result"
    }
   ],
   "source": [
    "sumar(3,7)"
   ]
  },
  {
   "cell_type": "code",
   "execution_count": 109,
   "id": "0b847fb2",
   "metadata": {},
   "outputs": [],
   "source": [
    "numeros = [3, 4, 6]\n",
    "\n",
    "def lookNum(a):\n",
    "    for n in numeros:\n",
    "        print(n)"
   ]
  },
  {
   "cell_type": "code",
   "execution_count": 110,
   "id": "bfac792c",
   "metadata": {},
   "outputs": [
    {
     "name": "stdout",
     "output_type": "stream",
     "text": [
      "3\n",
      "4\n",
      "6\n"
     ]
    }
   ],
   "source": [
    "lookNum(numeros)"
   ]
  },
  {
   "cell_type": "markdown",
   "id": "fe374114",
   "metadata": {},
   "source": [
    "# Ejercico 3\n",
    "\n",
    "Hacer uan función llamada \"sumprod\" qye recoja dos arguementos y los sume si el primero es mayor o igual que cinco, y que los multipl"
   ]
  },
  {
   "cell_type": "code",
   "execution_count": 128,
   "id": "318a7a42",
   "metadata": {},
   "outputs": [],
   "source": [
    "def sumprod(x,y):\n",
    "    if x >= 5:\n",
    "        return x + y\n",
    "    else:\n",
    "        return x * y"
   ]
  },
  {
   "cell_type": "code",
   "execution_count": 129,
   "id": "4d358404",
   "metadata": {},
   "outputs": [],
   "source": [
    "respuesta = str(sumprod(6, 6))"
   ]
  },
  {
   "cell_type": "code",
   "execution_count": 130,
   "id": "c73e7f5a",
   "metadata": {},
   "outputs": [
    {
     "name": "stdout",
     "output_type": "stream",
     "text": [
      "12\n"
     ]
    }
   ],
   "source": [
    "print(respuesta)"
   ]
  },
  {
   "cell_type": "markdown",
   "id": "8ff329b5",
   "metadata": {},
   "source": [
    "# Lanbda (MIRAR en w3school)"
   ]
  },
  {
   "cell_type": "code",
   "execution_count": 133,
   "id": "472eff42",
   "metadata": {},
   "outputs": [
    {
     "ename": "SyntaxError",
     "evalue": "invalid syntax (400147857.py, line 1)",
     "output_type": "error",
     "traceback": [
      "\u001b[1;36m  Cell \u001b[1;32mIn[133], line 1\u001b[1;36m\u001b[0m\n\u001b[1;33m    filter? # Si queremos saber de que trata una funcion utilizamos \"?\"\u001b[0m\n\u001b[1;37m          ^\u001b[0m\n\u001b[1;31mSyntaxError\u001b[0m\u001b[1;31m:\u001b[0m invalid syntax\n"
     ]
    }
   ],
   "source": [
    "#filter? # Si queremos saber de que trata una funcion utilizamos \"?\"\n"
   ]
  },
  {
   "cell_type": "markdown",
   "id": "aed1902e",
   "metadata": {},
   "source": [
    "# Ejercicio 4 - CHESSBOARD"
   ]
  },
  {
   "cell_type": "code",
   "execution_count": 168,
   "id": "146a41f8",
   "metadata": {},
   "outputs": [
    {
     "name": "stdout",
     "output_type": "stream",
     "text": [
      "Inroduce letra: b\n",
      "Introduce número: 2\n",
      "Azul\n"
     ]
    }
   ],
   "source": [
    "char = input(\"Inroduce letra: \")\n",
    "num = int(input(\"Introduce número: \"))\n",
    "\n",
    "if num % 2 == 0:\n",
    "    if char == \"a\" or char == \"c\" or char == \"e\" or char == \"g\":\n",
    "        print(\"Gris\")\n",
    "    elif char == \"b\" or char == \"d\" or char == \"f\" or char == \"h\":\n",
    "        print(\"Azul\")\n",
    "else:\n",
    "    if char == \"a\" or char == \"c\" or char == \"e\" or char == \"g\":\n",
    "        print(\"Azul\")\n",
    "    elif char == \"b\" or char == \"d\" or char == \"f\" or char == \"h\":\n",
    "        print(\"Gris\")"
   ]
  },
  {
   "cell_type": "markdown",
   "id": "5ec74178",
   "metadata": {},
   "source": [
    "def chessboard(char, num):\n",
    "    char = input(\"Inroduce letra\")\n",
    "    num = int(input(\"Introduce número\"))\n",
    "\n",
    "    if num % 2 == 0:\n",
    "        if char == \"a\" or char == \"c\" or char == \"e\" or char == \"g\":\n",
    "            print(\"Gris\")\n",
    "        elif char == \"b\" or char == \"d\" or char == \"f\" or char == \"h\":\n",
    "            print(\"Azul\")\n",
    "    else:\n",
    "        if char == \"a\" or char == \"c\" or char == \"e\" or char == \"g\":\n",
    "            print(\"Azul\")\n",
    "        elif char == \"b\" or char == \"d\" or char == \"f\" or char == \"h\":\n",
    "            print(\"Gris\")"
   ]
  },
  {
   "cell_type": "markdown",
   "id": "607d9bfe",
   "metadata": {},
   "source": [
    "chessboard(b1)"
   ]
  },
  {
   "cell_type": "code",
   "execution_count": 171,
   "id": "819fb255",
   "metadata": {},
   "outputs": [
    {
     "name": "stdout",
     "output_type": "stream",
     "text": [
      "intruduce la casilla a1\n",
      "azul\n"
     ]
    }
   ],
   "source": [
    "# El truco es \"sumar\" los numeros MÁS las letras COVERTIDAS a números \n",
    "\n",
    "inp = input(\"intruduce la casilla \")\n",
    "numLetras = {\"a\":1, \"b\":2, \"c\":3, \"d\":4, \"e\":5, \"f\":6, \"g\":7, \"h\":8}\n",
    "letra = inp[0]\n",
    "num1 = int(inp[1])\n",
    "num2 = numLetras[letra]\n",
    "if (num1 + num2) % 2 == 0:\n",
    "    print(\"azul\")\n",
    "else:\n",
    "    print(\"gris\")"
   ]
  }
 ],
 "metadata": {
  "kernelspec": {
   "display_name": "Python 3 (ipykernel)",
   "language": "python",
   "name": "python3"
  },
  "language_info": {
   "codemirror_mode": {
    "name": "ipython",
    "version": 3
   },
   "file_extension": ".py",
   "mimetype": "text/x-python",
   "name": "python",
   "nbconvert_exporter": "python",
   "pygments_lexer": "ipython3",
   "version": "3.11.3"
  }
 },
 "nbformat": 4,
 "nbformat_minor": 5
}
