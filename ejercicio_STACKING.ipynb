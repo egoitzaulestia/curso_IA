{
 "cells": [
  {
   "cell_type": "markdown",
   "id": "3201391b",
   "metadata": {},
   "source": [
    "# EJERCICIO\n",
    "\n",
    "Usando el df_titanic, coger las columans numéricas excepto \"PassengerId, y usar también la columna \"Sex\" Para datos precitores.\n",
    "\n",
    "Usar la columna \"Survived\" como objetivo.\n",
    "\n",
    "Probar por separado los algoritmos SupportVectorMachine (kernel lineal), DecisionTreeClassifier (max_depth -> 2) y KNeighborsClassifier (25 n_neighbors), ver los"
   ]
  },
  {
   "cell_type": "code",
   "execution_count": 1,
   "id": "6ad5ca9c",
   "metadata": {},
   "outputs": [],
   "source": [
    "import pandas as pd\n",
    "from sklearn.model_selection import train_test_split\n",
    "from sklearn.neighbors import KNeighborsClassifier\n",
    "from sklearn.tree import DecisionTreeClassifier\n",
    "from sklearn.svm import SVC\n",
    "from sklearn.ensemble import StackingClassifier\n",
    "from sklearn.linear_model import LogisticRegression"
   ]
  },
  {
   "cell_type": "code",
   "execution_count": 16,
   "id": "3989ac01",
   "metadata": {
    "scrolled": true
   },
   "outputs": [
    {
     "data": {
      "text/html": [
       "<div>\n",
       "<style scoped>\n",
       "    .dataframe tbody tr th:only-of-type {\n",
       "        vertical-align: middle;\n",
       "    }\n",
       "\n",
       "    .dataframe tbody tr th {\n",
       "        vertical-align: top;\n",
       "    }\n",
       "\n",
       "    .dataframe thead th {\n",
       "        text-align: right;\n",
       "    }\n",
       "</style>\n",
       "<table border=\"1\" class=\"dataframe\">\n",
       "  <thead>\n",
       "    <tr style=\"text-align: right;\">\n",
       "      <th></th>\n",
       "      <th>Survived</th>\n",
       "      <th>Pclass</th>\n",
       "      <th>Age</th>\n",
       "      <th>SibSp</th>\n",
       "      <th>Parch</th>\n",
       "      <th>Fare</th>\n",
       "      <th>Sex_num</th>\n",
       "    </tr>\n",
       "  </thead>\n",
       "  <tbody>\n",
       "    <tr>\n",
       "      <th>0</th>\n",
       "      <td>0</td>\n",
       "      <td>3</td>\n",
       "      <td>22.0</td>\n",
       "      <td>1</td>\n",
       "      <td>0</td>\n",
       "      <td>7.2500</td>\n",
       "      <td>0</td>\n",
       "    </tr>\n",
       "    <tr>\n",
       "      <th>1</th>\n",
       "      <td>1</td>\n",
       "      <td>1</td>\n",
       "      <td>38.0</td>\n",
       "      <td>1</td>\n",
       "      <td>0</td>\n",
       "      <td>71.2833</td>\n",
       "      <td>1</td>\n",
       "    </tr>\n",
       "  </tbody>\n",
       "</table>\n",
       "</div>"
      ],
      "text/plain": [
       "   Survived  Pclass   Age  SibSp  Parch     Fare  Sex_num\n",
       "0         0       3  22.0      1      0   7.2500        0\n",
       "1         1       1  38.0      1      0  71.2833        1"
      ]
     },
     "execution_count": 16,
     "metadata": {},
     "output_type": "execute_result"
    }
   ],
   "source": [
    "df_titanic = pd.read_csv(\"./titanic1.csv\")\n",
    "\n",
    "df_titanic[\"Sex_num\"] = df_titanic[\"Sex\"].map({\"male\": 0, \"female\": 1}) # Creamos Columna Sex_num. Sex es texto, pero sex_num la hemos \n",
    "df_num = df_titanic.select_dtypes(include=\"number\") # Nos quedamos con todos los datos númericos\n",
    "df_num.drop(columns=\"PassengerId\", inplace = True) # Modifica directamete el DF. # Vamos a quietar PassengerId (que también es numérica) por que es RUIDO, no nos aporta nada\n",
    "\n",
    "df_num.head(2)"
   ]
  },
  {
   "cell_type": "code",
   "execution_count": 31,
   "id": "ff9a11b3",
   "metadata": {},
   "outputs": [
    {
     "name": "stdout",
     "output_type": "stream",
     "text": [
      "<class 'pandas.core.frame.DataFrame'>\n",
      "RangeIndex: 891 entries, 0 to 890\n",
      "Data columns (total 7 columns):\n",
      " #   Column    Non-Null Count  Dtype  \n",
      "---  ------    --------------  -----  \n",
      " 0   Survived  891 non-null    int64  \n",
      " 1   Pclass    891 non-null    int64  \n",
      " 2   Age       714 non-null    float64\n",
      " 3   SibSp     891 non-null    int64  \n",
      " 4   Parch     891 non-null    int64  \n",
      " 5   Fare      891 non-null    float64\n",
      " 6   Sex_num   891 non-null    int64  \n",
      "dtypes: float64(2), int64(5)\n",
      "memory usage: 48.9 KB\n"
     ]
    }
   ],
   "source": [
    "df_num.info() # Observamos que una de las columnas tiene menos datos, ergo tiene filas NaN"
   ]
  },
  {
   "cell_type": "code",
   "execution_count": 17,
   "id": "f1bc0ce0",
   "metadata": {},
   "outputs": [],
   "source": [
    "X = df_num.drop(columns=\"Survived\")\n",
    "y = df_num[\"Survived\"] # Variable objetivo"
   ]
  },
  {
   "cell_type": "code",
   "execution_count": 18,
   "id": "a7e0d842",
   "metadata": {},
   "outputs": [
    {
     "data": {
      "text/html": [
       "<div>\n",
       "<style scoped>\n",
       "    .dataframe tbody tr th:only-of-type {\n",
       "        vertical-align: middle;\n",
       "    }\n",
       "\n",
       "    .dataframe tbody tr th {\n",
       "        vertical-align: top;\n",
       "    }\n",
       "\n",
       "    .dataframe thead th {\n",
       "        text-align: right;\n",
       "    }\n",
       "</style>\n",
       "<table border=\"1\" class=\"dataframe\">\n",
       "  <thead>\n",
       "    <tr style=\"text-align: right;\">\n",
       "      <th></th>\n",
       "      <th>Survived</th>\n",
       "      <th>Pclass</th>\n",
       "      <th>Age</th>\n",
       "      <th>SibSp</th>\n",
       "      <th>Parch</th>\n",
       "      <th>Fare</th>\n",
       "      <th>Sex_num</th>\n",
       "    </tr>\n",
       "  </thead>\n",
       "  <tbody>\n",
       "    <tr>\n",
       "      <th>0</th>\n",
       "      <td>0</td>\n",
       "      <td>3</td>\n",
       "      <td>22.0</td>\n",
       "      <td>1</td>\n",
       "      <td>0</td>\n",
       "      <td>7.2500</td>\n",
       "      <td>0</td>\n",
       "    </tr>\n",
       "    <tr>\n",
       "      <th>1</th>\n",
       "      <td>1</td>\n",
       "      <td>1</td>\n",
       "      <td>38.0</td>\n",
       "      <td>1</td>\n",
       "      <td>0</td>\n",
       "      <td>71.2833</td>\n",
       "      <td>1</td>\n",
       "    </tr>\n",
       "  </tbody>\n",
       "</table>\n",
       "</div>"
      ],
      "text/plain": [
       "   Survived  Pclass   Age  SibSp  Parch     Fare  Sex_num\n",
       "0         0       3  22.0      1      0   7.2500        0\n",
       "1         1       1  38.0      1      0  71.2833        1"
      ]
     },
     "execution_count": 18,
     "metadata": {},
     "output_type": "execute_result"
    }
   ],
   "source": [
    "X[\"Age\"].fillna(X[\"Age\"].mean(), inplace = True)\n",
    "df_num.head(2)"
   ]
  },
  {
   "cell_type": "code",
   "execution_count": 19,
   "id": "7a187122",
   "metadata": {},
   "outputs": [],
   "source": [
    "X_train, X_test, y_train, y_test = train_test_split(X, y, test_size = 0.20, random_state = 40)"
   ]
  },
  {
   "cell_type": "markdown",
   "id": "2d5ff8ab",
   "metadata": {},
   "source": [
    "### Vamos a ver el algoritmo Support Vector Machine"
   ]
  },
  {
   "cell_type": "code",
   "execution_count": 20,
   "id": "051e2a13",
   "metadata": {},
   "outputs": [
    {
     "name": "stdout",
     "output_type": "stream",
     "text": [
      "0.8044692737430168\n"
     ]
    }
   ],
   "source": [
    "SVM_clf = SVC(kernel=\"linear\", random_state = 40)\n",
    "SVM_clf.fit(X_train, y_train)\n",
    "scoreSVM = SVM_clf.score(X_test, y_test)\n",
    "print(scoreSVM)"
   ]
  },
  {
   "cell_type": "markdown",
   "id": "400a388c",
   "metadata": {},
   "source": [
    "### Vamos a ver el algoritmo DecisionTreeClassifier"
   ]
  },
  {
   "cell_type": "code",
   "execution_count": 21,
   "id": "08832b03",
   "metadata": {},
   "outputs": [
    {
     "name": "stdout",
     "output_type": "stream",
     "text": [
      "0.7988826815642458\n"
     ]
    }
   ],
   "source": [
    "DTC_clf = DecisionTreeClassifier(max_depth = 2, random_state = 40)\n",
    "DTC_clf.fit(X_train, y_train)\n",
    "scoreDTC = DTC_clf.score(X_test, y_test)\n",
    "print(scoreDTC)"
   ]
  },
  {
   "cell_type": "markdown",
   "id": "4578b242",
   "metadata": {},
   "source": [
    "### Vamos a ver el algoritmo KNeighborsClassifier"
   ]
  },
  {
   "cell_type": "code",
   "execution_count": 22,
   "id": "ec689b06",
   "metadata": {},
   "outputs": [
    {
     "name": "stdout",
     "output_type": "stream",
     "text": [
      "0.7262569832402235\n"
     ]
    }
   ],
   "source": [
    "KNN_clf = KNeighborsClassifier(n_neighbors=25) # Lo vamos hacer sin parametros, aunque nosmalmente SÍ PONDREMOS PARÁMETROS\n",
    "KNN_clf.fit(X_train, y_train)\n",
    "scoreKNN = KNN_clf.score(X_test, y_test)\n",
    "print(scoreKNN)"
   ]
  },
  {
   "cell_type": "markdown",
   "id": "bd078ca2",
   "metadata": {},
   "source": [
    "---"
   ]
  },
  {
   "cell_type": "markdown",
   "id": "d2b6f1a8",
   "metadata": {},
   "source": [
    "### Vamos a ver el algoritmo StackingClassifier"
   ]
  },
  {
   "cell_type": "code",
   "execution_count": 23,
   "id": "4ab94975",
   "metadata": {},
   "outputs": [],
   "source": [
    "estimadores = [(\"SVC\", SVC(kernel=\"linear\", random_state = 40)), (\"cart\", DecisionTreeClassifier(max_depth = 2, random_state = 40))]\n",
    "stacking_clf = StackingClassifier(estimators = estimadores, final_estimator = KNeighborsClassifier(n_neighbors=25))"
   ]
  },
  {
   "cell_type": "code",
   "execution_count": 25,
   "id": "be97dcdc",
   "metadata": {},
   "outputs": [
    {
     "name": "stdout",
     "output_type": "stream",
     "text": [
      "0.8044692737430168\n"
     ]
    }
   ],
   "source": [
    "stacking_clf.fit(X_train, y_train)\n",
    "scoreStack = stacking_clf.score(X_test, y_test)\n",
    "print(scoreStack) # LO NORMAL es que mejore"
   ]
  },
  {
   "cell_type": "code",
   "execution_count": 26,
   "id": "fd727f26",
   "metadata": {},
   "outputs": [],
   "source": [
    "estimadores = [(\"knn\", KNeighborsClassifier(n_neighbors=25)), (\"cart\", DecisionTreeClassifier(max_depth = 2, random_state = 40))]\n",
    "stacking_clf = StackingClassifier(estimators = estimadores, final_estimator = SVC(kernel=\"linear\", random_state = 40))"
   ]
  },
  {
   "cell_type": "code",
   "execution_count": 27,
   "id": "e950a4b0",
   "metadata": {},
   "outputs": [
    {
     "name": "stdout",
     "output_type": "stream",
     "text": [
      "0.7988826815642458\n"
     ]
    }
   ],
   "source": [
    "stacking_clf.fit(X_train, y_train)\n",
    "scoreStack = stacking_clf.score(X_test, y_test)\n",
    "print(scoreStack) # LO NORMAL es que mejore"
   ]
  },
  {
   "cell_type": "code",
   "execution_count": 28,
   "id": "fa1cf67f",
   "metadata": {},
   "outputs": [],
   "source": [
    "estimadores = [(\"knn\", KNeighborsClassifier(n_neighbors=25)), (\"svc\", SVC(kernel=\"linear\", random_state = 40))]\n",
    "stacking_clf = StackingClassifier(estimators = estimadores, final_estimator = DecisionTreeClassifier(max_depth = 2, random_state = 40))"
   ]
  },
  {
   "cell_type": "code",
   "execution_count": 29,
   "id": "33ad8248",
   "metadata": {},
   "outputs": [
    {
     "name": "stdout",
     "output_type": "stream",
     "text": [
      "0.8212290502793296\n"
     ]
    }
   ],
   "source": [
    "stacking_clf.fit(X_train, y_train)\n",
    "scoreStack = stacking_clf.score(X_test, y_test)\n",
    "print(scoreStack) # LO NORMAL es que mejore"
   ]
  },
  {
   "cell_type": "markdown",
   "id": "faf94cdc",
   "metadata": {},
   "source": [
    "---\n",
    "---"
   ]
  },
  {
   "cell_type": "markdown",
   "id": "567e40a0",
   "metadata": {},
   "source": []
  }
 ],
 "metadata": {
  "kernelspec": {
   "display_name": "Python 3 (ipykernel)",
   "language": "python",
   "name": "python3"
  },
  "language_info": {
   "codemirror_mode": {
    "name": "ipython",
    "version": 3
   },
   "file_extension": ".py",
   "mimetype": "text/x-python",
   "name": "python",
   "nbconvert_exporter": "python",
   "pygments_lexer": "ipython3",
   "version": "3.11.3"
  }
 },
 "nbformat": 4,
 "nbformat_minor": 5
}
