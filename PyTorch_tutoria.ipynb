{
 "cells": [
  {
   "cell_type": "markdown",
   "id": "436dc03d",
   "metadata": {},
   "source": [
    "# PyTorch\n",
    "### A gentle introduction to PyTorch"
   ]
  },
  {
   "cell_type": "code",
   "execution_count": 1,
   "id": "69fb7345",
   "metadata": {},
   "outputs": [],
   "source": [
    "# Importamos módulos/librerías\n",
    "\n",
    "import torch\n",
    "\n",
    "import matplotlib.pyplot as plt\n",
    "import numpy as np"
   ]
  },
  {
   "cell_type": "markdown",
   "id": "edab34d8",
   "metadata": {},
   "source": [
    "The following line just checks if there is some GPU available and sets the `device` variable accordingly."
   ]
  },
  {
   "cell_type": "code",
   "execution_count": 2,
   "id": "30d88067",
   "metadata": {},
   "outputs": [
    {
     "name": "stdout",
     "output_type": "stream",
     "text": [
      "Using device: cpu\n"
     ]
    }
   ],
   "source": [
    "device = \"cuda:0\" if torch.cuda.is_available() else \"cpu\"\n",
    "print(\"Using device:\", device)"
   ]
  },
  {
   "cell_type": "markdown",
   "id": "bf0c77d3",
   "metadata": {},
   "source": [
    "## Introducing the basic element: *the tensor* 🔥💦🌬🗻\n",
    "\n",
    "Tensors are the central object in pytorch. They can have a single dimension (vector), 2 dimensions (matrix), or n-dimensions (tensor). They also share a very similar interface to `ndarray`s of the popular `numpy` library. In PyTorch, tensors are represented with the [`Tensor`](https://pytorch.org/docs/stable/tensors.html) object.\n",
    "\n",
    "Let's create our first pytorch tensors with some default values:"
   ]
  },
  {
   "cell_type": "code",
   "execution_count": 3,
   "id": "55f9522a",
   "metadata": {},
   "outputs": [
    {
     "data": {
      "text/plain": [
       "tensor([0., 1., 2.])"
      ]
     },
     "execution_count": 3,
     "metadata": {},
     "output_type": "execute_result"
    }
   ],
   "source": [
    "my_tensor = torch.Tensor([0., 1., 2.])\n",
    "my_tensor"
   ]
  },
  {
   "cell_type": "markdown",
   "id": "67a1777e",
   "metadata": {},
   "source": [
    "\\Now that we have created a tensor, let's explore the \"must know\" attributes or properties that all pytorch tensors have:"
   ]
  },
  {
   "cell_type": "code",
   "execution_count": 4,
   "id": "e5a5dcc4",
   "metadata": {},
   "outputs": [
    {
     "name": "stdout",
     "output_type": "stream",
     "text": [
      "The size of the tensor is: torch.Size([3])\n",
      "The type of the tensor is: torch.float32\n",
      "Where is the tensor? cpu\n",
      "Has the gradient property? False\n"
     ]
    }
   ],
   "source": [
    "print(\"The size of the tensor is:\", my_tensor.size())\n",
    "\n",
    "print(\"The type of the tensor is:\", my_tensor.dtype)\n",
    "\n",
    "print(\"Where is the tensor?\", my_tensor.device)\n",
    "\n",
    "print(\"Has the gradient property?\", my_tensor.requires_grad)"
   ]
  },
  {
   "cell_type": "markdown",
   "id": "b99a1bc7",
   "metadata": {},
   "source": [
    "Note that pytorch tensors have the folowing default properties:\n",
    "- The tensor is stored in CPU memory.\n",
    "- By default numbers are stored as 32 bit float."
   ]
  },
  {
   "cell_type": "markdown",
   "id": "9fd127a0",
   "metadata": {},
   "source": [
    "PyTorch tensors have a very similar interface to numpy's `ndarray`, let's see how to do some basic math operations with tensors:"
   ]
  },
  {
   "cell_type": "code",
   "execution_count": 5,
   "id": "4c48bd7f",
   "metadata": {},
   "outputs": [
    {
     "name": "stdout",
     "output_type": "stream",
     "text": [
      "Double tensor([0., 2., 4.])\n",
      "Half: tensor([0.0000, 0.5000, 1.0000])\n",
      "Triple tensor([0., 3., 6.])\n"
     ]
    }
   ],
   "source": [
    "double = 2 * my_tensor # myltiply a tensor by an scalar\n",
    "half = my_tensor / 2\n",
    "triple = double + my_tensor # opertions between tensors\n",
    "\n",
    "print(\"Double\", double)\n",
    "print(\"Half:\", half)\n",
    "print(\"Triple\", triple)"
   ]
  },
  {
   "cell_type": "markdown",
   "id": "0a1d2ef5",
   "metadata": {},
   "source": [
    "Pretty easy! right? As you can see, pytorch tensors can be manipulated using standard python operators, leading to cleaner code. But these operations can also be done directly using pytorch library functions ([reference](https://pytorch.org/docs/stable/torch.hztml)):"
   ]
  },
  {
   "cell_type": "code",
   "execution_count": 6,
   "id": "f028d164",
   "metadata": {},
   "outputs": [
    {
     "name": "stdout",
     "output_type": "stream",
     "text": [
      "Double: tensor([0., 2., 4.])\n",
      "Half: tensor([0.0000, 0.5000, 1.0000])\n",
      "Triple: tensor([0., 3., 6.])\n"
     ]
    }
   ],
   "source": [
    "# Repeat the same operations from the code block above but using pytorch funcitions\n",
    "double = torch.mul(2., my_tensor)\n",
    "half = torch.div(my_tensor, 2.)\n",
    "triple = torch.add(double, my_tensor)\n",
    "\n",
    "print(\"Double:\", double)\n",
    "print(\"Half:\", half)\n",
    "print(\"Triple:\", triple)"
   ]
  },
  {
   "cell_type": "markdown",
   "id": "513252ee",
   "metadata": {},
   "source": [
    "In the examples above, we have used a tensor created with some default values, but pytorch offers a wide variety of handy constructors to create our tensors. These are some of the most used ones, but the complete list of constructors can be found [here](https://pytorch.org/docs/stable/torch.html#creation-ops).  "
   ]
  },
  {
   "cell_type": "code",
   "execution_count": 7,
   "id": "0c7bb36e",
   "metadata": {},
   "outputs": [
    {
     "name": "stdout",
     "output_type": "stream",
     "text": [
      "--> torch.zeros:\n",
      "\n",
      " tensor([[0., 0., 0.],\n",
      "        [0., 0., 0.],\n",
      "        [0., 0., 0.]])\n",
      "\n",
      "--> torch.rand:\n",
      "\n",
      " tensor([[0.6708, 0.0211, 0.2336],\n",
      "        [0.6785, 0.4314, 0.0915],\n",
      "        [0.1498, 0.3367, 0.9648]])\n",
      "\n",
      "--> torch.randn:\n",
      "\n",
      " tensor([[-0.3377, -1.5041, -1.9110],\n",
      "        [-2.1734, -0.6812,  0.0527],\n",
      "        [ 0.3231, -1.2879, -1.1583]])\n",
      "\n",
      "--> torch.eye:\n",
      "\n",
      " tensor([[1., 0., 0.],\n",
      "        [0., 1., 0.],\n",
      "        [0., 0., 1.]])\n",
      "\n",
      "--> torch.ones:\n",
      "\n",
      " tensor([[1., 1., 1.],\n",
      "        [1., 1., 1.],\n",
      "        [1., 1., 1.]])\n"
     ]
    }
   ],
   "source": [
    "# Create a tensor of 3x3 dimension with all values set to zero\n",
    "z = torch.zeros(3, 3)\n",
    "print(\"--> torch.zeros:\\n\\n\", z)\n",
    "\n",
    "# A tensor whose values are sampled from a uniform distribution on the [0, 1] range\n",
    "u = torch.rand((3, 3)) # the shape of the tensor goes between parenthesis here\n",
    "print(\"\\n--> torch.rand:\\n\\n\", u)\n",
    "\n",
    "# A tensor whose values are sampled from a (0, 1) normal\n",
    "n = torch.randn((3, 3))\n",
    "print(\"\\n--> torch.randn:\\n\\n\", n)\n",
    "\n",
    "# Returns a 2-D tensor with ones on the diagonal and zeros elsewhere\n",
    "i = torch.eye(3, 3)\n",
    "print(\"\\n--> torch.eye:\\n\\n\", i)\n",
    "\n",
    "# Returns a 2-D tensor with ones \n",
    "o = torch.ones(3, 3)\n",
    "print(\"\\n--> torch.ones:\\n\\n\", o)"
   ]
  },
  {
   "cell_type": "markdown",
   "id": "2a6e3072",
   "metadata": {},
   "source": [
    "## Where the witchcraft starts 🧙‍♂️: ✨Autograd✨\n",
    "\n",
    "\n",
    "\n",
    "\n",
    "Remember the code cell in wich we saw the properties of pytorch tensors, the `requires_grad` property of the tensor was set to `False`. This property tells pytorch wheter or not to track the gradient of a tensor. In this section we will see how to use pytorch's Autograd to automatically compute the gradient of a tensor.\n",
    "\n",
    "Let's start by creating a tensor with some default values and setting its `requires_grad` property:"
   ]
  },
  {
   "cell_type": "code",
   "execution_count": 8,
   "id": "bab1e2e5",
   "metadata": {},
   "outputs": [
    {
     "data": {
      "text/plain": [
       "tensor([[ 1., -1.],\n",
       "        [-1.,  1.]], requires_grad=True)"
      ]
     },
     "execution_count": 8,
     "metadata": {},
     "output_type": "execute_result"
    }
   ],
   "source": [
    "x = torch.tensor(\n",
    "    [[1., -1.],\n",
    "     [-1., 1.]],\n",
    "    requires_grad=True) # track gradients\n",
    "x"
   ]
  },
  {
   "cell_type": "markdown",
   "id": "19f1a725",
   "metadata": {},
   "source": [
    "Note how this time the `requires_grad` attribute is set to `True`, indicating pytorch to track the operations over it to then be able to compute the gradient. So let's test it! Compute the sum of the squares of the tensor `x`:"
   ]
  },
  {
   "cell_type": "code",
   "execution_count": 9,
   "id": "5d60cfa2",
   "metadata": {},
   "outputs": [
    {
     "name": "stdout",
     "output_type": "stream",
     "text": [
      "tensor([[1., 1.],\n",
      "        [1., 1.]], grad_fn=<PowBackward0>)\n"
     ]
    },
    {
     "data": {
      "text/plain": [
       "tensor(4., grad_fn=<SumBackward0>)"
      ]
     },
     "execution_count": 9,
     "metadata": {},
     "output_type": "execute_result"
    }
   ],
   "source": [
    "x1 = x.pow(2)\n",
    "print(x1)\n",
    "out = x1.sum()\n",
    "out"
   ]
  },
  {
   "cell_type": "markdown",
   "id": "c594707a",
   "metadata": {},
   "source": [
    "This is already a bit of a spoiler, notice that the resulting `out` tensor doesn't only contain the final value of the operation (`4.0`) but it also contains a property `grad_fn` that is set to an object named `SumBackward0`a. In fact, when operating on a tensor with the `requires_grad` attribute set to `True`, the tensor resulting from any operation on it will contain a `grad_fn` attribute with the derivative function of the applied operation. This way, pytorch is able to construct a graph of the operations that led to a specific tensor to later perform automatic differentiation.\n",
    "\n",
    "In this example, we will compute the gradient of the tensor `x` with respect to the result of the operation, the tensor `out`. By calling the method `backward` on the `out` tensor, Autograd will traverse the described graph and will compute the gradients of all tensors that led to the tensor `out`."
   ]
  },
  {
   "cell_type": "code",
   "execution_count": 10,
   "id": "1ee0a397",
   "metadata": {},
   "outputs": [],
   "source": [
    "out.backward()"
   ]
  },
  {
   "cell_type": "markdown",
   "id": "81ac910d",
   "metadata": {},
   "source": [
    "To access to the gradients of the tensor `x` we simply have to check its `grad` attribute:"
   ]
  },
  {
   "cell_type": "code",
   "execution_count": 11,
   "id": "2c2b6e04",
   "metadata": {},
   "outputs": [
    {
     "data": {
      "text/plain": [
       "tensor([[ 2., -2.],\n",
       "        [-2.,  2.]])"
      ]
     },
     "execution_count": 11,
     "metadata": {},
     "output_type": "execute_result"
    }
   ],
   "source": [
    "x.grad"
   ]
  },
  {
   "cell_type": "markdown",
   "id": "85dd1512",
   "metadata": {},
   "source": [
    "Voilà! Just using 4 lines of code we used Autograd, the automatic differentiation engine of pytorch, to compute automatically the gradients of a tensor<h1>💃🕺</h1>\n",
    "\n",
    "- 📖 More information on Autograd and how to use it can be found [here](https://pytorch.org/docs/stable/notes/autograd.html).\n",
    "\n",
    "---"
   ]
  },
  {
   "cell_type": "markdown",
   "id": "cbb99e6d",
   "metadata": {},
   "source": [
    "## Linear regression with gradient descent 📈\n",
    "\n",
    "Now that we have covered the basics of tensors and autograd, we can get into the first proper exercise: linear regression using gradient descent!!!🙌🥳🤓 Not super impressive, but the concepts built in this example perfectly translate to more complex use cases.\n",
    "\n",
    "<br>\n",
    "Let's start by creating some data for the sake of the exercise. Note that the contents of this function aren't very relevant right now, but trying to understand it in depth can be a nice exercise for later (once you have become a pytorch ninja 🥷)."
   ]
  },
  {
   "cell_type": "code",
   "execution_count": 12,
   "id": "10cd4c72",
   "metadata": {},
   "outputs": [
    {
     "data": {
      "text/plain": [
       "<matplotlib.collections.PathCollection at 0x1258fb810>"
      ]
     },
     "execution_count": 12,
     "metadata": {},
     "output_type": "execute_result"
    },
    {
     "data": {
      "image/png": "[encoded data removed]",
      "text/plain": [
       "<Figure size 640x480 with 1 Axes>"
      ]
     },
     "metadata": {},
     "output_type": "display_data"
    }
   ],
   "source": [
    "# let's create a function to generate random data.\n",
    "def data_gen(n_samples=10, x_max=1, intercept=0, noise_gain=0.1):\n",
    "    # uniformly sample the [0, 1] interval\n",
    "    x = x_max*torch.rand(n_samples)\n",
    "    # add some Gaussian noise to x\n",
    "    y = x + noise_gain*torch.randn(n_samples) + intercept\n",
    "    return x[:, None], y[:, None]\n",
    "\n",
    "x, y = data_gen(n_samples=100)\n",
    "plt.scatter(x, y)"
   ]
  },
  {
   "cell_type": "markdown",
   "id": "b5da9b63",
   "metadata": {},
   "source": [
    "Let's create a loss function to measure the error of our regressor. In this case, we'll use the MSE loss, but feel free to change it. Note the similarity of the function to the example used to illustrate Autograd."
   ]
  },
  {
   "cell_type": "code",
   "execution_count": 13,
   "id": "7c69b819",
   "metadata": {},
   "outputs": [],
   "source": [
    "def mse_loss(y_hat, y_target):\n",
    "    return (y_hat - y_target).pow(2.).mean()"
   ]
  },
  {
   "cell_type": "markdown",
   "id": "d817020e",
   "metadata": {},
   "source": [
    "The code cell below just initializes a couple of hyperparameters, and helper variables to log the progress of the trainig process."
   ]
  },
  {
   "cell_type": "code",
   "execution_count": 14,
   "id": "ddcc20de",
   "metadata": {},
   "outputs": [],
   "source": [
    "# learning rate\n",
    "lr = 0.1\n",
    "\n",
    "# maximum number of iterations\n",
    "iters = 100\n",
    "\n",
    "# used to log loss values for visualization purposes\n",
    "loss_values = []\n",
    "param_values = []"
   ]
  },
  {
   "cell_type": "markdown",
   "id": "8aa92763",
   "metadata": {},
   "source": [
    "In this case, as the data is 2 dimensional the regressor will have two values: corresponding to the slope and intercept. This parameters will be stored in a single `Tensor` object initialized to random values:"
   ]
  },
  {
   "cell_type": "code",
   "execution_count": 15,
   "id": "feb9b0d7",
   "metadata": {},
   "outputs": [
    {
     "data": {
      "text/plain": [
       "tensor([0.8405, 0.4496], requires_grad=True)"
      ]
     },
     "execution_count": 15,
     "metadata": {},
     "output_type": "execute_result"
    }
   ],
   "source": [
    "# initialize the parameters of the model\n",
    "model = torch.randn(2, requires_grad=True)\n",
    "model"
   ]
  },
  {
   "cell_type": "markdown",
   "id": "652a70df",
   "metadata": {},
   "source": [
    "This code block is where all the fun happens: *the training loop*.\n",
    "\n",
    "Step by step the training loop goes as the following:\n",
    "\n",
    "1. Given $x$, use the model to compute the estimate $\\hat{y}$.\n",
    "2. Compute the loss value based on the actual $y$ and the estimate $\\hat{y}$.\n",
    "3. Call `.backward()` on the loss value, this way autograd will fill the gradients of the tensors that produced $\\hat{y}$.\n",
    "4. Update the parameters of the model using gradient descent.\n",
    "5. Reset the gradients of the tensors to zero before the next iteration."
   ]
  },
  {
   "cell_type": "code",
   "execution_count": 16,
   "id": "a8c10b16",
   "metadata": {},
   "outputs": [
    {
     "name": "stdout",
     "output_type": "stream",
     "text": [
      "1/100 MSE: 0.15735551714897156\n",
      "11/100 MSE: 0.01833084598183632\n",
      "21/100 MSE: 0.015644118189811707\n",
      "31/100 MSE: 0.013916976749897003\n",
      "41/100 MSE: 0.012628785334527493\n",
      "51/100 MSE: 0.011667425744235516\n",
      "61/100 MSE: 0.010949972085654736\n",
      "71/100 MSE: 0.010414541698992252\n",
      "81/100 MSE: 0.010014955885708332\n",
      "91/100 MSE: 0.009716746397316456\n"
     ]
    }
   ],
   "source": [
    "for it in range(iters):\n",
    "    \n",
    "    # (1) compute the estimated y values using our model\n",
    "    y_hat = x * model[0] + model[1]\n",
    "    \n",
    "    # (2) compute the error\n",
    "    loss = mse_loss(y_hat, y)\n",
    "    \n",
    "    # just for logging\n",
    "    loss_values.append(loss.item())\n",
    "    param_values.append(model.detach().tolist())\n",
    "    if it % 10 == 0:\n",
    "        print(f\"{it+1}/{   iters} MSE: {loss.item()}\")\n",
    "        \n",
    "    # (3) use autograd to compute gradients w.r.t the loss\n",
    "    loss.backward()\n",
    "    \n",
    "    with torch.no_grad(): # within this block, autograd is disabled\n",
    "        # (4) update the parameters of the model\n",
    "        # note that we don't want autograd to track this operation\n",
    "        model -= lr*model.grad\n",
    "        \n",
    "    # (5) set gradients to zero for the next iteration,\n",
    "    # otherwise gradiets accumulate\n",
    "    model.grad.data.zero_()"
   ]
  },
  {
   "cell_type": "markdown",
   "id": "fa862145",
   "metadata": {},
   "source": [
    "Plot the data logged during the training process:"
   ]
  },
  {
   "cell_type": "code",
   "execution_count": 18,
   "id": "8ce04f09",
   "metadata": {
    "scrolled": true
   },
   "outputs": [
    {
     "data": {
      "image/png": "[encoded data removed]",
      "text/plain": [
       "<Figure size 640x480 with 2 Axes>"
      ]
     },
     "metadata": {},
     "output_type": "display_data"
    }
   ],
   "source": [
    "def viz_linear_reg(loss_values, param_values):\n",
    "    plt.subplot(2, 1, 1)\n",
    "    plt.plot(loss_values)\n",
    "    plt.title(\"Loss curve\")\n",
    "    plt.ylabel(\"MSE Loss\")\n",
    "    plt.xlabel(\"Iteration\")\n",
    "    \n",
    "    plt.subplot(2, 1, 2)\n",
    "    plt.scatter(x, y, alpha=0.7)\n",
    "    \n",
    "    for i, param in enumerate(param_values):\n",
    "        plt.axline((0, param[1]), slope=param[0],\n",
    "            color=[1., 0., 0., 0.5*i/len(param_values)])\n",
    "    plt.xlabel(\"X\")\n",
    "    plt.ylabel(\"Y\")\n",
    "    plt.title(\"Evolution of the parameters\")\n",
    "    plt.tight_layout()\n",
    "    \n",
    "viz_linear_reg(loss_values, param_values)"
   ]
  },
  {
   "cell_type": "code",
   "execution_count": null,
   "id": "8c2f2700",
   "metadata": {},
   "outputs": [],
   "source": []
  }
 ],
 "metadata": {
  "kernelspec": {
   "display_name": "Python 3 (ipykernel)",
   "language": "python",
   "name": "python3"
  },
  "language_info": {
   "codemirror_mode": {
    "name": "ipython",
    "version": 3
   },
   "file_extension": ".py",
   "mimetype": "text/x-python",
   "name": "python",
   "nbconvert_exporter": "python",
   "pygments_lexer": "ipython3",
   "version": "3.11.4"
  }
 },
 "nbformat": 4,
 "nbformat_minor": 5
}
