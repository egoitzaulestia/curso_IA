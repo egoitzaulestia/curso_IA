{
 "cells": [
  {
   "cell_type": "markdown",
   "id": "436dc03d",
   "metadata": {},
   "source": [
    "# PyTorch\n",
    "### A gentle introduction to PyTorch"
   ]
  },
  {
   "cell_type": "code",
   "execution_count": 2,
   "id": "69fb7345",
   "metadata": {},
   "outputs": [],
   "source": [
    "# Importamos módulos/librerías\n",
    "\n",
    "import torch\n",
    "\n",
    "import matplotlib.pyplot as plt\n",
    "import numpy as np"
   ]
  },
  {
   "cell_type": "markdown",
   "id": "edab34d8",
   "metadata": {},
   "source": [
    "The following line just checks if there is some GPU available and sets the `device` variable accordingly."
   ]
  },
  {
   "cell_type": "code",
   "execution_count": 4,
   "id": "30d88067",
   "metadata": {},
   "outputs": [
    {
     "name": "stdout",
     "output_type": "stream",
     "text": [
      "Using device: cpu\n"
     ]
    }
   ],
   "source": [
    "device = \"cuda:0\" if torch.cuda.is_available() else \"cpu\"\n",
    "print(\"Using device:\", device)"
   ]
  },
  {
   "cell_type": "markdown",
   "id": "bf0c77d3",
   "metadata": {},
   "source": [
    "## Introducing the basic element: *the tensor* 🔥💦🌬🗻\n",
    "\n",
    "Tensors are the central object in pytorch. They can have a single dimension (vector), 2 dimensions (matrix), or n-dimensions (tensor). They also share a very similar interface to `ndarray`s of the popular `numpy` library. In PyTorch, tensors are represented with the [`Tensor`](https://pytorch.org/docs/stable/tensors.html) object.\n",
    "\n",
    "Let's create our first pytorch tensors with some default values:"
   ]
  },
  {
   "cell_type": "code",
   "execution_count": 7,
   "id": "55f9522a",
   "metadata": {},
   "outputs": [
    {
     "data": {
      "text/plain": [
       "tensor([0., 1., 2.])"
      ]
     },
     "execution_count": 7,
     "metadata": {},
     "output_type": "execute_result"
    }
   ],
   "source": [
    "my_tensor = torch.Tensor([0., 1., 2.])\n",
    "my_tensor"
   ]
  },
  {
   "cell_type": "markdown",
   "id": "67a1777e",
   "metadata": {},
   "source": [
    "\\Now that we have created a tensor, let's explore the \"must know\" attributes or properties that all pytorch tensors have:"
   ]
  },
  {
   "cell_type": "code",
   "execution_count": 8,
   "id": "e5a5dcc4",
   "metadata": {},
   "outputs": [
    {
     "name": "stdout",
     "output_type": "stream",
     "text": [
      "The size of the tensor is: torch.Size([3])\n",
      "The type of the tensor is: torch.float32\n",
      "Where is the tensor? cpu\n",
      "Has the gradient property? False\n"
     ]
    }
   ],
   "source": [
    "print(\"The size of the tensor is:\", my_tensor.size())\n",
    "\n",
    "print(\"The type of the tensor is:\", my_tensor.dtype)\n",
    "\n",
    "print(\"Where is the tensor?\", my_tensor.device)\n",
    "\n",
    "print(\"Has the gradient property?\", my_tensor.requires_grad)"
   ]
  },
  {
   "cell_type": "markdown",
   "id": "b99a1bc7",
   "metadata": {},
   "source": [
    "Note that pytorch tensors have the folowing default properties:\n",
    "- The tensor is stored in CPU memory.\n",
    "- By default numbers are stored as 32 bit float."
   ]
  },
  {
   "cell_type": "markdown",
   "id": "9fd127a0",
   "metadata": {},
   "source": [
    "PyTorch tensors have a very similar interface to numpy's `ndarray`, let's see how to do some basic math operations with tensors:"
   ]
  },
  {
   "cell_type": "code",
   "execution_count": 9,
   "id": "4c48bd7f",
   "metadata": {},
   "outputs": [
    {
     "name": "stdout",
     "output_type": "stream",
     "text": [
      "Double tensor([0., 2., 4.])\n",
      "Half: tensor([0.0000, 0.5000, 1.0000])\n",
      "Triple tensor([0., 3., 6.])\n"
     ]
    }
   ],
   "source": [
    "double = 2 * my_tensor # myltiply a tensor by an scalar\n",
    "half = my_tensor / 2\n",
    "triple = double + my_tensor # opertions between tensors\n",
    "\n",
    "print(\"Double\", double)\n",
    "print(\"Half:\", half)\n",
    "print(\"Triple\", triple)"
   ]
  },
  {
   "cell_type": "markdown",
   "id": "0a1d2ef5",
   "metadata": {},
   "source": [
    "Pretty easy! right? As you can see, pytorch tensors can be manipulated using standard python operators, leading to cleaner code. But these operations can also be done directly using pytorch library functions ([reference](https://pytorch.org/docs/stable/torch.hztml)):"
   ]
  },
  {
   "cell_type": "code",
   "execution_count": 12,
   "id": "f028d164",
   "metadata": {},
   "outputs": [
    {
     "name": "stdout",
     "output_type": "stream",
     "text": [
      "Double: tensor([0., 2., 4.])\n",
      "Half: tensor([0.0000, 0.5000, 1.0000])\n",
      "Triple: tensor([0., 3., 6.])\n"
     ]
    }
   ],
   "source": [
    "# Repeat the same operations from the code block above but using pytorch funcitions\n",
    "double = torch.mul(2., my_tensor)\n",
    "half = torch.div(my_tensor, 2.)\n",
    "triple = torch.add(double, my_tensor)\n",
    "\n",
    "print(\"Double:\", double)\n",
    "print(\"Half:\", half)\n",
    "print(\"Triple:\", triple)"
   ]
  },
  {
   "cell_type": "markdown",
   "id": "513252ee",
   "metadata": {},
   "source": [
    "In the examples above, we have used a tensor created with some default values, but pytorch offers a wide variety of handy constructors to create our tensors. These are some of the most used ones, but the complete list of constructors can be found [here](https://pytorch.org/docs/stable/torch.html#creation-ops).  "
   ]
  },
  {
   "cell_type": "code",
   "execution_count": 15,
   "id": "0c7bb36e",
   "metadata": {},
   "outputs": [
    {
     "name": "stdout",
     "output_type": "stream",
     "text": [
      "--> torch.zeros:\n",
      "\n",
      " tensor([[0., 0., 0.],\n",
      "        [0., 0., 0.],\n",
      "        [0., 0., 0.]])\n",
      "\n",
      "--> torch.rand:\n",
      "\n",
      " tensor([[0.7615, 0.7469, 0.3113],\n",
      "        [0.5671, 0.7643, 0.6103],\n",
      "        [0.3573, 0.0397, 0.7564]])\n",
      "\n",
      "--> torch.randn:\n",
      "\n",
      " tensor([[ 2.3971,  0.3491,  0.8964],\n",
      "        [ 1.2776, -0.1210,  1.4088],\n",
      "        [ 0.2447,  0.7154, -1.2639]])\n",
      "\n",
      "--> torch.eye:\n",
      "\n",
      " tensor([[1., 0., 0.],\n",
      "        [0., 1., 0.],\n",
      "        [0., 0., 1.]])\n",
      "\n",
      "--> torch.ones:\n",
      "\n",
      " tensor([[1., 1., 1.],\n",
      "        [1., 1., 1.],\n",
      "        [1., 1., 1.]])\n"
     ]
    }
   ],
   "source": [
    "# Create a tensor of 3x3 dimension with all values set to zero\n",
    "z = torch.zeros(3, 3)\n",
    "print(\"--> torch.zeros:\\n\\n\", z)\n",
    "\n",
    "# A tensor whose values are sampled from a uniform distribution on the [0, 1] range\n",
    "u = torch.rand((3, 3)) # the shape of the tensor goes between parenthesis here\n",
    "print(\"\\n--> torch.rand:\\n\\n\", u)\n",
    "\n",
    "# A tensor whose values are sampled from a (0, 1) normal\n",
    "n = torch.randn((3, 3))\n",
    "print(\"\\n--> torch.randn:\\n\\n\", n)\n",
    "\n",
    "# Returns a 2-D tensor with ones on the diagonal and zeros elsewhere\n",
    "i = torch.eye(3, 3)\n",
    "print(\"\\n--> torch.eye:\\n\\n\", i)\n",
    "\n",
    "# Returns a 2-D tensor with ones \n",
    "o = torch.ones(3, 3)\n",
    "print(\"\\n--> torch.ones:\\n\\n\", o)"
   ]
  },
  {
   "cell_type": "code",
   "execution_count": null,
   "id": "9e7418a4",
   "metadata": {},
   "outputs": [],
   "source": []
  }
 ],
 "metadata": {
  "kernelspec": {
   "display_name": "Python 3 (ipykernel)",
   "language": "python",
   "name": "python3"
  },
  "language_info": {
   "codemirror_mode": {
    "name": "ipython",
    "version": 3
   },
   "file_extension": ".py",
   "mimetype": "text/x-python",
   "name": "python",
   "nbconvert_exporter": "python",
   "pygments_lexer": "ipython3",
   "version": "3.11.4"
  }
 },
 "nbformat": 4,
 "nbformat_minor": 5
}
