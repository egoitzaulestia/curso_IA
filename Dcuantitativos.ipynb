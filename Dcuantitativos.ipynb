{
 "cells": [
  {
   "cell_type": "code",
   "execution_count": 2,
   "id": "bb91eea8",
   "metadata": {},
   "outputs": [],
   "source": [
    "# Importamos statstics que viene preestablecida con python\n",
    "import statistics as st"
   ]
  },
  {
   "cell_type": "code",
   "execution_count": 3,
   "id": "c2edf653",
   "metadata": {},
   "outputs": [],
   "source": [
    "edades = [27, 40, 15, 18, 40, 25, 13, 54, 40, 37, 65]"
   ]
  },
  {
   "cell_type": "code",
   "execution_count": 4,
   "id": "dfc24fd1",
   "metadata": {},
   "outputs": [
    {
     "data": {
      "text/plain": [
       "[13, 15, 18, 25, 27, 37, 40, 40, 40, 54, 65]"
      ]
     },
     "execution_count": 4,
     "metadata": {},
     "output_type": "execute_result"
    }
   ],
   "source": [
    "edades.sort() # ordenamos las edades de la lista con .sort()\n",
    "edades"
   ]
  },
  {
   "cell_type": "code",
   "execution_count": 5,
   "id": "db8d93a6",
   "metadata": {},
   "outputs": [
    {
     "data": {
      "text/plain": [
       "34"
      ]
     },
     "execution_count": 5,
     "metadata": {},
     "output_type": "execute_result"
    }
   ],
   "source": [
    "# Para calcular la MEDIA\n",
    "mediaEd = st.mean(edades) # paquete statistics .mean()\n",
    "mediaEd"
   ]
  },
  {
   "cell_type": "code",
   "execution_count": 7,
   "id": "7c94884d",
   "metadata": {},
   "outputs": [
    {
     "data": {
      "text/plain": [
       "37"
      ]
     },
     "execution_count": 7,
     "metadata": {},
     "output_type": "execute_result"
    }
   ],
   "source": [
    "medianaEd = st.median(edades) # paquete statistics .median()\n",
    "medianaEd"
   ]
  },
  {
   "cell_type": "code",
   "execution_count": 8,
   "id": "7abb3711",
   "metadata": {},
   "outputs": [
    {
     "data": {
      "text/plain": [
       "40"
      ]
     },
     "execution_count": 8,
     "metadata": {},
     "output_type": "execute_result"
    }
   ],
   "source": [
    "modaEd = st.mode(edades) # paquete statistics .mode() = que elemento se repite más\n",
    "modaEd"
   ]
  },
  {
   "cell_type": "code",
   "execution_count": 9,
   "id": "63ed5741",
   "metadata": {},
   "outputs": [],
   "source": [
    "# DATOS CUANTITATIVOS. MEDIDAS DE POSICIÓN.\n"
   ]
  },
  {
   "cell_type": "markdown",
   "id": "1677c7a4",
   "metadata": {},
   "source": [
    "### Medidas de posición\n",
    "### Cuartiles: nos distribuyen los datos \n",
    "#### Q1: el menos valor que es mayour o igual que una cuarta parte de los datos.\n",
    "#### Q2: el menosr valor que es mayor o igual que la mitad de los datos. Mediana.\n",
    "#### Q3 ............."
   ]
  },
  {
   "cell_type": "markdown",
   "id": "02022e8f",
   "metadata": {},
   "source": [
    "##### Q1: 25% de los datos es manero o igual a Q1\n",
    "##### 2: 50% de los datos es menor o igual a Q2\n",
    "##### Q3: 75% de los datos es menos o igual a Q3"
   ]
  },
  {
   "cell_type": "markdown",
   "id": "e256e638",
   "metadata": {},
   "source": [
    "CUANTILES: "
   ]
  },
  {
   "cell_type": "code",
   "execution_count": null,
   "id": "92f7ba83",
   "metadata": {},
   "outputs": [],
   "source": []
  },
  {
   "cell_type": "markdown",
   "id": "055c9ff9",
   "metadata": {},
   "source": [
    "# MEDIDAS DE DISPERSIÓN\n",
    "### Rango o Recorrido \n",
    "### Rango Intercuartílico:\n",
    "(Normalmente \"más fiable\" que el rango globol)\n",
    "### Varianza (s2 (al cuadrado)): \n",
    "es la media de la distancia de cada punto dee\n",
    "### Desviación típica: \n",
    "Es la dispersión media entre todos los valores de la muestra y su valor. (Es la raíz cuadrada de la varianza)"
   ]
  },
  {
   "cell_type": "code",
   "execution_count": 15,
   "id": "40734946",
   "metadata": {},
   "outputs": [],
   "source": [
    "# -----"
   ]
  },
  {
   "cell_type": "markdown",
   "id": "ca0d8d4a",
   "metadata": {},
   "source": [
    "# CUARTILES"
   ]
  },
  {
   "cell_type": "code",
   "execution_count": 20,
   "id": "65571046",
   "metadata": {},
   "outputs": [
    {
     "data": {
      "text/plain": [
       "[13, 15, 18, 25, 27, 37, 40, 40, 40, 54, 65]"
      ]
     },
     "execution_count": 20,
     "metadata": {},
     "output_type": "execute_result"
    }
   ],
   "source": [
    "edades = [27, 40, 15, 18, 40, 25, 13, 54, 40, 37, 65]\n",
    "edades.sort()\n",
    "edades"
   ]
  },
  {
   "cell_type": "code",
   "execution_count": 19,
   "id": "9d509177",
   "metadata": {},
   "outputs": [
    {
     "data": {
      "text/plain": [
       "[18.0, 37.0, 40.0]"
      ]
     },
     "execution_count": 19,
     "metadata": {},
     "output_type": "execute_result"
    }
   ],
   "source": [
    "st.quantiles(edades, n=4)"
   ]
  },
  {
   "cell_type": "markdown",
   "id": "00181001",
   "metadata": {},
   "source": [
    "# RANGO"
   ]
  },
  {
   "cell_type": "code",
   "execution_count": 21,
   "id": "de678c3a",
   "metadata": {},
   "outputs": [
    {
     "data": {
      "text/plain": [
       "52"
      ]
     },
     "execution_count": 21,
     "metadata": {},
     "output_type": "execute_result"
    }
   ],
   "source": [
    "rango = max(edades) - min(edades)\n",
    "rango"
   ]
  },
  {
   "cell_type": "markdown",
   "id": "2c29319d",
   "metadata": {},
   "source": [
    "# RANGO INTERCUARTIL"
   ]
  },
  {
   "cell_type": "code",
   "execution_count": 22,
   "id": "0acca3c6",
   "metadata": {},
   "outputs": [
    {
     "name": "stdout",
     "output_type": "stream",
     "text": [
      "[18.0, 37.0, 40.0]\n"
     ]
    },
    {
     "data": {
      "text/plain": [
       "22.0"
      ]
     },
     "execution_count": 22,
     "metadata": {},
     "output_type": "execute_result"
    }
   ],
   "source": [
    "cuartiles = st.quantiles(edades, n=4) # Creamos una lista de los cuartiles (Q1, Q2 y Q3)\n",
    "print(cuartiles)\n",
    "iqr = cuartiles[2] - cuartiles[0] # el Q3 es la 2ª de la lista, y Q1 es la posición 0, de la LISTA \"cuartiles\"\n",
    "iqr"
   ]
  },
  {
   "cell_type": "markdown",
   "id": "48f34381",
   "metadata": {},
   "source": [
    "# VARIANZA"
   ]
  },
  {
   "cell_type": "code",
   "execution_count": 24,
   "id": "32bb5156",
   "metadata": {},
   "outputs": [
    {
     "data": {
      "text/plain": [
       "266.6"
      ]
     },
     "execution_count": 24,
     "metadata": {},
     "output_type": "execute_result"
    }
   ],
   "source": [
    "varianza = st.variance(edades) \n",
    "varianza # El resultado no nos indica mucho"
   ]
  },
  {
   "cell_type": "markdown",
   "id": "d93c1cd9",
   "metadata": {},
   "source": [
    "# DESVIACIÓN TÍPICA\n"
   ]
  },
  {
   "cell_type": "code",
   "execution_count": 25,
   "id": "81f21195",
   "metadata": {},
   "outputs": [
    {
     "data": {
      "text/plain": [
       "16.327890249508663"
      ]
     },
     "execution_count": 25,
     "metadata": {},
     "output_type": "execute_result"
    }
   ],
   "source": [
    "desvTip = st.stdev(edades)\n",
    "desvTip"
   ]
  },
  {
   "cell_type": "code",
   "execution_count": null,
   "id": "79d91388",
   "metadata": {},
   "outputs": [],
   "source": []
  }
 ],
 "metadata": {
  "kernelspec": {
   "display_name": "Python 3 (ipykernel)",
   "language": "python",
   "name": "python3"
  },
  "language_info": {
   "codemirror_mode": {
    "name": "ipython",
    "version": 3
   },
   "file_extension": ".py",
   "mimetype": "text/x-python",
   "name": "python",
   "nbconvert_exporter": "python",
   "pygments_lexer": "ipython3",
   "version": "3.11.3"
  }
 },
 "nbformat": 4,
 "nbformat_minor": 5
}
