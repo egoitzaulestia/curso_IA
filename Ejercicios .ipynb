{
 "cells": [
  {
   "cell_type": "code",
   "execution_count": 1,
   "id": "5654bf48",
   "metadata": {},
   "outputs": [],
   "source": [
    "# Crear un ejercicio que tenga que por claves los números deñ 2 al 12 y como valores sus raíces cuadradas"
   ]
  },
  {
   "cell_type": "code",
   "execution_count": 2,
   "id": "419d6a77",
   "metadata": {},
   "outputs": [],
   "source": [
    "import numpy as np"
   ]
  },
  {
   "cell_type": "code",
   "execution_count": 39,
   "id": "99093369",
   "metadata": {},
   "outputs": [
    {
     "data": {
      "text/plain": [
       "array([ 2,  3,  4,  5,  6,  7,  8,  9, 10, 11, 12])"
      ]
     },
     "execution_count": 39,
     "metadata": {},
     "output_type": "execute_result"
    }
   ],
   "source": [
    "lista1 = [2, 3, 4, 5, 6, 7, 8, 9, 10, 11, 12]\n",
    "arr = np.array(lista1)\n",
    "arr"
   ]
  },
  {
   "cell_type": "code",
   "execution_count": 40,
   "id": "df06fb7a",
   "metadata": {},
   "outputs": [
    {
     "data": {
      "text/plain": [
       "array([ 2,  3,  4,  5,  6,  7,  8,  9, 10, 11, 12])"
      ]
     },
     "execution_count": 40,
     "metadata": {},
     "output_type": "execute_result"
    }
   ],
   "source": [
    "arr"
   ]
  },
  {
   "cell_type": "code",
   "execution_count": null,
   "id": "14390292",
   "metadata": {},
   "outputs": [],
   "source": []
  },
  {
   "cell_type": "code",
   "execution_count": 7,
   "id": "7cbc9167",
   "metadata": {},
   "outputs": [],
   "source": [
    "arr2 = np.sqrt(arr)"
   ]
  },
  {
   "cell_type": "code",
   "execution_count": 8,
   "id": "21ddac2e",
   "metadata": {},
   "outputs": [
    {
     "data": {
      "text/plain": [
       "array([1.41421356, 1.73205081, 2.        , 2.23606798, 2.44948974,\n",
       "       2.64575131, 2.82842712, 3.        , 3.16227766, 3.31662479,\n",
       "       3.46410162])"
      ]
     },
     "execution_count": 8,
     "metadata": {},
     "output_type": "execute_result"
    }
   ],
   "source": [
    "arr2"
   ]
  },
  {
   "cell_type": "code",
   "execution_count": null,
   "id": "858b03fd",
   "metadata": {},
   "outputs": [],
   "source": [
    "arrFinal = {\"dos\":1.41421356, \"tres\":1.73205081,}"
   ]
  },
  {
   "cell_type": "code",
   "execution_count": 15,
   "id": "c8fd06c2",
   "metadata": {},
   "outputs": [],
   "source": [
    "arr3 = dict(zip(arr, arr2))"
   ]
  },
  {
   "cell_type": "markdown",
   "id": "21a84a71",
   "metadata": {},
   "source": [
    "### "
   ]
  },
  {
   "cell_type": "code",
   "execution_count": 16,
   "id": "8f33615f",
   "metadata": {},
   "outputs": [
    {
     "data": {
      "text/plain": [
       "{2: 1.4142135623730951,\n",
       " 3: 1.7320508075688772,\n",
       " 4: 2.0,\n",
       " 5: 2.23606797749979,\n",
       " 6: 2.449489742783178,\n",
       " 7: 2.6457513110645907,\n",
       " 8: 2.8284271247461903,\n",
       " 9: 3.0,\n",
       " 10: 3.1622776601683795,\n",
       " 11: 3.3166247903554,\n",
       " 12: 3.4641016151377544}"
      ]
     },
     "execution_count": 16,
     "metadata": {},
     "output_type": "execute_result"
    }
   ],
   "source": [
    "arr3"
   ]
  },
  {
   "cell_type": "code",
   "execution_count": 17,
   "id": "977858d2",
   "metadata": {},
   "outputs": [],
   "source": [
    "arr3 = dict(zip(str(arr), arr2))"
   ]
  },
  {
   "cell_type": "code",
   "execution_count": 18,
   "id": "f36f73aa",
   "metadata": {},
   "outputs": [
    {
     "data": {
      "text/plain": [
       "{'[': 1.4142135623730951,\n",
       " ' ': 3.4641016151377544,\n",
       " '2': 2.0,\n",
       " '3': 2.6457513110645907,\n",
       " '4': 3.1622776601683795}"
      ]
     },
     "execution_count": 18,
     "metadata": {},
     "output_type": "execute_result"
    }
   ],
   "source": [
    "arr3"
   ]
  },
  {
   "cell_type": "code",
   "execution_count": 30,
   "id": "b3f3919f",
   "metadata": {},
   "outputs": [
    {
     "data": {
      "text/plain": [
       "'[ 2  3  4  5  6  7  8  9 10 11 12]'"
      ]
     },
     "execution_count": 30,
     "metadata": {},
     "output_type": "execute_result"
    }
   ],
   "source": [
    "str(arr)"
   ]
  },
  {
   "cell_type": "code",
   "execution_count": 34,
   "id": "529e99cc",
   "metadata": {},
   "outputs": [],
   "source": [
    "arr3 = dict(zip(arr, arr2))"
   ]
  },
  {
   "cell_type": "code",
   "execution_count": 32,
   "id": "a361ed24",
   "metadata": {},
   "outputs": [
    {
     "data": {
      "text/plain": [
       "{'[': 1.4142135623730951,\n",
       " ' ': 3.4641016151377544,\n",
       " '2': 2.0,\n",
       " '3': 2.6457513110645907,\n",
       " '4': 3.1622776601683795}"
      ]
     },
     "execution_count": 32,
     "metadata": {},
     "output_type": "execute_result"
    }
   ],
   "source": [
    "arr3"
   ]
  },
  {
   "cell_type": "code",
   "execution_count": 26,
   "id": "87a92bba",
   "metadata": {},
   "outputs": [
    {
     "data": {
      "text/plain": [
       "1.7320508075688772"
      ]
     },
     "execution_count": 26,
     "metadata": {},
     "output_type": "execute_result"
    }
   ],
   "source": [
    "arr3[3]"
   ]
  },
  {
   "cell_type": "markdown",
   "id": "40ee1403",
   "metadata": {},
   "source": [
    "# Ejercicio 2"
   ]
  },
  {
   "cell_type": "code",
   "execution_count": 36,
   "id": "34152225",
   "metadata": {},
   "outputs": [],
   "source": [
    "abc = ['a', 'b', 'c', 'd', 'e', 'f', 'g', 'h', 'i', 'j', 'k', 'l', 'm', 'n', 'o', 'p', 'q', 'r', 's', 't', 'u', 'v', 'w', 'x', 'y', 'z']"
   ]
  },
  {
   "cell_type": "code",
   "execution_count": 37,
   "id": "df703c43",
   "metadata": {},
   "outputs": [],
   "source": [
    "abc = np.array(abc)"
   ]
  },
  {
   "cell_type": "code",
   "execution_count": 38,
   "id": "69d8c6c6",
   "metadata": {},
   "outputs": [
    {
     "data": {
      "text/plain": [
       "array(['a', 'b', 'c', 'd', 'e', 'f', 'g', 'h', 'i', 'j', 'k', 'l', 'm',\n",
       "       'n', 'o', 'p', 'q', 'r', 's', 't', 'u', 'v', 'w', 'x', 'y', 'z'],\n",
       "      dtype='<U1')"
      ]
     },
     "execution_count": 38,
     "metadata": {},
     "output_type": "execute_result"
    }
   ],
   "source": [
    "abc"
   ]
  },
  {
   "cell_type": "code",
   "execution_count": 69,
   "id": "979332e0",
   "metadata": {},
   "outputs": [],
   "source": [
    "abc2 ={'A': '.-',\n",
    "            'B': '-...',\n",
    "            'C': '-.-.',\n",
    "            'D': '-..',\n",
    "            'E': '.',\n",
    "            'F': '..-.',\n",
    "            'G': '--.',\n",
    "            'H': '....',\n",
    "            'I': '..',\n",
    "            'J': '.---',\n",
    "            'K': '-.-',\n",
    "            'L': '.-..',\n",
    "            'M': '--',\n",
    "            'N': '-.',\n",
    "            'O': '---',\n",
    "            'P': '.--.',\n",
    "            'Q': '--.-',\n",
    "            'R': '.-.',\n",
    "            'S': '...',\n",
    "            'T': '-',\n",
    "            'U': '..-',\n",
    "            'V': '...-',\n",
    "            'W': '.--',\n",
    "            'X': '-..-',\n",
    "            'Y': '-.--',\n",
    "            'Z': '--..',\n",
    "            '1': '.----',\n",
    "            '2': '..---',\n",
    "            '3': '...--',\n",
    "            '4': '....-',\n",
    "            '5': '.....',\n",
    "            '6': '-....',\n",
    "            '7': '--...',\n",
    "            '8': '---..',\n",
    "            '9': '----.',\n",
    "            '0': '-----',\n",
    "            ' ': ' '}"
   ]
  },
  {
   "cell_type": "code",
   "execution_count": 65,
   "id": "b98219f0",
   "metadata": {},
   "outputs": [],
   "source": [
    "def convertMorse():\n",
    "    entrada = input(\"Escribe algo corto: \")\n",
    "    for n in entrada.upper():\n",
    "        for m in abc2:\n",
    "            f = m.values()\n",
    "            print(n)"
   ]
  },
  {
   "cell_type": "code",
   "execution_count": 66,
   "id": "193e083e",
   "metadata": {},
   "outputs": [
    {
     "name": "stdout",
     "output_type": "stream",
     "text": [
      "Escribe algo corto: King Kong\n"
     ]
    },
    {
     "ename": "AttributeError",
     "evalue": "'str' object has no attribute 'values'",
     "output_type": "error",
     "traceback": [
      "\u001b[1;31m---------------------------------------------------------------------------\u001b[0m",
      "\u001b[1;31mAttributeError\u001b[0m                            Traceback (most recent call last)",
      "Cell \u001b[1;32mIn[66], line 1\u001b[0m\n\u001b[1;32m----> 1\u001b[0m convertMorse()\n",
      "Cell \u001b[1;32mIn[65], line 5\u001b[0m, in \u001b[0;36mconvertMorse\u001b[1;34m()\u001b[0m\n\u001b[0;32m      3\u001b[0m \u001b[38;5;28;01mfor\u001b[39;00m n \u001b[38;5;129;01min\u001b[39;00m entrada\u001b[38;5;241m.\u001b[39mupper():\n\u001b[0;32m      4\u001b[0m     \u001b[38;5;28;01mfor\u001b[39;00m m \u001b[38;5;129;01min\u001b[39;00m abc2:\n\u001b[1;32m----> 5\u001b[0m         f \u001b[38;5;241m=\u001b[39m m\u001b[38;5;241m.\u001b[39mvalues()\n\u001b[0;32m      6\u001b[0m         \u001b[38;5;28mprint\u001b[39m(n)\n",
      "\u001b[1;31mAttributeError\u001b[0m: 'str' object has no attribute 'values'"
     ]
    }
   ],
   "source": [
    "convertMorse()"
   ]
  },
  {
   "cell_type": "code",
   "execution_count": 67,
   "id": "8a65da0a",
   "metadata": {},
   "outputs": [],
   "source": [
    "def convertMorse():\n",
    "    entrada = input(\"Escribe algo corto: \")\n",
    "    for n in entrada.upper():\n",
    "        print(abc2[n])"
   ]
  },
  {
   "cell_type": "code",
   "execution_count": 68,
   "id": "13e476f1",
   "metadata": {},
   "outputs": [
    {
     "name": "stdout",
     "output_type": "stream",
     "text": [
      "Escribe algo corto: King Kong\n",
      "-.-\n",
      "..\n",
      "-.\n",
      "--.\n",
      " \n",
      "-.-\n",
      "---\n",
      "-.\n",
      "--.\n"
     ]
    }
   ],
   "source": [
    "convertMorse()"
   ]
  },
  {
   "cell_type": "code",
   "execution_count": 100,
   "id": "3f0d321e",
   "metadata": {},
   "outputs": [],
   "source": [
    "dic1 = {\"A\": 3, \"B\": 5, \"F\": 4}\n",
    "dic2 = {\"F\": 70, \"A\":50}\n",
    "\n",
    "def dicClave(dic1, dic2):\n",
    "    for n in dic1.keys():\n",
    "        for m in dic2.keys():\n",
    "            if n == m:\n",
    "                print(n + \" Coincide\") "
   ]
  },
  {
   "cell_type": "code",
   "execution_count": 101,
   "id": "6108292a",
   "metadata": {},
   "outputs": [
    {
     "name": "stdout",
     "output_type": "stream",
     "text": [
      "A Coincide\n",
      "F Coincide\n"
     ]
    }
   ],
   "source": [
    "dicClave(dic1,dic2)"
   ]
  },
  {
   "cell_type": "code",
   "execution_count": 102,
   "id": "3e750bc4",
   "metadata": {},
   "outputs": [],
   "source": [
    "def dicClave(dic1, dic2):\n",
    "    for n in dic1.keys():\n",
    "        for m in dic2.keys():\n",
    "            if n == m:\n",
    "                print(n + \" Coincide\")            "
   ]
  },
  {
   "cell_type": "code",
   "execution_count": 103,
   "id": "3068f7b6",
   "metadata": {},
   "outputs": [
    {
     "name": "stdout",
     "output_type": "stream",
     "text": [
      "A Coincide\n",
      "F Coincide\n"
     ]
    }
   ],
   "source": [
    "dicClave(dic1,dic2)"
   ]
  },
  {
   "cell_type": "markdown",
   "id": "5ae4b181",
   "metadata": {},
   "source": [
    "# SOLUCIONES"
   ]
  },
  {
   "cell_type": "code",
   "execution_count": 106,
   "id": "9cc80372",
   "metadata": {},
   "outputs": [
    {
     "data": {
      "text/plain": [
       "{2: 1.4142135623730951,\n",
       " 3: 1.7320508075688772,\n",
       " 4: 2.0,\n",
       " 5: 2.23606797749979,\n",
       " 6: 2.449489742783178,\n",
       " 7: 2.6457513110645907,\n",
       " 8: 2.8284271247461903,\n",
       " 9: 3.0,\n",
       " 10: 3.1622776601683795,\n",
       " 11: 3.3166247903554,\n",
       " 12: 3.4641016151377544}"
      ]
     },
     "execution_count": 106,
     "metadata": {},
     "output_type": "execute_result"
    }
   ],
   "source": [
    "d = {}\n",
    "for i in range(1,12):\n",
    "    d[i+1] = np.sqrt(i+1)\n",
    "d"
   ]
  },
  {
   "cell_type": "code",
   "execution_count": 107,
   "id": "0fde3cab",
   "metadata": {},
   "outputs": [],
   "source": [
    "morse ={'A': '.-',\n",
    "            'B': '-...',\n",
    "            'C': '-.-.',\n",
    "            'D': '-..',\n",
    "            'E': '.',\n",
    "            'F': '..-.',\n",
    "            'G': '--.',\n",
    "            'H': '....',\n",
    "            'I': '..',\n",
    "            'J': '.---',\n",
    "            'K': '-.-',\n",
    "            'L': '.-..',\n",
    "            'M': '--',\n",
    "            'N': '-.',\n",
    "            'O': '---',\n",
    "            'P': '.--.',\n",
    "            'Q': '--.-',\n",
    "            'R': '.-.',\n",
    "            'S': '...',\n",
    "            'T': '-',\n",
    "            'U': '..-',\n",
    "            'V': '...-',\n",
    "            'W': '.--',\n",
    "            'X': '-..-',\n",
    "            'Y': '-.--',\n",
    "            'Z': '--..',\n",
    "            '1': '.----',\n",
    "            '2': '..---',\n",
    "            '3': '...--',\n",
    "            '4': '....-',\n",
    "            '5': '.....',\n",
    "            '6': '-....',\n",
    "            '7': '--...',\n",
    "            '8': '---..',\n",
    "            '9': '----.',\n",
    "            '0': '-----',\n",
    "            ' ': ' '}"
   ]
  },
  {
   "cell_type": "code",
   "execution_count": 110,
   "id": "97f5c0e7",
   "metadata": {},
   "outputs": [],
   "source": [
    "def toMorse():\n",
    "    s = input(\"Introduce una frase: \")\n",
    "    s= input(\"Introduce frase \")\n",
    "    s = s.lower()\n",
    "    message += \"\"\n",
    "    for c in s:\n",
    "        if c == \"\":\n",
    "            message += c\n",
    "            continue\n",
    "        message += morse[c] + \"\"\n",
    "    return message"
   ]
  },
  {
   "cell_type": "code",
   "execution_count": 111,
   "id": "480b884d",
   "metadata": {},
   "outputs": [
    {
     "name": "stdout",
     "output_type": "stream",
     "text": [
      "Introduce una frase: King Kong\n",
      "Introduce frase fd\n"
     ]
    },
    {
     "ename": "UnboundLocalError",
     "evalue": "cannot access local variable 'message' where it is not associated with a value",
     "output_type": "error",
     "traceback": [
      "\u001b[1;31m---------------------------------------------------------------------------\u001b[0m",
      "\u001b[1;31mUnboundLocalError\u001b[0m                         Traceback (most recent call last)",
      "Cell \u001b[1;32mIn[111], line 1\u001b[0m\n\u001b[1;32m----> 1\u001b[0m morsecod \u001b[38;5;241m=\u001b[39mtoMorse()\n\u001b[0;32m      2\u001b[0m morsecod\n",
      "Cell \u001b[1;32mIn[110], line 5\u001b[0m, in \u001b[0;36mtoMorse\u001b[1;34m()\u001b[0m\n\u001b[0;32m      3\u001b[0m s\u001b[38;5;241m=\u001b[39m \u001b[38;5;28minput\u001b[39m(\u001b[38;5;124m\"\u001b[39m\u001b[38;5;124mIntroduce frase \u001b[39m\u001b[38;5;124m\"\u001b[39m)\n\u001b[0;32m      4\u001b[0m s \u001b[38;5;241m=\u001b[39m s\u001b[38;5;241m.\u001b[39mlower()\n\u001b[1;32m----> 5\u001b[0m message \u001b[38;5;241m+\u001b[39m\u001b[38;5;241m=\u001b[39m \u001b[38;5;124m\"\u001b[39m\u001b[38;5;124m\"\u001b[39m\n\u001b[0;32m      6\u001b[0m \u001b[38;5;28;01mfor\u001b[39;00m c \u001b[38;5;129;01min\u001b[39;00m s:\n\u001b[0;32m      7\u001b[0m     \u001b[38;5;28;01mif\u001b[39;00m c \u001b[38;5;241m==\u001b[39m \u001b[38;5;124m\"\u001b[39m\u001b[38;5;124m\"\u001b[39m:\n",
      "\u001b[1;31mUnboundLocalError\u001b[0m: cannot access local variable 'message' where it is not associated with a value"
     ]
    }
   ],
   "source": [
    "morsecod =toMorse()\n",
    "morsecod"
   ]
  },
  {
   "cell_type": "code",
   "execution_count": 112,
   "id": "cc1f4546",
   "metadata": {},
   "outputs": [],
   "source": [
    "def clavesIguales(d1, d2):\n",
    "    liguales"
   ]
  },
  {
   "cell_type": "markdown",
   "id": "856b7109",
   "metadata": {},
   "source": [
    "# EJERCICIO FINAL"
   ]
  },
  {
   "cell_type": "code",
   "execution_count": 135,
   "id": "981b41fb",
   "metadata": {},
   "outputs": [
    {
     "data": {
      "text/plain": [
       "'\\nx = [10, 40, 50, 70]\\nx1 = np.array(x)\\nx2 = x1 * 2\\ny1 = [2, 4,6, 8]\\ny2 = np.array(y1) * 2\\nplt.figure(1) # Se crea la primera figura\\nplt.subplot(2,1,1) # vamos a crear dos gráficos en 2 filas, en una columna, primer grafico\\nplt.plot(x1,y1)\\nplt.subplot(2,1,2)  # vamos a crear dos gráficos en 2 filas, en una columna, segundo grafico\\nplt.plot(x2, y2, \"g*\")\\nplt.show()\\n'"
      ]
     },
     "execution_count": 135,
     "metadata": {},
     "output_type": "execute_result"
    },
    {
     "data": {
      "image/png": "[encoded data removed]",
      "text/plain": [
       "<Figure size 640x480 with 1 Axes>"
      ]
     },
     "metadata": {},
     "output_type": "display_data"
    }
   ],
   "source": [
    "import matplotlib.pyplot as plt\n",
    "\n",
    "x = [10, 20, 30, 40, 50, 60, 70, 80, 90, 100]\n",
    "x1 = np.array(x)\n",
    "y = [354, 27, 24, 86, 363, 56, 97, 8, 50, 70]\n",
    "y1 = np.array(y)\n",
    "plt.plot(x)\n",
    "plt.xlabel(\"Eje X\")\n",
    "plt.ylabel(\"Eje Y\")\n",
    "plt.figure(1)\n",
    "\n",
    "\"\"\"\n",
    "x = [10, 40, 50, 70]\n",
    "x1 = np.array(x)\n",
    "x2 = x1 * 2\n",
    "y1 = [2, 4,6, 8]\n",
    "y2 = np.array(y1) * 2\n",
    "plt.figure(1) # Se crea la primera figura\n",
    "plt.subplot(2,1,1) # vamos a crear dos gráficos en 2 filas, en una columna, primer grafico\n",
    "plt.plot(x1,y1)\n",
    "plt.subplot(2,1,2)  # vamos a crear dos gráficos en 2 filas, en una columna, segundo grafico\n",
    "plt.plot(x2, y2, \"g*\")\n",
    "plt.show()\n",
    "\"\"\"\n",
    "# plt.subplot(2,2,1) # PARA SACAR UN CUADRADO DE 4 GRÁFICAS vamos a crear dos gráficos en 2 filas, 2 columnSa"
   ]
  },
  {
   "cell_type": "code",
   "execution_count": null,
   "id": "8cea53a2",
   "metadata": {},
   "outputs": [],
   "source": []
  },
  {
   "cell_type": "code",
   "execution_count": 137,
   "id": "8434a73d",
   "metadata": {
    "scrolled": true
   },
   "outputs": [
    {
     "data": {
      "image/png": "[encoded data removed]",
      "text/plain": [
       "<Figure size 640x480 with 1 Axes>"
      ]
     },
     "metadata": {},
     "output_type": "display_data"
    }
   ],
   "source": [
    "# GRAFICO LINEAL\n",
    "\n",
    "x = [10, 20, 30, 40, 50, 60, 70, 80, 90, 100]\n",
    "y = [354, 27, 24, 86, 363, 56, 97, 8, 50, 70]\n",
    "plt.plot(x,y)\n",
    "plt.xlabel(\"Eje x\")\n",
    "plt.ylabel(\"Eje y\")\n",
    "plt.title(\"LOL\")\n",
    "plt.show() # Si no ponemos el .show() nos da algo más de informacion que igual no nos interesa"
   ]
  },
  {
   "cell_type": "code",
   "execution_count": 139,
   "id": "232b7fb1",
   "metadata": {
    "scrolled": true
   },
   "outputs": [
    {
     "data": {
      "image/png": "[encoded data removed]",
      "text/plain": [
       "<Figure size 800x600 with 1 Axes>"
      ]
     },
     "metadata": {},
     "output_type": "display_data"
    }
   ],
   "source": [
    "fashionBrand = [\"Zara\", \"Mango\", \"Pull&Bear\", \"Berskha\", \"Nike\", \"Adidas\"]\n",
    "\n",
    "data = [59, 30, 12, 90, 23, 78]\n",
    "\n",
    "# Creamos plot\n",
    "fig = plt.figure(figsize = (8, 6))\n",
    "plt.pie(data, labels = fashionBrand)\n",
    "\n",
    "plt.show()"
   ]
  },
  {
   "cell_type": "code",
   "execution_count": 145,
   "id": "1011b8ff",
   "metadata": {},
   "outputs": [
    {
     "data": {
      "image/png": "[encoded data removed]",
      "text/plain": [
       "<Figure size 640x480 with 1 Axes>"
      ]
     },
     "metadata": {},
     "output_type": "display_data"
    }
   ],
   "source": [
    "x = np.array([5, 8, 43, 12, 28])\n",
    "y = np.array([4, 9, 3, 8, 6])\n",
    "\n",
    "plt.barh(y,x) # En horizontal cambiar y por x\n",
    "plt.show()"
   ]
  },
  {
   "cell_type": "code",
   "execution_count": 158,
   "id": "9645df4f",
   "metadata": {},
   "outputs": [
    {
     "data": {
      "text/plain": [
       "(array([6., 4.]), array([1.5, 2. , 2.5]), <BarContainer object of 2 artists>)"
      ]
     },
     "execution_count": 158,
     "metadata": {},
     "output_type": "execute_result"
    },
    {
     "data": {
      "image/png": "[encoded data removed]",
      "text/plain": [
       "<Figure size 640x480 with 1 Axes>"
      ]
     },
     "metadata": {},
     "output_type": "display_data"
    }
   ],
   "source": [
    "pesos = np.array([1.5, 2.3, 1.7, 2.1, 1.8, 1.6, 1.5, 1.9, 2.4, 2.5]) # o introduce los numor 40 y 50 , pero el 60 como último si\n",
    "intervalos = np.array([1.5, 2, 2.5])\n",
    "plt.hist(pesos, intervalos) "
   ]
  },
  {
   "cell_type": "code",
   "execution_count": null,
   "id": "7008f69e",
   "metadata": {},
   "outputs": [],
   "source": []
  },
  {
   "cell_type": "code",
   "execution_count": null,
   "id": "5ab60c14",
   "metadata": {},
   "outputs": [],
   "source": []
  }
 ],
 "metadata": {
  "kernelspec": {
   "display_name": "Python 3 (ipykernel)",
   "language": "python",
   "name": "python3"
  },
  "language_info": {
   "codemirror_mode": {
    "name": "ipython",
    "version": 3
   },
   "file_extension": ".py",
   "mimetype": "text/x-python",
   "name": "python",
   "nbconvert_exporter": "python",
   "pygments_lexer": "ipython3",
   "version": "3.11.3"
  }
 },
 "nbformat": 4,
 "nbformat_minor": 5
}
